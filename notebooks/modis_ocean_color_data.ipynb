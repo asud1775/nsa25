{
 "cells": [
  {
   "cell_type": "code",
   "execution_count": 1,
   "id": "fe9d0cb8-3261-4ff2-bb94-68e7ab17fb8e",
   "metadata": {},
   "outputs": [],
   "source": [
    "from IPython.core.interactiveshell import InteractiveShell\n",
    "InteractiveShell.ast_node_interactivity = \"all\""
   ]
  },
  {
   "cell_type": "code",
   "execution_count": 1,
   "id": "0b1afc0f-cf27-4d9d-aaa2-4c18be213bc0",
   "metadata": {},
   "outputs": [
    {
     "name": "stdout",
     "output_type": "stream",
     "text": [
      "hello world!\n"
     ]
    }
   ],
   "source": [
    "print(\"hello world!\")\n"
   ]
  },
  {
   "cell_type": "markdown",
   "id": "cc555231-67d9-4f81-8fe5-67ccae05fd3e",
   "metadata": {},
   "source": [
    "# MODIS Ocean Data Exploaration \n",
    "\n",
    "Following example from https://oceancolor.gsfc.nasa.gov/resources/docs/tutorials/notebooks/modis-explore-l3/"
   ]
  },
  {
   "cell_type": "code",
   "execution_count": 2,
   "id": "2b462401",
   "metadata": {},
   "outputs": [],
   "source": [
    "from matplotlib import pyplot as plt\n",
    "import cartopy\n",
    "import earthaccess\n",
    "import numpy as np\n",
    "import xarray as xr"
   ]
  },
  {
   "cell_type": "code",
   "execution_count": 3,
   "id": "f848bfa6-1cc0-42d5-affa-0be36ea93280",
   "metadata": {},
   "outputs": [],
   "source": [
    "auth = earthaccess.login(persist=True)"
   ]
  },
  {
   "cell_type": "code",
   "execution_count": 4,
   "id": "e6d7075a-a636-46c9-901e-cc7c4af54297",
   "metadata": {},
   "outputs": [
    {
     "data": {
      "text/plain": [
       "3"
      ]
     },
     "execution_count": 4,
     "metadata": {},
     "output_type": "execute_result"
    }
   ],
   "source": [
    "results = earthaccess.search_datasets(\n",
    "    keyword=\"L3m ocean color modis aqua chlorophyll\",\n",
    "    instrument = \"MODIS\",\n",
    ")\n",
    "len(results)"
   ]
  },
  {
   "cell_type": "code",
   "execution_count": 5,
   "id": "87043989-adb8-46f8-8026-b7f0137de57c",
   "metadata": {},
   "outputs": [
    {
     "data": {
      "text/plain": [
       "{'MODISA_L3m_CHL', 'MODISA_L3m_CHL_NRT', 'MODIST_L3m_CHL'}"
      ]
     },
     "execution_count": 5,
     "metadata": {},
     "output_type": "execute_result"
    }
   ],
   "source": [
    "set((i.summary()[\"short-name\"] for i in results))\n"
   ]
  },
  {
   "cell_type": "code",
   "execution_count": 6,
   "id": "7c250c09-815c-4aaa-85a5-63b03fdc99b9",
   "metadata": {},
   "outputs": [],
   "source": [
    "tspan = (\"2016-09-20\", \"2016-09-20\")\n",
    "results = earthaccess.search_data(\n",
    "    short_name=\"MODISA_L3m_CHL\",\n",
    "    temporal=tspan,\n",
    ")"
   ]
  },
  {
   "cell_type": "code",
   "execution_count": 7,
   "id": "c0e1134e-3234-47b1-9dfb-cc63f7f661e0",
   "metadata": {},
   "outputs": [
    {
     "data": {
      "text/html": [
       "\n",
       "    <div id=\"85b60c56-191b-4ec8-bbc5-cc964da44b19\" style=\"height: 0px; display: none\">\n",
       "            <style>.bootstrap{font-family:sans-serif;line-height:1;-ms-text-size-adjust:100%;-webkit-text-size-adjust:100%}.bootstrap{margin:0;font-size:10px;}.bootstrap article,.bootstrap aside,.bootstrap footer,.bootstrap header,.bootstrap nav,.bootstrap section{display:block}.bootstrap h1{font-size:2em;margin:0.67em 0}.bootstrap figcaption,.bootstrap figure,.bootstrap main{display:block}.bootstrap figure{margin:1em 40px}.bootstrap hr{-webkit-box-sizing:content-box;box-sizing:content-box;height:0;overflow:visible}.bootstrap pre{font-family:monospace,monospace;font-size:1em}.bootstrap a{background-color:transparent;-webkit-text-decoration-skip:objects}.bootstrap a:active,.bootstrap a:hover{outline-width:0}.bootstrap abbr[title]{border-bottom:none;text-decoration:underline;text-decoration:underline dotted}.bootstrap b,.bootstrap strong{font-weight:inherit}.bootstrap b,.bootstrap strong{font-weight:bolder}.bootstrap code,.bootstrap kbd,.bootstrap samp{font-family:monospace,monospace;font-size:1em}.bootstrap dfn{font-style:italic}.bootstrap mark{background-color:#ff0;color:#000}.bootstrap small{font-size:80%}.bootstrap sub,.bootstrap sup{font-size:75%;line-height:0;position:relative;vertical-align:baseline}.bootstrap sub{bottom:-0.25em}.bootstrap sup{top:-0.5em}.bootstrap audio,.bootstrap video{display:inline-block}.bootstrap audio:not([controls]){display:none;height:0}.bootstrap img{border-style:none}.bootstrap svg:not(:root){overflow:hidden}.bootstrap button,.bootstrap input,.bootstrap optgroup,.bootstrap select,.bootstrap textarea{font-family:sans-serif;font-size:100%;line-height:1.15;margin:0}.bootstrap button,.bootstrap input{overflow:visible}.bootstrap button,.bootstrap select{text-transform:none}.bootstrap [type=reset],.bootstrap [type=submit],.bootstrap button,.bootstrap [type=button]{-webkit-appearance:button}.bootstrap [type=button]::-moz-focus-inner,.bootstrap [type=reset]::-moz-focus-inner,.bootstrap [type=submit]::-moz-focus-inner,.bootstrap button::-moz-focus-inner{border-style:none;padding:0}.bootstrap [type=button]:-moz-focusring,.bootstrap [type=reset]:-moz-focusring,.bootstrap [type=submit]:-moz-focusring,.bootstrap button:-moz-focusring{outline:1px dotted ButtonText}.bootstrap fieldset{border:1px solid silver;margin:0 2px;padding:0.35em 0.625em 0.75em}.bootstrap legend{-webkit-box-sizing:border-box;box-sizing:border-box;color:inherit;display:table;max-width:100%;padding:0;white-space:normal}.bootstrap progress{display:inline-block;vertical-align:baseline}.bootstrap textarea{overflow:auto}.bootstrap [type=checkbox],.bootstrap [type=radio]{-webkit-box-sizing:border-box;box-sizing:border-box;padding:0}.bootstrap [type=number]::-webkit-inner-spin-button,.bootstrap [type=number]::-webkit-outer-spin-button{height:auto}.bootstrap [type=search]{-webkit-appearance:textfield;outline-offset:-2px}.bootstrap [type=search]::-webkit-search-cancel-button,.bootstrap [type=search]::-webkit-search-decoration{-webkit-appearance:none}.bootstrap ::-webkit-file-upload-button{-webkit-appearance:button;font:inherit}.bootstrap details,.bootstrap menu{display:block}.bootstrap summary{display:list-item}.bootstrap canvas{display:inline-block}.bootstrap template{display:none}.bootstrap [hidden]{display:none}@media print{.bootstrap *,.bootstrap ::after,.bootstrap ::before,.bootstrap blockquote::first-letter,.bootstrap blockquote::first-line,.bootstrap div::first-letter,.bootstrap div::first-line,.bootstrap li::first-letter,.bootstrap li::first-line,.bootstrap p::first-letter,.bootstrap p::first-line{text-shadow:none !important;-webkit-box-shadow:none !important;box-shadow:none !important}.bootstrap a,.bootstrap a:visited{text-decoration:underline}.bootstrap abbr[title]::after{content:\" (\" attr(title) \")\"}.bootstrap pre{white-space:pre-wrap !important}.bootstrap blockquote,.bootstrap pre{border:1px solid #999;page-break-inside:avoid}.bootstrap thead{display:table-header-group}.bootstrap img,.bootstrap tr{page-break-inside:avoid}.bootstrap h2,.bootstrap h3,.bootstrap p{orphans:3;widows:3}.bootstrap h2,.bootstrap h3{page-break-after:avoid}.bootstrap .navbar{display:none}.bootstrap .badge{border:1px solid #000}.bootstrap .table{border-collapse:collapse !important}.bootstrap .table td,.bootstrap .table th{background-color:#fff !important}.bootstrap .table-bordered td,.bootstrap .table-bordered th{border:1px solid #ddd !important}}.bootstrap{-webkit-box-sizing:border-box;box-sizing:border-box}.bootstrap *,.bootstrap ::after,.bootstrap ::before{-webkit-box-sizing:inherit;box-sizing:inherit}@-ms-viewport{width:device-width}.bootstrap{-ms-overflow-style:scrollbar;-webkit-tap-highlight-color:transparent}.bootstrap{font-family:-apple-system, system-ui, BlinkMacSystemFont, \"Segoe UI\", Roboto, \"Helvetica Neue\", Arial, sans-serif;font-size:0.8rem;font-weight:400;line-height:1.5;color:#292b2c;background-color:#fff}.bootstrap [tabindex=\"-1\"]:focus{outline:0 !important}.bootstrap h1,.bootstrap h2,.bootstrap h3,.bootstrap h4,.bootstrap h5,.bootstrap h6{margin-top:0;margin-bottom:0.5rem}.bootstrap p{margin-top:0;margin-bottom:1rem}.bootstrap abbr[data-original-title],.bootstrap abbr[title]{cursor:help}.bootstrap address{margin-bottom:1rem;font-style:normal;line-height:inherit}.bootstrap dl,.bootstrap ol,.bootstrap ul{margin-top:0;margin-bottom:1rem}.bootstrap ol ol,.bootstrap ol ul,.bootstrap ul ol,.bootstrap ul ul{margin-bottom:0}.bootstrap dt{font-weight:700}.bootstrap dd{margin-bottom:.5rem;margin-left:0}.bootstrap blockquote{margin:0 0 1rem}.bootstrap a{color:#0275d8;text-decoration:none}.bootstrap a:focus,.bootstrap a:hover{color:#014c8c;text-decoration:underline}.bootstrap a:not([href]):not([tabindex]){color:inherit;text-decoration:none}.bootstrap a:not([href]):not([tabindex]):focus,.bootstrap a:not([href]):not([tabindex]):hover{color:inherit;text-decoration:none}.bootstrap a:not([href]):not([tabindex]):focus{outline:0}.bootstrap pre{margin-top:0;margin-bottom:1rem;overflow:auto}.bootstrap figure{margin:0 0 1rem}.bootstrap img{vertical-align:middle}.bootstrap [role=button]{cursor:pointer}.bootstrap [role=button],.bootstrap a,.bootstrap area,.bootstrap button,.bootstrap input,.bootstrap label,.bootstrap select,.bootstrap summary,.bootstrap textarea{-ms-touch-action:manipulation;touch-action:manipulation}.bootstrap table{border-collapse:collapse;background-color:transparent}.bootstrap caption{padding-top:.75rem;padding-bottom:.75rem;color:#636c72;text-align:left;caption-side:bottom}.bootstrap th{text-align:left}.bootstrap label{display:inline-block;margin-bottom:0.5rem}.bootstrap button:focus{outline:1px dotted;outline:5px auto -webkit-focus-ring-color}.bootstrap button,.bootstrap input,.bootstrap select,.bootstrap textarea{line-height:inherit}.bootstrap input[type=checkbox]:disabled,.bootstrap input[type=radio]:disabled{cursor:not-allowed}.bootstrap input[type=date],.bootstrap input[type=time],.bootstrap input[type=datetime-local],.bootstrap input[type=month]{-webkit-appearance:listbox}.bootstrap textarea{resize:vertical}.bootstrap fieldset{min-width:0;padding:0;margin:0;border:0}.bootstrap legend{display:block;width:100%;padding:0;margin-bottom:.5rem;font-size:1.5rem;line-height:inherit}.bootstrap input[type=search]{-webkit-appearance:none}.bootstrap output{display:inline-block}.bootstrap [hidden]{display:none !important}.bootstrap .h1,.bootstrap .h2,.bootstrap .h3,.bootstrap .h4,.bootstrap .h5,.bootstrap .h6,.bootstrap h1,.bootstrap h2,.bootstrap h3,.bootstrap h4,.bootstrap h5,.bootstrap h6{margin-bottom:.5rem;font-family:inherit;font-weight:500;line-height:1.1;color:inherit}.bootstrap .h1,.bootstrap h1{font-size:2.5rem}.bootstrap .h2,.bootstrap h2{font-size:2rem}.bootstrap .h3,.bootstrap h3{font-size:1.75rem}.bootstrap .h4,.bootstrap h4{font-size:1.5rem}.bootstrap .h5,.bootstrap h5{font-size:1.25rem}.bootstrap .h6,.bootstrap h6{font-size:1rem}.bootstrap .lead{font-size:1.25rem;font-weight:300}.bootstrap .display-1{font-size:6rem;font-weight:300;line-height:1.1}.bootstrap .display-2{font-size:5.5rem;font-weight:300;line-height:1.1}.bootstrap .display-3{font-size:4.5rem;font-weight:300;line-height:1.1}.bootstrap .display-4{font-size:3.5rem;font-weight:300;line-height:1.1}.bootstrap hr{margin-top:1rem;margin-bottom:1rem;border:0;border-top:1px solid rgba(0, 0, 0, 0.1)}.bootstrap .small,.bootstrap small{font-size:80%;font-weight:400}.bootstrap .mark,.bootstrap mark{padding:.2em;background-color:#fcf8e3}.bootstrap .list-unstyled{padding-left:0;list-style:none}.bootstrap .list-inline{padding-left:0;list-style:none}.bootstrap .list-inline-item{display:inline-block}.bootstrap .list-inline-item:not(:last-child){margin-right:5px}.bootstrap .initialism{font-size:90%;text-transform:uppercase}.bootstrap .blockquote{padding:.5rem 1rem;margin-bottom:1rem;font-size:1.25rem;border-left:0.25rem solid #eceeef}.bootstrap .blockquote-footer{display:block;font-size:80%;color:#636c72}.bootstrap .blockquote-footer::before{content:\"\\2014 \\00A0\"}.bootstrap .blockquote-reverse{padding-right:1rem;padding-left:0;text-align:right;border-right:.25rem solid #eceeef;border-left:0}.bootstrap .blockquote-reverse .blockquote-footer::before{content:\"\"}.bootstrap .blockquote-reverse .blockquote-footer::after{content:\"\\00A0 \\2014\"}.bootstrap .img-fluid{max-width:100%;height:auto}.bootstrap .img-thumbnail{padding:.25rem;background-color:#fff;border:1px solid #ddd;border-radius:.25rem;-webkit-transition:all 0.2s ease-in-out;-o-transition:all 0.2s ease-in-out;transition:all 0.2s ease-in-out;max-width:100%;height:auto}.bootstrap .figure{display:inline-block}.bootstrap .figure-img{margin-bottom:.5rem;line-height:1}.bootstrap .figure-caption{font-size:90%;color:#636c72}.bootstrap code,.bootstrap kbd,.bootstrap pre,.bootstrap samp{font-family:Menlo, Monaco, Consolas, \"Liberation Mono\", \"Courier New\", monospace}.bootstrap code{padding:.2rem .4rem;font-size:90%;color:#bd4147;background-color:#f7f7f9;border-radius:0.25rem}.bootstrap a > code{padding:0;color:inherit;background-color:inherit}.bootstrap kbd{padding:.2rem .4rem;font-size:90%;color:#fff;background-color:#292b2c;border-radius:0.2rem}.bootstrap kbd kbd{padding:0;font-size:100%;font-weight:700}.bootstrap pre{display:block;margin-top:0;margin-bottom:1rem;font-size:90%;color:#292b2c}.bootstrap pre code{padding:0;font-size:inherit;color:inherit;background-color:transparent;border-radius:0}.bootstrap .pre-scrollable{max-height:340px;overflow-y:scroll}.bootstrap .container{position:relative;margin-left:auto;margin-right:auto;padding-right:15px;padding-left:15px}@media (min-width: 576px){.bootstrap .container{padding-right:15px;padding-left:15px}}@media (min-width: 768px){.bootstrap .container{padding-right:15px;padding-left:15px}}@media (min-width: 992px){.bootstrap .container{padding-right:15px;padding-left:15px}}@media (min-width: 1200px){.bootstrap .container{padding-right:15px;padding-left:15px}}@media (min-width: 576px){.bootstrap .container{width:540px;max-width:100%}}@media (min-width: 768px){.bootstrap .container{width:720px;max-width:100%}}@media (min-width: 992px){.bootstrap .container{width:960px;max-width:100%}}@media (min-width: 1200px){.bootstrap .container{width:1140px;max-width:100%}}.bootstrap .container-fluid{position:relative;margin-left:auto;margin-right:auto;padding-right:15px;padding-left:15px}@media (min-width: 576px){.bootstrap .container-fluid{padding-right:15px;padding-left:15px}}@media (min-width: 768px){.bootstrap .container-fluid{padding-right:15px;padding-left:15px}}@media (min-width: 992px){.bootstrap .container-fluid{padding-right:15px;padding-left:15px}}@media (min-width: 1200px){.bootstrap .container-fluid{padding-right:15px;padding-left:15px}}.bootstrap .row{display:-webkit-box;display:-webkit-flex;display:-ms-flexbox;display:flex;-webkit-flex-wrap:wrap;-ms-flex-wrap:wrap;flex-wrap:wrap;margin-right:-15px;margin-left:-15px}@media (min-width: 576px){.bootstrap .row{margin-right:-15px;margin-left:-15px}}@media (min-width: 768px){.bootstrap .row{margin-right:-15px;margin-left:-15px}}@media (min-width: 992px){.bootstrap .row{margin-right:-15px;margin-left:-15px}}@media (min-width: 1200px){.bootstrap .row{margin-right:-15px;margin-left:-15px}}.bootstrap .no-gutters{margin-right:0;margin-left:0}.bootstrap .no-gutters > .col,.bootstrap .no-gutters > [class*=col-]{padding-right:0;padding-left:0}.bootstrap .col,.bootstrap .col-1,.bootstrap .col-10,.bootstrap .col-11,.bootstrap .col-12,.bootstrap .col-2,.bootstrap .col-3,.bootstrap .col-4,.bootstrap .col-5,.bootstrap .col-6,.bootstrap .col-7,.bootstrap .col-8,.bootstrap .col-9,.bootstrap .col-lg,.bootstrap .col-lg-1,.bootstrap .col-lg-10,.bootstrap .col-lg-11,.bootstrap .col-lg-12,.bootstrap .col-lg-2,.bootstrap .col-lg-3,.bootstrap .col-lg-4,.bootstrap .col-lg-5,.bootstrap .col-lg-6,.bootstrap .col-lg-7,.bootstrap .col-lg-8,.bootstrap .col-lg-9,.bootstrap .col-md,.bootstrap .col-md-1,.bootstrap .col-md-10,.bootstrap .col-md-11,.bootstrap .col-md-12,.bootstrap .col-md-2,.bootstrap .col-md-3,.bootstrap .col-md-4,.bootstrap .col-md-5,.bootstrap .col-md-6,.bootstrap .col-md-7,.bootstrap .col-md-8,.bootstrap .col-md-9,.bootstrap .col-sm,.bootstrap .col-sm-1,.bootstrap .col-sm-10,.bootstrap .col-sm-11,.bootstrap .col-sm-12,.bootstrap .col-sm-2,.bootstrap .col-sm-3,.bootstrap .col-sm-4,.bootstrap .col-sm-5,.bootstrap .col-sm-6,.bootstrap .col-sm-7,.bootstrap .col-sm-8,.bootstrap .col-sm-9,.bootstrap .col-xl,.bootstrap .col-xl-1,.bootstrap .col-xl-10,.bootstrap .col-xl-11,.bootstrap .col-xl-12,.bootstrap .col-xl-2,.bootstrap .col-xl-3,.bootstrap .col-xl-4,.bootstrap .col-xl-5,.bootstrap .col-xl-6,.bootstrap .col-xl-7,.bootstrap .col-xl-8,.bootstrap .col-xl-9{position:relative;width:100%;min-height:1px;padding-right:15px;padding-left:15px}@media (min-width: 576px){.bootstrap .col,.bootstrap .col-1,.bootstrap .col-10,.bootstrap .col-11,.bootstrap .col-12,.bootstrap .col-2,.bootstrap .col-3,.bootstrap .col-4,.bootstrap .col-5,.bootstrap .col-6,.bootstrap .col-7,.bootstrap .col-8,.bootstrap .col-9,.bootstrap .col-lg,.bootstrap .col-lg-1,.bootstrap .col-lg-10,.bootstrap .col-lg-11,.bootstrap .col-lg-12,.bootstrap .col-lg-2,.bootstrap .col-lg-3,.bootstrap .col-lg-4,.bootstrap .col-lg-5,.bootstrap .col-lg-6,.bootstrap .col-lg-7,.bootstrap .col-lg-8,.bootstrap .col-lg-9,.bootstrap .col-md,.bootstrap .col-md-1,.bootstrap .col-md-10,.bootstrap .col-md-11,.bootstrap .col-md-12,.bootstrap .col-md-2,.bootstrap .col-md-3,.bootstrap .col-md-4,.bootstrap .col-md-5,.bootstrap .col-md-6,.bootstrap .col-md-7,.bootstrap .col-md-8,.bootstrap .col-md-9,.bootstrap .col-sm,.bootstrap .col-sm-1,.bootstrap .col-sm-10,.bootstrap .col-sm-11,.bootstrap .col-sm-12,.bootstrap .col-sm-2,.bootstrap .col-sm-3,.bootstrap .col-sm-4,.bootstrap .col-sm-5,.bootstrap .col-sm-6,.bootstrap .col-sm-7,.bootstrap .col-sm-8,.bootstrap .col-sm-9,.bootstrap .col-xl,.bootstrap .col-xl-1,.bootstrap .col-xl-10,.bootstrap .col-xl-11,.bootstrap .col-xl-12,.bootstrap .col-xl-2,.bootstrap .col-xl-3,.bootstrap .col-xl-4,.bootstrap .col-xl-5,.bootstrap .col-xl-6,.bootstrap .col-xl-7,.bootstrap .col-xl-8,.bootstrap .col-xl-9{padding-right:15px;padding-left:15px}}@media (min-width: 768px){.bootstrap .col,.bootstrap .col-1,.bootstrap .col-10,.bootstrap .col-11,.bootstrap .col-12,.bootstrap .col-2,.bootstrap .col-3,.bootstrap .col-4,.bootstrap .col-5,.bootstrap .col-6,.bootstrap .col-7,.bootstrap .col-8,.bootstrap .col-9,.bootstrap .col-lg,.bootstrap .col-lg-1,.bootstrap .col-lg-10,.bootstrap .col-lg-11,.bootstrap .col-lg-12,.bootstrap .col-lg-2,.bootstrap .col-lg-3,.bootstrap .col-lg-4,.bootstrap .col-lg-5,.bootstrap .col-lg-6,.bootstrap .col-lg-7,.bootstrap .col-lg-8,.bootstrap .col-lg-9,.bootstrap .col-md,.bootstrap .col-md-1,.bootstrap .col-md-10,.bootstrap .col-md-11,.bootstrap .col-md-12,.bootstrap .col-md-2,.bootstrap .col-md-3,.bootstrap .col-md-4,.bootstrap .col-md-5,.bootstrap .col-md-6,.bootstrap .col-md-7,.bootstrap .col-md-8,.bootstrap .col-md-9,.bootstrap .col-sm,.bootstrap .col-sm-1,.bootstrap .col-sm-10,.bootstrap .col-sm-11,.bootstrap .col-sm-12,.bootstrap .col-sm-2,.bootstrap .col-sm-3,.bootstrap .col-sm-4,.bootstrap .col-sm-5,.bootstrap .col-sm-6,.bootstrap .col-sm-7,.bootstrap .col-sm-8,.bootstrap .col-sm-9,.bootstrap .col-xl,.bootstrap .col-xl-1,.bootstrap .col-xl-10,.bootstrap .col-xl-11,.bootstrap .col-xl-12,.bootstrap .col-xl-2,.bootstrap .col-xl-3,.bootstrap .col-xl-4,.bootstrap .col-xl-5,.bootstrap .col-xl-6,.bootstrap .col-xl-7,.bootstrap .col-xl-8,.bootstrap .col-xl-9{padding-right:15px;padding-left:15px}}@media (min-width: 992px){.bootstrap .col,.bootstrap .col-1,.bootstrap .col-10,.bootstrap .col-11,.bootstrap .col-12,.bootstrap .col-2,.bootstrap .col-3,.bootstrap .col-4,.bootstrap .col-5,.bootstrap .col-6,.bootstrap .col-7,.bootstrap .col-8,.bootstrap .col-9,.bootstrap .col-lg,.bootstrap .col-lg-1,.bootstrap .col-lg-10,.bootstrap .col-lg-11,.bootstrap .col-lg-12,.bootstrap .col-lg-2,.bootstrap .col-lg-3,.bootstrap .col-lg-4,.bootstrap .col-lg-5,.bootstrap .col-lg-6,.bootstrap .col-lg-7,.bootstrap .col-lg-8,.bootstrap .col-lg-9,.bootstrap .col-md,.bootstrap .col-md-1,.bootstrap .col-md-10,.bootstrap .col-md-11,.bootstrap .col-md-12,.bootstrap .col-md-2,.bootstrap .col-md-3,.bootstrap .col-md-4,.bootstrap .col-md-5,.bootstrap .col-md-6,.bootstrap .col-md-7,.bootstrap .col-md-8,.bootstrap .col-md-9,.bootstrap .col-sm,.bootstrap .col-sm-1,.bootstrap .col-sm-10,.bootstrap .col-sm-11,.bootstrap .col-sm-12,.bootstrap .col-sm-2,.bootstrap .col-sm-3,.bootstrap .col-sm-4,.bootstrap .col-sm-5,.bootstrap .col-sm-6,.bootstrap .col-sm-7,.bootstrap .col-sm-8,.bootstrap .col-sm-9,.bootstrap .col-xl,.bootstrap .col-xl-1,.bootstrap .col-xl-10,.bootstrap .col-xl-11,.bootstrap .col-xl-12,.bootstrap .col-xl-2,.bootstrap .col-xl-3,.bootstrap .col-xl-4,.bootstrap .col-xl-5,.bootstrap .col-xl-6,.bootstrap .col-xl-7,.bootstrap .col-xl-8,.bootstrap .col-xl-9{padding-right:15px;padding-left:15px}}@media (min-width: 1200px){.bootstrap .col,.bootstrap .col-1,.bootstrap .col-10,.bootstrap .col-11,.bootstrap .col-12,.bootstrap .col-2,.bootstrap .col-3,.bootstrap .col-4,.bootstrap .col-5,.bootstrap .col-6,.bootstrap .col-7,.bootstrap .col-8,.bootstrap .col-9,.bootstrap .col-lg,.bootstrap .col-lg-1,.bootstrap .col-lg-10,.bootstrap .col-lg-11,.bootstrap .col-lg-12,.bootstrap .col-lg-2,.bootstrap .col-lg-3,.bootstrap .col-lg-4,.bootstrap .col-lg-5,.bootstrap .col-lg-6,.bootstrap .col-lg-7,.bootstrap .col-lg-8,.bootstrap .col-lg-9,.bootstrap .col-md,.bootstrap .col-md-1,.bootstrap .col-md-10,.bootstrap .col-md-11,.bootstrap .col-md-12,.bootstrap .col-md-2,.bootstrap .col-md-3,.bootstrap .col-md-4,.bootstrap .col-md-5,.bootstrap .col-md-6,.bootstrap .col-md-7,.bootstrap .col-md-8,.bootstrap .col-md-9,.bootstrap .col-sm,.bootstrap .col-sm-1,.bootstrap .col-sm-10,.bootstrap .col-sm-11,.bootstrap .col-sm-12,.bootstrap .col-sm-2,.bootstrap .col-sm-3,.bootstrap .col-sm-4,.bootstrap .col-sm-5,.bootstrap .col-sm-6,.bootstrap .col-sm-7,.bootstrap .col-sm-8,.bootstrap .col-sm-9,.bootstrap .col-xl,.bootstrap .col-xl-1,.bootstrap .col-xl-10,.bootstrap .col-xl-11,.bootstrap .col-xl-12,.bootstrap .col-xl-2,.bootstrap .col-xl-3,.bootstrap .col-xl-4,.bootstrap .col-xl-5,.bootstrap .col-xl-6,.bootstrap .col-xl-7,.bootstrap .col-xl-8,.bootstrap .col-xl-9{padding-right:15px;padding-left:15px}}.bootstrap .col{-webkit-flex-basis:0;-ms-flex-preferred-size:0;flex-basis:0;-webkit-box-flex:1;-webkit-flex-grow:1;-ms-flex-positive:1;flex-grow:1;max-width:100%}.bootstrap .col-auto{-webkit-box-flex:0;-webkit-flex:0 0 auto;-ms-flex:0 0 auto;flex:0 0 auto;width:auto}.bootstrap .col-1{-webkit-box-flex:0;-webkit-flex:0 0 8.333333%;-ms-flex:0 0 8.333333%;flex:0 0 8.333333%;max-width:8.333333%}.bootstrap .col-2{-webkit-box-flex:0;-webkit-flex:0 0 16.666667%;-ms-flex:0 0 16.666667%;flex:0 0 16.666667%;max-width:16.666667%}.bootstrap .col-3{-webkit-box-flex:0;-webkit-flex:0 0 25%;-ms-flex:0 0 25%;flex:0 0 25%;max-width:25%}.bootstrap .col-4{-webkit-box-flex:0;-webkit-flex:0 0 33.333333%;-ms-flex:0 0 33.333333%;flex:0 0 33.333333%;max-width:33.333333%}.bootstrap .col-5{-webkit-box-flex:0;-webkit-flex:0 0 41.666667%;-ms-flex:0 0 41.666667%;flex:0 0 41.666667%;max-width:41.666667%}.bootstrap .col-6{-webkit-box-flex:0;-webkit-flex:0 0 50%;-ms-flex:0 0 50%;flex:0 0 50%;max-width:50%}.bootstrap .col-7{-webkit-box-flex:0;-webkit-flex:0 0 58.333333%;-ms-flex:0 0 58.333333%;flex:0 0 58.333333%;max-width:58.333333%}.bootstrap .col-8{-webkit-box-flex:0;-webkit-flex:0 0 66.666667%;-ms-flex:0 0 66.666667%;flex:0 0 66.666667%;max-width:66.666667%}.bootstrap .col-9{-webkit-box-flex:0;-webkit-flex:0 0 75%;-ms-flex:0 0 75%;flex:0 0 75%;max-width:75%}.bootstrap .col-10{-webkit-box-flex:0;-webkit-flex:0 0 83.333333%;-ms-flex:0 0 83.333333%;flex:0 0 83.333333%;max-width:83.333333%}.bootstrap .col-11{-webkit-box-flex:0;-webkit-flex:0 0 91.666667%;-ms-flex:0 0 91.666667%;flex:0 0 91.666667%;max-width:91.666667%}.bootstrap .col-12{-webkit-box-flex:0;-webkit-flex:0 0 100%;-ms-flex:0 0 100%;flex:0 0 100%;max-width:100%}.bootstrap .pull-0{right:auto}.bootstrap .pull-1{right:8.333333%}.bootstrap .pull-2{right:16.666667%}.bootstrap .pull-3{right:25%}.bootstrap .pull-4{right:33.333333%}.bootstrap .pull-5{right:41.666667%}.bootstrap .pull-6{right:50%}.bootstrap .pull-7{right:58.333333%}.bootstrap .pull-8{right:66.666667%}.bootstrap .pull-9{right:75%}.bootstrap .pull-10{right:83.333333%}.bootstrap .pull-11{right:91.666667%}.bootstrap .pull-12{right:100%}.bootstrap .push-0{left:auto}.bootstrap .push-1{left:8.333333%}.bootstrap .push-2{left:16.666667%}.bootstrap .push-3{left:25%}.bootstrap .push-4{left:33.333333%}.bootstrap .push-5{left:41.666667%}.bootstrap .push-6{left:50%}.bootstrap .push-7{left:58.333333%}.bootstrap .push-8{left:66.666667%}.bootstrap .push-9{left:75%}.bootstrap .push-10{left:83.333333%}.bootstrap .push-11{left:91.666667%}.bootstrap .push-12{left:100%}.bootstrap .offset-1{margin-left:8.333333%}.bootstrap .offset-2{margin-left:16.666667%}.bootstrap .offset-3{margin-left:25%}.bootstrap .offset-4{margin-left:33.333333%}.bootstrap .offset-5{margin-left:41.666667%}.bootstrap .offset-6{margin-left:50%}.bootstrap .offset-7{margin-left:58.333333%}.bootstrap .offset-8{margin-left:66.666667%}.bootstrap .offset-9{margin-left:75%}.bootstrap .offset-10{margin-left:83.333333%}.bootstrap .offset-11{margin-left:91.666667%}@media (min-width: 576px){.bootstrap .col-sm{-webkit-flex-basis:0;-ms-flex-preferred-size:0;flex-basis:0;-webkit-box-flex:1;-webkit-flex-grow:1;-ms-flex-positive:1;flex-grow:1;max-width:100%}.bootstrap .col-sm-auto{-webkit-box-flex:0;-webkit-flex:0 0 auto;-ms-flex:0 0 auto;flex:0 0 auto;width:auto}.bootstrap .col-sm-1{-webkit-box-flex:0;-webkit-flex:0 0 8.333333%;-ms-flex:0 0 8.333333%;flex:0 0 8.333333%;max-width:8.333333%}.bootstrap .col-sm-2{-webkit-box-flex:0;-webkit-flex:0 0 16.666667%;-ms-flex:0 0 16.666667%;flex:0 0 16.666667%;max-width:16.666667%}.bootstrap .col-sm-3{-webkit-box-flex:0;-webkit-flex:0 0 25%;-ms-flex:0 0 25%;flex:0 0 25%;max-width:25%}.bootstrap .col-sm-4{-webkit-box-flex:0;-webkit-flex:0 0 33.333333%;-ms-flex:0 0 33.333333%;flex:0 0 33.333333%;max-width:33.333333%}.bootstrap .col-sm-5{-webkit-box-flex:0;-webkit-flex:0 0 41.666667%;-ms-flex:0 0 41.666667%;flex:0 0 41.666667%;max-width:41.666667%}.bootstrap .col-sm-6{-webkit-box-flex:0;-webkit-flex:0 0 50%;-ms-flex:0 0 50%;flex:0 0 50%;max-width:50%}.bootstrap .col-sm-7{-webkit-box-flex:0;-webkit-flex:0 0 58.333333%;-ms-flex:0 0 58.333333%;flex:0 0 58.333333%;max-width:58.333333%}.bootstrap .col-sm-8{-webkit-box-flex:0;-webkit-flex:0 0 66.666667%;-ms-flex:0 0 66.666667%;flex:0 0 66.666667%;max-width:66.666667%}.bootstrap .col-sm-9{-webkit-box-flex:0;-webkit-flex:0 0 75%;-ms-flex:0 0 75%;flex:0 0 75%;max-width:75%}.bootstrap .col-sm-10{-webkit-box-flex:0;-webkit-flex:0 0 83.333333%;-ms-flex:0 0 83.333333%;flex:0 0 83.333333%;max-width:83.333333%}.bootstrap .col-sm-11{-webkit-box-flex:0;-webkit-flex:0 0 91.666667%;-ms-flex:0 0 91.666667%;flex:0 0 91.666667%;max-width:91.666667%}.bootstrap .col-sm-12{-webkit-box-flex:0;-webkit-flex:0 0 100%;-ms-flex:0 0 100%;flex:0 0 100%;max-width:100%}.bootstrap .pull-sm-0{right:auto}.bootstrap .pull-sm-1{right:8.333333%}.bootstrap .pull-sm-2{right:16.666667%}.bootstrap .pull-sm-3{right:25%}.bootstrap .pull-sm-4{right:33.333333%}.bootstrap .pull-sm-5{right:41.666667%}.bootstrap .pull-sm-6{right:50%}.bootstrap .pull-sm-7{right:58.333333%}.bootstrap .pull-sm-8{right:66.666667%}.bootstrap .pull-sm-9{right:75%}.bootstrap .pull-sm-10{right:83.333333%}.bootstrap .pull-sm-11{right:91.666667%}.bootstrap .pull-sm-12{right:100%}.bootstrap .push-sm-0{left:auto}.bootstrap .push-sm-1{left:8.333333%}.bootstrap .push-sm-2{left:16.666667%}.bootstrap .push-sm-3{left:25%}.bootstrap .push-sm-4{left:33.333333%}.bootstrap .push-sm-5{left:41.666667%}.bootstrap .push-sm-6{left:50%}.bootstrap .push-sm-7{left:58.333333%}.bootstrap .push-sm-8{left:66.666667%}.bootstrap .push-sm-9{left:75%}.bootstrap .push-sm-10{left:83.333333%}.bootstrap .push-sm-11{left:91.666667%}.bootstrap .push-sm-12{left:100%}.bootstrap .offset-sm-0{margin-left:0}.bootstrap .offset-sm-1{margin-left:8.333333%}.bootstrap .offset-sm-2{margin-left:16.666667%}.bootstrap .offset-sm-3{margin-left:25%}.bootstrap .offset-sm-4{margin-left:33.333333%}.bootstrap .offset-sm-5{margin-left:41.666667%}.bootstrap .offset-sm-6{margin-left:50%}.bootstrap .offset-sm-7{margin-left:58.333333%}.bootstrap .offset-sm-8{margin-left:66.666667%}.bootstrap .offset-sm-9{margin-left:75%}.bootstrap .offset-sm-10{margin-left:83.333333%}.bootstrap .offset-sm-11{margin-left:91.666667%}}@media (min-width: 768px){.bootstrap .col-md{-webkit-flex-basis:0;-ms-flex-preferred-size:0;flex-basis:0;-webkit-box-flex:1;-webkit-flex-grow:1;-ms-flex-positive:1;flex-grow:1;max-width:100%}.bootstrap .col-md-auto{-webkit-box-flex:0;-webkit-flex:0 0 auto;-ms-flex:0 0 auto;flex:0 0 auto;width:auto}.bootstrap .col-md-1{-webkit-box-flex:0;-webkit-flex:0 0 8.333333%;-ms-flex:0 0 8.333333%;flex:0 0 8.333333%;max-width:8.333333%}.bootstrap .col-md-2{-webkit-box-flex:0;-webkit-flex:0 0 16.666667%;-ms-flex:0 0 16.666667%;flex:0 0 16.666667%;max-width:16.666667%}.bootstrap .col-md-3{-webkit-box-flex:0;-webkit-flex:0 0 25%;-ms-flex:0 0 25%;flex:0 0 25%;max-width:25%}.bootstrap .col-md-4{-webkit-box-flex:0;-webkit-flex:0 0 33.333333%;-ms-flex:0 0 33.333333%;flex:0 0 33.333333%;max-width:33.333333%}.bootstrap .col-md-5{-webkit-box-flex:0;-webkit-flex:0 0 41.666667%;-ms-flex:0 0 41.666667%;flex:0 0 41.666667%;max-width:41.666667%}.bootstrap .col-md-6{-webkit-box-flex:0;-webkit-flex:0 0 50%;-ms-flex:0 0 50%;flex:0 0 50%;max-width:50%}.bootstrap .col-md-7{-webkit-box-flex:0;-webkit-flex:0 0 58.333333%;-ms-flex:0 0 58.333333%;flex:0 0 58.333333%;max-width:58.333333%}.bootstrap .col-md-8{-webkit-box-flex:0;-webkit-flex:0 0 66.666667%;-ms-flex:0 0 66.666667%;flex:0 0 66.666667%;max-width:66.666667%}.bootstrap .col-md-9{-webkit-box-flex:0;-webkit-flex:0 0 75%;-ms-flex:0 0 75%;flex:0 0 75%;max-width:75%}.bootstrap .col-md-10{-webkit-box-flex:0;-webkit-flex:0 0 83.333333%;-ms-flex:0 0 83.333333%;flex:0 0 83.333333%;max-width:83.333333%}.bootstrap .col-md-11{-webkit-box-flex:0;-webkit-flex:0 0 91.666667%;-ms-flex:0 0 91.666667%;flex:0 0 91.666667%;max-width:91.666667%}.bootstrap .col-md-12{-webkit-box-flex:0;-webkit-flex:0 0 100%;-ms-flex:0 0 100%;flex:0 0 100%;max-width:100%}.bootstrap .pull-md-0{right:auto}.bootstrap .pull-md-1{right:8.333333%}.bootstrap .pull-md-2{right:16.666667%}.bootstrap .pull-md-3{right:25%}.bootstrap .pull-md-4{right:33.333333%}.bootstrap .pull-md-5{right:41.666667%}.bootstrap .pull-md-6{right:50%}.bootstrap .pull-md-7{right:58.333333%}.bootstrap .pull-md-8{right:66.666667%}.bootstrap .pull-md-9{right:75%}.bootstrap .pull-md-10{right:83.333333%}.bootstrap .pull-md-11{right:91.666667%}.bootstrap .pull-md-12{right:100%}.bootstrap .push-md-0{left:auto}.bootstrap .push-md-1{left:8.333333%}.bootstrap .push-md-2{left:16.666667%}.bootstrap .push-md-3{left:25%}.bootstrap .push-md-4{left:33.333333%}.bootstrap .push-md-5{left:41.666667%}.bootstrap .push-md-6{left:50%}.bootstrap .push-md-7{left:58.333333%}.bootstrap .push-md-8{left:66.666667%}.bootstrap .push-md-9{left:75%}.bootstrap .push-md-10{left:83.333333%}.bootstrap .push-md-11{left:91.666667%}.bootstrap .push-md-12{left:100%}.bootstrap .offset-md-0{margin-left:0}.bootstrap .offset-md-1{margin-left:8.333333%}.bootstrap .offset-md-2{margin-left:16.666667%}.bootstrap .offset-md-3{margin-left:25%}.bootstrap .offset-md-4{margin-left:33.333333%}.bootstrap .offset-md-5{margin-left:41.666667%}.bootstrap .offset-md-6{margin-left:50%}.bootstrap .offset-md-7{margin-left:58.333333%}.bootstrap .offset-md-8{margin-left:66.666667%}.bootstrap .offset-md-9{margin-left:75%}.bootstrap .offset-md-10{margin-left:83.333333%}.bootstrap .offset-md-11{margin-left:91.666667%}}@media (min-width: 992px){.bootstrap .col-lg{-webkit-flex-basis:0;-ms-flex-preferred-size:0;flex-basis:0;-webkit-box-flex:1;-webkit-flex-grow:1;-ms-flex-positive:1;flex-grow:1;max-width:100%}.bootstrap .col-lg-auto{-webkit-box-flex:0;-webkit-flex:0 0 auto;-ms-flex:0 0 auto;flex:0 0 auto;width:auto}.bootstrap .col-lg-1{-webkit-box-flex:0;-webkit-flex:0 0 8.333333%;-ms-flex:0 0 8.333333%;flex:0 0 8.333333%;max-width:8.333333%}.bootstrap .col-lg-2{-webkit-box-flex:0;-webkit-flex:0 0 16.666667%;-ms-flex:0 0 16.666667%;flex:0 0 16.666667%;max-width:16.666667%}.bootstrap .col-lg-3{-webkit-box-flex:0;-webkit-flex:0 0 25%;-ms-flex:0 0 25%;flex:0 0 25%;max-width:25%}.bootstrap .col-lg-4{-webkit-box-flex:0;-webkit-flex:0 0 33.333333%;-ms-flex:0 0 33.333333%;flex:0 0 33.333333%;max-width:33.333333%}.bootstrap .col-lg-5{-webkit-box-flex:0;-webkit-flex:0 0 41.666667%;-ms-flex:0 0 41.666667%;flex:0 0 41.666667%;max-width:41.666667%}.bootstrap .col-lg-6{-webkit-box-flex:0;-webkit-flex:0 0 50%;-ms-flex:0 0 50%;flex:0 0 50%;max-width:50%}.bootstrap .col-lg-7{-webkit-box-flex:0;-webkit-flex:0 0 58.333333%;-ms-flex:0 0 58.333333%;flex:0 0 58.333333%;max-width:58.333333%}.bootstrap .col-lg-8{-webkit-box-flex:0;-webkit-flex:0 0 66.666667%;-ms-flex:0 0 66.666667%;flex:0 0 66.666667%;max-width:66.666667%}.bootstrap .col-lg-9{-webkit-box-flex:0;-webkit-flex:0 0 75%;-ms-flex:0 0 75%;flex:0 0 75%;max-width:75%}.bootstrap .col-lg-10{-webkit-box-flex:0;-webkit-flex:0 0 83.333333%;-ms-flex:0 0 83.333333%;flex:0 0 83.333333%;max-width:83.333333%}.bootstrap .col-lg-11{-webkit-box-flex:0;-webkit-flex:0 0 91.666667%;-ms-flex:0 0 91.666667%;flex:0 0 91.666667%;max-width:91.666667%}.bootstrap .col-lg-12{-webkit-box-flex:0;-webkit-flex:0 0 100%;-ms-flex:0 0 100%;flex:0 0 100%;max-width:100%}.bootstrap .pull-lg-0{right:auto}.bootstrap .pull-lg-1{right:8.333333%}.bootstrap .pull-lg-2{right:16.666667%}.bootstrap .pull-lg-3{right:25%}.bootstrap .pull-lg-4{right:33.333333%}.bootstrap .pull-lg-5{right:41.666667%}.bootstrap .pull-lg-6{right:50%}.bootstrap .pull-lg-7{right:58.333333%}.bootstrap .pull-lg-8{right:66.666667%}.bootstrap .pull-lg-9{right:75%}.bootstrap .pull-lg-10{right:83.333333%}.bootstrap .pull-lg-11{right:91.666667%}.bootstrap .pull-lg-12{right:100%}.bootstrap .push-lg-0{left:auto}.bootstrap .push-lg-1{left:8.333333%}.bootstrap .push-lg-2{left:16.666667%}.bootstrap .push-lg-3{left:25%}.bootstrap .push-lg-4{left:33.333333%}.bootstrap .push-lg-5{left:41.666667%}.bootstrap .push-lg-6{left:50%}.bootstrap .push-lg-7{left:58.333333%}.bootstrap .push-lg-8{left:66.666667%}.bootstrap .push-lg-9{left:75%}.bootstrap .push-lg-10{left:83.333333%}.bootstrap .push-lg-11{left:91.666667%}.bootstrap .push-lg-12{left:100%}.bootstrap .offset-lg-0{margin-left:0}.bootstrap .offset-lg-1{margin-left:8.333333%}.bootstrap .offset-lg-2{margin-left:16.666667%}.bootstrap .offset-lg-3{margin-left:25%}.bootstrap .offset-lg-4{margin-left:33.333333%}.bootstrap .offset-lg-5{margin-left:41.666667%}.bootstrap .offset-lg-6{margin-left:50%}.bootstrap .offset-lg-7{margin-left:58.333333%}.bootstrap .offset-lg-8{margin-left:66.666667%}.bootstrap .offset-lg-9{margin-left:75%}.bootstrap .offset-lg-10{margin-left:83.333333%}.bootstrap .offset-lg-11{margin-left:91.666667%}}@media (min-width: 1200px){.bootstrap .col-xl{-webkit-flex-basis:0;-ms-flex-preferred-size:0;flex-basis:0;-webkit-box-flex:1;-webkit-flex-grow:1;-ms-flex-positive:1;flex-grow:1;max-width:100%}.bootstrap .col-xl-auto{-webkit-box-flex:0;-webkit-flex:0 0 auto;-ms-flex:0 0 auto;flex:0 0 auto;width:auto}.bootstrap .col-xl-1{-webkit-box-flex:0;-webkit-flex:0 0 8.333333%;-ms-flex:0 0 8.333333%;flex:0 0 8.333333%;max-width:8.333333%}.bootstrap .col-xl-2{-webkit-box-flex:0;-webkit-flex:0 0 16.666667%;-ms-flex:0 0 16.666667%;flex:0 0 16.666667%;max-width:16.666667%}.bootstrap .col-xl-3{-webkit-box-flex:0;-webkit-flex:0 0 25%;-ms-flex:0 0 25%;flex:0 0 25%;max-width:25%}.bootstrap .col-xl-4{-webkit-box-flex:0;-webkit-flex:0 0 33.333333%;-ms-flex:0 0 33.333333%;flex:0 0 33.333333%;max-width:33.333333%}.bootstrap .col-xl-5{-webkit-box-flex:0;-webkit-flex:0 0 41.666667%;-ms-flex:0 0 41.666667%;flex:0 0 41.666667%;max-width:41.666667%}.bootstrap .col-xl-6{-webkit-box-flex:0;-webkit-flex:0 0 50%;-ms-flex:0 0 50%;flex:0 0 50%;max-width:50%}.bootstrap .col-xl-7{-webkit-box-flex:0;-webkit-flex:0 0 58.333333%;-ms-flex:0 0 58.333333%;flex:0 0 58.333333%;max-width:58.333333%}.bootstrap .col-xl-8{-webkit-box-flex:0;-webkit-flex:0 0 66.666667%;-ms-flex:0 0 66.666667%;flex:0 0 66.666667%;max-width:66.666667%}.bootstrap .col-xl-9{-webkit-box-flex:0;-webkit-flex:0 0 75%;-ms-flex:0 0 75%;flex:0 0 75%;max-width:75%}.bootstrap .col-xl-10{-webkit-box-flex:0;-webkit-flex:0 0 83.333333%;-ms-flex:0 0 83.333333%;flex:0 0 83.333333%;max-width:83.333333%}.bootstrap .col-xl-11{-webkit-box-flex:0;-webkit-flex:0 0 91.666667%;-ms-flex:0 0 91.666667%;flex:0 0 91.666667%;max-width:91.666667%}.bootstrap .col-xl-12{-webkit-box-flex:0;-webkit-flex:0 0 100%;-ms-flex:0 0 100%;flex:0 0 100%;max-width:100%}.bootstrap .pull-xl-0{right:auto}.bootstrap .pull-xl-1{right:8.333333%}.bootstrap .pull-xl-2{right:16.666667%}.bootstrap .pull-xl-3{right:25%}.bootstrap .pull-xl-4{right:33.333333%}.bootstrap .pull-xl-5{right:41.666667%}.bootstrap .pull-xl-6{right:50%}.bootstrap .pull-xl-7{right:58.333333%}.bootstrap .pull-xl-8{right:66.666667%}.bootstrap .pull-xl-9{right:75%}.bootstrap .pull-xl-10{right:83.333333%}.bootstrap .pull-xl-11{right:91.666667%}.bootstrap .pull-xl-12{right:100%}.bootstrap .push-xl-0{left:auto}.bootstrap .push-xl-1{left:8.333333%}.bootstrap .push-xl-2{left:16.666667%}.bootstrap .push-xl-3{left:25%}.bootstrap .push-xl-4{left:33.333333%}.bootstrap .push-xl-5{left:41.666667%}.bootstrap .push-xl-6{left:50%}.bootstrap .push-xl-7{left:58.333333%}.bootstrap .push-xl-8{left:66.666667%}.bootstrap .push-xl-9{left:75%}.bootstrap .push-xl-10{left:83.333333%}.bootstrap .push-xl-11{left:91.666667%}.bootstrap .push-xl-12{left:100%}.bootstrap .offset-xl-0{margin-left:0}.bootstrap .offset-xl-1{margin-left:8.333333%}.bootstrap .offset-xl-2{margin-left:16.666667%}.bootstrap .offset-xl-3{margin-left:25%}.bootstrap .offset-xl-4{margin-left:33.333333%}.bootstrap .offset-xl-5{margin-left:41.666667%}.bootstrap .offset-xl-6{margin-left:50%}.bootstrap .offset-xl-7{margin-left:58.333333%}.bootstrap .offset-xl-8{margin-left:66.666667%}.bootstrap .offset-xl-9{margin-left:75%}.bootstrap .offset-xl-10{margin-left:83.333333%}.bootstrap .offset-xl-11{margin-left:91.666667%}}.bootstrap .table{width:100%;max-width:100%;margin-bottom:1rem}.bootstrap .table td,.bootstrap .table th{padding:.75rem;vertical-align:top;border-top:1px solid #eceeef}.bootstrap .table thead th{vertical-align:bottom;border-bottom:2px solid #eceeef}.bootstrap .table tbody + tbody{border-top:2px solid #eceeef}.bootstrap .table .table{background-color:#fff}.bootstrap .table-sm td,.bootstrap .table-sm th{padding:0.3rem}.bootstrap .table-bordered{border:1px solid #eceeef}.bootstrap .table-bordered td,.bootstrap .table-bordered th{border:1px solid #eceeef}.bootstrap .table-bordered thead td,.bootstrap .table-bordered thead th{border-bottom-width:2px}.bootstrap .table-striped tbody tr:nth-of-type(odd){background-color:rgba(0, 0, 0, 0.05)}.bootstrap .table-hover tbody tr:hover{background-color:rgba(0, 0, 0, 0.075)}.bootstrap .table-active,.bootstrap .table-active > td,.bootstrap .table-active > th{background-color:rgba(0, 0, 0, 0.075)}.bootstrap .table-hover .table-active:hover{background-color:rgba(0, 0, 0, 0.075)}.bootstrap .table-hover .table-active:hover > td,.bootstrap .table-hover .table-active:hover > th{background-color:rgba(0, 0, 0, 0.075)}.bootstrap .table-success,.bootstrap .table-success > td,.bootstrap .table-success > th{background-color:#dff0d8}.bootstrap .table-hover .table-success:hover{background-color:#d0e9c6}.bootstrap .table-hover .table-success:hover > td,.bootstrap .table-hover .table-success:hover > th{background-color:#d0e9c6}.bootstrap .table-info,.bootstrap .table-info > td,.bootstrap .table-info > th{background-color:#d9edf7}.bootstrap .table-hover .table-info:hover{background-color:#c4e3f3}.bootstrap .table-hover .table-info:hover > td,.bootstrap .table-hover .table-info:hover > th{background-color:#c4e3f3}.bootstrap .table-warning,.bootstrap .table-warning > td,.bootstrap .table-warning > th{background-color:#fcf8e3}.bootstrap .table-hover .table-warning:hover{background-color:#faf2cc}.bootstrap .table-hover .table-warning:hover > td,.bootstrap .table-hover .table-warning:hover > th{background-color:#faf2cc}.bootstrap .table-danger,.bootstrap .table-danger > td,.bootstrap .table-danger > th{background-color:#f2dede}.bootstrap .table-hover .table-danger:hover{background-color:#ebcccc}.bootstrap .table-hover .table-danger:hover > td,.bootstrap .table-hover .table-danger:hover > th{background-color:#ebcccc}.bootstrap .thead-inverse th{color:#fff;background-color:#292b2c}.bootstrap .thead-default th{color:#464a4c;background-color:#eceeef}.bootstrap .table-inverse{color:#fff;background-color:#292b2c}.bootstrap .table-inverse td,.bootstrap .table-inverse th,.bootstrap .table-inverse thead th{border-color:#fff}.bootstrap .table-inverse.table-bordered{border:0}.bootstrap .table-responsive{display:block;width:100%;overflow-x:auto;-ms-overflow-style:-ms-autohiding-scrollbar}.bootstrap .table-responsive.table-bordered{border:0}.bootstrap .form-control{display:block;width:100%;padding:.5rem .75rem;font-size:1rem;line-height:1.25;color:#464a4c;background-color:#fff;background-image:none;-webkit-background-clip:padding-box;background-clip:padding-box;border:1px solid rgba(0, 0, 0, 0.15);border-radius:.25rem;-webkit-transition:border-color ease-in-out 0.15s, -webkit-box-shadow ease-in-out 0.15s;transition:border-color ease-in-out 0.15s, -webkit-box-shadow ease-in-out 0.15s;-o-transition:border-color ease-in-out 0.15s, box-shadow ease-in-out 0.15s;transition:border-color ease-in-out 0.15s, box-shadow ease-in-out 0.15s;transition:border-color ease-in-out 0.15s, box-shadow ease-in-out 0.15s, -webkit-box-shadow ease-in-out 0.15s}.bootstrap .form-control::-ms-expand{background-color:transparent;border:0}.bootstrap .form-control:focus{color:#464a4c;background-color:#fff;border-color:#5cb3fd;outline:0}.bootstrap .form-control::-webkit-input-placeholder{color:#636c72;opacity:1}.bootstrap .form-control::-moz-placeholder{color:#636c72;opacity:1}.bootstrap .form-control:-ms-input-placeholder{color:#636c72;opacity:1}.bootstrap .form-control::placeholder{color:#636c72;opacity:1}.bootstrap .form-control:disabled,.bootstrap .form-control[readonly]{background-color:#eceeef;opacity:1}.bootstrap .form-control:disabled{cursor:not-allowed}.bootstrap select.form-control:not([size]):not([multiple]){height:calc(4.25rem)}.bootstrap select.form-control:focus::-ms-value{color:#464a4c;background-color:#fff}.bootstrap .form-control-file,.bootstrap .form-control-range{display:block}.bootstrap .col-form-label{padding-top:calc(-1.5rem);padding-bottom:calc(-1.5rem);margin-bottom:0}.bootstrap .col-form-label-lg{padding-top:calc(-1.25rem);padding-bottom:calc(-1.25rem);font-size:1.25rem}.bootstrap .col-form-label-sm{padding-top:calc(-1.75rem);padding-bottom:calc(-1.75rem);font-size:0.875rem}.bootstrap .col-form-legend{padding-top:.5rem;padding-bottom:.5rem;margin-bottom:0;font-size:1rem}.bootstrap .form-control-static{padding-top:.5rem;padding-bottom:.5rem;margin-bottom:0;line-height:1.25;border:solid transparent;border-width:1px 0}.bootstrap .form-control-static.form-control-lg,.bootstrap .form-control-static.form-control-sm,.bootstrap .input-group-lg > .form-control-static.form-control,.bootstrap .input-group-lg > .form-control-static.input-group-addon,.bootstrap .input-group-lg > .input-group-btn > .form-control-static.btn,.bootstrap .input-group-sm > .form-control-static.form-control,.bootstrap .input-group-sm > .form-control-static.input-group-addon,.bootstrap .input-group-sm > .input-group-btn > .form-control-static.btn{padding-right:0;padding-left:0}.bootstrap .form-control-sm,.bootstrap .input-group-sm > .form-control,.bootstrap .input-group-sm > .input-group-addon,.bootstrap .input-group-sm > .input-group-btn > .btn{padding:.25rem .5rem;font-size:.875rem;border-radius:0.2rem}.bootstrap .input-group-sm > .input-group-btn > select.btn:not([size]):not([multiple]),.bootstrap .input-group-sm > select.form-control:not([size]):not([multiple]),.bootstrap .input-group-sm > select.input-group-addon:not([size]):not([multiple]),.bootstrap select.form-control-sm:not([size]):not([multiple]){height:1.8125rem}.bootstrap .form-control-lg,.bootstrap .input-group-lg > .form-control,.bootstrap .input-group-lg > .input-group-addon,.bootstrap .input-group-lg > .input-group-btn > .btn{padding:.75rem 1.5rem;font-size:1.25rem;border-radius:0.3rem}.bootstrap .input-group-lg > .input-group-btn > select.btn:not([size]):not([multiple]),.bootstrap .input-group-lg > select.form-control:not([size]):not([multiple]),.bootstrap .input-group-lg > select.input-group-addon:not([size]):not([multiple]),.bootstrap select.form-control-lg:not([size]):not([multiple]){height:3.166667rem}.bootstrap .form-group{margin-bottom:1rem}.bootstrap .form-text{display:block;margin-top:0.25rem}.bootstrap .form-check{position:relative;display:block;margin-bottom:0.5rem}.bootstrap .form-check.disabled .form-check-label{color:#636c72;cursor:not-allowed}.bootstrap .form-check-label{padding-left:1.25rem;margin-bottom:0;cursor:pointer}.bootstrap .form-check-input{position:absolute;margin-top:.25rem;margin-left:-1.25rem}.bootstrap .form-check-input:only-child{position:static}.bootstrap .form-check-inline{display:inline-block}.bootstrap .form-check-inline .form-check-label{vertical-align:middle}.bootstrap .form-check-inline + .form-check-inline{margin-left:0.75rem}.bootstrap .form-control-feedback{margin-top:0.25rem}.bootstrap .form-control-danger,.bootstrap .form-control-success,.bootstrap .form-control-warning{padding-right:2.25rem;background-repeat:no-repeat;background-position:center right .5625rem;-webkit-background-size:1.125rem 1.125rem;background-size:1.125rem 1.125rem}.bootstrap .has-success .col-form-label,.bootstrap .has-success .custom-control,.bootstrap .has-success .form-check-label,.bootstrap .has-success .form-control-feedback,.bootstrap .has-success .form-control-label{color:#5cb85c}.bootstrap .has-success .form-control{border-color:#5cb85c}.bootstrap .has-success .input-group-addon{color:#5cb85c;border-color:#5cb85c;background-color:#eaf6ea}.bootstrap .has-success .form-control-success{background-image:url(\"data:image/svg+xml;charset=utf8,%3Csvg xmlns='http://www.w3.org/2000/svg' viewBox='0 0 8 8'%3E%3Cpath fill='%235cb85c' d='M2.3 6.73L.6 4.53c-.4-1.04.46-1.4 1.1-.8l1.1 1.4 3.4-3.8c.6-.63 1.6-.27 1.2.7l-4 4.6c-.43.5-.8.4-1.1.1z'/%3E%3C/svg%3E\")}.bootstrap .has-warning .col-form-label,.bootstrap .has-warning .custom-control,.bootstrap .has-warning .form-check-label,.bootstrap .has-warning .form-control-feedback,.bootstrap .has-warning .form-control-label{color:#f0ad4e}.bootstrap .has-warning .form-control{border-color:#f0ad4e}.bootstrap .has-warning .input-group-addon{color:#f0ad4e;border-color:#f0ad4e;background-color:#fff}.bootstrap .has-warning .form-control-warning{background-image:url(\"data:image/svg+xml;charset=utf8,%3Csvg xmlns='http://www.w3.org/2000/svg' viewBox='0 0 8 8'%3E%3Cpath fill='%23f0ad4e' d='M4.4 5.324h-.8v-2.46h.8zm0 1.42h-.8V5.89h.8zM3.76.63L.04 7.075c-.115.2.016.425.26.426h7.397c.242 0 .372-.226.258-.426C6.726 4.924 5.47 2.79 4.253.63c-.113-.174-.39-.174-.494 0z'/%3E%3C/svg%3E\")}.bootstrap .has-danger .col-form-label,.bootstrap .has-danger .custom-control,.bootstrap .has-danger .form-check-label,.bootstrap .has-danger .form-control-feedback,.bootstrap .has-danger .form-control-label{color:#d9534f}.bootstrap .has-danger .form-control{border-color:#d9534f}.bootstrap .has-danger .input-group-addon{color:#d9534f;border-color:#d9534f;background-color:#fdf7f7}.bootstrap .has-danger .form-control-danger{background-image:url(\"data:image/svg+xml;charset=utf8,%3Csvg xmlns='http://www.w3.org/2000/svg' fill='%23d9534f' viewBox='-2 -2 7 7'%3E%3Cpath stroke='%23d9534f' d='M0 0l3 3m0-3L0 3'/%3E%3Ccircle r='.5'/%3E%3Ccircle cx='3' r='.5'/%3E%3Ccircle cy='3' r='.5'/%3E%3Ccircle cx='3' cy='3' r='.5'/%3E%3C/svg%3E\")}.bootstrap .form-inline{display:-webkit-box;display:-webkit-flex;display:-ms-flexbox;display:flex;-webkit-flex-flow:row wrap;-ms-flex-flow:row wrap;flex-flow:row wrap;-webkit-box-align:center;-webkit-align-items:center;-ms-flex-align:center;align-items:center}.bootstrap .form-inline .form-check{width:100%}@media (min-width: 576px){.bootstrap .form-inline label{display:-webkit-box;display:-webkit-flex;display:-ms-flexbox;display:flex;-webkit-box-align:center;-webkit-align-items:center;-ms-flex-align:center;align-items:center;-webkit-box-pack:center;-webkit-justify-content:center;-ms-flex-pack:center;justify-content:center;margin-bottom:0}.bootstrap .form-inline .form-group{display:-webkit-box;display:-webkit-flex;display:-ms-flexbox;display:flex;-webkit-box-flex:0;-webkit-flex:0 0 auto;-ms-flex:0 0 auto;flex:0 0 auto;-webkit-flex-flow:row wrap;-ms-flex-flow:row wrap;flex-flow:row wrap;-webkit-box-align:center;-webkit-align-items:center;-ms-flex-align:center;align-items:center;margin-bottom:0}.bootstrap .form-inline .form-control{display:inline-block;width:auto;vertical-align:middle}.bootstrap .form-inline .form-control-static{display:inline-block}.bootstrap .form-inline .input-group{width:auto}.bootstrap .form-inline .form-control-label{margin-bottom:0;vertical-align:middle}.bootstrap .form-inline .form-check{display:-webkit-box;display:-webkit-flex;display:-ms-flexbox;display:flex;-webkit-box-align:center;-webkit-align-items:center;-ms-flex-align:center;align-items:center;-webkit-box-pack:center;-webkit-justify-content:center;-ms-flex-pack:center;justify-content:center;width:auto;margin-top:0;margin-bottom:0}.bootstrap .form-inline .form-check-label{padding-left:0}.bootstrap .form-inline .form-check-input{position:relative;margin-top:0;margin-right:.25rem;margin-left:0}.bootstrap .form-inline .custom-control{display:-webkit-box;display:-webkit-flex;display:-ms-flexbox;display:flex;-webkit-box-align:center;-webkit-align-items:center;-ms-flex-align:center;align-items:center;-webkit-box-pack:center;-webkit-justify-content:center;-ms-flex-pack:center;justify-content:center;padding-left:0}.bootstrap .form-inline .custom-control-indicator{position:static;display:inline-block;margin-right:.25rem;vertical-align:text-bottom}.bootstrap .form-inline .has-feedback .form-control-feedback{top:0}}.bootstrap .btn{display:inline-block;font-weight:400;line-height:1.25;text-align:center;white-space:nowrap;vertical-align:middle;-webkit-user-select:none;-moz-user-select:none;-ms-user-select:none;user-select:none;border:1px solid transparent;padding:.5rem 1rem;font-size:1rem;border-radius:.25rem;-webkit-transition:all 0.2s ease-in-out;-o-transition:all 0.2s ease-in-out;transition:all 0.2s ease-in-out}.bootstrap .btn:focus,.bootstrap .btn:hover{text-decoration:none}.bootstrap .btn.focus,.bootstrap .btn:focus{outline:0;-webkit-box-shadow:0 0 0 2px rgba(2, 117, 216, 0.25);box-shadow:0 0 0 2px rgba(2, 117, 216, 0.25)}.bootstrap .btn.disabled,.bootstrap .btn:disabled{cursor:not-allowed;opacity:0.65}.bootstrap .btn.active,.bootstrap .btn:active{background-image:none}.bootstrap a.btn.disabled,.bootstrap fieldset[disabled] a.btn{pointer-events:none}.bootstrap .btn-primary{color:#fff;background-color:#0275d8;border-color:#0275d8}.bootstrap .btn-primary:hover{color:#fff;background-color:#025aa5;border-color:#01549b}.bootstrap .btn-primary.focus,.bootstrap .btn-primary:focus{-webkit-box-shadow:0 0 0 2px rgba(2, 117, 216, 0.5);box-shadow:0 0 0 2px rgba(2, 117, 216, 0.5)}.bootstrap .btn-primary.disabled,.bootstrap .btn-primary:disabled{background-color:#0275d8;border-color:#0275d8}.bootstrap .btn-primary.active,.bootstrap .btn-primary:active,.bootstrap .show > .btn-primary.dropdown-toggle{color:#fff;background-color:#025aa5;background-image:none;border-color:#01549b}.bootstrap .btn-secondary{color:#292b2c;background-color:#fff;border-color:#ccc}.bootstrap .btn-secondary:hover{color:#292b2c;background-color:#e6e6e6;border-color:#adadad}.bootstrap .btn-secondary.focus,.bootstrap .btn-secondary:focus{-webkit-box-shadow:0 0 0 2px rgba(204, 204, 204, 0.5);box-shadow:0 0 0 2px rgba(204, 204, 204, 0.5)}.bootstrap .btn-secondary.disabled,.bootstrap .btn-secondary:disabled{background-color:#fff;border-color:#ccc}.bootstrap .btn-secondary.active,.bootstrap .btn-secondary:active,.bootstrap .show > .btn-secondary.dropdown-toggle{color:#292b2c;background-color:#e6e6e6;background-image:none;border-color:#adadad}.bootstrap .btn-info{color:#fff;background-color:#5bc0de;border-color:#5bc0de}.bootstrap .btn-info:hover{color:#fff;background-color:#31b0d5;border-color:#2aabd2}.bootstrap .btn-info.focus,.bootstrap .btn-info:focus{-webkit-box-shadow:0 0 0 2px rgba(91, 192, 222, 0.5);box-shadow:0 0 0 2px rgba(91, 192, 222, 0.5)}.bootstrap .btn-info.disabled,.bootstrap .btn-info:disabled{background-color:#5bc0de;border-color:#5bc0de}.bootstrap .btn-info.active,.bootstrap .btn-info:active,.bootstrap .show > .btn-info.dropdown-toggle{color:#fff;background-color:#31b0d5;background-image:none;border-color:#2aabd2}.bootstrap .btn-success{color:#fff;background-color:#5cb85c;border-color:#5cb85c}.bootstrap .btn-success:hover{color:#fff;background-color:#449d44;border-color:#419641}.bootstrap .btn-success.focus,.bootstrap .btn-success:focus{-webkit-box-shadow:0 0 0 2px rgba(92, 184, 92, 0.5);box-shadow:0 0 0 2px rgba(92, 184, 92, 0.5)}.bootstrap .btn-success.disabled,.bootstrap .btn-success:disabled{background-color:#5cb85c;border-color:#5cb85c}.bootstrap .btn-success.active,.bootstrap .btn-success:active,.bootstrap .show > .btn-success.dropdown-toggle{color:#fff;background-color:#449d44;background-image:none;border-color:#419641}.bootstrap .btn-warning{color:#fff;background-color:#f0ad4e;border-color:#f0ad4e}.bootstrap .btn-warning:hover{color:#fff;background-color:#ec971f;border-color:#eb9316}.bootstrap .btn-warning.focus,.bootstrap .btn-warning:focus{-webkit-box-shadow:0 0 0 2px rgba(240, 173, 78, 0.5);box-shadow:0 0 0 2px rgba(240, 173, 78, 0.5)}.bootstrap .btn-warning.disabled,.bootstrap .btn-warning:disabled{background-color:#f0ad4e;border-color:#f0ad4e}.bootstrap .btn-warning.active,.bootstrap .btn-warning:active,.bootstrap .show > .btn-warning.dropdown-toggle{color:#fff;background-color:#ec971f;background-image:none;border-color:#eb9316}.bootstrap .btn-danger{color:#fff;background-color:#d9534f;border-color:#d9534f}.bootstrap .btn-danger:hover{color:#fff;background-color:#c9302c;border-color:#c12e2a}.bootstrap .btn-danger.focus,.bootstrap .btn-danger:focus{-webkit-box-shadow:0 0 0 2px rgba(217, 83, 79, 0.5);box-shadow:0 0 0 2px rgba(217, 83, 79, 0.5)}.bootstrap .btn-danger.disabled,.bootstrap .btn-danger:disabled{background-color:#d9534f;border-color:#d9534f}.bootstrap .btn-danger.active,.bootstrap .btn-danger:active,.bootstrap .show > .btn-danger.dropdown-toggle{color:#fff;background-color:#c9302c;background-image:none;border-color:#c12e2a}.bootstrap .btn-outline-primary{color:#0275d8;background-image:none;background-color:transparent;border-color:#0275d8}.bootstrap .btn-outline-primary:hover{color:#fff;background-color:#0275d8;border-color:#0275d8}.bootstrap .btn-outline-primary.focus,.bootstrap .btn-outline-primary:focus{-webkit-box-shadow:0 0 0 2px rgba(2, 117, 216, 0.5);box-shadow:0 0 0 2px rgba(2, 117, 216, 0.5)}.bootstrap .btn-outline-primary.disabled,.bootstrap .btn-outline-primary:disabled{color:#0275d8;background-color:transparent}.bootstrap .btn-outline-primary.active,.bootstrap .btn-outline-primary:active,.bootstrap .show > .btn-outline-primary.dropdown-toggle{color:#fff;background-color:#0275d8;border-color:#0275d8}.bootstrap .btn-outline-secondary{color:#ccc;background-image:none;background-color:transparent;border-color:#ccc}.bootstrap .btn-outline-secondary:hover{color:#fff;background-color:#ccc;border-color:#ccc}.bootstrap .btn-outline-secondary.focus,.bootstrap .btn-outline-secondary:focus{-webkit-box-shadow:0 0 0 2px rgba(204, 204, 204, 0.5);box-shadow:0 0 0 2px rgba(204, 204, 204, 0.5)}.bootstrap .btn-outline-secondary.disabled,.bootstrap .btn-outline-secondary:disabled{color:#ccc;background-color:transparent}.bootstrap .btn-outline-secondary.active,.bootstrap .btn-outline-secondary:active,.bootstrap .show > .btn-outline-secondary.dropdown-toggle{color:#fff;background-color:#ccc;border-color:#ccc}.bootstrap .btn-outline-info{color:#5bc0de;background-image:none;background-color:transparent;border-color:#5bc0de}.bootstrap .btn-outline-info:hover{color:#fff;background-color:#5bc0de;border-color:#5bc0de}.bootstrap .btn-outline-info.focus,.bootstrap .btn-outline-info:focus{-webkit-box-shadow:0 0 0 2px rgba(91, 192, 222, 0.5);box-shadow:0 0 0 2px rgba(91, 192, 222, 0.5)}.bootstrap .btn-outline-info.disabled,.bootstrap .btn-outline-info:disabled{color:#5bc0de;background-color:transparent}.bootstrap .btn-outline-info.active,.bootstrap .btn-outline-info:active,.bootstrap .show > .btn-outline-info.dropdown-toggle{color:#fff;background-color:#5bc0de;border-color:#5bc0de}.bootstrap .btn-outline-success{color:#5cb85c;background-image:none;background-color:transparent;border-color:#5cb85c}.bootstrap .btn-outline-success:hover{color:#fff;background-color:#5cb85c;border-color:#5cb85c}.bootstrap .btn-outline-success.focus,.bootstrap .btn-outline-success:focus{-webkit-box-shadow:0 0 0 2px rgba(92, 184, 92, 0.5);box-shadow:0 0 0 2px rgba(92, 184, 92, 0.5)}.bootstrap .btn-outline-success.disabled,.bootstrap .btn-outline-success:disabled{color:#5cb85c;background-color:transparent}.bootstrap .btn-outline-success.active,.bootstrap .btn-outline-success:active,.bootstrap .show > .btn-outline-success.dropdown-toggle{color:#fff;background-color:#5cb85c;border-color:#5cb85c}.bootstrap .btn-outline-warning{color:#f0ad4e;background-image:none;background-color:transparent;border-color:#f0ad4e}.bootstrap .btn-outline-warning:hover{color:#fff;background-color:#f0ad4e;border-color:#f0ad4e}.bootstrap .btn-outline-warning.focus,.bootstrap .btn-outline-warning:focus{-webkit-box-shadow:0 0 0 2px rgba(240, 173, 78, 0.5);box-shadow:0 0 0 2px rgba(240, 173, 78, 0.5)}.bootstrap .btn-outline-warning.disabled,.bootstrap .btn-outline-warning:disabled{color:#f0ad4e;background-color:transparent}.bootstrap .btn-outline-warning.active,.bootstrap .btn-outline-warning:active,.bootstrap .show > .btn-outline-warning.dropdown-toggle{color:#fff;background-color:#f0ad4e;border-color:#f0ad4e}.bootstrap .btn-outline-danger{color:#d9534f;background-image:none;background-color:transparent;border-color:#d9534f}.bootstrap .btn-outline-danger:hover{color:#fff;background-color:#d9534f;border-color:#d9534f}.bootstrap .btn-outline-danger.focus,.bootstrap .btn-outline-danger:focus{-webkit-box-shadow:0 0 0 2px rgba(217, 83, 79, 0.5);box-shadow:0 0 0 2px rgba(217, 83, 79, 0.5)}.bootstrap .btn-outline-danger.disabled,.bootstrap .btn-outline-danger:disabled{color:#d9534f;background-color:transparent}.bootstrap .btn-outline-danger.active,.bootstrap .btn-outline-danger:active,.bootstrap .show > .btn-outline-danger.dropdown-toggle{color:#fff;background-color:#d9534f;border-color:#d9534f}.bootstrap .btn-link{font-weight:400;color:#0275d8;border-radius:0}.bootstrap .btn-link,.bootstrap .btn-link.active,.bootstrap .btn-link:active,.bootstrap .btn-link:disabled{background-color:transparent}.bootstrap .btn-link,.bootstrap .btn-link:active,.bootstrap .btn-link:focus{border-color:transparent}.bootstrap .btn-link:hover{border-color:transparent}.bootstrap .btn-link:focus,.bootstrap .btn-link:hover{color:#014c8c;text-decoration:underline;background-color:transparent}.bootstrap .btn-link:disabled{color:#636c72}.bootstrap .btn-link:disabled:focus,.bootstrap .btn-link:disabled:hover{text-decoration:none}.bootstrap .btn-group-lg > .btn,.bootstrap .btn-lg{padding:.75rem 1.5rem;font-size:1.25rem;border-radius:0.3rem}.bootstrap .btn-group-sm > .btn,.bootstrap .btn-sm{padding:.25rem .5rem;font-size:.875rem;border-radius:0.2rem}.bootstrap .btn-block{display:block;width:100%}.bootstrap .btn-block + .btn-block{margin-top:0.5rem}.bootstrap input[type=button].btn-block,.bootstrap input[type=reset].btn-block,.bootstrap input[type=submit].btn-block{width:100%}.bootstrap .fade{opacity:0;-webkit-transition:opacity .15s linear;-o-transition:opacity .15s linear;transition:opacity 0.15s linear}.bootstrap .fade.show{opacity:1}.bootstrap .collapse{display:none}.bootstrap .collapse.show{display:block}.bootstrap tr.collapse.show{display:table-row}.bootstrap tbody.collapse.show{display:table-row-group}.bootstrap .collapsing{position:relative;height:0;overflow:hidden;-webkit-transition:height .35s ease;-o-transition:height .35s ease;transition:height 0.35s ease}.bootstrap .dropdown,.bootstrap .dropup{position:relative}.bootstrap .dropdown-toggle::after{display:inline-block;width:0;height:0;margin-left:.3em;vertical-align:middle;content:\"\";border-top:.3em solid;border-right:.3em solid transparent;border-left:0.3em solid transparent}.bootstrap .dropdown-toggle:focus{outline:0}.bootstrap .dropup .dropdown-toggle::after{border-top:0;border-bottom:0.3em solid}.bootstrap .dropdown-menu{position:absolute;top:100%;left:0;z-index:1000;display:none;float:left;min-width:10rem;padding:.5rem 0;margin:.125rem 0 0;font-size:1rem;color:#292b2c;text-align:left;list-style:none;background-color:#fff;-webkit-background-clip:padding-box;background-clip:padding-box;border:1px solid rgba(0, 0, 0, 0.15);border-radius:0.25rem}.bootstrap .dropdown-divider{height:1px;margin:.5rem 0;overflow:hidden;background-color:#eceeef}.bootstrap .dropdown-item{display:block;width:100%;padding:3px 1.5rem;clear:both;font-weight:400;color:#292b2c;text-align:inherit;white-space:nowrap;background:0 0;border:0}.bootstrap .dropdown-item:focus,.bootstrap .dropdown-item:hover{color:#1d1e1f;text-decoration:none;background-color:#f7f7f9}.bootstrap .dropdown-item.active,.bootstrap .dropdown-item:active{color:#fff;text-decoration:none;background-color:#0275d8}.bootstrap .dropdown-item.disabled,.bootstrap .dropdown-item:disabled{color:#636c72;cursor:not-allowed;background-color:transparent}.bootstrap .show > .dropdown-menu{display:block}.bootstrap .show > a{outline:0}.bootstrap .dropdown-menu-right{right:0;left:auto}.bootstrap .dropdown-menu-left{right:auto;left:0}.bootstrap .dropdown-header{display:block;padding:.5rem 1.5rem;margin-bottom:0;font-size:.875rem;color:#636c72;white-space:nowrap}.bootstrap .dropdown-backdrop{position:fixed;top:0;right:0;bottom:0;left:0;z-index:990}.bootstrap .dropup .dropdown-menu{top:auto;bottom:100%;margin-bottom:0.125rem}.bootstrap .btn-group,.bootstrap .btn-group-vertical{position:relative;display:-webkit-inline-box;display:-webkit-inline-flex;display:-ms-inline-flexbox;display:inline-flex;vertical-align:middle}.bootstrap .btn-group-vertical > .btn,.bootstrap .btn-group > .btn{position:relative;-webkit-box-flex:0;-webkit-flex:0 1 auto;-ms-flex:0 1 auto;flex:0 1 auto}.bootstrap .btn-group-vertical > .btn:hover,.bootstrap .btn-group > .btn:hover{z-index:2}.bootstrap .btn-group-vertical > .btn.active,.bootstrap .btn-group-vertical > .btn:active,.bootstrap .btn-group-vertical > .btn:focus,.bootstrap .btn-group > .btn.active,.bootstrap .btn-group > .btn:active,.bootstrap .btn-group > .btn:focus{z-index:2}.bootstrap .btn-group .btn + .btn,.bootstrap .btn-group .btn + .btn-group,.bootstrap .btn-group .btn-group + .btn,.bootstrap .btn-group .btn-group + .btn-group,.bootstrap .btn-group-vertical .btn + .btn,.bootstrap .btn-group-vertical .btn + .btn-group,.bootstrap .btn-group-vertical .btn-group + .btn,.bootstrap .btn-group-vertical .btn-group + .btn-group{margin-left:-1px}.bootstrap .btn-toolbar{display:-webkit-box;display:-webkit-flex;display:-ms-flexbox;display:flex;-webkit-box-pack:start;-webkit-justify-content:flex-start;-ms-flex-pack:start;justify-content:flex-start}.bootstrap .btn-toolbar .input-group{width:auto}.bootstrap .btn-group > .btn:not(:first-child):not(:last-child):not(.dropdown-toggle){border-radius:0}.bootstrap .btn-group > .btn:first-child{margin-left:0}.bootstrap .btn-group > .btn:first-child:not(:last-child):not(.dropdown-toggle){border-bottom-right-radius:0;border-top-right-radius:0}.bootstrap .btn-group > .btn:last-child:not(:first-child),.bootstrap .btn-group > .dropdown-toggle:not(:first-child){border-bottom-left-radius:0;border-top-left-radius:0}.bootstrap .btn-group > .btn-group{float:left}.bootstrap .btn-group > .btn-group:not(:first-child):not(:last-child) > .btn{border-radius:0}.bootstrap .btn-group > .btn-group:first-child:not(:last-child) > .btn:last-child,.bootstrap .btn-group > .btn-group:first-child:not(:last-child) > .dropdown-toggle{border-bottom-right-radius:0;border-top-right-radius:0}.bootstrap .btn-group > .btn-group:last-child:not(:first-child) > .btn:first-child{border-bottom-left-radius:0;border-top-left-radius:0}.bootstrap .btn-group .dropdown-toggle:active,.bootstrap .btn-group.open .dropdown-toggle{outline:0}.bootstrap .btn + .dropdown-toggle-split{padding-right:.75rem;padding-left:0.75rem}.bootstrap .btn + .dropdown-toggle-split::after{margin-left:0}.bootstrap .btn-group-sm > .btn + .dropdown-toggle-split,.bootstrap .btn-sm + .dropdown-toggle-split{padding-right:.375rem;padding-left:0.375rem}.bootstrap .btn-group-lg > .btn + .dropdown-toggle-split,.bootstrap .btn-lg + .dropdown-toggle-split{padding-right:1.125rem;padding-left:1.125rem}.bootstrap .btn-group-vertical{display:-webkit-inline-box;display:-webkit-inline-flex;display:-ms-inline-flexbox;display:inline-flex;-webkit-box-orient:vertical;-webkit-box-direction:normal;-webkit-flex-direction:column;-ms-flex-direction:column;flex-direction:column;-webkit-box-align:start;-webkit-align-items:flex-start;-ms-flex-align:start;align-items:flex-start;-webkit-box-pack:center;-webkit-justify-content:center;-ms-flex-pack:center;justify-content:center}.bootstrap .btn-group-vertical .btn,.bootstrap .btn-group-vertical .btn-group{width:100%}.bootstrap .btn-group-vertical > .btn + .btn,.bootstrap .btn-group-vertical > .btn + .btn-group,.bootstrap .btn-group-vertical > .btn-group + .btn,.bootstrap .btn-group-vertical > .btn-group + .btn-group{margin-top:-1px;margin-left:0}.bootstrap .btn-group-vertical > .btn:not(:first-child):not(:last-child){border-radius:0}.bootstrap .btn-group-vertical > .btn:first-child:not(:last-child){border-bottom-right-radius:0;border-bottom-left-radius:0}.bootstrap .btn-group-vertical > .btn:last-child:not(:first-child){border-top-right-radius:0;border-top-left-radius:0}.bootstrap .btn-group-vertical > .btn-group:not(:first-child):not(:last-child) > .btn{border-radius:0}.bootstrap .btn-group-vertical > .btn-group:first-child:not(:last-child) > .btn:last-child,.bootstrap .btn-group-vertical > .btn-group:first-child:not(:last-child) > .dropdown-toggle{border-bottom-right-radius:0;border-bottom-left-radius:0}.bootstrap .btn-group-vertical > .btn-group:last-child:not(:first-child) > .btn:first-child{border-top-right-radius:0;border-top-left-radius:0}.bootstrap [data-toggle=buttons] > .btn input[type=checkbox],.bootstrap [data-toggle=buttons] > .btn input[type=radio],.bootstrap [data-toggle=buttons] > .btn-group > .btn input[type=checkbox],.bootstrap [data-toggle=buttons] > .btn-group > .btn input[type=radio]{position:absolute;clip:rect(0, 0, 0, 0);pointer-events:none}.bootstrap .input-group{position:relative;display:-webkit-box;display:-webkit-flex;display:-ms-flexbox;display:flex;width:100%}.bootstrap .input-group .form-control{position:relative;z-index:2;-webkit-box-flex:1;-webkit-flex:1 1 auto;-ms-flex:1 1 auto;flex:1 1 auto;width:1%;margin-bottom:0}.bootstrap .input-group .form-control:active,.bootstrap .input-group .form-control:focus,.bootstrap .input-group .form-control:hover{z-index:3}.bootstrap .input-group .form-control,.bootstrap .input-group-addon,.bootstrap .input-group-btn{display:-webkit-box;display:-webkit-flex;display:-ms-flexbox;display:flex;-webkit-box-orient:vertical;-webkit-box-direction:normal;-webkit-flex-direction:column;-ms-flex-direction:column;flex-direction:column;-webkit-box-pack:center;-webkit-justify-content:center;-ms-flex-pack:center;justify-content:center}.bootstrap .input-group .form-control:not(:first-child):not(:last-child),.bootstrap .input-group-addon:not(:first-child):not(:last-child),.bootstrap .input-group-btn:not(:first-child):not(:last-child){border-radius:0}.bootstrap .input-group-addon,.bootstrap .input-group-btn{white-space:nowrap;vertical-align:middle}.bootstrap .input-group-addon{padding:.5rem .75rem;margin-bottom:0;font-size:1rem;font-weight:400;line-height:1.25;color:#464a4c;text-align:center;background-color:#eceeef;border:1px solid rgba(0, 0, 0, 0.15);border-radius:0.25rem}.bootstrap .input-group-addon.form-control-sm,.bootstrap .input-group-sm > .input-group-addon,.bootstrap .input-group-sm > .input-group-btn > .input-group-addon.btn{padding:.25rem .5rem;font-size:.875rem;border-radius:0.2rem}.bootstrap .input-group-addon.form-control-lg,.bootstrap .input-group-lg > .input-group-addon,.bootstrap .input-group-lg > .input-group-btn > .input-group-addon.btn{padding:.75rem 1.5rem;font-size:1.25rem;border-radius:0.3rem}.bootstrap .input-group-addon input[type=checkbox],.bootstrap .input-group-addon input[type=radio]{margin-top:0}.bootstrap .input-group .form-control:not(:last-child),.bootstrap .input-group-addon:not(:last-child),.bootstrap .input-group-btn:not(:first-child) > .btn-group:not(:last-child) > .btn,.bootstrap .input-group-btn:not(:first-child) > .btn:not(:last-child):not(.dropdown-toggle),.bootstrap .input-group-btn:not(:last-child) > .btn,.bootstrap .input-group-btn:not(:last-child) > .btn-group > .btn,.bootstrap .input-group-btn:not(:last-child) > .dropdown-toggle{border-bottom-right-radius:0;border-top-right-radius:0}.bootstrap .input-group-addon:not(:last-child){border-right:0}.bootstrap .input-group .form-control:not(:first-child),.bootstrap .input-group-addon:not(:first-child),.bootstrap .input-group-btn:not(:first-child) > .btn,.bootstrap .input-group-btn:not(:first-child) > .btn-group > .btn,.bootstrap .input-group-btn:not(:first-child) > .dropdown-toggle,.bootstrap .input-group-btn:not(:last-child) > .btn-group:not(:first-child) > .btn,.bootstrap .input-group-btn:not(:last-child) > .btn:not(:first-child){border-bottom-left-radius:0;border-top-left-radius:0}.bootstrap .form-control + .input-group-addon:not(:first-child){border-left:0}.bootstrap .input-group-btn{position:relative;font-size:0;white-space:nowrap}.bootstrap .input-group-btn > .btn{position:relative;-webkit-box-flex:1;-webkit-flex:1 1 0%;-ms-flex:1 1 0%;flex:1 1 0%}.bootstrap .input-group-btn > .btn + .btn{margin-left:-1px}.bootstrap .input-group-btn > .btn:active,.bootstrap .input-group-btn > .btn:focus,.bootstrap .input-group-btn > .btn:hover{z-index:3}.bootstrap .input-group-btn:not(:last-child) > .btn,.bootstrap .input-group-btn:not(:last-child) > .btn-group{margin-right:-1px}.bootstrap .input-group-btn:not(:first-child) > .btn,.bootstrap .input-group-btn:not(:first-child) > .btn-group{z-index:2;margin-left:-1px}.bootstrap .input-group-btn:not(:first-child) > .btn-group:active,.bootstrap .input-group-btn:not(:first-child) > .btn-group:focus,.bootstrap .input-group-btn:not(:first-child) > .btn-group:hover,.bootstrap .input-group-btn:not(:first-child) > .btn:active,.bootstrap .input-group-btn:not(:first-child) > .btn:focus,.bootstrap .input-group-btn:not(:first-child) > .btn:hover{z-index:3}.bootstrap .custom-control{position:relative;display:-webkit-inline-box;display:-webkit-inline-flex;display:-ms-inline-flexbox;display:inline-flex;min-height:1.5rem;padding-left:1.5rem;margin-right:1rem;cursor:pointer}.bootstrap .custom-control-input{position:absolute;z-index:-1;opacity:0}.bootstrap .custom-control-input:checked ~ .custom-control-indicator{color:#fff;background-color:#0275d8}.bootstrap .custom-control-input:focus ~ .custom-control-indicator{-webkit-box-shadow:0 0 0 1px #fff,0 0 0 3px #0275d8;box-shadow:0 0 0 1px #fff, 0 0 0 3px #0275d8}.bootstrap .custom-control-input:active ~ .custom-control-indicator{color:#fff;background-color:#8fcafe}.bootstrap .custom-control-input:disabled ~ .custom-control-indicator{cursor:not-allowed;background-color:#eceeef}.bootstrap .custom-control-input:disabled ~ .custom-control-description{color:#636c72;cursor:not-allowed}.bootstrap .custom-control-indicator{position:absolute;top:.25rem;left:0;display:block;width:1rem;height:1rem;pointer-events:none;-webkit-user-select:none;-moz-user-select:none;-ms-user-select:none;user-select:none;background-color:#ddd;background-repeat:no-repeat;background-position:center center;-webkit-background-size:50% 50%;background-size:50% 50%}.bootstrap .custom-checkbox .custom-control-indicator{border-radius:0.25rem}.bootstrap .custom-checkbox .custom-control-input:checked ~ .custom-control-indicator{background-image:url(\"data:image/svg+xml;charset=utf8,%3Csvg xmlns='http://www.w3.org/2000/svg' viewBox='0 0 8 8'%3E%3Cpath fill='%23fff' d='M6.564.75l-3.59 3.612-1.538-1.55L0 4.26 2.974 7.25 8 2.193z'/%3E%3C/svg%3E\")}.bootstrap .custom-checkbox .custom-control-input:indeterminate ~ .custom-control-indicator{background-color:#0275d8;background-image:url(\"data:image/svg+xml;charset=utf8,%3Csvg xmlns='http://www.w3.org/2000/svg' viewBox='0 0 4 4'%3E%3Cpath stroke='%23fff' d='M0 2h4'/%3E%3C/svg%3E\")}.bootstrap .custom-radio .custom-control-indicator{border-radius:50%}.bootstrap .custom-radio .custom-control-input:checked ~ .custom-control-indicator{background-image:url(\"data:image/svg+xml;charset=utf8,%3Csvg xmlns='http://www.w3.org/2000/svg' viewBox='-4 -4 8 8'%3E%3Ccircle r='3' fill='%23fff'/%3E%3C/svg%3E\")}.bootstrap .custom-controls-stacked{display:-webkit-box;display:-webkit-flex;display:-ms-flexbox;display:flex;-webkit-box-orient:vertical;-webkit-box-direction:normal;-webkit-flex-direction:column;-ms-flex-direction:column;flex-direction:column}.bootstrap .custom-controls-stacked .custom-control{margin-bottom:0.25rem}.bootstrap .custom-controls-stacked .custom-control + .custom-control{margin-left:0}.bootstrap .custom-select{display:inline-block;max-width:100%;height:calc(4.25rem);padding:.375rem 1.75rem .375rem .75rem;line-height:1.25;color:#464a4c;vertical-align:middle;background:#fff url(\"data:image/svg+xml;charset=utf8,%3Csvg xmlns='http://www.w3.org/2000/svg' viewBox='0 0 4 5'%3E%3Cpath fill='%23333' d='M2 0L0 2h4zm0 5L0 3h4z'/%3E%3C/svg%3E\") no-repeat right 0.75rem center;-webkit-background-size:8px 10px;background-size:8px 10px;border:1px solid rgba(0, 0, 0, 0.15);border-radius:.25rem;-moz-appearance:none;-webkit-appearance:none}.bootstrap .custom-select:focus{border-color:#5cb3fd;outline:0}.bootstrap .custom-select:focus::-ms-value{color:#464a4c;background-color:#fff}.bootstrap .custom-select:disabled{color:#636c72;cursor:not-allowed;background-color:#eceeef}.bootstrap .custom-select::-ms-expand{opacity:0}.bootstrap .custom-select-sm{padding-top:.375rem;padding-bottom:.375rem;font-size:75%}.bootstrap .custom-file{position:relative;display:inline-block;max-width:100%;height:2.5rem;margin-bottom:0;cursor:pointer}.bootstrap .custom-file-input{min-width:14rem;max-width:100%;height:2.5rem;margin:0;filter:alpha(opacity=0);opacity:0}.bootstrap .custom-file-control{position:absolute;top:0;right:0;left:0;z-index:5;height:2.5rem;padding:.5rem 1rem;line-height:1.5;color:#464a4c;pointer-events:none;-webkit-user-select:none;-moz-user-select:none;-ms-user-select:none;user-select:none;background-color:#fff;border:1px solid rgba(0, 0, 0, 0.15);border-radius:0.25rem}.bootstrap .custom-file-control:lang(en)::after{content:\"Choose file...\"}.bootstrap .custom-file-control::before{position:absolute;top:-1px;right:-1px;bottom:-1px;z-index:6;display:block;height:2.5rem;padding:.5rem 1rem;line-height:1.5;color:#464a4c;background-color:#eceeef;border:1px solid rgba(0, 0, 0, 0.15);border-radius:0 0.25rem 0.25rem 0}.bootstrap .custom-file-control:lang(en)::before{content:\"Browse\"}.bootstrap .nav{display:-webkit-box;display:-webkit-flex;display:-ms-flexbox;display:flex;padding-left:0;margin-bottom:0;list-style:none}.bootstrap .nav-link{display:block;padding:0.5em 1em}.bootstrap .nav-link:focus,.bootstrap .nav-link:hover{text-decoration:none}.bootstrap .nav-link.disabled{color:#636c72;cursor:not-allowed}.bootstrap .nav-tabs{border-bottom:1px solid #ddd}.bootstrap .nav-tabs .nav-item{margin-bottom:-1px}.bootstrap .nav-tabs .nav-link{border:1px solid transparent;border-top-right-radius:.25rem;border-top-left-radius:0.25rem}.bootstrap .nav-tabs .nav-link:focus,.bootstrap .nav-tabs .nav-link:hover{border-color:#eceeef #eceeef #ddd}.bootstrap .nav-tabs .nav-link.disabled{color:#636c72;background-color:transparent;border-color:transparent}.bootstrap .nav-tabs .nav-item.show .nav-link,.bootstrap .nav-tabs .nav-link.active{color:#464a4c;background-color:#fff;border-color:#ddd #ddd #fff}.bootstrap .nav-tabs .dropdown-menu{margin-top:-1px;border-top-right-radius:0;border-top-left-radius:0}.bootstrap .nav-pills .nav-link{border-radius:0.25rem}.bootstrap .nav-pills .nav-item.show .nav-link,.bootstrap .nav-pills .nav-link.active{color:#fff;cursor:default;background-color:#0275d8}.bootstrap .nav-fill .nav-item{-webkit-box-flex:1;-webkit-flex:1 1 auto;-ms-flex:1 1 auto;flex:1 1 auto;text-align:center}.bootstrap .nav-justified .nav-item{-webkit-box-flex:1;-webkit-flex:1 1 100%;-ms-flex:1 1 100%;flex:1 1 100%;text-align:center}.bootstrap .tab-content > .tab-pane{display:none}.bootstrap .tab-content > .active{display:block}.bootstrap .navbar{position:relative;display:-webkit-box;display:-webkit-flex;display:-ms-flexbox;display:flex;-webkit-box-orient:vertical;-webkit-box-direction:normal;-webkit-flex-direction:column;-ms-flex-direction:column;flex-direction:column;padding:0.5rem 1rem}.bootstrap .navbar-brand{display:inline-block;padding-top:.25rem;padding-bottom:.25rem;margin-right:1rem;font-size:1.25rem;line-height:inherit;white-space:nowrap}.bootstrap .navbar-brand:focus,.bootstrap .navbar-brand:hover{text-decoration:none}.bootstrap .navbar-nav{display:-webkit-box;display:-webkit-flex;display:-ms-flexbox;display:flex;-webkit-box-orient:vertical;-webkit-box-direction:normal;-webkit-flex-direction:column;-ms-flex-direction:column;flex-direction:column;padding-left:0;margin-bottom:0;list-style:none}.bootstrap .navbar-nav .nav-link{padding-right:0;padding-left:0}.bootstrap .navbar-text{display:inline-block;padding-top:.425rem;padding-bottom:0.425rem}.bootstrap .navbar-toggler{-webkit-align-self:flex-start;-ms-flex-item-align:start;align-self:flex-start;padding:.25rem .75rem;font-size:1.25rem;line-height:1;background:0 0;border:1px solid transparent;border-radius:0.25rem}.bootstrap .navbar-toggler:focus,.bootstrap .navbar-toggler:hover{text-decoration:none}.bootstrap .navbar-toggler-icon{display:inline-block;width:1.5em;height:1.5em;vertical-align:middle;content:\"\";background:no-repeat center center;-webkit-background-size:100% 100%;background-size:100% 100%}.bootstrap .navbar-toggler-left{position:absolute;left:1rem}.bootstrap .navbar-toggler-right{position:absolute;right:1rem}@media (max-width: 575px){.bootstrap .navbar-toggleable .navbar-nav .dropdown-menu{position:static;float:none}.bootstrap .navbar-toggleable > .container{padding-right:0;padding-left:0}}@media (min-width: 576px){.bootstrap .navbar-toggleable{-webkit-box-orient:horizontal;-webkit-box-direction:normal;-webkit-flex-direction:row;-ms-flex-direction:row;flex-direction:row;-webkit-flex-wrap:nowrap;-ms-flex-wrap:nowrap;flex-wrap:nowrap;-webkit-box-align:center;-webkit-align-items:center;-ms-flex-align:center;align-items:center}.bootstrap .navbar-toggleable .navbar-nav{-webkit-box-orient:horizontal;-webkit-box-direction:normal;-webkit-flex-direction:row;-ms-flex-direction:row;flex-direction:row}.bootstrap .navbar-toggleable .navbar-nav .nav-link{padding-right:.5rem;padding-left:0.5rem}.bootstrap .navbar-toggleable > .container{display:-webkit-box;display:-webkit-flex;display:-ms-flexbox;display:flex;-webkit-flex-wrap:nowrap;-ms-flex-wrap:nowrap;flex-wrap:nowrap;-webkit-box-align:center;-webkit-align-items:center;-ms-flex-align:center;align-items:center}.bootstrap .navbar-toggleable .navbar-collapse{display:-webkit-box !important;display:-webkit-flex !important;display:-ms-flexbox !important;display:flex !important;width:100%}.bootstrap .navbar-toggleable .navbar-toggler{display:none}}@media (max-width: 767px){.bootstrap .navbar-toggleable-sm .navbar-nav .dropdown-menu{position:static;float:none}.bootstrap .navbar-toggleable-sm > .container{padding-right:0;padding-left:0}}@media (min-width: 768px){.bootstrap .navbar-toggleable-sm{-webkit-box-orient:horizontal;-webkit-box-direction:normal;-webkit-flex-direction:row;-ms-flex-direction:row;flex-direction:row;-webkit-flex-wrap:nowrap;-ms-flex-wrap:nowrap;flex-wrap:nowrap;-webkit-box-align:center;-webkit-align-items:center;-ms-flex-align:center;align-items:center}.bootstrap .navbar-toggleable-sm .navbar-nav{-webkit-box-orient:horizontal;-webkit-box-direction:normal;-webkit-flex-direction:row;-ms-flex-direction:row;flex-direction:row}.bootstrap .navbar-toggleable-sm .navbar-nav .nav-link{padding-right:.5rem;padding-left:0.5rem}.bootstrap .navbar-toggleable-sm > .container{display:-webkit-box;display:-webkit-flex;display:-ms-flexbox;display:flex;-webkit-flex-wrap:nowrap;-ms-flex-wrap:nowrap;flex-wrap:nowrap;-webkit-box-align:center;-webkit-align-items:center;-ms-flex-align:center;align-items:center}.bootstrap .navbar-toggleable-sm .navbar-collapse{display:-webkit-box !important;display:-webkit-flex !important;display:-ms-flexbox !important;display:flex !important;width:100%}.bootstrap .navbar-toggleable-sm .navbar-toggler{display:none}}@media (max-width: 991px){.bootstrap .navbar-toggleable-md .navbar-nav .dropdown-menu{position:static;float:none}.bootstrap .navbar-toggleable-md > .container{padding-right:0;padding-left:0}}@media (min-width: 992px){.bootstrap .navbar-toggleable-md{-webkit-box-orient:horizontal;-webkit-box-direction:normal;-webkit-flex-direction:row;-ms-flex-direction:row;flex-direction:row;-webkit-flex-wrap:nowrap;-ms-flex-wrap:nowrap;flex-wrap:nowrap;-webkit-box-align:center;-webkit-align-items:center;-ms-flex-align:center;align-items:center}.bootstrap .navbar-toggleable-md .navbar-nav{-webkit-box-orient:horizontal;-webkit-box-direction:normal;-webkit-flex-direction:row;-ms-flex-direction:row;flex-direction:row}.bootstrap .navbar-toggleable-md .navbar-nav .nav-link{padding-right:.5rem;padding-left:0.5rem}.bootstrap .navbar-toggleable-md > .container{display:-webkit-box;display:-webkit-flex;display:-ms-flexbox;display:flex;-webkit-flex-wrap:nowrap;-ms-flex-wrap:nowrap;flex-wrap:nowrap;-webkit-box-align:center;-webkit-align-items:center;-ms-flex-align:center;align-items:center}.bootstrap .navbar-toggleable-md .navbar-collapse{display:-webkit-box !important;display:-webkit-flex !important;display:-ms-flexbox !important;display:flex !important;width:100%}.bootstrap .navbar-toggleable-md .navbar-toggler{display:none}}@media (max-width: 1199px){.bootstrap .navbar-toggleable-lg .navbar-nav .dropdown-menu{position:static;float:none}.bootstrap .navbar-toggleable-lg > .container{padding-right:0;padding-left:0}}@media (min-width: 1200px){.bootstrap .navbar-toggleable-lg{-webkit-box-orient:horizontal;-webkit-box-direction:normal;-webkit-flex-direction:row;-ms-flex-direction:row;flex-direction:row;-webkit-flex-wrap:nowrap;-ms-flex-wrap:nowrap;flex-wrap:nowrap;-webkit-box-align:center;-webkit-align-items:center;-ms-flex-align:center;align-items:center}.bootstrap .navbar-toggleable-lg .navbar-nav{-webkit-box-orient:horizontal;-webkit-box-direction:normal;-webkit-flex-direction:row;-ms-flex-direction:row;flex-direction:row}.bootstrap .navbar-toggleable-lg .navbar-nav .nav-link{padding-right:.5rem;padding-left:0.5rem}.bootstrap .navbar-toggleable-lg > .container{display:-webkit-box;display:-webkit-flex;display:-ms-flexbox;display:flex;-webkit-flex-wrap:nowrap;-ms-flex-wrap:nowrap;flex-wrap:nowrap;-webkit-box-align:center;-webkit-align-items:center;-ms-flex-align:center;align-items:center}.bootstrap .navbar-toggleable-lg .navbar-collapse{display:-webkit-box !important;display:-webkit-flex !important;display:-ms-flexbox !important;display:flex !important;width:100%}.bootstrap .navbar-toggleable-lg .navbar-toggler{display:none}}.bootstrap .navbar-toggleable-xl{-webkit-box-orient:horizontal;-webkit-box-direction:normal;-webkit-flex-direction:row;-ms-flex-direction:row;flex-direction:row;-webkit-flex-wrap:nowrap;-ms-flex-wrap:nowrap;flex-wrap:nowrap;-webkit-box-align:center;-webkit-align-items:center;-ms-flex-align:center;align-items:center}.bootstrap .navbar-toggleable-xl .navbar-nav .dropdown-menu{position:static;float:none}.bootstrap .navbar-toggleable-xl > .container{padding-right:0;padding-left:0}.bootstrap .navbar-toggleable-xl .navbar-nav{-webkit-box-orient:horizontal;-webkit-box-direction:normal;-webkit-flex-direction:row;-ms-flex-direction:row;flex-direction:row}.bootstrap .navbar-toggleable-xl .navbar-nav .nav-link{padding-right:.5rem;padding-left:0.5rem}.bootstrap .navbar-toggleable-xl > .container{display:-webkit-box;display:-webkit-flex;display:-ms-flexbox;display:flex;-webkit-flex-wrap:nowrap;-ms-flex-wrap:nowrap;flex-wrap:nowrap;-webkit-box-align:center;-webkit-align-items:center;-ms-flex-align:center;align-items:center}.bootstrap .navbar-toggleable-xl .navbar-collapse{display:-webkit-box !important;display:-webkit-flex !important;display:-ms-flexbox !important;display:flex !important;width:100%}.bootstrap .navbar-toggleable-xl .navbar-toggler{display:none}.bootstrap .navbar-light .navbar-brand,.bootstrap .navbar-light .navbar-toggler{color:rgba(0, 0, 0, 0.9)}.bootstrap .navbar-light .navbar-brand:focus,.bootstrap .navbar-light .navbar-brand:hover,.bootstrap .navbar-light .navbar-toggler:focus,.bootstrap .navbar-light .navbar-toggler:hover{color:rgba(0, 0, 0, 0.9)}.bootstrap .navbar-light .navbar-nav .nav-link{color:rgba(0, 0, 0, 0.5)}.bootstrap .navbar-light .navbar-nav .nav-link:focus,.bootstrap .navbar-light .navbar-nav .nav-link:hover{color:rgba(0, 0, 0, 0.7)}.bootstrap .navbar-light .navbar-nav .nav-link.disabled{color:rgba(0, 0, 0, 0.3)}.bootstrap .navbar-light .navbar-nav .active > .nav-link,.bootstrap .navbar-light .navbar-nav .nav-link.active,.bootstrap .navbar-light .navbar-nav .nav-link.open,.bootstrap .navbar-light .navbar-nav .open > .nav-link{color:rgba(0, 0, 0, 0.9)}.bootstrap .navbar-light .navbar-toggler{border-color:rgba(0, 0, 0, 0.1)}.bootstrap .navbar-light .navbar-toggler-icon{background-image:url(\"data:image/svg+xml;charset=utf8,%3Csvg viewBox='0 0 32 32' xmlns='http://www.w3.org/2000/svg'%3E%3Cpath stroke='rgba(0, 0, 0, 0.5)' stroke-width='2' stroke-linecap='round' stroke-miterlimit='10' d='M4 8h24M4 16h24M4 24h24'/%3E%3C/svg%3E\");'}.bootstrap .navbar-light .navbar-text{color:rgba(0, 0, 0, 0.5)}.bootstrap .navbar-inverse .navbar-brand,.bootstrap .navbar-inverse .navbar-toggler{color:#fff}.bootstrap .navbar-inverse .navbar-brand:focus,.bootstrap .navbar-inverse .navbar-brand:hover,.bootstrap .navbar-inverse .navbar-toggler:focus,.bootstrap .navbar-inverse .navbar-toggler:hover{color:#fff}.bootstrap .navbar-inverse .navbar-nav .nav-link{color:rgba(255, 255, 255, 0.5)}.bootstrap .navbar-inverse .navbar-nav .nav-link:focus,.bootstrap .navbar-inverse .navbar-nav .nav-link:hover{color:rgba(255, 255, 255, 0.75)}.bootstrap .navbar-inverse .navbar-nav .nav-link.disabled{color:rgba(255, 255, 255, 0.25)}.bootstrap .navbar-inverse .navbar-nav .active > .nav-link,.bootstrap .navbar-inverse .navbar-nav .nav-link.active,.bootstrap .navbar-inverse .navbar-nav .nav-link.open,.bootstrap .navbar-inverse .navbar-nav .open > .nav-link{color:#fff}.bootstrap .navbar-inverse .navbar-toggler{border-color:rgba(255, 255, 255, 0.1)}.bootstrap .navbar-inverse .navbar-toggler-icon{background-image:url(\"data:image/svg+xml;charset=utf8,%3Csvg viewBox='0 0 32 32' xmlns='http://www.w3.org/2000/svg'%3E%3Cpath stroke='rgba(255, 255, 255, 0.5)' stroke-width='2' stroke-linecap='round' stroke-miterlimit='10' d='M4 8h24M4 16h24M4 24h24'/%3E%3C/svg%3E\");'}.bootstrap .navbar-inverse .navbar-text{color:rgba(255, 255, 255, 0.5)}.bootstrap .card{position:relative;display:-webkit-box;display:-webkit-flex;display:-ms-flexbox;display:flex;-webkit-box-orient:vertical;-webkit-box-direction:normal;-webkit-flex-direction:column;-ms-flex-direction:column;flex-direction:column;background-color:#fff;border:1px solid rgba(0, 0, 0, 0.125);border-radius:0.25rem}.bootstrap .card-block{-webkit-box-flex:1;-webkit-flex:1 1 auto;-ms-flex:1 1 auto;flex:1 1 auto;padding:1.25rem}.bootstrap .card-title{margin-bottom:0.75rem}.bootstrap .card-subtitle{margin-top:-0.375rem;margin-bottom:0}.bootstrap .card-text:last-child{margin-bottom:0}.bootstrap .card-link:hover{text-decoration:none}.bootstrap .card-link + .card-link{margin-left:1.25rem}.bootstrap .card > .list-group:first-child .list-group-item:first-child{border-top-right-radius:.25rem;border-top-left-radius:0.25rem}.bootstrap .card > .list-group:last-child .list-group-item:last-child{border-bottom-right-radius:.25rem;border-bottom-left-radius:0.25rem}.bootstrap .card-header{padding:.75rem 1.25rem;margin-bottom:0;background-color:#f7f7f9;border-bottom:1px solid rgba(0, 0, 0, 0.125)}.bootstrap .card-header:first-child{border-radius:calc(-0.75rem) calc(-0.75rem) 0 0}.bootstrap .card-footer{padding:.75rem 1.25rem;background-color:#f7f7f9;border-top:1px solid rgba(0, 0, 0, 0.125)}.bootstrap .card-footer:last-child{border-radius:0 0 calc(-0.75rem) calc(-0.75rem)}.bootstrap .card-header-tabs{margin-right:-0.625rem;margin-bottom:-0.75rem;margin-left:-0.625rem;border-bottom:0}.bootstrap .card-header-pills{margin-right:-0.625rem;margin-left:-0.625rem}.bootstrap .card-primary{background-color:#0275d8;border-color:#0275d8}.bootstrap .card-primary .card-footer,.bootstrap .card-primary .card-header{background-color:transparent}.bootstrap .card-success{background-color:#5cb85c;border-color:#5cb85c}.bootstrap .card-success .card-footer,.bootstrap .card-success .card-header{background-color:transparent}.bootstrap .card-info{background-color:#5bc0de;border-color:#5bc0de}.bootstrap .card-info .card-footer,.bootstrap .card-info .card-header{background-color:transparent}.bootstrap .card-warning{background-color:#f0ad4e;border-color:#f0ad4e}.bootstrap .card-warning .card-footer,.bootstrap .card-warning .card-header{background-color:transparent}.bootstrap .card-danger{background-color:#d9534f;border-color:#d9534f}.bootstrap .card-danger .card-footer,.bootstrap .card-danger .card-header{background-color:transparent}.bootstrap .card-outline-primary{background-color:transparent;border-color:#0275d8}.bootstrap .card-outline-secondary{background-color:transparent;border-color:#ccc}.bootstrap .card-outline-info{background-color:transparent;border-color:#5bc0de}.bootstrap .card-outline-success{background-color:transparent;border-color:#5cb85c}.bootstrap .card-outline-warning{background-color:transparent;border-color:#f0ad4e}.bootstrap .card-outline-danger{background-color:transparent;border-color:#d9534f}.bootstrap .card-inverse{color:rgba(255, 255, 255, 0.65)}.bootstrap .card-inverse .card-footer,.bootstrap .card-inverse .card-header{background-color:transparent;border-color:rgba(255, 255, 255, 0.2)}.bootstrap .card-inverse .card-blockquote,.bootstrap .card-inverse .card-footer,.bootstrap .card-inverse .card-header,.bootstrap .card-inverse .card-title{color:#fff}.bootstrap .card-inverse .card-blockquote .blockquote-footer,.bootstrap .card-inverse .card-link,.bootstrap .card-inverse .card-subtitle,.bootstrap .card-inverse .card-text{color:rgba(255, 255, 255, 0.65)}.bootstrap .card-inverse .card-link:focus,.bootstrap .card-inverse .card-link:hover{color:#fff}.bootstrap .card-blockquote{padding:0;margin-bottom:0;border-left:0}.bootstrap .card-img{border-radius:calc(-0.75rem)}.bootstrap .card-img-overlay{position:absolute;top:0;right:0;bottom:0;left:0;padding:1.25rem}.bootstrap .card-img-top{border-top-right-radius:calc(-0.75rem);border-top-left-radius:calc(-0.75rem)}.bootstrap .card-img-bottom{border-bottom-right-radius:calc(-0.75rem);border-bottom-left-radius:calc(-0.75rem)}@media (min-width: 576px){.bootstrap .card-deck{display:-webkit-box;display:-webkit-flex;display:-ms-flexbox;display:flex;-webkit-flex-flow:row wrap;-ms-flex-flow:row wrap;flex-flow:row wrap}.bootstrap .card-deck .card{display:-webkit-box;display:-webkit-flex;display:-ms-flexbox;display:flex;-webkit-box-flex:1;-webkit-flex:1 0 0%;-ms-flex:1 0 0%;flex:1 0 0%;-webkit-box-orient:vertical;-webkit-box-direction:normal;-webkit-flex-direction:column;-ms-flex-direction:column;flex-direction:column}.bootstrap .card-deck .card:not(:first-child){margin-left:15px}.bootstrap .card-deck .card:not(:last-child){margin-right:15px}}@media (min-width: 576px){.bootstrap .card-group{display:-webkit-box;display:-webkit-flex;display:-ms-flexbox;display:flex;-webkit-flex-flow:row wrap;-ms-flex-flow:row wrap;flex-flow:row wrap}.bootstrap .card-group .card{-webkit-box-flex:1;-webkit-flex:1 0 0%;-ms-flex:1 0 0%;flex:1 0 0%}.bootstrap .card-group .card + .card{margin-left:0;border-left:0}.bootstrap .card-group .card:first-child{border-bottom-right-radius:0;border-top-right-radius:0}.bootstrap .card-group .card:first-child .card-img-top{border-top-right-radius:0}.bootstrap .card-group .card:first-child .card-img-bottom{border-bottom-right-radius:0}.bootstrap .card-group .card:last-child{border-bottom-left-radius:0;border-top-left-radius:0}.bootstrap .card-group .card:last-child .card-img-top{border-top-left-radius:0}.bootstrap .card-group .card:last-child .card-img-bottom{border-bottom-left-radius:0}.bootstrap .card-group .card:not(:first-child):not(:last-child){border-radius:0}.bootstrap .card-group .card:not(:first-child):not(:last-child) .card-img-bottom,.bootstrap .card-group .card:not(:first-child):not(:last-child) .card-img-top{border-radius:0}}@media (min-width: 576px){.bootstrap .card-columns{-webkit-column-count:3;-moz-column-count:3;column-count:3;-webkit-column-gap:1.25rem;-moz-column-gap:1.25rem;column-gap:1.25rem}.bootstrap .card-columns .card{display:inline-block;width:100%;margin-bottom:0.75rem}}.bootstrap .breadcrumb{padding:.75rem 1rem;margin-bottom:1rem;list-style:none;background-color:#eceeef;border-radius:0.25rem}.bootstrap .breadcrumb::after{display:block;content:\"\";clear:both}.bootstrap .breadcrumb-item{float:left}.bootstrap .breadcrumb-item + .breadcrumb-item::before{display:inline-block;padding-right:.5rem;padding-left:.5rem;color:#636c72;content:\"/\"}.bootstrap .breadcrumb-item + .breadcrumb-item:hover::before{text-decoration:underline}.bootstrap .breadcrumb-item + .breadcrumb-item:hover::before{text-decoration:none}.bootstrap .breadcrumb-item.active{color:#636c72}.bootstrap .pagination{display:-webkit-box;display:-webkit-flex;display:-ms-flexbox;display:flex;padding-left:0;list-style:none;border-radius:0.25rem}.bootstrap .page-item:first-child .page-link{margin-left:0;border-bottom-left-radius:.25rem;border-top-left-radius:0.25rem}.bootstrap .page-item:last-child .page-link{border-bottom-right-radius:.25rem;border-top-right-radius:0.25rem}.bootstrap .page-item.active .page-link{z-index:2;color:#fff;background-color:#0275d8;border-color:#0275d8}.bootstrap .page-item.disabled .page-link{color:#636c72;pointer-events:none;cursor:not-allowed;background-color:#fff;border-color:#ddd}.bootstrap .page-link{position:relative;display:block;padding:.5rem .75rem;margin-left:-1px;line-height:1.25;color:#0275d8;background-color:#fff;border:1px solid #ddd}.bootstrap .page-link:focus,.bootstrap .page-link:hover{color:#014c8c;text-decoration:none;background-color:#eceeef;border-color:#ddd}.bootstrap .pagination-lg .page-link{padding:.75rem 1.5rem;font-size:1.25rem}.bootstrap .pagination-lg .page-item:first-child .page-link{border-bottom-left-radius:.3rem;border-top-left-radius:0.3rem}.bootstrap .pagination-lg .page-item:last-child .page-link{border-bottom-right-radius:.3rem;border-top-right-radius:0.3rem}.bootstrap .pagination-sm .page-link{padding:.25rem .5rem;font-size:0.875rem}.bootstrap .pagination-sm .page-item:first-child .page-link{border-bottom-left-radius:.2rem;border-top-left-radius:0.2rem}.bootstrap .pagination-sm .page-item:last-child .page-link{border-bottom-right-radius:.2rem;border-top-right-radius:0.2rem}.bootstrap .badge{display:inline-block;padding:.25em .4em;font-size:75%;font-weight:700;line-height:1;color:#fff;text-align:center;white-space:nowrap;vertical-align:baseline;border-radius:0.25rem}.bootstrap .badge:empty{display:none}.bootstrap .btn .badge{position:relative;top:-1px}.bootstrap a.badge:focus,.bootstrap a.badge:hover{color:#fff;text-decoration:none;cursor:pointer}.bootstrap .badge-pill{padding-right:.6em;padding-left:.6em;border-radius:10rem}.bootstrap .badge-default{background-color:#636c72}.bootstrap .badge-default[href]:focus,.bootstrap .badge-default[href]:hover{background-color:#4b5257}.bootstrap .badge-primary{background-color:#0275d8}.bootstrap .badge-primary[href]:focus,.bootstrap .badge-primary[href]:hover{background-color:#025aa5}.bootstrap .badge-success{background-color:#5cb85c}.bootstrap .badge-success[href]:focus,.bootstrap .badge-success[href]:hover{background-color:#449d44}.bootstrap .badge-info{background-color:#5bc0de}.bootstrap .badge-info[href]:focus,.bootstrap .badge-info[href]:hover{background-color:#31b0d5}.bootstrap .badge-warning{background-color:#f0ad4e}.bootstrap .badge-warning[href]:focus,.bootstrap .badge-warning[href]:hover{background-color:#ec971f}.bootstrap .badge-danger{background-color:#d9534f}.bootstrap .badge-danger[href]:focus,.bootstrap .badge-danger[href]:hover{background-color:#c9302c}.bootstrap .jumbotron{padding:2rem 1rem;margin-bottom:2rem;background-color:#eceeef;border-radius:0.3rem}@media (min-width: 576px){.bootstrap .jumbotron{padding:4rem 2rem}}.bootstrap .jumbotron-hr{border-top-color:#d0d5d8}.bootstrap .jumbotron-fluid{padding-right:0;padding-left:0;border-radius:0}.bootstrap .alert{padding:.75rem 1.25rem;margin-bottom:1rem;border:1px solid transparent;border-radius:0.25rem}.bootstrap .alert-heading{color:inherit}.bootstrap .alert-link{font-weight:700}.bootstrap .alert-dismissible .close{position:relative;top:-0.75rem;right:-1.25rem;padding:.75rem 1.25rem;color:inherit}.bootstrap .alert-success{background-color:#dff0d8;border-color:#d0e9c6;color:#3c763d}.bootstrap .alert-success hr{border-top-color:#c1e2b3}.bootstrap .alert-success .alert-link{color:#2b542c}.bootstrap .alert-info{background-color:#d9edf7;border-color:#bcdff1;color:#31708f}.bootstrap .alert-info hr{border-top-color:#a6d5ec}.bootstrap .alert-info .alert-link{color:#245269}.bootstrap .alert-warning{background-color:#fcf8e3;border-color:#faf2cc;color:#8a6d3b}.bootstrap .alert-warning hr{border-top-color:#f7ecb5}.bootstrap .alert-warning .alert-link{color:#66512c}.bootstrap .alert-danger{background-color:#f2dede;border-color:#ebcccc;color:#a94442}.bootstrap .alert-danger hr{border-top-color:#e4b9b9}.bootstrap .alert-danger .alert-link{color:#843534}@-webkit-keyframes \"progress-bar-stripes\"{from{background-position:1rem 0;}to{background-position:0 0;}}@-o-keyframes progress-bar-stripes{from { background-position:1rem 0}to{background-position:0 0}@keyframes \"progress-bar-stripes\"{from{background-position:1rem 0;}to{background-position:0 0;}}.bootstrap .progress{display:-webkit-box;display:-webkit-flex;display:-ms-flexbox;display:flex;overflow:hidden;font-size:.75rem;line-height:1rem;text-align:center;background-color:#eceeef;border-radius:0.25rem}.bootstrap .progress-bar{height:1rem;color:#fff;background-color:#0275d8}.bootstrap .progress-bar-striped{background-image:-webkit-linear-gradient(45deg, rgba(255, 255, 255, 0.15) 25%, transparent 25%, transparent 50%, rgba(255, 255, 255, 0.15) 50%, rgba(255, 255, 255, 0.15) 75%, transparent 75%, transparent);background-image:-o-linear-gradient(45deg, rgba(255, 255, 255, 0.15) 25%, transparent 25%, transparent 50%, rgba(255, 255, 255, 0.15) 50%, rgba(255, 255, 255, 0.15) 75%, transparent 75%, transparent);background-image:linear-gradient(45deg, rgba(255, 255, 255, 0.15) 25%, transparent 25%, transparent 50%, rgba(255, 255, 255, 0.15) 50%, rgba(255, 255, 255, 0.15) 75%, transparent 75%, transparent);-webkit-background-size:1rem 1rem;background-size:1rem 1rem}.bootstrap .progress-bar-animated{-webkit-animation:progress-bar-stripes 1s linear infinite;-o-animation:progress-bar-stripes 1s linear infinite;animation:progress-bar-stripes 1s linear infinite}.bootstrap .media{display:-webkit-box;display:-webkit-flex;display:-ms-flexbox;display:flex;-webkit-box-align:start;-webkit-align-items:flex-start;-ms-flex-align:start;align-items:flex-start}.bootstrap .media-body{-webkit-box-flex:1;-webkit-flex:1 1 0%;-ms-flex:1 1 0%;flex:1 1 0%}.bootstrap .list-group{display:-webkit-box;display:-webkit-flex;display:-ms-flexbox;display:flex;-webkit-box-orient:vertical;-webkit-box-direction:normal;-webkit-flex-direction:column;-ms-flex-direction:column;flex-direction:column;padding-left:0;margin-bottom:0}.bootstrap .list-group-item-action{width:100%;color:#464a4c;text-align:inherit}.bootstrap .list-group-item-action .list-group-item-heading{color:#292b2c}.bootstrap .list-group-item-action:focus,.bootstrap .list-group-item-action:hover{color:#464a4c;text-decoration:none;background-color:#f7f7f9}.bootstrap .list-group-item-action:active{color:#292b2c;background-color:#eceeef}.bootstrap .list-group-item{position:relative;display:-webkit-box;display:-webkit-flex;display:-ms-flexbox;display:flex;-webkit-flex-flow:row wrap;-ms-flex-flow:row wrap;flex-flow:row wrap;-webkit-box-align:center;-webkit-align-items:center;-ms-flex-align:center;align-items:center;padding:.75rem 1.25rem;margin-bottom:-1px;background-color:#fff;border:1px solid rgba(0, 0, 0, 0.125)}.bootstrap .list-group-item:first-child{border-top-right-radius:.25rem;border-top-left-radius:0.25rem}.bootstrap .list-group-item:last-child{margin-bottom:0;border-bottom-right-radius:.25rem;border-bottom-left-radius:0.25rem}.bootstrap .list-group-item:focus,.bootstrap .list-group-item:hover{text-decoration:none}.bootstrap .list-group-item.disabled,.bootstrap .list-group-item:disabled{color:#636c72;cursor:not-allowed;background-color:#fff}.bootstrap .list-group-item.disabled .list-group-item-heading,.bootstrap .list-group-item:disabled .list-group-item-heading{color:inherit}.bootstrap .list-group-item.disabled .list-group-item-text,.bootstrap .list-group-item:disabled .list-group-item-text{color:#636c72}.bootstrap .list-group-item.active{z-index:2;color:#fff;background-color:#0275d8;border-color:#0275d8}.bootstrap .list-group-item.active .list-group-item-heading,.bootstrap .list-group-item.active .list-group-item-heading > .small,.bootstrap .list-group-item.active .list-group-item-heading > small{color:inherit}.bootstrap .list-group-item.active .list-group-item-text{color:#daeeff}.bootstrap .list-group-flush .list-group-item{border-right:0;border-left:0;border-radius:0}.bootstrap .list-group-flush:first-child .list-group-item:first-child{border-top:0}.bootstrap .list-group-flush:last-child .list-group-item:last-child{border-bottom:0}.bootstrap .list-group-item-success{color:#3c763d;background-color:#dff0d8}.bootstrap a.list-group-item-success,.bootstrap button.list-group-item-success{color:#3c763d}.bootstrap a.list-group-item-success .list-group-item-heading,.bootstrap button.list-group-item-success .list-group-item-heading{color:inherit}.bootstrap a.list-group-item-success:focus,.bootstrap a.list-group-item-success:hover,.bootstrap button.list-group-item-success:focus,.bootstrap button.list-group-item-success:hover{color:#3c763d;background-color:#d0e9c6}.bootstrap a.list-group-item-success.active,.bootstrap button.list-group-item-success.active{color:#fff;background-color:#3c763d;border-color:#3c763d}.bootstrap .list-group-item-info{color:#31708f;background-color:#d9edf7}.bootstrap a.list-group-item-info,.bootstrap button.list-group-item-info{color:#31708f}.bootstrap a.list-group-item-info .list-group-item-heading,.bootstrap button.list-group-item-info .list-group-item-heading{color:inherit}.bootstrap a.list-group-item-info:focus,.bootstrap a.list-group-item-info:hover,.bootstrap button.list-group-item-info:focus,.bootstrap button.list-group-item-info:hover{color:#31708f;background-color:#c4e3f3}.bootstrap a.list-group-item-info.active,.bootstrap button.list-group-item-info.active{color:#fff;background-color:#31708f;border-color:#31708f}.bootstrap .list-group-item-warning{color:#8a6d3b;background-color:#fcf8e3}.bootstrap a.list-group-item-warning,.bootstrap button.list-group-item-warning{color:#8a6d3b}.bootstrap a.list-group-item-warning .list-group-item-heading,.bootstrap button.list-group-item-warning .list-group-item-heading{color:inherit}.bootstrap a.list-group-item-warning:focus,.bootstrap a.list-group-item-warning:hover,.bootstrap button.list-group-item-warning:focus,.bootstrap button.list-group-item-warning:hover{color:#8a6d3b;background-color:#faf2cc}.bootstrap a.list-group-item-warning.active,.bootstrap button.list-group-item-warning.active{color:#fff;background-color:#8a6d3b;border-color:#8a6d3b}.bootstrap .list-group-item-danger{color:#a94442;background-color:#f2dede}.bootstrap a.list-group-item-danger,.bootstrap button.list-group-item-danger{color:#a94442}.bootstrap a.list-group-item-danger .list-group-item-heading,.bootstrap button.list-group-item-danger .list-group-item-heading{color:inherit}.bootstrap a.list-group-item-danger:focus,.bootstrap a.list-group-item-danger:hover,.bootstrap button.list-group-item-danger:focus,.bootstrap button.list-group-item-danger:hover{color:#a94442;background-color:#ebcccc}.bootstrap a.list-group-item-danger.active,.bootstrap button.list-group-item-danger.active{color:#fff;background-color:#a94442;border-color:#a94442}.bootstrap .embed-responsive{position:relative;display:block;width:100%;padding:0;overflow:hidden}.bootstrap .embed-responsive::before{display:block;content:\"\"}.bootstrap .embed-responsive .embed-responsive-item,.bootstrap .embed-responsive embed,.bootstrap .embed-responsive iframe,.bootstrap .embed-responsive object,.bootstrap .embed-responsive video{position:absolute;top:0;bottom:0;left:0;width:100%;height:100%;border:0}.bootstrap .embed-responsive-21by9::before{padding-top:42.857143%}.bootstrap .embed-responsive-16by9::before{padding-top:56.25%}.bootstrap .embed-responsive-4by3::before{padding-top:75%}.bootstrap .embed-responsive-1by1::before{padding-top:100%}.bootstrap .close{float:right;font-size:1.5rem;font-weight:700;line-height:1;color:#000;text-shadow:0 1px 0 #fff;opacity:0.5}.bootstrap .close:focus,.bootstrap .close:hover{color:#000;text-decoration:none;cursor:pointer;opacity:0.75}.bootstrap button.close{padding:0;cursor:pointer;background:0 0;border:0;-webkit-appearance:none}.bootstrap .modal-open{overflow:hidden}.bootstrap .modal{position:fixed;top:0;right:0;bottom:0;left:0;z-index:1050;display:none;overflow:hidden;outline:0}.bootstrap .modal.fade .modal-dialog{-webkit-transition:-webkit-transform 0.3s ease-out;transition:-webkit-transform 0.3s ease-out;-o-transition:-o-transform 0.3s ease-out;transition:transform 0.3s ease-out;transition:transform 0.3s ease-out, -webkit-transform 0.3s ease-out, -o-transform 0.3s ease-out;-webkit-transform:translate(0, -25%);-o-transform:translate(0, -25%);transform:translate(0, -25%)}.bootstrap .modal.show .modal-dialog{-webkit-transform:translate(0, 0);-o-transform:translate(0, 0);transform:translate(0, 0)}.bootstrap .modal-open .modal{overflow-x:hidden;overflow-y:auto}.bootstrap .modal-dialog{position:relative;width:auto;margin:10px}.bootstrap .modal-content{position:relative;display:-webkit-box;display:-webkit-flex;display:-ms-flexbox;display:flex;-webkit-box-orient:vertical;-webkit-box-direction:normal;-webkit-flex-direction:column;-ms-flex-direction:column;flex-direction:column;background-color:#fff;-webkit-background-clip:padding-box;background-clip:padding-box;border:1px solid rgba(0, 0, 0, 0.2);border-radius:.3rem;outline:0}.bootstrap .modal-backdrop{position:fixed;top:0;right:0;bottom:0;left:0;z-index:1040;background-color:#000}.bootstrap .modal-backdrop.fade{opacity:0}.bootstrap .modal-backdrop.show{opacity:0.5}.bootstrap .modal-header{display:-webkit-box;display:-webkit-flex;display:-ms-flexbox;display:flex;-webkit-box-align:center;-webkit-align-items:center;-ms-flex-align:center;align-items:center;-webkit-box-pack:justify;-webkit-justify-content:space-between;-ms-flex-pack:justify;justify-content:space-between;padding:15px;border-bottom:1px solid #eceeef}.bootstrap .modal-title{margin-bottom:0;line-height:1.5}.bootstrap .modal-body{position:relative;-webkit-box-flex:1;-webkit-flex:1 1 auto;-ms-flex:1 1 auto;flex:1 1 auto;padding:15px}.bootstrap .modal-footer{display:-webkit-box;display:-webkit-flex;display:-ms-flexbox;display:flex;-webkit-box-align:center;-webkit-align-items:center;-ms-flex-align:center;align-items:center;-webkit-box-pack:end;-webkit-justify-content:flex-end;-ms-flex-pack:end;justify-content:flex-end;padding:15px;border-top:1px solid #eceeef}.bootstrap .modal-footer > :not(:first-child){margin-left:0.25rem}.bootstrap .modal-footer > :not(:last-child){margin-right:0.25rem}.bootstrap .modal-scrollbar-measure{position:absolute;top:-9999px;width:50px;height:50px;overflow:scroll}@media (min-width: 576px){.bootstrap .modal-dialog{max-width:500px;margin:30px auto}.bootstrap .modal-sm{max-width:300px}}@media (min-width: 992px){.bootstrap .modal-lg{max-width:800px}}.bootstrap .tooltip{position:absolute;z-index:1070;display:block;font-family:-apple-system, system-ui, BlinkMacSystemFont, \"Segoe UI\", Roboto, \"Helvetica Neue\", Arial, sans-serif;font-style:normal;font-weight:400;letter-spacing:normal;line-break:auto;line-height:1.5;text-align:left;text-align:start;text-decoration:none;text-shadow:none;text-transform:none;white-space:normal;word-break:normal;word-spacing:normal;font-size:.875rem;word-wrap:break-word;opacity:0}.bootstrap .tooltip.show{opacity:0.9}.bootstrap .tooltip.bs-tether-element-attached-bottom,.bootstrap .tooltip.tooltip-top{padding:5px 0;margin-top:-3px}.bootstrap .tooltip.bs-tether-element-attached-bottom .tooltip-inner::before,.bootstrap .tooltip.tooltip-top .tooltip-inner::before{bottom:0;left:50%;margin-left:-5px;content:\"\";border-width:5px 5px 0;border-top-color:#000}.bootstrap .tooltip.bs-tether-element-attached-left,.bootstrap .tooltip.tooltip-right{padding:0 5px;margin-left:3px}.bootstrap .tooltip.bs-tether-element-attached-left .tooltip-inner::before,.bootstrap .tooltip.tooltip-right .tooltip-inner::before{top:50%;left:0;margin-top:-5px;content:\"\";border-width:5px 5px 5px 0;border-right-color:#000}.bootstrap .tooltip.bs-tether-element-attached-top,.bootstrap .tooltip.tooltip-bottom{padding:5px 0;margin-top:3px}.bootstrap .tooltip.bs-tether-element-attached-top .tooltip-inner::before,.bootstrap .tooltip.tooltip-bottom .tooltip-inner::before{top:0;left:50%;margin-left:-5px;content:\"\";border-width:0 5px 5px;border-bottom-color:#000}.bootstrap .tooltip.bs-tether-element-attached-right,.bootstrap .tooltip.tooltip-left{padding:0 5px;margin-left:-3px}.bootstrap .tooltip.bs-tether-element-attached-right .tooltip-inner::before,.bootstrap .tooltip.tooltip-left .tooltip-inner::before{top:50%;right:0;margin-top:-5px;content:\"\";border-width:5px 0 5px 5px;border-left-color:#000}.bootstrap .tooltip-inner{max-width:200px;padding:3px 8px;color:#fff;text-align:center;background-color:#000;border-radius:0.25rem}.bootstrap .tooltip-inner::before{position:absolute;width:0;height:0;border-color:transparent;border-style:solid}.bootstrap .popover{position:absolute;top:0;left:0;z-index:1060;display:block;max-width:276px;padding:1px;font-family:-apple-system, system-ui, BlinkMacSystemFont, \"Segoe UI\", Roboto, \"Helvetica Neue\", Arial, sans-serif;font-style:normal;font-weight:400;letter-spacing:normal;line-break:auto;line-height:1.5;text-align:left;text-align:start;text-decoration:none;text-shadow:none;text-transform:none;white-space:normal;word-break:normal;word-spacing:normal;font-size:.875rem;word-wrap:break-word;background-color:#fff;-webkit-background-clip:padding-box;background-clip:padding-box;border:1px solid rgba(0, 0, 0, 0.2);border-radius:0.3rem}.bootstrap .popover.bs-tether-element-attached-bottom,.bootstrap .popover.popover-top{margin-top:-10px}.bootstrap .popover.bs-tether-element-attached-bottom::after,.bootstrap .popover.bs-tether-element-attached-bottom::before,.bootstrap .popover.popover-top::after,.bootstrap .popover.popover-top::before{left:50%;border-bottom-width:0}.bootstrap .popover.bs-tether-element-attached-bottom::before,.bootstrap .popover.popover-top::before{bottom:-11px;margin-left:-11px;border-top-color:rgba(0, 0, 0, 0.25)}.bootstrap .popover.bs-tether-element-attached-bottom::after,.bootstrap .popover.popover-top::after{bottom:-10px;margin-left:-10px;border-top-color:#fff}.bootstrap .popover.bs-tether-element-attached-left,.bootstrap .popover.popover-right{margin-left:10px}.bootstrap .popover.bs-tether-element-attached-left::after,.bootstrap .popover.bs-tether-element-attached-left::before,.bootstrap .popover.popover-right::after,.bootstrap .popover.popover-right::before{top:50%;border-left-width:0}.bootstrap .popover.bs-tether-element-attached-left::before,.bootstrap .popover.popover-right::before{left:-11px;margin-top:-11px;border-right-color:rgba(0, 0, 0, 0.25)}.bootstrap .popover.bs-tether-element-attached-left::after,.bootstrap .popover.popover-right::after{left:-10px;margin-top:-10px;border-right-color:#fff}.bootstrap .popover.bs-tether-element-attached-top,.bootstrap .popover.popover-bottom{margin-top:10px}.bootstrap .popover.bs-tether-element-attached-top::after,.bootstrap .popover.bs-tether-element-attached-top::before,.bootstrap .popover.popover-bottom::after,.bootstrap .popover.popover-bottom::before{left:50%;border-top-width:0}.bootstrap .popover.bs-tether-element-attached-top::before,.bootstrap .popover.popover-bottom::before{top:-11px;margin-left:-11px;border-bottom-color:rgba(0, 0, 0, 0.25)}.bootstrap .popover.bs-tether-element-attached-top::after,.bootstrap .popover.popover-bottom::after{top:-10px;margin-left:-10px;border-bottom-color:#f7f7f7}.bootstrap .popover.bs-tether-element-attached-top .popover-title::before,.bootstrap .popover.popover-bottom .popover-title::before{position:absolute;top:0;left:50%;display:block;width:20px;margin-left:-10px;content:\"\";border-bottom:1px solid #f7f7f7}.bootstrap .popover.bs-tether-element-attached-right,.bootstrap .popover.popover-left{margin-left:-10px}.bootstrap .popover.bs-tether-element-attached-right::after,.bootstrap .popover.bs-tether-element-attached-right::before,.bootstrap .popover.popover-left::after,.bootstrap .popover.popover-left::before{top:50%;border-right-width:0}.bootstrap .popover.bs-tether-element-attached-right::before,.bootstrap .popover.popover-left::before{right:-11px;margin-top:-11px;border-left-color:rgba(0, 0, 0, 0.25)}.bootstrap .popover.bs-tether-element-attached-right::after,.bootstrap .popover.popover-left::after{right:-10px;margin-top:-10px;border-left-color:#fff}.bootstrap .popover-title{padding:8px 14px;margin-bottom:0;font-size:1rem;background-color:#f7f7f7;border-bottom:1px solid #ebebeb;border-top-right-radius:calc(-0.7rem);border-top-left-radius:calc(-0.7rem)}.bootstrap .popover-title:empty{display:none}.bootstrap .popover-content{padding:9px 14px}.bootstrap .popover::after,.bootstrap .popover::before{position:absolute;display:block;width:0;height:0;border-color:transparent;border-style:solid}.bootstrap .popover::before{content:\"\";border-width:11px}.bootstrap .popover::after{content:\"\";border-width:10px}.bootstrap .carousel{position:relative}.bootstrap .carousel-inner{position:relative;width:100%;overflow:hidden}.bootstrap .carousel-item{position:relative;display:none;width:100%}@media (-webkit-transform-3d){.bootstrap .carousel-item{-webkit-transition:-webkit-transform 0.6s ease-in-out;transition:-webkit-transform 0.6s ease-in-out;-o-transition:-o-transform 0.6s ease-in-out;transition:transform 0.6s ease-in-out;transition:transform 0.6s ease-in-out, -webkit-transform 0.6s ease-in-out, -o-transform 0.6s ease-in-out;-webkit-backface-visibility:hidden;backface-visibility:hidden;-webkit-perspective:1000px;perspective:1000px}}@supports ((-webkit-transform:translate3d(0,0,0)) or (transform:translate3d(0,0,0))){.bootstrap .carousel-item { -webkit-transition:-webkit-transform 0.6s ease-in-out;transition:-webkit-transform 0.6s ease-in-out;-o-transition:-o-transform 0.6s ease-in-out;transition:transform 0.6s ease-in-out;transition:transform 0.6s ease-in-out, -webkit-transform 0.6s ease-in-out, -o-transform 0.6s ease-in-out;-webkit-backface-visibility:hidden;backface-visibility:hidden;-webkit-perspective:1000px;perspective:1000px}} .bootstrap .carousel-item-next,.bootstrap .carousel-item-prev,.bootstrap .carousel-item.active{display:-webkit-box;display:-webkit-flex;display:-ms-flexbox;display:flex}.bootstrap .carousel-item-next,.bootstrap .carousel-item-prev{position:absolute;top:0}@media (-webkit-transform-3d){.bootstrap .carousel-item-next.carousel-item-left,.bootstrap .carousel-item-prev.carousel-item-right{-webkit-transform:translate3d(0, 0, 0);transform:translate3d(0, 0, 0)}.bootstrap .active.carousel-item-right,.bootstrap .carousel-item-next{-webkit-transform:translate3d(100%, 0, 0);transform:translate3d(100%, 0, 0)}.bootstrap .active.carousel-item-left,.bootstrap .carousel-item-prev{-webkit-transform:translate3d(-100%, 0, 0);transform:translate3d(-100%, 0, 0)}}@supports ((-webkit-transform:translate3d(0,0,0)) or (transform:translate3d(0,0,0))){.bootstrap .carousel-item-next.carousel-item-left, .bootstrap .carousel-item-prev.carousel-item-right { -webkit-transform:translate3d(0, 0, 0);transform:translate3d(0, 0, 0)}.bootstrap .active.carousel-item-right,.bootstrap .carousel-item-next{-webkit-transform:translate3d(100%, 0, 0);transform:translate3d(100%, 0, 0)}.bootstrap .active.carousel-item-left,.bootstrap .carousel-item-prev{-webkit-transform:translate3d(-100%, 0, 0);transform:translate3d(-100%, 0, 0)}} .bootstrap .carousel-control-next,.bootstrap .carousel-control-prev{position:absolute;top:0;bottom:0;display:-webkit-box;display:-webkit-flex;display:-ms-flexbox;display:flex;-webkit-box-align:center;-webkit-align-items:center;-ms-flex-align:center;align-items:center;-webkit-box-pack:center;-webkit-justify-content:center;-ms-flex-pack:center;justify-content:center;width:15%;color:#fff;text-align:center;opacity:0.5}.bootstrap .carousel-control-next:focus,.bootstrap .carousel-control-next:hover,.bootstrap .carousel-control-prev:focus,.bootstrap .carousel-control-prev:hover{color:#fff;text-decoration:none;outline:0;opacity:0.9}.bootstrap .carousel-control-prev{left:0}.bootstrap .carousel-control-next{right:0}.bootstrap .carousel-control-next-icon,.bootstrap .carousel-control-prev-icon{display:inline-block;width:20px;height:20px;background:transparent no-repeat center center;-webkit-background-size:100% 100%;background-size:100% 100%}.bootstrap .carousel-control-prev-icon{background-image:url(\"data:image/svg+xml;charset=utf8,%3Csvg xmlns='http://www.w3.org/2000/svg' fill='%23fff' viewBox='0 0 8 8'%3E%3Cpath d='M4 0l-4 4 4 4 1.5-1.5-2.5-2.5 2.5-2.5-1.5-1.5z'/%3E%3C/svg%3E\")}.bootstrap .carousel-control-next-icon{background-image:url(\"data:image/svg+xml;charset=utf8,%3Csvg xmlns='http://www.w3.org/2000/svg' fill='%23fff' viewBox='0 0 8 8'%3E%3Cpath d='M1.5 0l-1.5 1.5 2.5 2.5-2.5 2.5 1.5 1.5 4-4-4-4z'/%3E%3C/svg%3E\")}.bootstrap .carousel-indicators{position:absolute;right:0;bottom:10px;left:0;z-index:15;display:-webkit-box;display:-webkit-flex;display:-ms-flexbox;display:flex;-webkit-box-pack:center;-webkit-justify-content:center;-ms-flex-pack:center;justify-content:center;padding-left:0;margin-right:15%;margin-left:15%;list-style:none}.bootstrap .carousel-indicators li{position:relative;-webkit-box-flex:1;-webkit-flex:1 0 auto;-ms-flex:1 0 auto;flex:1 0 auto;max-width:30px;height:3px;margin-right:3px;margin-left:3px;text-indent:-999px;cursor:pointer;background-color:rgba(255, 255, 255, 0.5)}.bootstrap .carousel-indicators li::before{position:absolute;top:-10px;left:0;display:inline-block;width:100%;height:10px;content:\"\"}.bootstrap .carousel-indicators li::after{position:absolute;bottom:-10px;left:0;display:inline-block;width:100%;height:10px;content:\"\"}.bootstrap .carousel-indicators .active{background-color:#fff}.bootstrap .carousel-caption{position:absolute;right:15%;bottom:20px;left:15%;z-index:10;padding-top:20px;padding-bottom:20px;color:#fff;text-align:center}.bootstrap .align-baseline{vertical-align:baseline !important}.bootstrap .align-top{vertical-align:top !important}.bootstrap .align-middle{vertical-align:middle !important}.bootstrap .align-bottom{vertical-align:bottom !important}.bootstrap .align-text-bottom{vertical-align:text-bottom !important}.bootstrap .align-text-top{vertical-align:text-top !important}.bootstrap .bg-faded{background-color:#f7f7f7}.bootstrap .bg-primary{background-color:#0275d8 !important}.bootstrap a.bg-primary:focus,.bootstrap a.bg-primary:hover{background-color:#025aa5 !important}.bootstrap .bg-success{background-color:#5cb85c !important}.bootstrap a.bg-success:focus,.bootstrap a.bg-success:hover{background-color:#449d44 !important}.bootstrap .bg-info{background-color:#5bc0de !important}.bootstrap a.bg-info:focus,.bootstrap a.bg-info:hover{background-color:#31b0d5 !important}.bootstrap .bg-warning{background-color:#f0ad4e !important}.bootstrap a.bg-warning:focus,.bootstrap a.bg-warning:hover{background-color:#ec971f !important}.bootstrap .bg-danger{background-color:#d9534f !important}.bootstrap a.bg-danger:focus,.bootstrap a.bg-danger:hover{background-color:#c9302c !important}.bootstrap .bg-inverse{background-color:#292b2c !important}.bootstrap a.bg-inverse:focus,.bootstrap a.bg-inverse:hover{background-color:#101112 !important}.bootstrap .border-0{border:0 !important}.bootstrap .border-top-0{border-top:0 !important}.bootstrap .border-right-0{border-right:0 !important}.bootstrap .border-bottom-0{border-bottom:0 !important}.bootstrap .border-left-0{border-left:0 !important}.bootstrap .rounded{border-radius:0.25rem}.bootstrap .rounded-top{border-top-right-radius:.25rem;border-top-left-radius:0.25rem}.bootstrap .rounded-right{border-bottom-right-radius:.25rem;border-top-right-radius:0.25rem}.bootstrap .rounded-bottom{border-bottom-right-radius:.25rem;border-bottom-left-radius:0.25rem}.bootstrap .rounded-left{border-bottom-left-radius:.25rem;border-top-left-radius:0.25rem}.bootstrap .rounded-circle{border-radius:50%}.bootstrap .rounded-0{border-radius:0}.bootstrap .clearfix::after{display:block;content:\"\";clear:both}.bootstrap .d-none{display:none !important}.bootstrap .d-inline{display:inline !important}.bootstrap .d-inline-block{display:inline-block !important}.bootstrap .d-block{display:block !important}.bootstrap .d-table{display:table !important}.bootstrap .d-table-cell{display:table-cell !important}.bootstrap .d-flex{display:-webkit-box !important;display:-webkit-flex !important;display:-ms-flexbox !important;display:flex !important}.bootstrap .d-inline-flex{display:-webkit-inline-box !important;display:-webkit-inline-flex !important;display:-ms-inline-flexbox !important;display:inline-flex !important}@media (min-width: 576px){.bootstrap .d-sm-none{display:none !important}.bootstrap .d-sm-inline{display:inline !important}.bootstrap .d-sm-inline-block{display:inline-block !important}.bootstrap .d-sm-block{display:block !important}.bootstrap .d-sm-table{display:table !important}.bootstrap .d-sm-table-cell{display:table-cell !important}.bootstrap .d-sm-flex{display:-webkit-box !important;display:-webkit-flex !important;display:-ms-flexbox !important;display:flex !important}.bootstrap .d-sm-inline-flex{display:-webkit-inline-box !important;display:-webkit-inline-flex !important;display:-ms-inline-flexbox !important;display:inline-flex !important}}@media (min-width: 768px){.bootstrap .d-md-none{display:none !important}.bootstrap .d-md-inline{display:inline !important}.bootstrap .d-md-inline-block{display:inline-block !important}.bootstrap .d-md-block{display:block !important}.bootstrap .d-md-table{display:table !important}.bootstrap .d-md-table-cell{display:table-cell !important}.bootstrap .d-md-flex{display:-webkit-box !important;display:-webkit-flex !important;display:-ms-flexbox !important;display:flex !important}.bootstrap .d-md-inline-flex{display:-webkit-inline-box !important;display:-webkit-inline-flex !important;display:-ms-inline-flexbox !important;display:inline-flex !important}}@media (min-width: 992px){.bootstrap .d-lg-none{display:none !important}.bootstrap .d-lg-inline{display:inline !important}.bootstrap .d-lg-inline-block{display:inline-block !important}.bootstrap .d-lg-block{display:block !important}.bootstrap .d-lg-table{display:table !important}.bootstrap .d-lg-table-cell{display:table-cell !important}.bootstrap .d-lg-flex{display:-webkit-box !important;display:-webkit-flex !important;display:-ms-flexbox !important;display:flex !important}.bootstrap .d-lg-inline-flex{display:-webkit-inline-box !important;display:-webkit-inline-flex !important;display:-ms-inline-flexbox !important;display:inline-flex !important}}@media (min-width: 1200px){.bootstrap .d-xl-none{display:none !important}.bootstrap .d-xl-inline{display:inline !important}.bootstrap .d-xl-inline-block{display:inline-block !important}.bootstrap .d-xl-block{display:block !important}.bootstrap .d-xl-table{display:table !important}.bootstrap .d-xl-table-cell{display:table-cell !important}.bootstrap .d-xl-flex{display:-webkit-box !important;display:-webkit-flex !important;display:-ms-flexbox !important;display:flex !important}.bootstrap .d-xl-inline-flex{display:-webkit-inline-box !important;display:-webkit-inline-flex !important;display:-ms-inline-flexbox !important;display:inline-flex !important}}.bootstrap .flex-first{-webkit-box-ordinal-group:0;-webkit-order:-1;-ms-flex-order:-1;order:-1}.bootstrap .flex-last{-webkit-box-ordinal-group:2;-webkit-order:1;-ms-flex-order:1;order:1}.bootstrap .flex-unordered{-webkit-box-ordinal-group:1;-webkit-order:0;-ms-flex-order:0;order:0}.bootstrap .flex-row{-webkit-box-orient:horizontal !important;-webkit-box-direction:normal !important;-webkit-flex-direction:row !important;-ms-flex-direction:row !important;flex-direction:row !important}.bootstrap .flex-column{-webkit-box-orient:vertical !important;-webkit-box-direction:normal !important;-webkit-flex-direction:column !important;-ms-flex-direction:column !important;flex-direction:column !important}.bootstrap .flex-row-reverse{-webkit-box-orient:horizontal !important;-webkit-box-direction:reverse !important;-webkit-flex-direction:row-reverse !important;-ms-flex-direction:row-reverse !important;flex-direction:row-reverse !important}.bootstrap .flex-column-reverse{-webkit-box-orient:vertical !important;-webkit-box-direction:reverse !important;-webkit-flex-direction:column-reverse !important;-ms-flex-direction:column-reverse !important;flex-direction:column-reverse !important}.bootstrap .flex-wrap{-webkit-flex-wrap:wrap !important;-ms-flex-wrap:wrap !important;flex-wrap:wrap !important}.bootstrap .flex-nowrap{-webkit-flex-wrap:nowrap !important;-ms-flex-wrap:nowrap !important;flex-wrap:nowrap !important}.bootstrap .flex-wrap-reverse{-webkit-flex-wrap:wrap-reverse !important;-ms-flex-wrap:wrap-reverse !important;flex-wrap:wrap-reverse !important}.bootstrap .justify-content-start{-webkit-box-pack:start !important;-webkit-justify-content:flex-start !important;-ms-flex-pack:start !important;justify-content:flex-start !important}.bootstrap .justify-content-end{-webkit-box-pack:end !important;-webkit-justify-content:flex-end !important;-ms-flex-pack:end !important;justify-content:flex-end !important}.bootstrap .justify-content-center{-webkit-box-pack:center !important;-webkit-justify-content:center !important;-ms-flex-pack:center !important;justify-content:center !important}.bootstrap .justify-content-between{-webkit-box-pack:justify !important;-webkit-justify-content:space-between !important;-ms-flex-pack:justify !important;justify-content:space-between !important}.bootstrap .justify-content-around{-webkit-justify-content:space-around !important;-ms-flex-pack:distribute !important;justify-content:space-around !important}.bootstrap .align-items-start{-webkit-box-align:start !important;-webkit-align-items:flex-start !important;-ms-flex-align:start !important;align-items:flex-start !important}.bootstrap .align-items-end{-webkit-box-align:end !important;-webkit-align-items:flex-end !important;-ms-flex-align:end !important;align-items:flex-end !important}.bootstrap .align-items-center{-webkit-box-align:center !important;-webkit-align-items:center !important;-ms-flex-align:center !important;align-items:center !important}.bootstrap .align-items-baseline{-webkit-box-align:baseline !important;-webkit-align-items:baseline !important;-ms-flex-align:baseline !important;align-items:baseline !important}.bootstrap .align-items-stretch{-webkit-box-align:stretch !important;-webkit-align-items:stretch !important;-ms-flex-align:stretch !important;align-items:stretch !important}.bootstrap .align-content-start{-webkit-align-content:flex-start !important;-ms-flex-line-pack:start !important;align-content:flex-start !important}.bootstrap .align-content-end{-webkit-align-content:flex-end !important;-ms-flex-line-pack:end !important;align-content:flex-end !important}.bootstrap .align-content-center{-webkit-align-content:center !important;-ms-flex-line-pack:center !important;align-content:center !important}.bootstrap .align-content-between{-webkit-align-content:space-between !important;-ms-flex-line-pack:justify !important;align-content:space-between !important}.bootstrap .align-content-around{-webkit-align-content:space-around !important;-ms-flex-line-pack:distribute !important;align-content:space-around !important}.bootstrap .align-content-stretch{-webkit-align-content:stretch !important;-ms-flex-line-pack:stretch !important;align-content:stretch !important}.bootstrap .align-self-auto{-webkit-align-self:auto !important;-ms-flex-item-align:auto !important;-ms-grid-row-align:auto !important;align-self:auto !important}.bootstrap .align-self-start{-webkit-align-self:flex-start !important;-ms-flex-item-align:start !important;align-self:flex-start !important}.bootstrap .align-self-end{-webkit-align-self:flex-end !important;-ms-flex-item-align:end !important;align-self:flex-end !important}.bootstrap .align-self-center{-webkit-align-self:center !important;-ms-flex-item-align:center !important;-ms-grid-row-align:center !important;align-self:center !important}.bootstrap .align-self-baseline{-webkit-align-self:baseline !important;-ms-flex-item-align:baseline !important;align-self:baseline !important}.bootstrap .align-self-stretch{-webkit-align-self:stretch !important;-ms-flex-item-align:stretch !important;-ms-grid-row-align:stretch !important;align-self:stretch !important}@media (min-width: 576px){.bootstrap .flex-sm-first{-webkit-box-ordinal-group:0;-webkit-order:-1;-ms-flex-order:-1;order:-1}.bootstrap .flex-sm-last{-webkit-box-ordinal-group:2;-webkit-order:1;-ms-flex-order:1;order:1}.bootstrap .flex-sm-unordered{-webkit-box-ordinal-group:1;-webkit-order:0;-ms-flex-order:0;order:0}.bootstrap .flex-sm-row{-webkit-box-orient:horizontal !important;-webkit-box-direction:normal !important;-webkit-flex-direction:row !important;-ms-flex-direction:row !important;flex-direction:row !important}.bootstrap .flex-sm-column{-webkit-box-orient:vertical !important;-webkit-box-direction:normal !important;-webkit-flex-direction:column !important;-ms-flex-direction:column !important;flex-direction:column !important}.bootstrap .flex-sm-row-reverse{-webkit-box-orient:horizontal !important;-webkit-box-direction:reverse !important;-webkit-flex-direction:row-reverse !important;-ms-flex-direction:row-reverse !important;flex-direction:row-reverse !important}.bootstrap .flex-sm-column-reverse{-webkit-box-orient:vertical !important;-webkit-box-direction:reverse !important;-webkit-flex-direction:column-reverse !important;-ms-flex-direction:column-reverse !important;flex-direction:column-reverse !important}.bootstrap .flex-sm-wrap{-webkit-flex-wrap:wrap !important;-ms-flex-wrap:wrap !important;flex-wrap:wrap !important}.bootstrap .flex-sm-nowrap{-webkit-flex-wrap:nowrap !important;-ms-flex-wrap:nowrap !important;flex-wrap:nowrap !important}.bootstrap .flex-sm-wrap-reverse{-webkit-flex-wrap:wrap-reverse !important;-ms-flex-wrap:wrap-reverse !important;flex-wrap:wrap-reverse !important}.bootstrap .justify-content-sm-start{-webkit-box-pack:start !important;-webkit-justify-content:flex-start !important;-ms-flex-pack:start !important;justify-content:flex-start !important}.bootstrap .justify-content-sm-end{-webkit-box-pack:end !important;-webkit-justify-content:flex-end !important;-ms-flex-pack:end !important;justify-content:flex-end !important}.bootstrap .justify-content-sm-center{-webkit-box-pack:center !important;-webkit-justify-content:center !important;-ms-flex-pack:center !important;justify-content:center !important}.bootstrap .justify-content-sm-between{-webkit-box-pack:justify !important;-webkit-justify-content:space-between !important;-ms-flex-pack:justify !important;justify-content:space-between !important}.bootstrap .justify-content-sm-around{-webkit-justify-content:space-around !important;-ms-flex-pack:distribute !important;justify-content:space-around !important}.bootstrap .align-items-sm-start{-webkit-box-align:start !important;-webkit-align-items:flex-start !important;-ms-flex-align:start !important;align-items:flex-start !important}.bootstrap .align-items-sm-end{-webkit-box-align:end !important;-webkit-align-items:flex-end !important;-ms-flex-align:end !important;align-items:flex-end !important}.bootstrap .align-items-sm-center{-webkit-box-align:center !important;-webkit-align-items:center !important;-ms-flex-align:center !important;align-items:center !important}.bootstrap .align-items-sm-baseline{-webkit-box-align:baseline !important;-webkit-align-items:baseline !important;-ms-flex-align:baseline !important;align-items:baseline !important}.bootstrap .align-items-sm-stretch{-webkit-box-align:stretch !important;-webkit-align-items:stretch !important;-ms-flex-align:stretch !important;align-items:stretch !important}.bootstrap .align-content-sm-start{-webkit-align-content:flex-start !important;-ms-flex-line-pack:start !important;align-content:flex-start !important}.bootstrap .align-content-sm-end{-webkit-align-content:flex-end !important;-ms-flex-line-pack:end !important;align-content:flex-end !important}.bootstrap .align-content-sm-center{-webkit-align-content:center !important;-ms-flex-line-pack:center !important;align-content:center !important}.bootstrap .align-content-sm-between{-webkit-align-content:space-between !important;-ms-flex-line-pack:justify !important;align-content:space-between !important}.bootstrap .align-content-sm-around{-webkit-align-content:space-around !important;-ms-flex-line-pack:distribute !important;align-content:space-around !important}.bootstrap .align-content-sm-stretch{-webkit-align-content:stretch !important;-ms-flex-line-pack:stretch !important;align-content:stretch !important}.bootstrap .align-self-sm-auto{-webkit-align-self:auto !important;-ms-flex-item-align:auto !important;-ms-grid-row-align:auto !important;align-self:auto !important}.bootstrap .align-self-sm-start{-webkit-align-self:flex-start !important;-ms-flex-item-align:start !important;align-self:flex-start !important}.bootstrap .align-self-sm-end{-webkit-align-self:flex-end !important;-ms-flex-item-align:end !important;align-self:flex-end !important}.bootstrap .align-self-sm-center{-webkit-align-self:center !important;-ms-flex-item-align:center !important;-ms-grid-row-align:center !important;align-self:center !important}.bootstrap .align-self-sm-baseline{-webkit-align-self:baseline !important;-ms-flex-item-align:baseline !important;align-self:baseline !important}.bootstrap .align-self-sm-stretch{-webkit-align-self:stretch !important;-ms-flex-item-align:stretch !important;-ms-grid-row-align:stretch !important;align-self:stretch !important}}@media (min-width: 768px){.bootstrap .flex-md-first{-webkit-box-ordinal-group:0;-webkit-order:-1;-ms-flex-order:-1;order:-1}.bootstrap .flex-md-last{-webkit-box-ordinal-group:2;-webkit-order:1;-ms-flex-order:1;order:1}.bootstrap .flex-md-unordered{-webkit-box-ordinal-group:1;-webkit-order:0;-ms-flex-order:0;order:0}.bootstrap .flex-md-row{-webkit-box-orient:horizontal !important;-webkit-box-direction:normal !important;-webkit-flex-direction:row !important;-ms-flex-direction:row !important;flex-direction:row !important}.bootstrap .flex-md-column{-webkit-box-orient:vertical !important;-webkit-box-direction:normal !important;-webkit-flex-direction:column !important;-ms-flex-direction:column !important;flex-direction:column !important}.bootstrap .flex-md-row-reverse{-webkit-box-orient:horizontal !important;-webkit-box-direction:reverse !important;-webkit-flex-direction:row-reverse !important;-ms-flex-direction:row-reverse !important;flex-direction:row-reverse !important}.bootstrap .flex-md-column-reverse{-webkit-box-orient:vertical !important;-webkit-box-direction:reverse !important;-webkit-flex-direction:column-reverse !important;-ms-flex-direction:column-reverse !important;flex-direction:column-reverse !important}.bootstrap .flex-md-wrap{-webkit-flex-wrap:wrap !important;-ms-flex-wrap:wrap !important;flex-wrap:wrap !important}.bootstrap .flex-md-nowrap{-webkit-flex-wrap:nowrap !important;-ms-flex-wrap:nowrap !important;flex-wrap:nowrap !important}.bootstrap .flex-md-wrap-reverse{-webkit-flex-wrap:wrap-reverse !important;-ms-flex-wrap:wrap-reverse !important;flex-wrap:wrap-reverse !important}.bootstrap .justify-content-md-start{-webkit-box-pack:start !important;-webkit-justify-content:flex-start !important;-ms-flex-pack:start !important;justify-content:flex-start !important}.bootstrap .justify-content-md-end{-webkit-box-pack:end !important;-webkit-justify-content:flex-end !important;-ms-flex-pack:end !important;justify-content:flex-end !important}.bootstrap .justify-content-md-center{-webkit-box-pack:center !important;-webkit-justify-content:center !important;-ms-flex-pack:center !important;justify-content:center !important}.bootstrap .justify-content-md-between{-webkit-box-pack:justify !important;-webkit-justify-content:space-between !important;-ms-flex-pack:justify !important;justify-content:space-between !important}.bootstrap .justify-content-md-around{-webkit-justify-content:space-around !important;-ms-flex-pack:distribute !important;justify-content:space-around !important}.bootstrap .align-items-md-start{-webkit-box-align:start !important;-webkit-align-items:flex-start !important;-ms-flex-align:start !important;align-items:flex-start !important}.bootstrap .align-items-md-end{-webkit-box-align:end !important;-webkit-align-items:flex-end !important;-ms-flex-align:end !important;align-items:flex-end !important}.bootstrap .align-items-md-center{-webkit-box-align:center !important;-webkit-align-items:center !important;-ms-flex-align:center !important;align-items:center !important}.bootstrap .align-items-md-baseline{-webkit-box-align:baseline !important;-webkit-align-items:baseline !important;-ms-flex-align:baseline !important;align-items:baseline !important}.bootstrap .align-items-md-stretch{-webkit-box-align:stretch !important;-webkit-align-items:stretch !important;-ms-flex-align:stretch !important;align-items:stretch !important}.bootstrap .align-content-md-start{-webkit-align-content:flex-start !important;-ms-flex-line-pack:start !important;align-content:flex-start !important}.bootstrap .align-content-md-end{-webkit-align-content:flex-end !important;-ms-flex-line-pack:end !important;align-content:flex-end !important}.bootstrap .align-content-md-center{-webkit-align-content:center !important;-ms-flex-line-pack:center !important;align-content:center !important}.bootstrap .align-content-md-between{-webkit-align-content:space-between !important;-ms-flex-line-pack:justify !important;align-content:space-between !important}.bootstrap .align-content-md-around{-webkit-align-content:space-around !important;-ms-flex-line-pack:distribute !important;align-content:space-around !important}.bootstrap .align-content-md-stretch{-webkit-align-content:stretch !important;-ms-flex-line-pack:stretch !important;align-content:stretch !important}.bootstrap .align-self-md-auto{-webkit-align-self:auto !important;-ms-flex-item-align:auto !important;-ms-grid-row-align:auto !important;align-self:auto !important}.bootstrap .align-self-md-start{-webkit-align-self:flex-start !important;-ms-flex-item-align:start !important;align-self:flex-start !important}.bootstrap .align-self-md-end{-webkit-align-self:flex-end !important;-ms-flex-item-align:end !important;align-self:flex-end !important}.bootstrap .align-self-md-center{-webkit-align-self:center !important;-ms-flex-item-align:center !important;-ms-grid-row-align:center !important;align-self:center !important}.bootstrap .align-self-md-baseline{-webkit-align-self:baseline !important;-ms-flex-item-align:baseline !important;align-self:baseline !important}.bootstrap .align-self-md-stretch{-webkit-align-self:stretch !important;-ms-flex-item-align:stretch !important;-ms-grid-row-align:stretch !important;align-self:stretch !important}}@media (min-width: 992px){.bootstrap .flex-lg-first{-webkit-box-ordinal-group:0;-webkit-order:-1;-ms-flex-order:-1;order:-1}.bootstrap .flex-lg-last{-webkit-box-ordinal-group:2;-webkit-order:1;-ms-flex-order:1;order:1}.bootstrap .flex-lg-unordered{-webkit-box-ordinal-group:1;-webkit-order:0;-ms-flex-order:0;order:0}.bootstrap .flex-lg-row{-webkit-box-orient:horizontal !important;-webkit-box-direction:normal !important;-webkit-flex-direction:row !important;-ms-flex-direction:row !important;flex-direction:row !important}.bootstrap .flex-lg-column{-webkit-box-orient:vertical !important;-webkit-box-direction:normal !important;-webkit-flex-direction:column !important;-ms-flex-direction:column !important;flex-direction:column !important}.bootstrap .flex-lg-row-reverse{-webkit-box-orient:horizontal !important;-webkit-box-direction:reverse !important;-webkit-flex-direction:row-reverse !important;-ms-flex-direction:row-reverse !important;flex-direction:row-reverse !important}.bootstrap .flex-lg-column-reverse{-webkit-box-orient:vertical !important;-webkit-box-direction:reverse !important;-webkit-flex-direction:column-reverse !important;-ms-flex-direction:column-reverse !important;flex-direction:column-reverse !important}.bootstrap .flex-lg-wrap{-webkit-flex-wrap:wrap !important;-ms-flex-wrap:wrap !important;flex-wrap:wrap !important}.bootstrap .flex-lg-nowrap{-webkit-flex-wrap:nowrap !important;-ms-flex-wrap:nowrap !important;flex-wrap:nowrap !important}.bootstrap .flex-lg-wrap-reverse{-webkit-flex-wrap:wrap-reverse !important;-ms-flex-wrap:wrap-reverse !important;flex-wrap:wrap-reverse !important}.bootstrap .justify-content-lg-start{-webkit-box-pack:start !important;-webkit-justify-content:flex-start !important;-ms-flex-pack:start !important;justify-content:flex-start !important}.bootstrap .justify-content-lg-end{-webkit-box-pack:end !important;-webkit-justify-content:flex-end !important;-ms-flex-pack:end !important;justify-content:flex-end !important}.bootstrap .justify-content-lg-center{-webkit-box-pack:center !important;-webkit-justify-content:center !important;-ms-flex-pack:center !important;justify-content:center !important}.bootstrap .justify-content-lg-between{-webkit-box-pack:justify !important;-webkit-justify-content:space-between !important;-ms-flex-pack:justify !important;justify-content:space-between !important}.bootstrap .justify-content-lg-around{-webkit-justify-content:space-around !important;-ms-flex-pack:distribute !important;justify-content:space-around !important}.bootstrap .align-items-lg-start{-webkit-box-align:start !important;-webkit-align-items:flex-start !important;-ms-flex-align:start !important;align-items:flex-start !important}.bootstrap .align-items-lg-end{-webkit-box-align:end !important;-webkit-align-items:flex-end !important;-ms-flex-align:end !important;align-items:flex-end !important}.bootstrap .align-items-lg-center{-webkit-box-align:center !important;-webkit-align-items:center !important;-ms-flex-align:center !important;align-items:center !important}.bootstrap .align-items-lg-baseline{-webkit-box-align:baseline !important;-webkit-align-items:baseline !important;-ms-flex-align:baseline !important;align-items:baseline !important}.bootstrap .align-items-lg-stretch{-webkit-box-align:stretch !important;-webkit-align-items:stretch !important;-ms-flex-align:stretch !important;align-items:stretch !important}.bootstrap .align-content-lg-start{-webkit-align-content:flex-start !important;-ms-flex-line-pack:start !important;align-content:flex-start !important}.bootstrap .align-content-lg-end{-webkit-align-content:flex-end !important;-ms-flex-line-pack:end !important;align-content:flex-end !important}.bootstrap .align-content-lg-center{-webkit-align-content:center !important;-ms-flex-line-pack:center !important;align-content:center !important}.bootstrap .align-content-lg-between{-webkit-align-content:space-between !important;-ms-flex-line-pack:justify !important;align-content:space-between !important}.bootstrap .align-content-lg-around{-webkit-align-content:space-around !important;-ms-flex-line-pack:distribute !important;align-content:space-around !important}.bootstrap .align-content-lg-stretch{-webkit-align-content:stretch !important;-ms-flex-line-pack:stretch !important;align-content:stretch !important}.bootstrap .align-self-lg-auto{-webkit-align-self:auto !important;-ms-flex-item-align:auto !important;-ms-grid-row-align:auto !important;align-self:auto !important}.bootstrap .align-self-lg-start{-webkit-align-self:flex-start !important;-ms-flex-item-align:start !important;align-self:flex-start !important}.bootstrap .align-self-lg-end{-webkit-align-self:flex-end !important;-ms-flex-item-align:end !important;align-self:flex-end !important}.bootstrap .align-self-lg-center{-webkit-align-self:center !important;-ms-flex-item-align:center !important;-ms-grid-row-align:center !important;align-self:center !important}.bootstrap .align-self-lg-baseline{-webkit-align-self:baseline !important;-ms-flex-item-align:baseline !important;align-self:baseline !important}.bootstrap .align-self-lg-stretch{-webkit-align-self:stretch !important;-ms-flex-item-align:stretch !important;-ms-grid-row-align:stretch !important;align-self:stretch !important}}@media (min-width: 1200px){.bootstrap .flex-xl-first{-webkit-box-ordinal-group:0;-webkit-order:-1;-ms-flex-order:-1;order:-1}.bootstrap .flex-xl-last{-webkit-box-ordinal-group:2;-webkit-order:1;-ms-flex-order:1;order:1}.bootstrap .flex-xl-unordered{-webkit-box-ordinal-group:1;-webkit-order:0;-ms-flex-order:0;order:0}.bootstrap .flex-xl-row{-webkit-box-orient:horizontal !important;-webkit-box-direction:normal !important;-webkit-flex-direction:row !important;-ms-flex-direction:row !important;flex-direction:row !important}.bootstrap .flex-xl-column{-webkit-box-orient:vertical !important;-webkit-box-direction:normal !important;-webkit-flex-direction:column !important;-ms-flex-direction:column !important;flex-direction:column !important}.bootstrap .flex-xl-row-reverse{-webkit-box-orient:horizontal !important;-webkit-box-direction:reverse !important;-webkit-flex-direction:row-reverse !important;-ms-flex-direction:row-reverse !important;flex-direction:row-reverse !important}.bootstrap .flex-xl-column-reverse{-webkit-box-orient:vertical !important;-webkit-box-direction:reverse !important;-webkit-flex-direction:column-reverse !important;-ms-flex-direction:column-reverse !important;flex-direction:column-reverse !important}.bootstrap .flex-xl-wrap{-webkit-flex-wrap:wrap !important;-ms-flex-wrap:wrap !important;flex-wrap:wrap !important}.bootstrap .flex-xl-nowrap{-webkit-flex-wrap:nowrap !important;-ms-flex-wrap:nowrap !important;flex-wrap:nowrap !important}.bootstrap .flex-xl-wrap-reverse{-webkit-flex-wrap:wrap-reverse !important;-ms-flex-wrap:wrap-reverse !important;flex-wrap:wrap-reverse !important}.bootstrap .justify-content-xl-start{-webkit-box-pack:start !important;-webkit-justify-content:flex-start !important;-ms-flex-pack:start !important;justify-content:flex-start !important}.bootstrap .justify-content-xl-end{-webkit-box-pack:end !important;-webkit-justify-content:flex-end !important;-ms-flex-pack:end !important;justify-content:flex-end !important}.bootstrap .justify-content-xl-center{-webkit-box-pack:center !important;-webkit-justify-content:center !important;-ms-flex-pack:center !important;justify-content:center !important}.bootstrap .justify-content-xl-between{-webkit-box-pack:justify !important;-webkit-justify-content:space-between !important;-ms-flex-pack:justify !important;justify-content:space-between !important}.bootstrap .justify-content-xl-around{-webkit-justify-content:space-around !important;-ms-flex-pack:distribute !important;justify-content:space-around !important}.bootstrap .align-items-xl-start{-webkit-box-align:start !important;-webkit-align-items:flex-start !important;-ms-flex-align:start !important;align-items:flex-start !important}.bootstrap .align-items-xl-end{-webkit-box-align:end !important;-webkit-align-items:flex-end !important;-ms-flex-align:end !important;align-items:flex-end !important}.bootstrap .align-items-xl-center{-webkit-box-align:center !important;-webkit-align-items:center !important;-ms-flex-align:center !important;align-items:center !important}.bootstrap .align-items-xl-baseline{-webkit-box-align:baseline !important;-webkit-align-items:baseline !important;-ms-flex-align:baseline !important;align-items:baseline !important}.bootstrap .align-items-xl-stretch{-webkit-box-align:stretch !important;-webkit-align-items:stretch !important;-ms-flex-align:stretch !important;align-items:stretch !important}.bootstrap .align-content-xl-start{-webkit-align-content:flex-start !important;-ms-flex-line-pack:start !important;align-content:flex-start !important}.bootstrap .align-content-xl-end{-webkit-align-content:flex-end !important;-ms-flex-line-pack:end !important;align-content:flex-end !important}.bootstrap .align-content-xl-center{-webkit-align-content:center !important;-ms-flex-line-pack:center !important;align-content:center !important}.bootstrap .align-content-xl-between{-webkit-align-content:space-between !important;-ms-flex-line-pack:justify !important;align-content:space-between !important}.bootstrap .align-content-xl-around{-webkit-align-content:space-around !important;-ms-flex-line-pack:distribute !important;align-content:space-around !important}.bootstrap .align-content-xl-stretch{-webkit-align-content:stretch !important;-ms-flex-line-pack:stretch !important;align-content:stretch !important}.bootstrap .align-self-xl-auto{-webkit-align-self:auto !important;-ms-flex-item-align:auto !important;-ms-grid-row-align:auto !important;align-self:auto !important}.bootstrap .align-self-xl-start{-webkit-align-self:flex-start !important;-ms-flex-item-align:start !important;align-self:flex-start !important}.bootstrap .align-self-xl-end{-webkit-align-self:flex-end !important;-ms-flex-item-align:end !important;align-self:flex-end !important}.bootstrap .align-self-xl-center{-webkit-align-self:center !important;-ms-flex-item-align:center !important;-ms-grid-row-align:center !important;align-self:center !important}.bootstrap .align-self-xl-baseline{-webkit-align-self:baseline !important;-ms-flex-item-align:baseline !important;align-self:baseline !important}.bootstrap .align-self-xl-stretch{-webkit-align-self:stretch !important;-ms-flex-item-align:stretch !important;-ms-grid-row-align:stretch !important;align-self:stretch !important}}.bootstrap .float-left{float:left !important}.bootstrap .float-right{float:right !important}.bootstrap .float-none{float:none !important}@media (min-width: 576px){.bootstrap .float-sm-left{float:left !important}.bootstrap .float-sm-right{float:right !important}.bootstrap .float-sm-none{float:none !important}}@media (min-width: 768px){.bootstrap .float-md-left{float:left !important}.bootstrap .float-md-right{float:right !important}.bootstrap .float-md-none{float:none !important}}@media (min-width: 992px){.bootstrap .float-lg-left{float:left !important}.bootstrap .float-lg-right{float:right !important}.bootstrap .float-lg-none{float:none !important}}@media (min-width: 1200px){.bootstrap .float-xl-left{float:left !important}.bootstrap .float-xl-right{float:right !important}.bootstrap .float-xl-none{float:none !important}}.bootstrap .fixed-top{position:fixed;top:0;right:0;left:0;z-index:1030}.bootstrap .fixed-bottom{position:fixed;right:0;bottom:0;left:0;z-index:1030}.bootstrap .sticky-top{position:-webkit-sticky;position:sticky;top:0;z-index:1030}.bootstrap .sr-only{position:absolute;width:1px;height:1px;padding:0;margin:-1px;overflow:hidden;clip:rect(0, 0, 0, 0);border:0}.bootstrap .sr-only-focusable:active,.bootstrap .sr-only-focusable:focus{position:static;width:auto;height:auto;margin:0;overflow:visible;clip:auto}.bootstrap .w-25{width:25% !important}.bootstrap .w-50{width:50% !important}.bootstrap .w-75{width:75% !important}.bootstrap .w-100{width:100% !important}.bootstrap .h-25{height:25% !important}.bootstrap .h-50{height:50% !important}.bootstrap .h-75{height:75% !important}.bootstrap .h-100{height:100% !important}.bootstrap .mw-100{max-width:100% !important}.bootstrap .mh-100{max-height:100% !important}.bootstrap .m-0{margin:0 0 !important}.bootstrap .mt-0{margin-top:0 !important}.bootstrap .mr-0{margin-right:0 !important}.bootstrap .mb-0{margin-bottom:0 !important}.bootstrap .ml-0{margin-left:0 !important}.bootstrap .mx-0{margin-right:0 !important;margin-left:0 !important}.bootstrap .my-0{margin-top:0 !important;margin-bottom:0 !important}.bootstrap .m-1{margin:0.25rem 0.25rem !important}.bootstrap .mt-1{margin-top:0.25rem !important}.bootstrap .mr-1{margin-right:0.25rem !important}.bootstrap .mb-1{margin-bottom:0.25rem !important}.bootstrap .ml-1{margin-left:0.25rem !important}.bootstrap .mx-1{margin-right:.25rem !important;margin-left:0.25rem !important}.bootstrap .my-1{margin-top:.25rem !important;margin-bottom:0.25rem !important}.bootstrap .m-2{margin:0.5rem 0.5rem !important}.bootstrap .mt-2{margin-top:0.5rem !important}.bootstrap .mr-2{margin-right:0.5rem !important}.bootstrap .mb-2{margin-bottom:0.5rem !important}.bootstrap .ml-2{margin-left:0.5rem !important}.bootstrap .mx-2{margin-right:.5rem !important;margin-left:0.5rem !important}.bootstrap .my-2{margin-top:.5rem !important;margin-bottom:0.5rem !important}.bootstrap .m-3{margin:1rem 1rem !important}.bootstrap .mt-3{margin-top:1rem !important}.bootstrap .mr-3{margin-right:1rem !important}.bootstrap .mb-3{margin-bottom:1rem !important}.bootstrap .ml-3{margin-left:1rem !important}.bootstrap .mx-3{margin-right:1rem !important;margin-left:1rem !important}.bootstrap .my-3{margin-top:1rem !important;margin-bottom:1rem !important}.bootstrap .m-4{margin:1.5rem 1.5rem !important}.bootstrap .mt-4{margin-top:1.5rem !important}.bootstrap .mr-4{margin-right:1.5rem !important}.bootstrap .mb-4{margin-bottom:1.5rem !important}.bootstrap .ml-4{margin-left:1.5rem !important}.bootstrap .mx-4{margin-right:1.5rem !important;margin-left:1.5rem !important}.bootstrap .my-4{margin-top:1.5rem !important;margin-bottom:1.5rem !important}.bootstrap .m-5{margin:3rem 3rem !important}.bootstrap .mt-5{margin-top:3rem !important}.bootstrap .mr-5{margin-right:3rem !important}.bootstrap .mb-5{margin-bottom:3rem !important}.bootstrap .ml-5{margin-left:3rem !important}.bootstrap .mx-5{margin-right:3rem !important;margin-left:3rem !important}.bootstrap .my-5{margin-top:3rem !important;margin-bottom:3rem !important}.bootstrap .p-0{padding:0 0 !important}.bootstrap .pt-0{padding-top:0 !important}.bootstrap .pr-0{padding-right:0 !important}.bootstrap .pb-0{padding-bottom:0 !important}.bootstrap .pl-0{padding-left:0 !important}.bootstrap .px-0{padding-right:0 !important;padding-left:0 !important}.bootstrap .py-0{padding-top:0 !important;padding-bottom:0 !important}.bootstrap .p-1{padding:0.25rem 0.25rem !important}.bootstrap .pt-1{padding-top:0.25rem !important}.bootstrap .pr-1{padding-right:0.25rem !important}.bootstrap .pb-1{padding-bottom:0.25rem !important}.bootstrap .pl-1{padding-left:0.25rem !important}.bootstrap .px-1{padding-right:.25rem !important;padding-left:0.25rem !important}.bootstrap .py-1{padding-top:.25rem !important;padding-bottom:0.25rem !important}.bootstrap .p-2{padding:0.5rem 0.5rem !important}.bootstrap .pt-2{padding-top:0.5rem !important}.bootstrap .pr-2{padding-right:0.5rem !important}.bootstrap .pb-2{padding-bottom:0.5rem !important}.bootstrap .pl-2{padding-left:0.5rem !important}.bootstrap .px-2{padding-right:.5rem !important;padding-left:0.5rem !important}.bootstrap .py-2{padding-top:.5rem !important;padding-bottom:0.5rem !important}.bootstrap .p-3{padding:1rem 1rem !important}.bootstrap .pt-3{padding-top:1rem !important}.bootstrap .pr-3{padding-right:1rem !important}.bootstrap .pb-3{padding-bottom:1rem !important}.bootstrap .pl-3{padding-left:1rem !important}.bootstrap .px-3{padding-right:1rem !important;padding-left:1rem !important}.bootstrap .py-3{padding-top:1rem !important;padding-bottom:1rem !important}.bootstrap .p-4{padding:1.5rem 1.5rem !important}.bootstrap .pt-4{padding-top:1.5rem !important}.bootstrap .pr-4{padding-right:1.5rem !important}.bootstrap .pb-4{padding-bottom:1.5rem !important}.bootstrap .pl-4{padding-left:1.5rem !important}.bootstrap .px-4{padding-right:1.5rem !important;padding-left:1.5rem !important}.bootstrap .py-4{padding-top:1.5rem !important;padding-bottom:1.5rem !important}.bootstrap .p-5{padding:3rem 3rem !important}.bootstrap .pt-5{padding-top:3rem !important}.bootstrap .pr-5{padding-right:3rem !important}.bootstrap .pb-5{padding-bottom:3rem !important}.bootstrap .pl-5{padding-left:3rem !important}.bootstrap .px-5{padding-right:3rem !important;padding-left:3rem !important}.bootstrap .py-5{padding-top:3rem !important;padding-bottom:3rem !important}.bootstrap .m-auto{margin:auto !important}.bootstrap .mt-auto{margin-top:auto !important}.bootstrap .mr-auto{margin-right:auto !important}.bootstrap .mb-auto{margin-bottom:auto !important}.bootstrap .ml-auto{margin-left:auto !important}.bootstrap .mx-auto{margin-right:auto !important;margin-left:auto !important}.bootstrap .my-auto{margin-top:auto !important;margin-bottom:auto !important}@media (min-width: 576px){.bootstrap .m-sm-0{margin:0 0 !important}.bootstrap .mt-sm-0{margin-top:0 !important}.bootstrap .mr-sm-0{margin-right:0 !important}.bootstrap .mb-sm-0{margin-bottom:0 !important}.bootstrap .ml-sm-0{margin-left:0 !important}.bootstrap .mx-sm-0{margin-right:0 !important;margin-left:0 !important}.bootstrap .my-sm-0{margin-top:0 !important;margin-bottom:0 !important}.bootstrap .m-sm-1{margin:0.25rem 0.25rem !important}.bootstrap .mt-sm-1{margin-top:0.25rem !important}.bootstrap .mr-sm-1{margin-right:0.25rem !important}.bootstrap .mb-sm-1{margin-bottom:0.25rem !important}.bootstrap .ml-sm-1{margin-left:0.25rem !important}.bootstrap .mx-sm-1{margin-right:.25rem !important;margin-left:0.25rem !important}.bootstrap .my-sm-1{margin-top:.25rem !important;margin-bottom:0.25rem !important}.bootstrap .m-sm-2{margin:0.5rem 0.5rem !important}.bootstrap .mt-sm-2{margin-top:0.5rem !important}.bootstrap .mr-sm-2{margin-right:0.5rem !important}.bootstrap .mb-sm-2{margin-bottom:0.5rem !important}.bootstrap .ml-sm-2{margin-left:0.5rem !important}.bootstrap .mx-sm-2{margin-right:.5rem !important;margin-left:0.5rem !important}.bootstrap .my-sm-2{margin-top:.5rem !important;margin-bottom:0.5rem !important}.bootstrap .m-sm-3{margin:1rem 1rem !important}.bootstrap .mt-sm-3{margin-top:1rem !important}.bootstrap .mr-sm-3{margin-right:1rem !important}.bootstrap .mb-sm-3{margin-bottom:1rem !important}.bootstrap .ml-sm-3{margin-left:1rem !important}.bootstrap .mx-sm-3{margin-right:1rem !important;margin-left:1rem !important}.bootstrap .my-sm-3{margin-top:1rem !important;margin-bottom:1rem !important}.bootstrap .m-sm-4{margin:1.5rem 1.5rem !important}.bootstrap .mt-sm-4{margin-top:1.5rem !important}.bootstrap .mr-sm-4{margin-right:1.5rem !important}.bootstrap .mb-sm-4{margin-bottom:1.5rem !important}.bootstrap .ml-sm-4{margin-left:1.5rem !important}.bootstrap .mx-sm-4{margin-right:1.5rem !important;margin-left:1.5rem !important}.bootstrap .my-sm-4{margin-top:1.5rem !important;margin-bottom:1.5rem !important}.bootstrap .m-sm-5{margin:3rem 3rem !important}.bootstrap .mt-sm-5{margin-top:3rem !important}.bootstrap .mr-sm-5{margin-right:3rem !important}.bootstrap .mb-sm-5{margin-bottom:3rem !important}.bootstrap .ml-sm-5{margin-left:3rem !important}.bootstrap .mx-sm-5{margin-right:3rem !important;margin-left:3rem !important}.bootstrap .my-sm-5{margin-top:3rem !important;margin-bottom:3rem !important}.bootstrap .p-sm-0{padding:0 0 !important}.bootstrap .pt-sm-0{padding-top:0 !important}.bootstrap .pr-sm-0{padding-right:0 !important}.bootstrap .pb-sm-0{padding-bottom:0 !important}.bootstrap .pl-sm-0{padding-left:0 !important}.bootstrap .px-sm-0{padding-right:0 !important;padding-left:0 !important}.bootstrap .py-sm-0{padding-top:0 !important;padding-bottom:0 !important}.bootstrap .p-sm-1{padding:0.25rem 0.25rem !important}.bootstrap .pt-sm-1{padding-top:0.25rem !important}.bootstrap .pr-sm-1{padding-right:0.25rem !important}.bootstrap .pb-sm-1{padding-bottom:0.25rem !important}.bootstrap .pl-sm-1{padding-left:0.25rem !important}.bootstrap .px-sm-1{padding-right:.25rem !important;padding-left:0.25rem !important}.bootstrap .py-sm-1{padding-top:.25rem !important;padding-bottom:0.25rem !important}.bootstrap .p-sm-2{padding:0.5rem 0.5rem !important}.bootstrap .pt-sm-2{padding-top:0.5rem !important}.bootstrap .pr-sm-2{padding-right:0.5rem !important}.bootstrap .pb-sm-2{padding-bottom:0.5rem !important}.bootstrap .pl-sm-2{padding-left:0.5rem !important}.bootstrap .px-sm-2{padding-right:.5rem !important;padding-left:0.5rem !important}.bootstrap .py-sm-2{padding-top:.5rem !important;padding-bottom:0.5rem !important}.bootstrap .p-sm-3{padding:1rem 1rem !important}.bootstrap .pt-sm-3{padding-top:1rem !important}.bootstrap .pr-sm-3{padding-right:1rem !important}.bootstrap .pb-sm-3{padding-bottom:1rem !important}.bootstrap .pl-sm-3{padding-left:1rem !important}.bootstrap .px-sm-3{padding-right:1rem !important;padding-left:1rem !important}.bootstrap .py-sm-3{padding-top:1rem !important;padding-bottom:1rem !important}.bootstrap .p-sm-4{padding:1.5rem 1.5rem !important}.bootstrap .pt-sm-4{padding-top:1.5rem !important}.bootstrap .pr-sm-4{padding-right:1.5rem !important}.bootstrap .pb-sm-4{padding-bottom:1.5rem !important}.bootstrap .pl-sm-4{padding-left:1.5rem !important}.bootstrap .px-sm-4{padding-right:1.5rem !important;padding-left:1.5rem !important}.bootstrap .py-sm-4{padding-top:1.5rem !important;padding-bottom:1.5rem !important}.bootstrap .p-sm-5{padding:3rem 3rem !important}.bootstrap .pt-sm-5{padding-top:3rem !important}.bootstrap .pr-sm-5{padding-right:3rem !important}.bootstrap .pb-sm-5{padding-bottom:3rem !important}.bootstrap .pl-sm-5{padding-left:3rem !important}.bootstrap .px-sm-5{padding-right:3rem !important;padding-left:3rem !important}.bootstrap .py-sm-5{padding-top:3rem !important;padding-bottom:3rem !important}.bootstrap .m-sm-auto{margin:auto !important}.bootstrap .mt-sm-auto{margin-top:auto !important}.bootstrap .mr-sm-auto{margin-right:auto !important}.bootstrap .mb-sm-auto{margin-bottom:auto !important}.bootstrap .ml-sm-auto{margin-left:auto !important}.bootstrap .mx-sm-auto{margin-right:auto !important;margin-left:auto !important}.bootstrap .my-sm-auto{margin-top:auto !important;margin-bottom:auto !important}}@media (min-width: 768px){.bootstrap .m-md-0{margin:0 0 !important}.bootstrap .mt-md-0{margin-top:0 !important}.bootstrap .mr-md-0{margin-right:0 !important}.bootstrap .mb-md-0{margin-bottom:0 !important}.bootstrap .ml-md-0{margin-left:0 !important}.bootstrap .mx-md-0{margin-right:0 !important;margin-left:0 !important}.bootstrap .my-md-0{margin-top:0 !important;margin-bottom:0 !important}.bootstrap .m-md-1{margin:0.25rem 0.25rem !important}.bootstrap .mt-md-1{margin-top:0.25rem !important}.bootstrap .mr-md-1{margin-right:0.25rem !important}.bootstrap .mb-md-1{margin-bottom:0.25rem !important}.bootstrap .ml-md-1{margin-left:0.25rem !important}.bootstrap .mx-md-1{margin-right:.25rem !important;margin-left:0.25rem !important}.bootstrap .my-md-1{margin-top:.25rem !important;margin-bottom:0.25rem !important}.bootstrap .m-md-2{margin:0.5rem 0.5rem !important}.bootstrap .mt-md-2{margin-top:0.5rem !important}.bootstrap .mr-md-2{margin-right:0.5rem !important}.bootstrap .mb-md-2{margin-bottom:0.5rem !important}.bootstrap .ml-md-2{margin-left:0.5rem !important}.bootstrap .mx-md-2{margin-right:.5rem !important;margin-left:0.5rem !important}.bootstrap .my-md-2{margin-top:.5rem !important;margin-bottom:0.5rem !important}.bootstrap .m-md-3{margin:1rem 1rem !important}.bootstrap .mt-md-3{margin-top:1rem !important}.bootstrap .mr-md-3{margin-right:1rem !important}.bootstrap .mb-md-3{margin-bottom:1rem !important}.bootstrap .ml-md-3{margin-left:1rem !important}.bootstrap .mx-md-3{margin-right:1rem !important;margin-left:1rem !important}.bootstrap .my-md-3{margin-top:1rem !important;margin-bottom:1rem !important}.bootstrap .m-md-4{margin:1.5rem 1.5rem !important}.bootstrap .mt-md-4{margin-top:1.5rem !important}.bootstrap .mr-md-4{margin-right:1.5rem !important}.bootstrap .mb-md-4{margin-bottom:1.5rem !important}.bootstrap .ml-md-4{margin-left:1.5rem !important}.bootstrap .mx-md-4{margin-right:1.5rem !important;margin-left:1.5rem !important}.bootstrap .my-md-4{margin-top:1.5rem !important;margin-bottom:1.5rem !important}.bootstrap .m-md-5{margin:3rem 3rem !important}.bootstrap .mt-md-5{margin-top:3rem !important}.bootstrap .mr-md-5{margin-right:3rem !important}.bootstrap .mb-md-5{margin-bottom:3rem !important}.bootstrap .ml-md-5{margin-left:3rem !important}.bootstrap .mx-md-5{margin-right:3rem !important;margin-left:3rem !important}.bootstrap .my-md-5{margin-top:3rem !important;margin-bottom:3rem !important}.bootstrap .p-md-0{padding:0 0 !important}.bootstrap .pt-md-0{padding-top:0 !important}.bootstrap .pr-md-0{padding-right:0 !important}.bootstrap .pb-md-0{padding-bottom:0 !important}.bootstrap .pl-md-0{padding-left:0 !important}.bootstrap .px-md-0{padding-right:0 !important;padding-left:0 !important}.bootstrap .py-md-0{padding-top:0 !important;padding-bottom:0 !important}.bootstrap .p-md-1{padding:0.25rem 0.25rem !important}.bootstrap .pt-md-1{padding-top:0.25rem !important}.bootstrap .pr-md-1{padding-right:0.25rem !important}.bootstrap .pb-md-1{padding-bottom:0.25rem !important}.bootstrap .pl-md-1{padding-left:0.25rem !important}.bootstrap .px-md-1{padding-right:.25rem !important;padding-left:0.25rem !important}.bootstrap .py-md-1{padding-top:.25rem !important;padding-bottom:0.25rem !important}.bootstrap .p-md-2{padding:0.5rem 0.5rem !important}.bootstrap .pt-md-2{padding-top:0.5rem !important}.bootstrap .pr-md-2{padding-right:0.5rem !important}.bootstrap .pb-md-2{padding-bottom:0.5rem !important}.bootstrap .pl-md-2{padding-left:0.5rem !important}.bootstrap .px-md-2{padding-right:.5rem !important;padding-left:0.5rem !important}.bootstrap .py-md-2{padding-top:.5rem !important;padding-bottom:0.5rem !important}.bootstrap .p-md-3{padding:1rem 1rem !important}.bootstrap .pt-md-3{padding-top:1rem !important}.bootstrap .pr-md-3{padding-right:1rem !important}.bootstrap .pb-md-3{padding-bottom:1rem !important}.bootstrap .pl-md-3{padding-left:1rem !important}.bootstrap .px-md-3{padding-right:1rem !important;padding-left:1rem !important}.bootstrap .py-md-3{padding-top:1rem !important;padding-bottom:1rem !important}.bootstrap .p-md-4{padding:1.5rem 1.5rem !important}.bootstrap .pt-md-4{padding-top:1.5rem !important}.bootstrap .pr-md-4{padding-right:1.5rem !important}.bootstrap .pb-md-4{padding-bottom:1.5rem !important}.bootstrap .pl-md-4{padding-left:1.5rem !important}.bootstrap .px-md-4{padding-right:1.5rem !important;padding-left:1.5rem !important}.bootstrap .py-md-4{padding-top:1.5rem !important;padding-bottom:1.5rem !important}.bootstrap .p-md-5{padding:3rem 3rem !important}.bootstrap .pt-md-5{padding-top:3rem !important}.bootstrap .pr-md-5{padding-right:3rem !important}.bootstrap .pb-md-5{padding-bottom:3rem !important}.bootstrap .pl-md-5{padding-left:3rem !important}.bootstrap .px-md-5{padding-right:3rem !important;padding-left:3rem !important}.bootstrap .py-md-5{padding-top:3rem !important;padding-bottom:3rem !important}.bootstrap .m-md-auto{margin:auto !important}.bootstrap .mt-md-auto{margin-top:auto !important}.bootstrap .mr-md-auto{margin-right:auto !important}.bootstrap .mb-md-auto{margin-bottom:auto !important}.bootstrap .ml-md-auto{margin-left:auto !important}.bootstrap .mx-md-auto{margin-right:auto !important;margin-left:auto !important}.bootstrap .my-md-auto{margin-top:auto !important;margin-bottom:auto !important}}@media (min-width: 992px){.bootstrap .m-lg-0{margin:0 0 !important}.bootstrap .mt-lg-0{margin-top:0 !important}.bootstrap .mr-lg-0{margin-right:0 !important}.bootstrap .mb-lg-0{margin-bottom:0 !important}.bootstrap .ml-lg-0{margin-left:0 !important}.bootstrap .mx-lg-0{margin-right:0 !important;margin-left:0 !important}.bootstrap .my-lg-0{margin-top:0 !important;margin-bottom:0 !important}.bootstrap .m-lg-1{margin:0.25rem 0.25rem !important}.bootstrap .mt-lg-1{margin-top:0.25rem !important}.bootstrap .mr-lg-1{margin-right:0.25rem !important}.bootstrap .mb-lg-1{margin-bottom:0.25rem !important}.bootstrap .ml-lg-1{margin-left:0.25rem !important}.bootstrap .mx-lg-1{margin-right:.25rem !important;margin-left:0.25rem !important}.bootstrap .my-lg-1{margin-top:.25rem !important;margin-bottom:0.25rem !important}.bootstrap .m-lg-2{margin:0.5rem 0.5rem !important}.bootstrap .mt-lg-2{margin-top:0.5rem !important}.bootstrap .mr-lg-2{margin-right:0.5rem !important}.bootstrap .mb-lg-2{margin-bottom:0.5rem !important}.bootstrap .ml-lg-2{margin-left:0.5rem !important}.bootstrap .mx-lg-2{margin-right:.5rem !important;margin-left:0.5rem !important}.bootstrap .my-lg-2{margin-top:.5rem !important;margin-bottom:0.5rem !important}.bootstrap .m-lg-3{margin:1rem 1rem !important}.bootstrap .mt-lg-3{margin-top:1rem !important}.bootstrap .mr-lg-3{margin-right:1rem !important}.bootstrap .mb-lg-3{margin-bottom:1rem !important}.bootstrap .ml-lg-3{margin-left:1rem !important}.bootstrap .mx-lg-3{margin-right:1rem !important;margin-left:1rem !important}.bootstrap .my-lg-3{margin-top:1rem !important;margin-bottom:1rem !important}.bootstrap .m-lg-4{margin:1.5rem 1.5rem !important}.bootstrap .mt-lg-4{margin-top:1.5rem !important}.bootstrap .mr-lg-4{margin-right:1.5rem !important}.bootstrap .mb-lg-4{margin-bottom:1.5rem !important}.bootstrap .ml-lg-4{margin-left:1.5rem !important}.bootstrap .mx-lg-4{margin-right:1.5rem !important;margin-left:1.5rem !important}.bootstrap .my-lg-4{margin-top:1.5rem !important;margin-bottom:1.5rem !important}.bootstrap .m-lg-5{margin:3rem 3rem !important}.bootstrap .mt-lg-5{margin-top:3rem !important}.bootstrap .mr-lg-5{margin-right:3rem !important}.bootstrap .mb-lg-5{margin-bottom:3rem !important}.bootstrap .ml-lg-5{margin-left:3rem !important}.bootstrap .mx-lg-5{margin-right:3rem !important;margin-left:3rem !important}.bootstrap .my-lg-5{margin-top:3rem !important;margin-bottom:3rem !important}.bootstrap .p-lg-0{padding:0 0 !important}.bootstrap .pt-lg-0{padding-top:0 !important}.bootstrap .pr-lg-0{padding-right:0 !important}.bootstrap .pb-lg-0{padding-bottom:0 !important}.bootstrap .pl-lg-0{padding-left:0 !important}.bootstrap .px-lg-0{padding-right:0 !important;padding-left:0 !important}.bootstrap .py-lg-0{padding-top:0 !important;padding-bottom:0 !important}.bootstrap .p-lg-1{padding:0.25rem 0.25rem !important}.bootstrap .pt-lg-1{padding-top:0.25rem !important}.bootstrap .pr-lg-1{padding-right:0.25rem !important}.bootstrap .pb-lg-1{padding-bottom:0.25rem !important}.bootstrap .pl-lg-1{padding-left:0.25rem !important}.bootstrap .px-lg-1{padding-right:.25rem !important;padding-left:0.25rem !important}.bootstrap .py-lg-1{padding-top:.25rem !important;padding-bottom:0.25rem !important}.bootstrap .p-lg-2{padding:0.5rem 0.5rem !important}.bootstrap .pt-lg-2{padding-top:0.5rem !important}.bootstrap .pr-lg-2{padding-right:0.5rem !important}.bootstrap .pb-lg-2{padding-bottom:0.5rem !important}.bootstrap .pl-lg-2{padding-left:0.5rem !important}.bootstrap .px-lg-2{padding-right:.5rem !important;padding-left:0.5rem !important}.bootstrap .py-lg-2{padding-top:.5rem !important;padding-bottom:0.5rem !important}.bootstrap .p-lg-3{padding:1rem 1rem !important}.bootstrap .pt-lg-3{padding-top:1rem !important}.bootstrap .pr-lg-3{padding-right:1rem !important}.bootstrap .pb-lg-3{padding-bottom:1rem !important}.bootstrap .pl-lg-3{padding-left:1rem !important}.bootstrap .px-lg-3{padding-right:1rem !important;padding-left:1rem !important}.bootstrap .py-lg-3{padding-top:1rem !important;padding-bottom:1rem !important}.bootstrap .p-lg-4{padding:1.5rem 1.5rem !important}.bootstrap .pt-lg-4{padding-top:1.5rem !important}.bootstrap .pr-lg-4{padding-right:1.5rem !important}.bootstrap .pb-lg-4{padding-bottom:1.5rem !important}.bootstrap .pl-lg-4{padding-left:1.5rem !important}.bootstrap .px-lg-4{padding-right:1.5rem !important;padding-left:1.5rem !important}.bootstrap .py-lg-4{padding-top:1.5rem !important;padding-bottom:1.5rem !important}.bootstrap .p-lg-5{padding:3rem 3rem !important}.bootstrap .pt-lg-5{padding-top:3rem !important}.bootstrap .pr-lg-5{padding-right:3rem !important}.bootstrap .pb-lg-5{padding-bottom:3rem !important}.bootstrap .pl-lg-5{padding-left:3rem !important}.bootstrap .px-lg-5{padding-right:3rem !important;padding-left:3rem !important}.bootstrap .py-lg-5{padding-top:3rem !important;padding-bottom:3rem !important}.bootstrap .m-lg-auto{margin:auto !important}.bootstrap .mt-lg-auto{margin-top:auto !important}.bootstrap .mr-lg-auto{margin-right:auto !important}.bootstrap .mb-lg-auto{margin-bottom:auto !important}.bootstrap .ml-lg-auto{margin-left:auto !important}.bootstrap .mx-lg-auto{margin-right:auto !important;margin-left:auto !important}.bootstrap .my-lg-auto{margin-top:auto !important;margin-bottom:auto !important}}@media (min-width: 1200px){.bootstrap .m-xl-0{margin:0 0 !important}.bootstrap .mt-xl-0{margin-top:0 !important}.bootstrap .mr-xl-0{margin-right:0 !important}.bootstrap .mb-xl-0{margin-bottom:0 !important}.bootstrap .ml-xl-0{margin-left:0 !important}.bootstrap .mx-xl-0{margin-right:0 !important;margin-left:0 !important}.bootstrap .my-xl-0{margin-top:0 !important;margin-bottom:0 !important}.bootstrap .m-xl-1{margin:0.25rem 0.25rem !important}.bootstrap .mt-xl-1{margin-top:0.25rem !important}.bootstrap .mr-xl-1{margin-right:0.25rem !important}.bootstrap .mb-xl-1{margin-bottom:0.25rem !important}.bootstrap .ml-xl-1{margin-left:0.25rem !important}.bootstrap .mx-xl-1{margin-right:.25rem !important;margin-left:0.25rem !important}.bootstrap .my-xl-1{margin-top:.25rem !important;margin-bottom:0.25rem !important}.bootstrap .m-xl-2{margin:0.5rem 0.5rem !important}.bootstrap .mt-xl-2{margin-top:0.5rem !important}.bootstrap .mr-xl-2{margin-right:0.5rem !important}.bootstrap .mb-xl-2{margin-bottom:0.5rem !important}.bootstrap .ml-xl-2{margin-left:0.5rem !important}.bootstrap .mx-xl-2{margin-right:.5rem !important;margin-left:0.5rem !important}.bootstrap .my-xl-2{margin-top:.5rem !important;margin-bottom:0.5rem !important}.bootstrap .m-xl-3{margin:1rem 1rem !important}.bootstrap .mt-xl-3{margin-top:1rem !important}.bootstrap .mr-xl-3{margin-right:1rem !important}.bootstrap .mb-xl-3{margin-bottom:1rem !important}.bootstrap .ml-xl-3{margin-left:1rem !important}.bootstrap .mx-xl-3{margin-right:1rem !important;margin-left:1rem !important}.bootstrap .my-xl-3{margin-top:1rem !important;margin-bottom:1rem !important}.bootstrap .m-xl-4{margin:1.5rem 1.5rem !important}.bootstrap .mt-xl-4{margin-top:1.5rem !important}.bootstrap .mr-xl-4{margin-right:1.5rem !important}.bootstrap .mb-xl-4{margin-bottom:1.5rem !important}.bootstrap .ml-xl-4{margin-left:1.5rem !important}.bootstrap .mx-xl-4{margin-right:1.5rem !important;margin-left:1.5rem !important}.bootstrap .my-xl-4{margin-top:1.5rem !important;margin-bottom:1.5rem !important}.bootstrap .m-xl-5{margin:3rem 3rem !important}.bootstrap .mt-xl-5{margin-top:3rem !important}.bootstrap .mr-xl-5{margin-right:3rem !important}.bootstrap .mb-xl-5{margin-bottom:3rem !important}.bootstrap .ml-xl-5{margin-left:3rem !important}.bootstrap .mx-xl-5{margin-right:3rem !important;margin-left:3rem !important}.bootstrap .my-xl-5{margin-top:3rem !important;margin-bottom:3rem !important}.bootstrap .p-xl-0{padding:0 0 !important}.bootstrap .pt-xl-0{padding-top:0 !important}.bootstrap .pr-xl-0{padding-right:0 !important}.bootstrap .pb-xl-0{padding-bottom:0 !important}.bootstrap .pl-xl-0{padding-left:0 !important}.bootstrap .px-xl-0{padding-right:0 !important;padding-left:0 !important}.bootstrap .py-xl-0{padding-top:0 !important;padding-bottom:0 !important}.bootstrap .p-xl-1{padding:0.25rem 0.25rem !important}.bootstrap .pt-xl-1{padding-top:0.25rem !important}.bootstrap .pr-xl-1{padding-right:0.25rem !important}.bootstrap .pb-xl-1{padding-bottom:0.25rem !important}.bootstrap .pl-xl-1{padding-left:0.25rem !important}.bootstrap .px-xl-1{padding-right:.25rem !important;padding-left:0.25rem !important}.bootstrap .py-xl-1{padding-top:.25rem !important;padding-bottom:0.25rem !important}.bootstrap .p-xl-2{padding:0.5rem 0.5rem !important}.bootstrap .pt-xl-2{padding-top:0.5rem !important}.bootstrap .pr-xl-2{padding-right:0.5rem !important}.bootstrap .pb-xl-2{padding-bottom:0.5rem !important}.bootstrap .pl-xl-2{padding-left:0.5rem !important}.bootstrap .px-xl-2{padding-right:.5rem !important;padding-left:0.5rem !important}.bootstrap .py-xl-2{padding-top:.5rem !important;padding-bottom:0.5rem !important}.bootstrap .p-xl-3{padding:1rem 1rem !important}.bootstrap .pt-xl-3{padding-top:1rem !important}.bootstrap .pr-xl-3{padding-right:1rem !important}.bootstrap .pb-xl-3{padding-bottom:1rem !important}.bootstrap .pl-xl-3{padding-left:1rem !important}.bootstrap .px-xl-3{padding-right:1rem !important;padding-left:1rem !important}.bootstrap .py-xl-3{padding-top:1rem !important;padding-bottom:1rem !important}.bootstrap .p-xl-4{padding:1.5rem 1.5rem !important}.bootstrap .pt-xl-4{padding-top:1.5rem !important}.bootstrap .pr-xl-4{padding-right:1.5rem !important}.bootstrap .pb-xl-4{padding-bottom:1.5rem !important}.bootstrap .pl-xl-4{padding-left:1.5rem !important}.bootstrap .px-xl-4{padding-right:1.5rem !important;padding-left:1.5rem !important}.bootstrap .py-xl-4{padding-top:1.5rem !important;padding-bottom:1.5rem !important}.bootstrap .p-xl-5{padding:3rem 3rem !important}.bootstrap .pt-xl-5{padding-top:3rem !important}.bootstrap .pr-xl-5{padding-right:3rem !important}.bootstrap .pb-xl-5{padding-bottom:3rem !important}.bootstrap .pl-xl-5{padding-left:3rem !important}.bootstrap .px-xl-5{padding-right:3rem !important;padding-left:3rem !important}.bootstrap .py-xl-5{padding-top:3rem !important;padding-bottom:3rem !important}.bootstrap .m-xl-auto{margin:auto !important}.bootstrap .mt-xl-auto{margin-top:auto !important}.bootstrap .mr-xl-auto{margin-right:auto !important}.bootstrap .mb-xl-auto{margin-bottom:auto !important}.bootstrap .ml-xl-auto{margin-left:auto !important}.bootstrap .mx-xl-auto{margin-right:auto !important;margin-left:auto !important}.bootstrap .my-xl-auto{margin-top:auto !important;margin-bottom:auto !important}}.bootstrap .text-justify{text-align:justify !important}.bootstrap .text-nowrap{white-space:nowrap !important}.bootstrap .text-truncate{overflow:hidden;text-overflow:ellipsis;white-space:nowrap}.bootstrap .text-left{text-align:left !important}.bootstrap .text-right{text-align:right !important}.bootstrap .text-center{text-align:center !important}@media (min-width: 576px){.bootstrap .text-sm-left{text-align:left !important}.bootstrap .text-sm-right{text-align:right !important}.bootstrap .text-sm-center{text-align:center !important}}@media (min-width: 768px){.bootstrap .text-md-left{text-align:left !important}.bootstrap .text-md-right{text-align:right !important}.bootstrap .text-md-center{text-align:center !important}}@media (min-width: 992px){.bootstrap .text-lg-left{text-align:left !important}.bootstrap .text-lg-right{text-align:right !important}.bootstrap .text-lg-center{text-align:center !important}}@media (min-width: 1200px){.bootstrap .text-xl-left{text-align:left !important}.bootstrap .text-xl-right{text-align:right !important}.bootstrap .text-xl-center{text-align:center !important}}.bootstrap .text-lowercase{text-transform:lowercase !important}.bootstrap .text-uppercase{text-transform:uppercase !important}.bootstrap .text-capitalize{text-transform:capitalize !important}.bootstrap .font-weight-normal{font-weight:400}.bootstrap .font-weight-bold{font-weight:700}.bootstrap .font-italic{font-style:italic}.bootstrap .text-white{color:#fff !important}.bootstrap .text-muted{color:#636c72 !important}.bootstrap a.text-muted:focus,.bootstrap a.text-muted:hover{color:#4b5257 !important}.bootstrap .text-primary{color:#0275d8 !important}.bootstrap a.text-primary:focus,.bootstrap a.text-primary:hover{color:#025aa5 !important}.bootstrap .text-success{color:#5cb85c !important}.bootstrap a.text-success:focus,.bootstrap a.text-success:hover{color:#449d44 !important}.bootstrap .text-info{color:#5bc0de !important}.bootstrap a.text-info:focus,.bootstrap a.text-info:hover{color:#31b0d5 !important}.bootstrap .text-warning{color:#f0ad4e !important}.bootstrap a.text-warning:focus,.bootstrap a.text-warning:hover{color:#ec971f !important}.bootstrap .text-danger{color:#d9534f !important}.bootstrap a.text-danger:focus,.bootstrap a.text-danger:hover{color:#c9302c !important}.bootstrap .text-gray-dark{color:#292b2c !important}.bootstrap a.text-gray-dark:focus,.bootstrap a.text-gray-dark:hover{color:#101112 !important}.bootstrap .text-hide{font:0/0 a;color:transparent;text-shadow:none;background-color:transparent;border:0}.bootstrap .invisible{visibility:hidden !important}.bootstrap .hidden-xs-up{display:none !important}@media (max-width: 575px){.bootstrap .hidden-xs-down{display:none !important}}@media (min-width: 576px){.bootstrap .hidden-sm-up{display:none !important}}@media (max-width: 767px){.bootstrap .hidden-sm-down{display:none !important}}@media (min-width: 768px){.bootstrap .hidden-md-up{display:none !important}}@media (max-width: 991px){.bootstrap .hidden-md-down{display:none !important}}@media (min-width: 992px){.bootstrap .hidden-lg-up{display:none !important}}@media (max-width: 1199px){.bootstrap .hidden-lg-down{display:none !important}}@media (min-width: 1200px){.bootstrap .hidden-xl-up{display:none !important}}.bootstrap .hidden-xl-down{display:none !important}.bootstrap .visible-print-block{display:none !important}@media print{.bootstrap .visible-print-block{display:block !important}}.bootstrap .visible-print-inline{display:none !important}@media print{.bootstrap .visible-print-inline{display:inline !important}}.bootstrap .visible-print-inline-block{display:none !important}@media print{.bootstrap .visible-print-inline-block{display:inline-block !important}}@media print{.bootstrap .hidden-print{display:none !important}}.bootstrap .btn-default,.bootstrap .btn-primary,.bootstrap .btn-success,.bootstrap .btn-info,.bootstrap .btn-warning,.bootstrap .btn-danger{text-shadow:0 -1px 0 rgba(0, 0, 0, 0.2);-webkit-box-shadow:inset 0 1px 0 rgba(255, 255, 255, 0.15), 0 1px 1px rgba(0, 0, 0, 0.075);box-shadow:inset 0 1px 0 rgba(255, 255, 255, 0.15), 0 1px 1px rgba(0, 0, 0, 0.075)}.bootstrap .btn-default:active,.bootstrap .btn-primary:active,.bootstrap .btn-success:active,.bootstrap .btn-info:active,.bootstrap .btn-warning:active,.bootstrap .btn-danger:active,.bootstrap .btn-default.active,.bootstrap .btn-primary.active,.bootstrap .btn-success.active,.bootstrap .btn-info.active,.bootstrap .btn-warning.active,.bootstrap .btn-danger.active{-webkit-box-shadow:inset 0 3px 5px rgba(0, 0, 0, 0.125);box-shadow:inset 0 3px 5px rgba(0, 0, 0, 0.125)}.bootstrap .btn-default.disabled,.bootstrap .btn-primary.disabled,.bootstrap .btn-success.disabled,.bootstrap .btn-info.disabled,.bootstrap .btn-warning.disabled,.bootstrap .btn-danger.disabled,.bootstrap .btn-default[disabled],.bootstrap .btn-primary[disabled],.bootstrap .btn-success[disabled],.bootstrap .btn-info[disabled],.bootstrap .btn-warning[disabled],.bootstrap .btn-danger[disabled],.bootstrap fieldset[disabled] .btn-default,.bootstrap fieldset[disabled] .btn-primary,.bootstrap fieldset[disabled] .btn-success,.bootstrap fieldset[disabled] .btn-info,.bootstrap fieldset[disabled] .btn-warning,.bootstrap fieldset[disabled] .btn-danger{-webkit-box-shadow:none;box-shadow:none}.bootstrap .btn-default .badge,.bootstrap .btn-primary .badge,.bootstrap .btn-success .badge,.bootstrap .btn-info .badge,.bootstrap .btn-warning .badge,.bootstrap .btn-danger .badge{text-shadow:none}.bootstrap .btn:active,.bootstrap .btn.active{background-image:none}.bootstrap .btn-default{background-image:-webkit-linear-gradient(top, #fff 0, #e0e0e0 100%);background-image:-o-linear-gradient(top, #fff 0, #e0e0e0 100%);background-image:-webkit-gradient(linear, left top, left bottom, color-stop(0, #fff), to(#e0e0e0));background-image:linear-gradient(to bottom, #fff 0, #e0e0e0 100%);filter:progid:DXImageTransform.Microsoft.gradient(startColorstr='#ffffffff', endColorstr='#ffe0e0e0', GradientType=0);filter:progid:DXImageTransform.Microsoft.gradient(enabled=false);background-repeat:repeat-x;border-color:#dbdbdb;text-shadow:0 1px 0 #fff;border-color:#ccc}.bootstrap .btn-default:hover,.bootstrap .btn-default:focus{background-color:#e0e0e0;background-position:0 -15px}.bootstrap .btn-default:active,.bootstrap .btn-default.active{background-color:#e0e0e0;border-color:#dbdbdb}.bootstrap .btn-default.disabled,.bootstrap .btn-default[disabled],.bootstrap fieldset[disabled] .btn-default,.bootstrap .btn-default.disabled:hover,.bootstrap .btn-default[disabled]:hover,.bootstrap fieldset[disabled] .btn-default:hover,.bootstrap .btn-default.disabled:focus,.bootstrap .btn-default[disabled]:focus,.bootstrap fieldset[disabled] .btn-default:focus,.bootstrap .btn-default.disabled.focus,.bootstrap .btn-default[disabled].focus,.bootstrap fieldset[disabled] .btn-default.focus,.bootstrap .btn-default.disabled:active,.bootstrap .btn-default[disabled]:active,.bootstrap fieldset[disabled] .btn-default:active,.bootstrap .btn-default.disabled.active,.bootstrap .btn-default[disabled].active,.bootstrap fieldset[disabled] .btn-default.active{background-color:#e0e0e0;background-image:none}.bootstrap .btn-primary{background-image:-webkit-linear-gradient(top, #337ab7 0, #265a88 100%);background-image:-o-linear-gradient(top, #337ab7 0, #265a88 100%);background-image:-webkit-gradient(linear, left top, left bottom, color-stop(0, #337ab7), to(#265a88));background-image:linear-gradient(to bottom, #337ab7 0, #265a88 100%);filter:progid:DXImageTransform.Microsoft.gradient(startColorstr='#ff337ab7', endColorstr='#ff265a88', GradientType=0);filter:progid:DXImageTransform.Microsoft.gradient(enabled=false);background-repeat:repeat-x;border-color:#245580}.bootstrap .btn-primary:hover,.bootstrap .btn-primary:focus{background-color:#265a88;background-position:0 -15px}.bootstrap .btn-primary:active,.bootstrap .btn-primary.active{background-color:#265a88;border-color:#245580}.bootstrap .btn-primary.disabled,.bootstrap .btn-primary[disabled],.bootstrap fieldset[disabled] .btn-primary,.bootstrap .btn-primary.disabled:hover,.bootstrap .btn-primary[disabled]:hover,.bootstrap fieldset[disabled] .btn-primary:hover,.bootstrap .btn-primary.disabled:focus,.bootstrap .btn-primary[disabled]:focus,.bootstrap fieldset[disabled] .btn-primary:focus,.bootstrap .btn-primary.disabled.focus,.bootstrap .btn-primary[disabled].focus,.bootstrap fieldset[disabled] .btn-primary.focus,.bootstrap .btn-primary.disabled:active,.bootstrap .btn-primary[disabled]:active,.bootstrap fieldset[disabled] .btn-primary:active,.bootstrap .btn-primary.disabled.active,.bootstrap .btn-primary[disabled].active,.bootstrap fieldset[disabled] .btn-primary.active{background-color:#265a88;background-image:none}.bootstrap .btn-success{background-image:-webkit-linear-gradient(top, #5cb85c 0, #419641 100%);background-image:-o-linear-gradient(top, #5cb85c 0, #419641 100%);background-image:-webkit-gradient(linear, left top, left bottom, color-stop(0, #5cb85c), to(#419641));background-image:linear-gradient(to bottom, #5cb85c 0, #419641 100%);filter:progid:DXImageTransform.Microsoft.gradient(startColorstr='#ff5cb85c', endColorstr='#ff419641', GradientType=0);filter:progid:DXImageTransform.Microsoft.gradient(enabled=false);background-repeat:repeat-x;border-color:#3e8f3e}.bootstrap .btn-success:hover,.bootstrap .btn-success:focus{background-color:#419641;background-position:0 -15px}.bootstrap .btn-success:active,.bootstrap .btn-success.active{background-color:#419641;border-color:#3e8f3e}.bootstrap .btn-success.disabled,.bootstrap .btn-success[disabled],.bootstrap fieldset[disabled] .btn-success,.bootstrap .btn-success.disabled:hover,.bootstrap .btn-success[disabled]:hover,.bootstrap fieldset[disabled] .btn-success:hover,.bootstrap .btn-success.disabled:focus,.bootstrap .btn-success[disabled]:focus,.bootstrap fieldset[disabled] .btn-success:focus,.bootstrap .btn-success.disabled.focus,.bootstrap .btn-success[disabled].focus,.bootstrap fieldset[disabled] .btn-success.focus,.bootstrap .btn-success.disabled:active,.bootstrap .btn-success[disabled]:active,.bootstrap fieldset[disabled] .btn-success:active,.bootstrap .btn-success.disabled.active,.bootstrap .btn-success[disabled].active,.bootstrap fieldset[disabled] .btn-success.active{background-color:#419641;background-image:none}.bootstrap .btn-info{background-image:-webkit-linear-gradient(top, #5bc0de 0, #2aabd2 100%);background-image:-o-linear-gradient(top, #5bc0de 0, #2aabd2 100%);background-image:-webkit-gradient(linear, left top, left bottom, color-stop(0, #5bc0de), to(#2aabd2));background-image:linear-gradient(to bottom, #5bc0de 0, #2aabd2 100%);filter:progid:DXImageTransform.Microsoft.gradient(startColorstr='#ff5bc0de', endColorstr='#ff2aabd2', GradientType=0);filter:progid:DXImageTransform.Microsoft.gradient(enabled=false);background-repeat:repeat-x;border-color:#28a4c9}.bootstrap .btn-info:hover,.bootstrap .btn-info:focus{background-color:#2aabd2;background-position:0 -15px}.bootstrap .btn-info:active,.bootstrap .btn-info.active{background-color:#2aabd2;border-color:#28a4c9}.bootstrap .btn-info.disabled,.bootstrap .btn-info[disabled],.bootstrap fieldset[disabled] .btn-info,.bootstrap .btn-info.disabled:hover,.bootstrap .btn-info[disabled]:hover,.bootstrap fieldset[disabled] .btn-info:hover,.bootstrap .btn-info.disabled:focus,.bootstrap .btn-info[disabled]:focus,.bootstrap fieldset[disabled] .btn-info:focus,.bootstrap .btn-info.disabled.focus,.bootstrap .btn-info[disabled].focus,.bootstrap fieldset[disabled] .btn-info.focus,.bootstrap .btn-info.disabled:active,.bootstrap .btn-info[disabled]:active,.bootstrap fieldset[disabled] .btn-info:active,.bootstrap .btn-info.disabled.active,.bootstrap .btn-info[disabled].active,.bootstrap fieldset[disabled] .btn-info.active{background-color:#2aabd2;background-image:none}.bootstrap .btn-warning{background-image:-webkit-linear-gradient(top, #f0ad4e 0, #eb9316 100%);background-image:-o-linear-gradient(top, #f0ad4e 0, #eb9316 100%);background-image:-webkit-gradient(linear, left top, left bottom, color-stop(0, #f0ad4e), to(#eb9316));background-image:linear-gradient(to bottom, #f0ad4e 0, #eb9316 100%);filter:progid:DXImageTransform.Microsoft.gradient(startColorstr='#fff0ad4e', endColorstr='#ffeb9316', GradientType=0);filter:progid:DXImageTransform.Microsoft.gradient(enabled=false);background-repeat:repeat-x;border-color:#e38d13}.bootstrap .btn-warning:hover,.bootstrap .btn-warning:focus{background-color:#eb9316;background-position:0 -15px}.bootstrap .btn-warning:active,.bootstrap .btn-warning.active{background-color:#eb9316;border-color:#e38d13}.bootstrap .btn-warning.disabled,.bootstrap .btn-warning[disabled],.bootstrap fieldset[disabled] .btn-warning,.bootstrap .btn-warning.disabled:hover,.bootstrap .btn-warning[disabled]:hover,.bootstrap fieldset[disabled] .btn-warning:hover,.bootstrap .btn-warning.disabled:focus,.bootstrap .btn-warning[disabled]:focus,.bootstrap fieldset[disabled] .btn-warning:focus,.bootstrap .btn-warning.disabled.focus,.bootstrap .btn-warning[disabled].focus,.bootstrap fieldset[disabled] .btn-warning.focus,.bootstrap .btn-warning.disabled:active,.bootstrap .btn-warning[disabled]:active,.bootstrap fieldset[disabled] .btn-warning:active,.bootstrap .btn-warning.disabled.active,.bootstrap .btn-warning[disabled].active,.bootstrap fieldset[disabled] .btn-warning.active{background-color:#eb9316;background-image:none}.bootstrap .btn-danger{background-image:-webkit-linear-gradient(top, #d9534f 0, #c12e2a 100%);background-image:-o-linear-gradient(top, #d9534f 0, #c12e2a 100%);background-image:-webkit-gradient(linear, left top, left bottom, color-stop(0, #d9534f), to(#c12e2a));background-image:linear-gradient(to bottom, #d9534f 0, #c12e2a 100%);filter:progid:DXImageTransform.Microsoft.gradient(startColorstr='#ffd9534f', endColorstr='#ffc12e2a', GradientType=0);filter:progid:DXImageTransform.Microsoft.gradient(enabled=false);background-repeat:repeat-x;border-color:#b92c28}.bootstrap .btn-danger:hover,.bootstrap .btn-danger:focus{background-color:#c12e2a;background-position:0 -15px}.bootstrap .btn-danger:active,.bootstrap .btn-danger.active{background-color:#c12e2a;border-color:#b92c28}.bootstrap .btn-danger.disabled,.bootstrap .btn-danger[disabled],.bootstrap fieldset[disabled] .btn-danger,.bootstrap .btn-danger.disabled:hover,.bootstrap .btn-danger[disabled]:hover,.bootstrap fieldset[disabled] .btn-danger:hover,.bootstrap .btn-danger.disabled:focus,.bootstrap .btn-danger[disabled]:focus,.bootstrap fieldset[disabled] .btn-danger:focus,.bootstrap .btn-danger.disabled.focus,.bootstrap .btn-danger[disabled].focus,.bootstrap fieldset[disabled] .btn-danger.focus,.bootstrap .btn-danger.disabled:active,.bootstrap .btn-danger[disabled]:active,.bootstrap fieldset[disabled] .btn-danger:active,.bootstrap .btn-danger.disabled.active,.bootstrap .btn-danger[disabled].active,.bootstrap fieldset[disabled] .btn-danger.active{background-color:#c12e2a;background-image:none}.bootstrap .thumbnail,.bootstrap .img-thumbnail{-webkit-box-shadow:0 1px 2px rgba(0, 0, 0, 0.075);box-shadow:0 1px 2px rgba(0, 0, 0, 0.075)}.bootstrap .dropdown-menu > li > a:hover,.bootstrap .dropdown-menu > li > a:focus{background-image:-webkit-linear-gradient(top, #f5f5f5 0, #e8e8e8 100%);background-image:-o-linear-gradient(top, #f5f5f5 0, #e8e8e8 100%);background-image:-webkit-gradient(linear, left top, left bottom, color-stop(0, #f5f5f5), to(#e8e8e8));background-image:linear-gradient(to bottom, #f5f5f5 0, #e8e8e8 100%);background-repeat:repeat-x;filter:progid:DXImageTransform.Microsoft.gradient(startColorstr='#fff5f5f5', endColorstr='#ffe8e8e8', GradientType=0);background-color:#e8e8e8}.bootstrap .dropdown-menu > .active > a,.bootstrap .dropdown-menu > .active > a:hover,.bootstrap .dropdown-menu > .active > a:focus{background-image:-webkit-linear-gradient(top, #337ab7 0, #2e6da4 100%);background-image:-o-linear-gradient(top, #337ab7 0, #2e6da4 100%);background-image:-webkit-gradient(linear, left top, left bottom, color-stop(0, #337ab7), to(#2e6da4));background-image:linear-gradient(to bottom, #337ab7 0, #2e6da4 100%);background-repeat:repeat-x;filter:progid:DXImageTransform.Microsoft.gradient(startColorstr='#ff337ab7', endColorstr='#ff2e6da4', GradientType=0);background-color:#2e6da4}.bootstrap .navbar-default{background-image:-webkit-linear-gradient(top, #fff 0, #f8f8f8 100%);background-image:-o-linear-gradient(top, #fff 0, #f8f8f8 100%);background-image:-webkit-gradient(linear, left top, left bottom, color-stop(0, #fff), to(#f8f8f8));background-image:linear-gradient(to bottom, #fff 0, #f8f8f8 100%);background-repeat:repeat-x;filter:progid:DXImageTransform.Microsoft.gradient(startColorstr='#ffffffff', endColorstr='#fff8f8f8', GradientType=0);filter:progid:DXImageTransform.Microsoft.gradient(enabled=false);border-radius:4px;-webkit-box-shadow:inset 0 1px 0 rgba(255, 255, 255, 0.15), 0 1px 5px rgba(0, 0, 0, 0.075);box-shadow:inset 0 1px 0 rgba(255, 255, 255, 0.15), 0 1px 5px rgba(0, 0, 0, 0.075)}.bootstrap .navbar-default .navbar-nav > .open > a,.bootstrap .navbar-default .navbar-nav > .active > a{background-image:-webkit-linear-gradient(top, #dbdbdb 0, #e2e2e2 100%);background-image:-o-linear-gradient(top, #dbdbdb 0, #e2e2e2 100%);background-image:-webkit-gradient(linear, left top, left bottom, color-stop(0, #dbdbdb), to(#e2e2e2));background-image:linear-gradient(to bottom, #dbdbdb 0, #e2e2e2 100%);background-repeat:repeat-x;filter:progid:DXImageTransform.Microsoft.gradient(startColorstr='#ffdbdbdb', endColorstr='#ffe2e2e2', GradientType=0);-webkit-box-shadow:inset 0 3px 9px rgba(0, 0, 0, 0.075);box-shadow:inset 0 3px 9px rgba(0, 0, 0, 0.075)}.bootstrap .navbar-brand,.bootstrap .navbar-nav > li > a{text-shadow:0 1px 0 rgba(255, 255, 255, 0.25)}.bootstrap .navbar-inverse{background-image:-webkit-linear-gradient(top, #3c3c3c 0, #222 100%);background-image:-o-linear-gradient(top, #3c3c3c 0, #222 100%);background-image:-webkit-gradient(linear, left top, left bottom, color-stop(0, #3c3c3c), to(#222));background-image:linear-gradient(to bottom, #3c3c3c 0, #222 100%);background-repeat:repeat-x;filter:progid:DXImageTransform.Microsoft.gradient(startColorstr='#ff3c3c3c', endColorstr='#ff222222', GradientType=0);filter:progid:DXImageTransform.Microsoft.gradient(enabled=false);border-radius:4px}.bootstrap .navbar-inverse .navbar-nav > .open > a,.bootstrap .navbar-inverse .navbar-nav > .active > a{background-image:-webkit-linear-gradient(top, #080808 0, #0f0f0f 100%);background-image:-o-linear-gradient(top, #080808 0, #0f0f0f 100%);background-image:-webkit-gradient(linear, left top, left bottom, color-stop(0, #080808), to(#0f0f0f));background-image:linear-gradient(to bottom, #080808 0, #0f0f0f 100%);background-repeat:repeat-x;filter:progid:DXImageTransform.Microsoft.gradient(startColorstr='#ff080808', endColorstr='#ff0f0f0f', GradientType=0);-webkit-box-shadow:inset 0 3px 9px rgba(0, 0, 0, 0.25);box-shadow:inset 0 3px 9px rgba(0, 0, 0, 0.25)}.bootstrap .navbar-inverse .navbar-brand,.bootstrap .navbar-inverse .navbar-nav > li > a{text-shadow:0 -1px 0 rgba(0, 0, 0, 0.25)}.bootstrap .navbar-static-top,.bootstrap .navbar-fixed-top,.bootstrap .navbar-fixed-bottom{border-radius:0}@media (max-width: 767px){.bootstrap .navbar .navbar-nav .open .dropdown-menu > .active > a,.bootstrap .navbar .navbar-nav .open .dropdown-menu > .active > a:hover,.bootstrap .navbar .navbar-nav .open .dropdown-menu > .active > a:focus{color:#fff;background-image:-webkit-linear-gradient(top, #337ab7 0, #2e6da4 100%);background-image:-o-linear-gradient(top, #337ab7 0, #2e6da4 100%);background-image:-webkit-gradient(linear, left top, left bottom, color-stop(0, #337ab7), to(#2e6da4));background-image:linear-gradient(to bottom, #337ab7 0, #2e6da4 100%);background-repeat:repeat-x;filter:progid:DXImageTransform.Microsoft.gradient(startColorstr='#ff337ab7', endColorstr='#ff2e6da4', GradientType=0)}}.bootstrap .alert{text-shadow:0 1px 0 rgba(255, 255, 255, 0.2);-webkit-box-shadow:inset 0 1px 0 rgba(255, 255, 255, 0.25), 0 1px 2px rgba(0, 0, 0, 0.05);box-shadow:inset 0 1px 0 rgba(255, 255, 255, 0.25), 0 1px 2px rgba(0, 0, 0, 0.05)}.bootstrap .alert-success{background-image:-webkit-linear-gradient(top, #dff0d8 0, #c8e5bc 100%);background-image:-o-linear-gradient(top, #dff0d8 0, #c8e5bc 100%);background-image:-webkit-gradient(linear, left top, left bottom, color-stop(0, #dff0d8), to(#c8e5bc));background-image:linear-gradient(to bottom, #dff0d8 0, #c8e5bc 100%);background-repeat:repeat-x;filter:progid:DXImageTransform.Microsoft.gradient(startColorstr='#ffdff0d8', endColorstr='#ffc8e5bc', GradientType=0);border-color:#b2dba1}.bootstrap .alert-info{background-image:-webkit-linear-gradient(top, #d9edf7 0, #b9def0 100%);background-image:-o-linear-gradient(top, #d9edf7 0, #b9def0 100%);background-image:-webkit-gradient(linear, left top, left bottom, color-stop(0, #d9edf7), to(#b9def0));background-image:linear-gradient(to bottom, #d9edf7 0, #b9def0 100%);background-repeat:repeat-x;filter:progid:DXImageTransform.Microsoft.gradient(startColorstr='#ffd9edf7', endColorstr='#ffb9def0', GradientType=0);border-color:#9acfea}.bootstrap .alert-warning{background-image:-webkit-linear-gradient(top, #fcf8e3 0, #f8efc0 100%);background-image:-o-linear-gradient(top, #fcf8e3 0, #f8efc0 100%);background-image:-webkit-gradient(linear, left top, left bottom, color-stop(0, #fcf8e3), to(#f8efc0));background-image:linear-gradient(to bottom, #fcf8e3 0, #f8efc0 100%);background-repeat:repeat-x;filter:progid:DXImageTransform.Microsoft.gradient(startColorstr='#fffcf8e3', endColorstr='#fff8efc0', GradientType=0);border-color:#f5e79e}.bootstrap .alert-danger{background-image:-webkit-linear-gradient(top, #f2dede 0, #e7c3c3 100%);background-image:-o-linear-gradient(top, #f2dede 0, #e7c3c3 100%);background-image:-webkit-gradient(linear, left top, left bottom, color-stop(0, #f2dede), to(#e7c3c3));background-image:linear-gradient(to bottom, #f2dede 0, #e7c3c3 100%);background-repeat:repeat-x;filter:progid:DXImageTransform.Microsoft.gradient(startColorstr='#fff2dede', endColorstr='#ffe7c3c3', GradientType=0);border-color:#dca7a7}.bootstrap .progress{background-image:-webkit-linear-gradient(top, #ebebeb 0, #f5f5f5 100%);background-image:-o-linear-gradient(top, #ebebeb 0, #f5f5f5 100%);background-image:-webkit-gradient(linear, left top, left bottom, color-stop(0, #ebebeb), to(#f5f5f5));background-image:linear-gradient(to bottom, #ebebeb 0, #f5f5f5 100%);background-repeat:repeat-x;filter:progid:DXImageTransform.Microsoft.gradient(startColorstr='#ffebebeb', endColorstr='#fff5f5f5', GradientType=0)}.bootstrap .progress-bar{background-image:-webkit-linear-gradient(top, #337ab7 0, #286090 100%);background-image:-o-linear-gradient(top, #337ab7 0, #286090 100%);background-image:-webkit-gradient(linear, left top, left bottom, color-stop(0, #337ab7), to(#286090));background-image:linear-gradient(to bottom, #337ab7 0, #286090 100%);background-repeat:repeat-x;filter:progid:DXImageTransform.Microsoft.gradient(startColorstr='#ff337ab7', endColorstr='#ff286090', GradientType=0)}.bootstrap .progress-bar-success{background-image:-webkit-linear-gradient(top, #5cb85c 0, #449d44 100%);background-image:-o-linear-gradient(top, #5cb85c 0, #449d44 100%);background-image:-webkit-gradient(linear, left top, left bottom, color-stop(0, #5cb85c), to(#449d44));background-image:linear-gradient(to bottom, #5cb85c 0, #449d44 100%);background-repeat:repeat-x;filter:progid:DXImageTransform.Microsoft.gradient(startColorstr='#ff5cb85c', endColorstr='#ff449d44', GradientType=0)}.bootstrap .progress-bar-info{background-image:-webkit-linear-gradient(top, #5bc0de 0, #31b0d5 100%);background-image:-o-linear-gradient(top, #5bc0de 0, #31b0d5 100%);background-image:-webkit-gradient(linear, left top, left bottom, color-stop(0, #5bc0de), to(#31b0d5));background-image:linear-gradient(to bottom, #5bc0de 0, #31b0d5 100%);background-repeat:repeat-x;filter:progid:DXImageTransform.Microsoft.gradient(startColorstr='#ff5bc0de', endColorstr='#ff31b0d5', GradientType=0)}.bootstrap .progress-bar-warning{background-image:-webkit-linear-gradient(top, #f0ad4e 0, #ec971f 100%);background-image:-o-linear-gradient(top, #f0ad4e 0, #ec971f 100%);background-image:-webkit-gradient(linear, left top, left bottom, color-stop(0, #f0ad4e), to(#ec971f));background-image:linear-gradient(to bottom, #f0ad4e 0, #ec971f 100%);background-repeat:repeat-x;filter:progid:DXImageTransform.Microsoft.gradient(startColorstr='#fff0ad4e', endColorstr='#ffec971f', GradientType=0)}.bootstrap .progress-bar-danger{background-image:-webkit-linear-gradient(top, #d9534f 0, #c9302c 100%);background-image:-o-linear-gradient(top, #d9534f 0, #c9302c 100%);background-image:-webkit-gradient(linear, left top, left bottom, color-stop(0, #d9534f), to(#c9302c));background-image:linear-gradient(to bottom, #d9534f 0, #c9302c 100%);background-repeat:repeat-x;filter:progid:DXImageTransform.Microsoft.gradient(startColorstr='#ffd9534f', endColorstr='#ffc9302c', GradientType=0)}.bootstrap .progress-bar-striped{background-image:-webkit-linear-gradient(45deg, rgba(255, 255, 255, 0.15) 25%, transparent 25%, transparent 50%, rgba(255, 255, 255, 0.15) 50%, rgba(255, 255, 255, 0.15) 75%, transparent 75%, transparent);background-image:-o-linear-gradient(45deg, rgba(255, 255, 255, 0.15) 25%, transparent 25%, transparent 50%, rgba(255, 255, 255, 0.15) 50%, rgba(255, 255, 255, 0.15) 75%, transparent 75%, transparent);background-image:linear-gradient(45deg, rgba(255, 255, 255, 0.15) 25%, transparent 25%, transparent 50%, rgba(255, 255, 255, 0.15) 50%, rgba(255, 255, 255, 0.15) 75%, transparent 75%, transparent)}.bootstrap .list-group{border-radius:4px;-webkit-box-shadow:0 1px 2px rgba(0, 0, 0, 0.075);box-shadow:0 1px 2px rgba(0, 0, 0, 0.075)}.bootstrap .list-group-item.active,.bootstrap .list-group-item.active:hover,.bootstrap .list-group-item.active:focus{text-shadow:0 -1px 0 #286090;background-image:-webkit-linear-gradient(top, #337ab7 0, #2b669a 100%);background-image:-o-linear-gradient(top, #337ab7 0, #2b669a 100%);background-image:-webkit-gradient(linear, left top, left bottom, color-stop(0, #337ab7), to(#2b669a));background-image:linear-gradient(to bottom, #337ab7 0, #2b669a 100%);background-repeat:repeat-x;filter:progid:DXImageTransform.Microsoft.gradient(startColorstr='#ff337ab7', endColorstr='#ff2b669a', GradientType=0);border-color:#2b669a}.bootstrap .list-group-item.active .badge,.bootstrap .list-group-item.active:hover .badge,.bootstrap .list-group-item.active:focus .badge{text-shadow:none}.bootstrap .panel{-webkit-box-shadow:0 1px 2px rgba(0, 0, 0, 0.05);box-shadow:0 1px 2px rgba(0, 0, 0, 0.05)}.bootstrap .panel-default > .panel-heading{background-image:-webkit-linear-gradient(top, #f5f5f5 0, #e8e8e8 100%);background-image:-o-linear-gradient(top, #f5f5f5 0, #e8e8e8 100%);background-image:-webkit-gradient(linear, left top, left bottom, color-stop(0, #f5f5f5), to(#e8e8e8));background-image:linear-gradient(to bottom, #f5f5f5 0, #e8e8e8 100%);background-repeat:repeat-x;filter:progid:DXImageTransform.Microsoft.gradient(startColorstr='#fff5f5f5', endColorstr='#ffe8e8e8', GradientType=0)}.bootstrap .panel-primary > .panel-heading{background-image:-webkit-linear-gradient(top, #337ab7 0, #2e6da4 100%);background-image:-o-linear-gradient(top, #337ab7 0, #2e6da4 100%);background-image:-webkit-gradient(linear, left top, left bottom, color-stop(0, #337ab7), to(#2e6da4));background-image:linear-gradient(to bottom, #337ab7 0, #2e6da4 100%);background-repeat:repeat-x;filter:progid:DXImageTransform.Microsoft.gradient(startColorstr='#ff337ab7', endColorstr='#ff2e6da4', GradientType=0)}.bootstrap .panel-success > .panel-heading{background-image:-webkit-linear-gradient(top, #dff0d8 0, #d0e9c6 100%);background-image:-o-linear-gradient(top, #dff0d8 0, #d0e9c6 100%);background-image:-webkit-gradient(linear, left top, left bottom, color-stop(0, #dff0d8), to(#d0e9c6));background-image:linear-gradient(to bottom, #dff0d8 0, #d0e9c6 100%);background-repeat:repeat-x;filter:progid:DXImageTransform.Microsoft.gradient(startColorstr='#ffdff0d8', endColorstr='#ffd0e9c6', GradientType=0)}.bootstrap .panel-info > .panel-heading{background-image:-webkit-linear-gradient(top, #d9edf7 0, #c4e3f3 100%);background-image:-o-linear-gradient(top, #d9edf7 0, #c4e3f3 100%);background-image:-webkit-gradient(linear, left top, left bottom, color-stop(0, #d9edf7), to(#c4e3f3));background-image:linear-gradient(to bottom, #d9edf7 0, #c4e3f3 100%);background-repeat:repeat-x;filter:progid:DXImageTransform.Microsoft.gradient(startColorstr='#ffd9edf7', endColorstr='#ffc4e3f3', GradientType=0)}.bootstrap .panel-warning > .panel-heading{background-image:-webkit-linear-gradient(top, #fcf8e3 0, #faf2cc 100%);background-image:-o-linear-gradient(top, #fcf8e3 0, #faf2cc 100%);background-image:-webkit-gradient(linear, left top, left bottom, color-stop(0, #fcf8e3), to(#faf2cc));background-image:linear-gradient(to bottom, #fcf8e3 0, #faf2cc 100%);background-repeat:repeat-x;filter:progid:DXImageTransform.Microsoft.gradient(startColorstr='#fffcf8e3', endColorstr='#fffaf2cc', GradientType=0)}.bootstrap .panel-danger > .panel-heading{background-image:-webkit-linear-gradient(top, #f2dede 0, #ebcccc 100%);background-image:-o-linear-gradient(top, #f2dede 0, #ebcccc 100%);background-image:-webkit-gradient(linear, left top, left bottom, color-stop(0, #f2dede), to(#ebcccc));background-image:linear-gradient(to bottom, #f2dede 0, #ebcccc 100%);background-repeat:repeat-x;filter:progid:DXImageTransform.Microsoft.gradient(startColorstr='#fff2dede', endColorstr='#ffebcccc', GradientType=0)}.bootstrap .well{background-image:-webkit-linear-gradient(top, #e8e8e8 0, #f5f5f5 100%);background-image:-o-linear-gradient(top, #e8e8e8 0, #f5f5f5 100%);background-image:-webkit-gradient(linear, left top, left bottom, color-stop(0, #e8e8e8), to(#f5f5f5));background-image:linear-gradient(to bottom, #e8e8e8 0, #f5f5f5 100%);background-repeat:repeat-x;filter:progid:DXImageTransform.Microsoft.gradient(startColorstr='#ffe8e8e8', endColorstr='#fff5f5f5', GradientType=0);border-color:#dcdcdc;-webkit-box-shadow:inset 0 1px 3px rgba(0, 0, 0, 0.05), 0 1px 0 rgba(255, 255, 255, 0.1);box-shadow:inset 0 1px 3px rgba(0, 0, 0, 0.05), 0 1px 0 rgba(255, 255, 255, 0.1)}\n",
       "</style><style>/*\n",
       " CSS to override bootstrap or define custom styles\n",
       "*/\n",
       "\n",
       ".bootstrap .p {\n",
       " font-size: 18px;\n",
       "}\n",
       "\n",
       ".bootstrap .pull-right {\n",
       "    @extend .float-right;\n",
       "}\n",
       ".bootstrap .pull-left {\n",
       "    @extend .float-left;\n",
       "}\n",
       "</style>\n",
       "            </div>\n",
       "    <div class=\"bootstrap\">\n",
       "      <div class=\"container-fluid border\">\n",
       "        <div class=\"row border\">\n",
       "          <div class=\"col-6\">\n",
       "            <p><b>Data</b>: <a href=\"https://obdaac-tea.earthdatacloud.nasa.gov/ob-cumulus-prod-public/AQUA_MODIS.20020704_20250228.L3m.CU.CHL.chlor_a.9km.nc\" target=\"_blank\" class=\"btn btn-secondary btn-sm\">AQUA_MODIS.20020704_20250228.L3m.CU.CHL.chlor_a.9km.nc</a><p/>\n",
       "            <p><b>Size</b>: 15.97 MB</p>\n",
       "            <p><b>Cloud Hosted</b>: <span>True</span></p>\n",
       "          </div>\n",
       "          <div class=\"col-2 offset-sm-3 pull-right\">\n",
       "            \n",
       "          </div>\n",
       "        </div>\n",
       "      </div>\n",
       "    </div>\n",
       "    "
      ],
      "text/plain": [
       "Collection: {'ShortName': 'MODISA_L3m_CHL', 'Version': '2022.0'}\n",
       "Spatial coverage: {'HorizontalSpatialDomain': {'Geometry': {'BoundingRectangles': [{'EastBoundingCoordinate': 180, 'SouthBoundingCoordinate': -90, 'WestBoundingCoordinate': -180, 'NorthBoundingCoordinate': 90}]}}}\n",
       "Temporal coverage: {'RangeDateTime': {'EndingDateTime': '2025-02-28T23:59:59Z', 'BeginningDateTime': '2002-07-04T00:00:00Z'}}\n",
       "Size(MB): 15.967497825622559\n",
       "Data: ['https://obdaac-tea.earthdatacloud.nasa.gov/ob-cumulus-prod-public/AQUA_MODIS.20020704_20250228.L3m.CU.CHL.chlor_a.9km.nc']"
      ]
     },
     "execution_count": 7,
     "metadata": {},
     "output_type": "execute_result"
    }
   ],
   "source": [
    "results[0]\n"
   ]
  },
  {
   "cell_type": "code",
   "execution_count": 8,
   "id": "c7bd1ea3-0dc6-4469-ac8c-e218d6e8a353",
   "metadata": {},
   "outputs": [
    {
     "data": {
      "text/plain": [
       "True"
      ]
     },
     "execution_count": 8,
     "metadata": {},
     "output_type": "execute_result"
    }
   ],
   "source": [
    "results[0].cloud_hosted"
   ]
  },
  {
   "cell_type": "code",
   "execution_count": 9,
   "id": "189727f9-d271-439a-af36-d427a2f9d2bd",
   "metadata": {},
   "outputs": [],
   "source": [
    "# use only for initial download\n",
    "# paths = earthaccess.download(results, \"modis_data\") \n",
    "paths = ['/Users/ashrayuddaraju/Documents/GitHub/nsa25/modis_data/AQUA_MODIS.20020621_20200920.L3m.SCSU.CHL.chlor_a.4km.nc']"
   ]
  },
  {
   "cell_type": "code",
   "execution_count": 10,
   "id": "bf87113d-0245-449e-81d4-e4c897d79c00",
   "metadata": {},
   "outputs": [],
   "source": [
    "dataset = xr.open_dataset(paths[0])"
   ]
  },
  {
   "cell_type": "markdown",
   "id": "702eb29f-47be-44be-a96e-081cfa95a35f",
   "metadata": {},
   "source": [
    "# Plot the Data"
   ]
  },
  {
   "cell_type": "code",
   "execution_count": 11,
   "id": "eef142e7-d8ac-4a7c-b160-370b15763ee3",
   "metadata": {},
   "outputs": [],
   "source": [
    "array = np.log10(dataset[\"chlor_a\"])\n",
    "array.attrs.update(\n",
    "    {\n",
    "        \"units\": f'log10({dataset[\"chlor_a\"].attrs[\"units\"]})',\n",
    "    }\n",
    ")\n",
    "crs_proj = cartopy.crs.Robinson()\n",
    "crs_data = cartopy.crs.PlateCarree()"
   ]
  },
  {
   "cell_type": "code",
   "execution_count": 12,
   "id": "039a7d04-4150-4108-9449-5d1aced7f093",
   "metadata": {},
   "outputs": [
    {
     "data": {
      "image/png": "[encoded data removed]",
      "text/plain": [
       "<Figure size 1000x500 with 2 Axes>"
      ]
     },
     "metadata": {},
     "output_type": "display_data"
    }
   ],
   "source": [
    "fig = plt.figure(figsize=(10, 5))\n",
    "ax = fig.add_subplot(projection=crs_proj)\n",
    "array.plot(x=\"lon\", y=\"lat\", cmap=\"jet\", ax=ax, robust=True, transform=crs_data)\n",
    "ax.coastlines()\n",
    "ax.set_title(dataset.attrs[\"product_name\"])\n",
    "plt.show()"
   ]
  },
  {
   "cell_type": "code",
   "execution_count": 13,
   "id": "e7e6f800-9f50-4ea1-836a-6fa9d00bb44e",
   "metadata": {},
   "outputs": [],
   "source": [
    "tspan = (\"2022-09-20\", \"2023-09-20\")\n",
    "results = earthaccess.search_data(\n",
    "    short_name=\"MODISA_L3m_CHL\",\n",
    "    granule_name=\"*.8D*.9km*\",\n",
    "    temporal=tspan,\n",
    ")"
   ]
  },
  {
   "cell_type": "code",
   "execution_count": 14,
   "id": "30c2b80f-7915-4ec2-800e-9bf97c643fcf",
   "metadata": {},
   "outputs": [
    {
     "data": {
      "text/plain": [
       "47"
      ]
     },
     "execution_count": 14,
     "metadata": {},
     "output_type": "execute_result"
    }
   ],
   "source": [
    "len(results)"
   ]
  },
  {
   "cell_type": "code",
   "execution_count": 15,
   "id": "89f546f4-6833-438f-8a5f-1314f1b8e08b",
   "metadata": {},
   "outputs": [
    {
     "data": {
      "text/html": [
       "\n",
       "    <div id=\"73593787-bf7e-4f58-be59-74adc665a592\" style=\"height: 0px; display: none\">\n",
       "            <style>.bootstrap{font-family:sans-serif;line-height:1;-ms-text-size-adjust:100%;-webkit-text-size-adjust:100%}.bootstrap{margin:0;font-size:10px;}.bootstrap article,.bootstrap aside,.bootstrap footer,.bootstrap header,.bootstrap nav,.bootstrap section{display:block}.bootstrap h1{font-size:2em;margin:0.67em 0}.bootstrap figcaption,.bootstrap figure,.bootstrap main{display:block}.bootstrap figure{margin:1em 40px}.bootstrap hr{-webkit-box-sizing:content-box;box-sizing:content-box;height:0;overflow:visible}.bootstrap pre{font-family:monospace,monospace;font-size:1em}.bootstrap a{background-color:transparent;-webkit-text-decoration-skip:objects}.bootstrap a:active,.bootstrap a:hover{outline-width:0}.bootstrap abbr[title]{border-bottom:none;text-decoration:underline;text-decoration:underline dotted}.bootstrap b,.bootstrap strong{font-weight:inherit}.bootstrap b,.bootstrap strong{font-weight:bolder}.bootstrap code,.bootstrap kbd,.bootstrap samp{font-family:monospace,monospace;font-size:1em}.bootstrap dfn{font-style:italic}.bootstrap mark{background-color:#ff0;color:#000}.bootstrap small{font-size:80%}.bootstrap sub,.bootstrap sup{font-size:75%;line-height:0;position:relative;vertical-align:baseline}.bootstrap sub{bottom:-0.25em}.bootstrap sup{top:-0.5em}.bootstrap audio,.bootstrap video{display:inline-block}.bootstrap audio:not([controls]){display:none;height:0}.bootstrap img{border-style:none}.bootstrap svg:not(:root){overflow:hidden}.bootstrap button,.bootstrap input,.bootstrap optgroup,.bootstrap select,.bootstrap textarea{font-family:sans-serif;font-size:100%;line-height:1.15;margin:0}.bootstrap button,.bootstrap input{overflow:visible}.bootstrap button,.bootstrap select{text-transform:none}.bootstrap [type=reset],.bootstrap [type=submit],.bootstrap button,.bootstrap [type=button]{-webkit-appearance:button}.bootstrap [type=button]::-moz-focus-inner,.bootstrap [type=reset]::-moz-focus-inner,.bootstrap [type=submit]::-moz-focus-inner,.bootstrap button::-moz-focus-inner{border-style:none;padding:0}.bootstrap [type=button]:-moz-focusring,.bootstrap [type=reset]:-moz-focusring,.bootstrap [type=submit]:-moz-focusring,.bootstrap button:-moz-focusring{outline:1px dotted ButtonText}.bootstrap fieldset{border:1px solid silver;margin:0 2px;padding:0.35em 0.625em 0.75em}.bootstrap legend{-webkit-box-sizing:border-box;box-sizing:border-box;color:inherit;display:table;max-width:100%;padding:0;white-space:normal}.bootstrap progress{display:inline-block;vertical-align:baseline}.bootstrap textarea{overflow:auto}.bootstrap [type=checkbox],.bootstrap [type=radio]{-webkit-box-sizing:border-box;box-sizing:border-box;padding:0}.bootstrap [type=number]::-webkit-inner-spin-button,.bootstrap [type=number]::-webkit-outer-spin-button{height:auto}.bootstrap [type=search]{-webkit-appearance:textfield;outline-offset:-2px}.bootstrap [type=search]::-webkit-search-cancel-button,.bootstrap [type=search]::-webkit-search-decoration{-webkit-appearance:none}.bootstrap ::-webkit-file-upload-button{-webkit-appearance:button;font:inherit}.bootstrap details,.bootstrap menu{display:block}.bootstrap summary{display:list-item}.bootstrap canvas{display:inline-block}.bootstrap template{display:none}.bootstrap [hidden]{display:none}@media print{.bootstrap *,.bootstrap ::after,.bootstrap ::before,.bootstrap blockquote::first-letter,.bootstrap blockquote::first-line,.bootstrap div::first-letter,.bootstrap div::first-line,.bootstrap li::first-letter,.bootstrap li::first-line,.bootstrap p::first-letter,.bootstrap p::first-line{text-shadow:none !important;-webkit-box-shadow:none !important;box-shadow:none !important}.bootstrap a,.bootstrap a:visited{text-decoration:underline}.bootstrap abbr[title]::after{content:\" (\" attr(title) \")\"}.bootstrap pre{white-space:pre-wrap !important}.bootstrap blockquote,.bootstrap pre{border:1px solid #999;page-break-inside:avoid}.bootstrap thead{display:table-header-group}.bootstrap img,.bootstrap tr{page-break-inside:avoid}.bootstrap h2,.bootstrap h3,.bootstrap p{orphans:3;widows:3}.bootstrap h2,.bootstrap h3{page-break-after:avoid}.bootstrap .navbar{display:none}.bootstrap .badge{border:1px solid #000}.bootstrap .table{border-collapse:collapse !important}.bootstrap .table td,.bootstrap .table th{background-color:#fff !important}.bootstrap .table-bordered td,.bootstrap .table-bordered th{border:1px solid #ddd !important}}.bootstrap{-webkit-box-sizing:border-box;box-sizing:border-box}.bootstrap *,.bootstrap ::after,.bootstrap ::before{-webkit-box-sizing:inherit;box-sizing:inherit}@-ms-viewport{width:device-width}.bootstrap{-ms-overflow-style:scrollbar;-webkit-tap-highlight-color:transparent}.bootstrap{font-family:-apple-system, system-ui, BlinkMacSystemFont, \"Segoe UI\", Roboto, \"Helvetica Neue\", Arial, sans-serif;font-size:0.8rem;font-weight:400;line-height:1.5;color:#292b2c;background-color:#fff}.bootstrap [tabindex=\"-1\"]:focus{outline:0 !important}.bootstrap h1,.bootstrap h2,.bootstrap h3,.bootstrap h4,.bootstrap h5,.bootstrap h6{margin-top:0;margin-bottom:0.5rem}.bootstrap p{margin-top:0;margin-bottom:1rem}.bootstrap abbr[data-original-title],.bootstrap abbr[title]{cursor:help}.bootstrap address{margin-bottom:1rem;font-style:normal;line-height:inherit}.bootstrap dl,.bootstrap ol,.bootstrap ul{margin-top:0;margin-bottom:1rem}.bootstrap ol ol,.bootstrap ol ul,.bootstrap ul ol,.bootstrap ul ul{margin-bottom:0}.bootstrap dt{font-weight:700}.bootstrap dd{margin-bottom:.5rem;margin-left:0}.bootstrap blockquote{margin:0 0 1rem}.bootstrap a{color:#0275d8;text-decoration:none}.bootstrap a:focus,.bootstrap a:hover{color:#014c8c;text-decoration:underline}.bootstrap a:not([href]):not([tabindex]){color:inherit;text-decoration:none}.bootstrap a:not([href]):not([tabindex]):focus,.bootstrap a:not([href]):not([tabindex]):hover{color:inherit;text-decoration:none}.bootstrap a:not([href]):not([tabindex]):focus{outline:0}.bootstrap pre{margin-top:0;margin-bottom:1rem;overflow:auto}.bootstrap figure{margin:0 0 1rem}.bootstrap img{vertical-align:middle}.bootstrap [role=button]{cursor:pointer}.bootstrap [role=button],.bootstrap a,.bootstrap area,.bootstrap button,.bootstrap input,.bootstrap label,.bootstrap select,.bootstrap summary,.bootstrap textarea{-ms-touch-action:manipulation;touch-action:manipulation}.bootstrap table{border-collapse:collapse;background-color:transparent}.bootstrap caption{padding-top:.75rem;padding-bottom:.75rem;color:#636c72;text-align:left;caption-side:bottom}.bootstrap th{text-align:left}.bootstrap label{display:inline-block;margin-bottom:0.5rem}.bootstrap button:focus{outline:1px dotted;outline:5px auto -webkit-focus-ring-color}.bootstrap button,.bootstrap input,.bootstrap select,.bootstrap textarea{line-height:inherit}.bootstrap input[type=checkbox]:disabled,.bootstrap input[type=radio]:disabled{cursor:not-allowed}.bootstrap input[type=date],.bootstrap input[type=time],.bootstrap input[type=datetime-local],.bootstrap input[type=month]{-webkit-appearance:listbox}.bootstrap textarea{resize:vertical}.bootstrap fieldset{min-width:0;padding:0;margin:0;border:0}.bootstrap legend{display:block;width:100%;padding:0;margin-bottom:.5rem;font-size:1.5rem;line-height:inherit}.bootstrap input[type=search]{-webkit-appearance:none}.bootstrap output{display:inline-block}.bootstrap [hidden]{display:none !important}.bootstrap .h1,.bootstrap .h2,.bootstrap .h3,.bootstrap .h4,.bootstrap .h5,.bootstrap .h6,.bootstrap h1,.bootstrap h2,.bootstrap h3,.bootstrap h4,.bootstrap h5,.bootstrap h6{margin-bottom:.5rem;font-family:inherit;font-weight:500;line-height:1.1;color:inherit}.bootstrap .h1,.bootstrap h1{font-size:2.5rem}.bootstrap .h2,.bootstrap h2{font-size:2rem}.bootstrap .h3,.bootstrap h3{font-size:1.75rem}.bootstrap .h4,.bootstrap h4{font-size:1.5rem}.bootstrap .h5,.bootstrap h5{font-size:1.25rem}.bootstrap .h6,.bootstrap h6{font-size:1rem}.bootstrap .lead{font-size:1.25rem;font-weight:300}.bootstrap .display-1{font-size:6rem;font-weight:300;line-height:1.1}.bootstrap .display-2{font-size:5.5rem;font-weight:300;line-height:1.1}.bootstrap .display-3{font-size:4.5rem;font-weight:300;line-height:1.1}.bootstrap .display-4{font-size:3.5rem;font-weight:300;line-height:1.1}.bootstrap hr{margin-top:1rem;margin-bottom:1rem;border:0;border-top:1px solid rgba(0, 0, 0, 0.1)}.bootstrap .small,.bootstrap small{font-size:80%;font-weight:400}.bootstrap .mark,.bootstrap mark{padding:.2em;background-color:#fcf8e3}.bootstrap .list-unstyled{padding-left:0;list-style:none}.bootstrap .list-inline{padding-left:0;list-style:none}.bootstrap .list-inline-item{display:inline-block}.bootstrap .list-inline-item:not(:last-child){margin-right:5px}.bootstrap .initialism{font-size:90%;text-transform:uppercase}.bootstrap .blockquote{padding:.5rem 1rem;margin-bottom:1rem;font-size:1.25rem;border-left:0.25rem solid #eceeef}.bootstrap .blockquote-footer{display:block;font-size:80%;color:#636c72}.bootstrap .blockquote-footer::before{content:\"\\2014 \\00A0\"}.bootstrap .blockquote-reverse{padding-right:1rem;padding-left:0;text-align:right;border-right:.25rem solid #eceeef;border-left:0}.bootstrap .blockquote-reverse .blockquote-footer::before{content:\"\"}.bootstrap .blockquote-reverse .blockquote-footer::after{content:\"\\00A0 \\2014\"}.bootstrap .img-fluid{max-width:100%;height:auto}.bootstrap .img-thumbnail{padding:.25rem;background-color:#fff;border:1px solid #ddd;border-radius:.25rem;-webkit-transition:all 0.2s ease-in-out;-o-transition:all 0.2s ease-in-out;transition:all 0.2s ease-in-out;max-width:100%;height:auto}.bootstrap .figure{display:inline-block}.bootstrap .figure-img{margin-bottom:.5rem;line-height:1}.bootstrap .figure-caption{font-size:90%;color:#636c72}.bootstrap code,.bootstrap kbd,.bootstrap pre,.bootstrap samp{font-family:Menlo, Monaco, Consolas, \"Liberation Mono\", \"Courier New\", monospace}.bootstrap code{padding:.2rem .4rem;font-size:90%;color:#bd4147;background-color:#f7f7f9;border-radius:0.25rem}.bootstrap a > code{padding:0;color:inherit;background-color:inherit}.bootstrap kbd{padding:.2rem .4rem;font-size:90%;color:#fff;background-color:#292b2c;border-radius:0.2rem}.bootstrap kbd kbd{padding:0;font-size:100%;font-weight:700}.bootstrap pre{display:block;margin-top:0;margin-bottom:1rem;font-size:90%;color:#292b2c}.bootstrap pre code{padding:0;font-size:inherit;color:inherit;background-color:transparent;border-radius:0}.bootstrap .pre-scrollable{max-height:340px;overflow-y:scroll}.bootstrap .container{position:relative;margin-left:auto;margin-right:auto;padding-right:15px;padding-left:15px}@media (min-width: 576px){.bootstrap .container{padding-right:15px;padding-left:15px}}@media (min-width: 768px){.bootstrap .container{padding-right:15px;padding-left:15px}}@media (min-width: 992px){.bootstrap .container{padding-right:15px;padding-left:15px}}@media (min-width: 1200px){.bootstrap .container{padding-right:15px;padding-left:15px}}@media (min-width: 576px){.bootstrap .container{width:540px;max-width:100%}}@media (min-width: 768px){.bootstrap .container{width:720px;max-width:100%}}@media (min-width: 992px){.bootstrap .container{width:960px;max-width:100%}}@media (min-width: 1200px){.bootstrap .container{width:1140px;max-width:100%}}.bootstrap .container-fluid{position:relative;margin-left:auto;margin-right:auto;padding-right:15px;padding-left:15px}@media (min-width: 576px){.bootstrap .container-fluid{padding-right:15px;padding-left:15px}}@media (min-width: 768px){.bootstrap .container-fluid{padding-right:15px;padding-left:15px}}@media (min-width: 992px){.bootstrap .container-fluid{padding-right:15px;padding-left:15px}}@media (min-width: 1200px){.bootstrap .container-fluid{padding-right:15px;padding-left:15px}}.bootstrap .row{display:-webkit-box;display:-webkit-flex;display:-ms-flexbox;display:flex;-webkit-flex-wrap:wrap;-ms-flex-wrap:wrap;flex-wrap:wrap;margin-right:-15px;margin-left:-15px}@media (min-width: 576px){.bootstrap .row{margin-right:-15px;margin-left:-15px}}@media (min-width: 768px){.bootstrap .row{margin-right:-15px;margin-left:-15px}}@media (min-width: 992px){.bootstrap .row{margin-right:-15px;margin-left:-15px}}@media (min-width: 1200px){.bootstrap .row{margin-right:-15px;margin-left:-15px}}.bootstrap .no-gutters{margin-right:0;margin-left:0}.bootstrap .no-gutters > .col,.bootstrap .no-gutters > [class*=col-]{padding-right:0;padding-left:0}.bootstrap .col,.bootstrap .col-1,.bootstrap .col-10,.bootstrap .col-11,.bootstrap .col-12,.bootstrap .col-2,.bootstrap .col-3,.bootstrap .col-4,.bootstrap .col-5,.bootstrap .col-6,.bootstrap .col-7,.bootstrap .col-8,.bootstrap .col-9,.bootstrap .col-lg,.bootstrap .col-lg-1,.bootstrap .col-lg-10,.bootstrap .col-lg-11,.bootstrap .col-lg-12,.bootstrap .col-lg-2,.bootstrap .col-lg-3,.bootstrap .col-lg-4,.bootstrap .col-lg-5,.bootstrap .col-lg-6,.bootstrap .col-lg-7,.bootstrap .col-lg-8,.bootstrap .col-lg-9,.bootstrap .col-md,.bootstrap .col-md-1,.bootstrap .col-md-10,.bootstrap .col-md-11,.bootstrap .col-md-12,.bootstrap .col-md-2,.bootstrap .col-md-3,.bootstrap .col-md-4,.bootstrap .col-md-5,.bootstrap .col-md-6,.bootstrap .col-md-7,.bootstrap .col-md-8,.bootstrap .col-md-9,.bootstrap .col-sm,.bootstrap .col-sm-1,.bootstrap .col-sm-10,.bootstrap .col-sm-11,.bootstrap .col-sm-12,.bootstrap .col-sm-2,.bootstrap .col-sm-3,.bootstrap .col-sm-4,.bootstrap .col-sm-5,.bootstrap .col-sm-6,.bootstrap .col-sm-7,.bootstrap .col-sm-8,.bootstrap .col-sm-9,.bootstrap .col-xl,.bootstrap .col-xl-1,.bootstrap .col-xl-10,.bootstrap .col-xl-11,.bootstrap .col-xl-12,.bootstrap .col-xl-2,.bootstrap .col-xl-3,.bootstrap .col-xl-4,.bootstrap .col-xl-5,.bootstrap .col-xl-6,.bootstrap .col-xl-7,.bootstrap .col-xl-8,.bootstrap .col-xl-9{position:relative;width:100%;min-height:1px;padding-right:15px;padding-left:15px}@media (min-width: 576px){.bootstrap .col,.bootstrap .col-1,.bootstrap .col-10,.bootstrap .col-11,.bootstrap .col-12,.bootstrap .col-2,.bootstrap .col-3,.bootstrap .col-4,.bootstrap .col-5,.bootstrap .col-6,.bootstrap .col-7,.bootstrap .col-8,.bootstrap .col-9,.bootstrap .col-lg,.bootstrap .col-lg-1,.bootstrap .col-lg-10,.bootstrap .col-lg-11,.bootstrap .col-lg-12,.bootstrap .col-lg-2,.bootstrap .col-lg-3,.bootstrap .col-lg-4,.bootstrap .col-lg-5,.bootstrap .col-lg-6,.bootstrap .col-lg-7,.bootstrap .col-lg-8,.bootstrap .col-lg-9,.bootstrap .col-md,.bootstrap .col-md-1,.bootstrap .col-md-10,.bootstrap .col-md-11,.bootstrap .col-md-12,.bootstrap .col-md-2,.bootstrap .col-md-3,.bootstrap .col-md-4,.bootstrap .col-md-5,.bootstrap .col-md-6,.bootstrap .col-md-7,.bootstrap .col-md-8,.bootstrap .col-md-9,.bootstrap .col-sm,.bootstrap .col-sm-1,.bootstrap .col-sm-10,.bootstrap .col-sm-11,.bootstrap .col-sm-12,.bootstrap .col-sm-2,.bootstrap .col-sm-3,.bootstrap .col-sm-4,.bootstrap .col-sm-5,.bootstrap .col-sm-6,.bootstrap .col-sm-7,.bootstrap .col-sm-8,.bootstrap .col-sm-9,.bootstrap .col-xl,.bootstrap .col-xl-1,.bootstrap .col-xl-10,.bootstrap .col-xl-11,.bootstrap .col-xl-12,.bootstrap .col-xl-2,.bootstrap .col-xl-3,.bootstrap .col-xl-4,.bootstrap .col-xl-5,.bootstrap .col-xl-6,.bootstrap .col-xl-7,.bootstrap .col-xl-8,.bootstrap .col-xl-9{padding-right:15px;padding-left:15px}}@media (min-width: 768px){.bootstrap .col,.bootstrap .col-1,.bootstrap .col-10,.bootstrap .col-11,.bootstrap .col-12,.bootstrap .col-2,.bootstrap .col-3,.bootstrap .col-4,.bootstrap .col-5,.bootstrap .col-6,.bootstrap .col-7,.bootstrap .col-8,.bootstrap .col-9,.bootstrap .col-lg,.bootstrap .col-lg-1,.bootstrap .col-lg-10,.bootstrap .col-lg-11,.bootstrap .col-lg-12,.bootstrap .col-lg-2,.bootstrap .col-lg-3,.bootstrap .col-lg-4,.bootstrap .col-lg-5,.bootstrap .col-lg-6,.bootstrap .col-lg-7,.bootstrap .col-lg-8,.bootstrap .col-lg-9,.bootstrap .col-md,.bootstrap .col-md-1,.bootstrap .col-md-10,.bootstrap .col-md-11,.bootstrap .col-md-12,.bootstrap .col-md-2,.bootstrap .col-md-3,.bootstrap .col-md-4,.bootstrap .col-md-5,.bootstrap .col-md-6,.bootstrap .col-md-7,.bootstrap .col-md-8,.bootstrap .col-md-9,.bootstrap .col-sm,.bootstrap .col-sm-1,.bootstrap .col-sm-10,.bootstrap .col-sm-11,.bootstrap .col-sm-12,.bootstrap .col-sm-2,.bootstrap .col-sm-3,.bootstrap .col-sm-4,.bootstrap .col-sm-5,.bootstrap .col-sm-6,.bootstrap .col-sm-7,.bootstrap .col-sm-8,.bootstrap .col-sm-9,.bootstrap .col-xl,.bootstrap .col-xl-1,.bootstrap .col-xl-10,.bootstrap .col-xl-11,.bootstrap .col-xl-12,.bootstrap .col-xl-2,.bootstrap .col-xl-3,.bootstrap .col-xl-4,.bootstrap .col-xl-5,.bootstrap .col-xl-6,.bootstrap .col-xl-7,.bootstrap .col-xl-8,.bootstrap .col-xl-9{padding-right:15px;padding-left:15px}}@media (min-width: 992px){.bootstrap .col,.bootstrap .col-1,.bootstrap .col-10,.bootstrap .col-11,.bootstrap .col-12,.bootstrap .col-2,.bootstrap .col-3,.bootstrap .col-4,.bootstrap .col-5,.bootstrap .col-6,.bootstrap .col-7,.bootstrap .col-8,.bootstrap .col-9,.bootstrap .col-lg,.bootstrap .col-lg-1,.bootstrap .col-lg-10,.bootstrap .col-lg-11,.bootstrap .col-lg-12,.bootstrap .col-lg-2,.bootstrap .col-lg-3,.bootstrap .col-lg-4,.bootstrap .col-lg-5,.bootstrap .col-lg-6,.bootstrap .col-lg-7,.bootstrap .col-lg-8,.bootstrap .col-lg-9,.bootstrap .col-md,.bootstrap .col-md-1,.bootstrap .col-md-10,.bootstrap .col-md-11,.bootstrap .col-md-12,.bootstrap .col-md-2,.bootstrap .col-md-3,.bootstrap .col-md-4,.bootstrap .col-md-5,.bootstrap .col-md-6,.bootstrap .col-md-7,.bootstrap .col-md-8,.bootstrap .col-md-9,.bootstrap .col-sm,.bootstrap .col-sm-1,.bootstrap .col-sm-10,.bootstrap .col-sm-11,.bootstrap .col-sm-12,.bootstrap .col-sm-2,.bootstrap .col-sm-3,.bootstrap .col-sm-4,.bootstrap .col-sm-5,.bootstrap .col-sm-6,.bootstrap .col-sm-7,.bootstrap .col-sm-8,.bootstrap .col-sm-9,.bootstrap .col-xl,.bootstrap .col-xl-1,.bootstrap .col-xl-10,.bootstrap .col-xl-11,.bootstrap .col-xl-12,.bootstrap .col-xl-2,.bootstrap .col-xl-3,.bootstrap .col-xl-4,.bootstrap .col-xl-5,.bootstrap .col-xl-6,.bootstrap .col-xl-7,.bootstrap .col-xl-8,.bootstrap .col-xl-9{padding-right:15px;padding-left:15px}}@media (min-width: 1200px){.bootstrap .col,.bootstrap .col-1,.bootstrap .col-10,.bootstrap .col-11,.bootstrap .col-12,.bootstrap .col-2,.bootstrap .col-3,.bootstrap .col-4,.bootstrap .col-5,.bootstrap .col-6,.bootstrap .col-7,.bootstrap .col-8,.bootstrap .col-9,.bootstrap .col-lg,.bootstrap .col-lg-1,.bootstrap .col-lg-10,.bootstrap .col-lg-11,.bootstrap .col-lg-12,.bootstrap .col-lg-2,.bootstrap .col-lg-3,.bootstrap .col-lg-4,.bootstrap .col-lg-5,.bootstrap .col-lg-6,.bootstrap .col-lg-7,.bootstrap .col-lg-8,.bootstrap .col-lg-9,.bootstrap .col-md,.bootstrap .col-md-1,.bootstrap .col-md-10,.bootstrap .col-md-11,.bootstrap .col-md-12,.bootstrap .col-md-2,.bootstrap .col-md-3,.bootstrap .col-md-4,.bootstrap .col-md-5,.bootstrap .col-md-6,.bootstrap .col-md-7,.bootstrap .col-md-8,.bootstrap .col-md-9,.bootstrap .col-sm,.bootstrap .col-sm-1,.bootstrap .col-sm-10,.bootstrap .col-sm-11,.bootstrap .col-sm-12,.bootstrap .col-sm-2,.bootstrap .col-sm-3,.bootstrap .col-sm-4,.bootstrap .col-sm-5,.bootstrap .col-sm-6,.bootstrap .col-sm-7,.bootstrap .col-sm-8,.bootstrap .col-sm-9,.bootstrap .col-xl,.bootstrap .col-xl-1,.bootstrap .col-xl-10,.bootstrap .col-xl-11,.bootstrap .col-xl-12,.bootstrap .col-xl-2,.bootstrap .col-xl-3,.bootstrap .col-xl-4,.bootstrap .col-xl-5,.bootstrap .col-xl-6,.bootstrap .col-xl-7,.bootstrap .col-xl-8,.bootstrap .col-xl-9{padding-right:15px;padding-left:15px}}.bootstrap .col{-webkit-flex-basis:0;-ms-flex-preferred-size:0;flex-basis:0;-webkit-box-flex:1;-webkit-flex-grow:1;-ms-flex-positive:1;flex-grow:1;max-width:100%}.bootstrap .col-auto{-webkit-box-flex:0;-webkit-flex:0 0 auto;-ms-flex:0 0 auto;flex:0 0 auto;width:auto}.bootstrap .col-1{-webkit-box-flex:0;-webkit-flex:0 0 8.333333%;-ms-flex:0 0 8.333333%;flex:0 0 8.333333%;max-width:8.333333%}.bootstrap .col-2{-webkit-box-flex:0;-webkit-flex:0 0 16.666667%;-ms-flex:0 0 16.666667%;flex:0 0 16.666667%;max-width:16.666667%}.bootstrap .col-3{-webkit-box-flex:0;-webkit-flex:0 0 25%;-ms-flex:0 0 25%;flex:0 0 25%;max-width:25%}.bootstrap .col-4{-webkit-box-flex:0;-webkit-flex:0 0 33.333333%;-ms-flex:0 0 33.333333%;flex:0 0 33.333333%;max-width:33.333333%}.bootstrap .col-5{-webkit-box-flex:0;-webkit-flex:0 0 41.666667%;-ms-flex:0 0 41.666667%;flex:0 0 41.666667%;max-width:41.666667%}.bootstrap .col-6{-webkit-box-flex:0;-webkit-flex:0 0 50%;-ms-flex:0 0 50%;flex:0 0 50%;max-width:50%}.bootstrap .col-7{-webkit-box-flex:0;-webkit-flex:0 0 58.333333%;-ms-flex:0 0 58.333333%;flex:0 0 58.333333%;max-width:58.333333%}.bootstrap .col-8{-webkit-box-flex:0;-webkit-flex:0 0 66.666667%;-ms-flex:0 0 66.666667%;flex:0 0 66.666667%;max-width:66.666667%}.bootstrap .col-9{-webkit-box-flex:0;-webkit-flex:0 0 75%;-ms-flex:0 0 75%;flex:0 0 75%;max-width:75%}.bootstrap .col-10{-webkit-box-flex:0;-webkit-flex:0 0 83.333333%;-ms-flex:0 0 83.333333%;flex:0 0 83.333333%;max-width:83.333333%}.bootstrap .col-11{-webkit-box-flex:0;-webkit-flex:0 0 91.666667%;-ms-flex:0 0 91.666667%;flex:0 0 91.666667%;max-width:91.666667%}.bootstrap .col-12{-webkit-box-flex:0;-webkit-flex:0 0 100%;-ms-flex:0 0 100%;flex:0 0 100%;max-width:100%}.bootstrap .pull-0{right:auto}.bootstrap .pull-1{right:8.333333%}.bootstrap .pull-2{right:16.666667%}.bootstrap .pull-3{right:25%}.bootstrap .pull-4{right:33.333333%}.bootstrap .pull-5{right:41.666667%}.bootstrap .pull-6{right:50%}.bootstrap .pull-7{right:58.333333%}.bootstrap .pull-8{right:66.666667%}.bootstrap .pull-9{right:75%}.bootstrap .pull-10{right:83.333333%}.bootstrap .pull-11{right:91.666667%}.bootstrap .pull-12{right:100%}.bootstrap .push-0{left:auto}.bootstrap .push-1{left:8.333333%}.bootstrap .push-2{left:16.666667%}.bootstrap .push-3{left:25%}.bootstrap .push-4{left:33.333333%}.bootstrap .push-5{left:41.666667%}.bootstrap .push-6{left:50%}.bootstrap .push-7{left:58.333333%}.bootstrap .push-8{left:66.666667%}.bootstrap .push-9{left:75%}.bootstrap .push-10{left:83.333333%}.bootstrap .push-11{left:91.666667%}.bootstrap .push-12{left:100%}.bootstrap .offset-1{margin-left:8.333333%}.bootstrap .offset-2{margin-left:16.666667%}.bootstrap .offset-3{margin-left:25%}.bootstrap .offset-4{margin-left:33.333333%}.bootstrap .offset-5{margin-left:41.666667%}.bootstrap .offset-6{margin-left:50%}.bootstrap .offset-7{margin-left:58.333333%}.bootstrap .offset-8{margin-left:66.666667%}.bootstrap .offset-9{margin-left:75%}.bootstrap .offset-10{margin-left:83.333333%}.bootstrap .offset-11{margin-left:91.666667%}@media (min-width: 576px){.bootstrap .col-sm{-webkit-flex-basis:0;-ms-flex-preferred-size:0;flex-basis:0;-webkit-box-flex:1;-webkit-flex-grow:1;-ms-flex-positive:1;flex-grow:1;max-width:100%}.bootstrap .col-sm-auto{-webkit-box-flex:0;-webkit-flex:0 0 auto;-ms-flex:0 0 auto;flex:0 0 auto;width:auto}.bootstrap .col-sm-1{-webkit-box-flex:0;-webkit-flex:0 0 8.333333%;-ms-flex:0 0 8.333333%;flex:0 0 8.333333%;max-width:8.333333%}.bootstrap .col-sm-2{-webkit-box-flex:0;-webkit-flex:0 0 16.666667%;-ms-flex:0 0 16.666667%;flex:0 0 16.666667%;max-width:16.666667%}.bootstrap .col-sm-3{-webkit-box-flex:0;-webkit-flex:0 0 25%;-ms-flex:0 0 25%;flex:0 0 25%;max-width:25%}.bootstrap .col-sm-4{-webkit-box-flex:0;-webkit-flex:0 0 33.333333%;-ms-flex:0 0 33.333333%;flex:0 0 33.333333%;max-width:33.333333%}.bootstrap .col-sm-5{-webkit-box-flex:0;-webkit-flex:0 0 41.666667%;-ms-flex:0 0 41.666667%;flex:0 0 41.666667%;max-width:41.666667%}.bootstrap .col-sm-6{-webkit-box-flex:0;-webkit-flex:0 0 50%;-ms-flex:0 0 50%;flex:0 0 50%;max-width:50%}.bootstrap .col-sm-7{-webkit-box-flex:0;-webkit-flex:0 0 58.333333%;-ms-flex:0 0 58.333333%;flex:0 0 58.333333%;max-width:58.333333%}.bootstrap .col-sm-8{-webkit-box-flex:0;-webkit-flex:0 0 66.666667%;-ms-flex:0 0 66.666667%;flex:0 0 66.666667%;max-width:66.666667%}.bootstrap .col-sm-9{-webkit-box-flex:0;-webkit-flex:0 0 75%;-ms-flex:0 0 75%;flex:0 0 75%;max-width:75%}.bootstrap .col-sm-10{-webkit-box-flex:0;-webkit-flex:0 0 83.333333%;-ms-flex:0 0 83.333333%;flex:0 0 83.333333%;max-width:83.333333%}.bootstrap .col-sm-11{-webkit-box-flex:0;-webkit-flex:0 0 91.666667%;-ms-flex:0 0 91.666667%;flex:0 0 91.666667%;max-width:91.666667%}.bootstrap .col-sm-12{-webkit-box-flex:0;-webkit-flex:0 0 100%;-ms-flex:0 0 100%;flex:0 0 100%;max-width:100%}.bootstrap .pull-sm-0{right:auto}.bootstrap .pull-sm-1{right:8.333333%}.bootstrap .pull-sm-2{right:16.666667%}.bootstrap .pull-sm-3{right:25%}.bootstrap .pull-sm-4{right:33.333333%}.bootstrap .pull-sm-5{right:41.666667%}.bootstrap .pull-sm-6{right:50%}.bootstrap .pull-sm-7{right:58.333333%}.bootstrap .pull-sm-8{right:66.666667%}.bootstrap .pull-sm-9{right:75%}.bootstrap .pull-sm-10{right:83.333333%}.bootstrap .pull-sm-11{right:91.666667%}.bootstrap .pull-sm-12{right:100%}.bootstrap .push-sm-0{left:auto}.bootstrap .push-sm-1{left:8.333333%}.bootstrap .push-sm-2{left:16.666667%}.bootstrap .push-sm-3{left:25%}.bootstrap .push-sm-4{left:33.333333%}.bootstrap .push-sm-5{left:41.666667%}.bootstrap .push-sm-6{left:50%}.bootstrap .push-sm-7{left:58.333333%}.bootstrap .push-sm-8{left:66.666667%}.bootstrap .push-sm-9{left:75%}.bootstrap .push-sm-10{left:83.333333%}.bootstrap .push-sm-11{left:91.666667%}.bootstrap .push-sm-12{left:100%}.bootstrap .offset-sm-0{margin-left:0}.bootstrap .offset-sm-1{margin-left:8.333333%}.bootstrap .offset-sm-2{margin-left:16.666667%}.bootstrap .offset-sm-3{margin-left:25%}.bootstrap .offset-sm-4{margin-left:33.333333%}.bootstrap .offset-sm-5{margin-left:41.666667%}.bootstrap .offset-sm-6{margin-left:50%}.bootstrap .offset-sm-7{margin-left:58.333333%}.bootstrap .offset-sm-8{margin-left:66.666667%}.bootstrap .offset-sm-9{margin-left:75%}.bootstrap .offset-sm-10{margin-left:83.333333%}.bootstrap .offset-sm-11{margin-left:91.666667%}}@media (min-width: 768px){.bootstrap .col-md{-webkit-flex-basis:0;-ms-flex-preferred-size:0;flex-basis:0;-webkit-box-flex:1;-webkit-flex-grow:1;-ms-flex-positive:1;flex-grow:1;max-width:100%}.bootstrap .col-md-auto{-webkit-box-flex:0;-webkit-flex:0 0 auto;-ms-flex:0 0 auto;flex:0 0 auto;width:auto}.bootstrap .col-md-1{-webkit-box-flex:0;-webkit-flex:0 0 8.333333%;-ms-flex:0 0 8.333333%;flex:0 0 8.333333%;max-width:8.333333%}.bootstrap .col-md-2{-webkit-box-flex:0;-webkit-flex:0 0 16.666667%;-ms-flex:0 0 16.666667%;flex:0 0 16.666667%;max-width:16.666667%}.bootstrap .col-md-3{-webkit-box-flex:0;-webkit-flex:0 0 25%;-ms-flex:0 0 25%;flex:0 0 25%;max-width:25%}.bootstrap .col-md-4{-webkit-box-flex:0;-webkit-flex:0 0 33.333333%;-ms-flex:0 0 33.333333%;flex:0 0 33.333333%;max-width:33.333333%}.bootstrap .col-md-5{-webkit-box-flex:0;-webkit-flex:0 0 41.666667%;-ms-flex:0 0 41.666667%;flex:0 0 41.666667%;max-width:41.666667%}.bootstrap .col-md-6{-webkit-box-flex:0;-webkit-flex:0 0 50%;-ms-flex:0 0 50%;flex:0 0 50%;max-width:50%}.bootstrap .col-md-7{-webkit-box-flex:0;-webkit-flex:0 0 58.333333%;-ms-flex:0 0 58.333333%;flex:0 0 58.333333%;max-width:58.333333%}.bootstrap .col-md-8{-webkit-box-flex:0;-webkit-flex:0 0 66.666667%;-ms-flex:0 0 66.666667%;flex:0 0 66.666667%;max-width:66.666667%}.bootstrap .col-md-9{-webkit-box-flex:0;-webkit-flex:0 0 75%;-ms-flex:0 0 75%;flex:0 0 75%;max-width:75%}.bootstrap .col-md-10{-webkit-box-flex:0;-webkit-flex:0 0 83.333333%;-ms-flex:0 0 83.333333%;flex:0 0 83.333333%;max-width:83.333333%}.bootstrap .col-md-11{-webkit-box-flex:0;-webkit-flex:0 0 91.666667%;-ms-flex:0 0 91.666667%;flex:0 0 91.666667%;max-width:91.666667%}.bootstrap .col-md-12{-webkit-box-flex:0;-webkit-flex:0 0 100%;-ms-flex:0 0 100%;flex:0 0 100%;max-width:100%}.bootstrap .pull-md-0{right:auto}.bootstrap .pull-md-1{right:8.333333%}.bootstrap .pull-md-2{right:16.666667%}.bootstrap .pull-md-3{right:25%}.bootstrap .pull-md-4{right:33.333333%}.bootstrap .pull-md-5{right:41.666667%}.bootstrap .pull-md-6{right:50%}.bootstrap .pull-md-7{right:58.333333%}.bootstrap .pull-md-8{right:66.666667%}.bootstrap .pull-md-9{right:75%}.bootstrap .pull-md-10{right:83.333333%}.bootstrap .pull-md-11{right:91.666667%}.bootstrap .pull-md-12{right:100%}.bootstrap .push-md-0{left:auto}.bootstrap .push-md-1{left:8.333333%}.bootstrap .push-md-2{left:16.666667%}.bootstrap .push-md-3{left:25%}.bootstrap .push-md-4{left:33.333333%}.bootstrap .push-md-5{left:41.666667%}.bootstrap .push-md-6{left:50%}.bootstrap .push-md-7{left:58.333333%}.bootstrap .push-md-8{left:66.666667%}.bootstrap .push-md-9{left:75%}.bootstrap .push-md-10{left:83.333333%}.bootstrap .push-md-11{left:91.666667%}.bootstrap .push-md-12{left:100%}.bootstrap .offset-md-0{margin-left:0}.bootstrap .offset-md-1{margin-left:8.333333%}.bootstrap .offset-md-2{margin-left:16.666667%}.bootstrap .offset-md-3{margin-left:25%}.bootstrap .offset-md-4{margin-left:33.333333%}.bootstrap .offset-md-5{margin-left:41.666667%}.bootstrap .offset-md-6{margin-left:50%}.bootstrap .offset-md-7{margin-left:58.333333%}.bootstrap .offset-md-8{margin-left:66.666667%}.bootstrap .offset-md-9{margin-left:75%}.bootstrap .offset-md-10{margin-left:83.333333%}.bootstrap .offset-md-11{margin-left:91.666667%}}@media (min-width: 992px){.bootstrap .col-lg{-webkit-flex-basis:0;-ms-flex-preferred-size:0;flex-basis:0;-webkit-box-flex:1;-webkit-flex-grow:1;-ms-flex-positive:1;flex-grow:1;max-width:100%}.bootstrap .col-lg-auto{-webkit-box-flex:0;-webkit-flex:0 0 auto;-ms-flex:0 0 auto;flex:0 0 auto;width:auto}.bootstrap .col-lg-1{-webkit-box-flex:0;-webkit-flex:0 0 8.333333%;-ms-flex:0 0 8.333333%;flex:0 0 8.333333%;max-width:8.333333%}.bootstrap .col-lg-2{-webkit-box-flex:0;-webkit-flex:0 0 16.666667%;-ms-flex:0 0 16.666667%;flex:0 0 16.666667%;max-width:16.666667%}.bootstrap .col-lg-3{-webkit-box-flex:0;-webkit-flex:0 0 25%;-ms-flex:0 0 25%;flex:0 0 25%;max-width:25%}.bootstrap .col-lg-4{-webkit-box-flex:0;-webkit-flex:0 0 33.333333%;-ms-flex:0 0 33.333333%;flex:0 0 33.333333%;max-width:33.333333%}.bootstrap .col-lg-5{-webkit-box-flex:0;-webkit-flex:0 0 41.666667%;-ms-flex:0 0 41.666667%;flex:0 0 41.666667%;max-width:41.666667%}.bootstrap .col-lg-6{-webkit-box-flex:0;-webkit-flex:0 0 50%;-ms-flex:0 0 50%;flex:0 0 50%;max-width:50%}.bootstrap .col-lg-7{-webkit-box-flex:0;-webkit-flex:0 0 58.333333%;-ms-flex:0 0 58.333333%;flex:0 0 58.333333%;max-width:58.333333%}.bootstrap .col-lg-8{-webkit-box-flex:0;-webkit-flex:0 0 66.666667%;-ms-flex:0 0 66.666667%;flex:0 0 66.666667%;max-width:66.666667%}.bootstrap .col-lg-9{-webkit-box-flex:0;-webkit-flex:0 0 75%;-ms-flex:0 0 75%;flex:0 0 75%;max-width:75%}.bootstrap .col-lg-10{-webkit-box-flex:0;-webkit-flex:0 0 83.333333%;-ms-flex:0 0 83.333333%;flex:0 0 83.333333%;max-width:83.333333%}.bootstrap .col-lg-11{-webkit-box-flex:0;-webkit-flex:0 0 91.666667%;-ms-flex:0 0 91.666667%;flex:0 0 91.666667%;max-width:91.666667%}.bootstrap .col-lg-12{-webkit-box-flex:0;-webkit-flex:0 0 100%;-ms-flex:0 0 100%;flex:0 0 100%;max-width:100%}.bootstrap .pull-lg-0{right:auto}.bootstrap .pull-lg-1{right:8.333333%}.bootstrap .pull-lg-2{right:16.666667%}.bootstrap .pull-lg-3{right:25%}.bootstrap .pull-lg-4{right:33.333333%}.bootstrap .pull-lg-5{right:41.666667%}.bootstrap .pull-lg-6{right:50%}.bootstrap .pull-lg-7{right:58.333333%}.bootstrap .pull-lg-8{right:66.666667%}.bootstrap .pull-lg-9{right:75%}.bootstrap .pull-lg-10{right:83.333333%}.bootstrap .pull-lg-11{right:91.666667%}.bootstrap .pull-lg-12{right:100%}.bootstrap .push-lg-0{left:auto}.bootstrap .push-lg-1{left:8.333333%}.bootstrap .push-lg-2{left:16.666667%}.bootstrap .push-lg-3{left:25%}.bootstrap .push-lg-4{left:33.333333%}.bootstrap .push-lg-5{left:41.666667%}.bootstrap .push-lg-6{left:50%}.bootstrap .push-lg-7{left:58.333333%}.bootstrap .push-lg-8{left:66.666667%}.bootstrap .push-lg-9{left:75%}.bootstrap .push-lg-10{left:83.333333%}.bootstrap .push-lg-11{left:91.666667%}.bootstrap .push-lg-12{left:100%}.bootstrap .offset-lg-0{margin-left:0}.bootstrap .offset-lg-1{margin-left:8.333333%}.bootstrap .offset-lg-2{margin-left:16.666667%}.bootstrap .offset-lg-3{margin-left:25%}.bootstrap .offset-lg-4{margin-left:33.333333%}.bootstrap .offset-lg-5{margin-left:41.666667%}.bootstrap .offset-lg-6{margin-left:50%}.bootstrap .offset-lg-7{margin-left:58.333333%}.bootstrap .offset-lg-8{margin-left:66.666667%}.bootstrap .offset-lg-9{margin-left:75%}.bootstrap .offset-lg-10{margin-left:83.333333%}.bootstrap .offset-lg-11{margin-left:91.666667%}}@media (min-width: 1200px){.bootstrap .col-xl{-webkit-flex-basis:0;-ms-flex-preferred-size:0;flex-basis:0;-webkit-box-flex:1;-webkit-flex-grow:1;-ms-flex-positive:1;flex-grow:1;max-width:100%}.bootstrap .col-xl-auto{-webkit-box-flex:0;-webkit-flex:0 0 auto;-ms-flex:0 0 auto;flex:0 0 auto;width:auto}.bootstrap .col-xl-1{-webkit-box-flex:0;-webkit-flex:0 0 8.333333%;-ms-flex:0 0 8.333333%;flex:0 0 8.333333%;max-width:8.333333%}.bootstrap .col-xl-2{-webkit-box-flex:0;-webkit-flex:0 0 16.666667%;-ms-flex:0 0 16.666667%;flex:0 0 16.666667%;max-width:16.666667%}.bootstrap .col-xl-3{-webkit-box-flex:0;-webkit-flex:0 0 25%;-ms-flex:0 0 25%;flex:0 0 25%;max-width:25%}.bootstrap .col-xl-4{-webkit-box-flex:0;-webkit-flex:0 0 33.333333%;-ms-flex:0 0 33.333333%;flex:0 0 33.333333%;max-width:33.333333%}.bootstrap .col-xl-5{-webkit-box-flex:0;-webkit-flex:0 0 41.666667%;-ms-flex:0 0 41.666667%;flex:0 0 41.666667%;max-width:41.666667%}.bootstrap .col-xl-6{-webkit-box-flex:0;-webkit-flex:0 0 50%;-ms-flex:0 0 50%;flex:0 0 50%;max-width:50%}.bootstrap .col-xl-7{-webkit-box-flex:0;-webkit-flex:0 0 58.333333%;-ms-flex:0 0 58.333333%;flex:0 0 58.333333%;max-width:58.333333%}.bootstrap .col-xl-8{-webkit-box-flex:0;-webkit-flex:0 0 66.666667%;-ms-flex:0 0 66.666667%;flex:0 0 66.666667%;max-width:66.666667%}.bootstrap .col-xl-9{-webkit-box-flex:0;-webkit-flex:0 0 75%;-ms-flex:0 0 75%;flex:0 0 75%;max-width:75%}.bootstrap .col-xl-10{-webkit-box-flex:0;-webkit-flex:0 0 83.333333%;-ms-flex:0 0 83.333333%;flex:0 0 83.333333%;max-width:83.333333%}.bootstrap .col-xl-11{-webkit-box-flex:0;-webkit-flex:0 0 91.666667%;-ms-flex:0 0 91.666667%;flex:0 0 91.666667%;max-width:91.666667%}.bootstrap .col-xl-12{-webkit-box-flex:0;-webkit-flex:0 0 100%;-ms-flex:0 0 100%;flex:0 0 100%;max-width:100%}.bootstrap .pull-xl-0{right:auto}.bootstrap .pull-xl-1{right:8.333333%}.bootstrap .pull-xl-2{right:16.666667%}.bootstrap .pull-xl-3{right:25%}.bootstrap .pull-xl-4{right:33.333333%}.bootstrap .pull-xl-5{right:41.666667%}.bootstrap .pull-xl-6{right:50%}.bootstrap .pull-xl-7{right:58.333333%}.bootstrap .pull-xl-8{right:66.666667%}.bootstrap .pull-xl-9{right:75%}.bootstrap .pull-xl-10{right:83.333333%}.bootstrap .pull-xl-11{right:91.666667%}.bootstrap .pull-xl-12{right:100%}.bootstrap .push-xl-0{left:auto}.bootstrap .push-xl-1{left:8.333333%}.bootstrap .push-xl-2{left:16.666667%}.bootstrap .push-xl-3{left:25%}.bootstrap .push-xl-4{left:33.333333%}.bootstrap .push-xl-5{left:41.666667%}.bootstrap .push-xl-6{left:50%}.bootstrap .push-xl-7{left:58.333333%}.bootstrap .push-xl-8{left:66.666667%}.bootstrap .push-xl-9{left:75%}.bootstrap .push-xl-10{left:83.333333%}.bootstrap .push-xl-11{left:91.666667%}.bootstrap .push-xl-12{left:100%}.bootstrap .offset-xl-0{margin-left:0}.bootstrap .offset-xl-1{margin-left:8.333333%}.bootstrap .offset-xl-2{margin-left:16.666667%}.bootstrap .offset-xl-3{margin-left:25%}.bootstrap .offset-xl-4{margin-left:33.333333%}.bootstrap .offset-xl-5{margin-left:41.666667%}.bootstrap .offset-xl-6{margin-left:50%}.bootstrap .offset-xl-7{margin-left:58.333333%}.bootstrap .offset-xl-8{margin-left:66.666667%}.bootstrap .offset-xl-9{margin-left:75%}.bootstrap .offset-xl-10{margin-left:83.333333%}.bootstrap .offset-xl-11{margin-left:91.666667%}}.bootstrap .table{width:100%;max-width:100%;margin-bottom:1rem}.bootstrap .table td,.bootstrap .table th{padding:.75rem;vertical-align:top;border-top:1px solid #eceeef}.bootstrap .table thead th{vertical-align:bottom;border-bottom:2px solid #eceeef}.bootstrap .table tbody + tbody{border-top:2px solid #eceeef}.bootstrap .table .table{background-color:#fff}.bootstrap .table-sm td,.bootstrap .table-sm th{padding:0.3rem}.bootstrap .table-bordered{border:1px solid #eceeef}.bootstrap .table-bordered td,.bootstrap .table-bordered th{border:1px solid #eceeef}.bootstrap .table-bordered thead td,.bootstrap .table-bordered thead th{border-bottom-width:2px}.bootstrap .table-striped tbody tr:nth-of-type(odd){background-color:rgba(0, 0, 0, 0.05)}.bootstrap .table-hover tbody tr:hover{background-color:rgba(0, 0, 0, 0.075)}.bootstrap .table-active,.bootstrap .table-active > td,.bootstrap .table-active > th{background-color:rgba(0, 0, 0, 0.075)}.bootstrap .table-hover .table-active:hover{background-color:rgba(0, 0, 0, 0.075)}.bootstrap .table-hover .table-active:hover > td,.bootstrap .table-hover .table-active:hover > th{background-color:rgba(0, 0, 0, 0.075)}.bootstrap .table-success,.bootstrap .table-success > td,.bootstrap .table-success > th{background-color:#dff0d8}.bootstrap .table-hover .table-success:hover{background-color:#d0e9c6}.bootstrap .table-hover .table-success:hover > td,.bootstrap .table-hover .table-success:hover > th{background-color:#d0e9c6}.bootstrap .table-info,.bootstrap .table-info > td,.bootstrap .table-info > th{background-color:#d9edf7}.bootstrap .table-hover .table-info:hover{background-color:#c4e3f3}.bootstrap .table-hover .table-info:hover > td,.bootstrap .table-hover .table-info:hover > th{background-color:#c4e3f3}.bootstrap .table-warning,.bootstrap .table-warning > td,.bootstrap .table-warning > th{background-color:#fcf8e3}.bootstrap .table-hover .table-warning:hover{background-color:#faf2cc}.bootstrap .table-hover .table-warning:hover > td,.bootstrap .table-hover .table-warning:hover > th{background-color:#faf2cc}.bootstrap .table-danger,.bootstrap .table-danger > td,.bootstrap .table-danger > th{background-color:#f2dede}.bootstrap .table-hover .table-danger:hover{background-color:#ebcccc}.bootstrap .table-hover .table-danger:hover > td,.bootstrap .table-hover .table-danger:hover > th{background-color:#ebcccc}.bootstrap .thead-inverse th{color:#fff;background-color:#292b2c}.bootstrap .thead-default th{color:#464a4c;background-color:#eceeef}.bootstrap .table-inverse{color:#fff;background-color:#292b2c}.bootstrap .table-inverse td,.bootstrap .table-inverse th,.bootstrap .table-inverse thead th{border-color:#fff}.bootstrap .table-inverse.table-bordered{border:0}.bootstrap .table-responsive{display:block;width:100%;overflow-x:auto;-ms-overflow-style:-ms-autohiding-scrollbar}.bootstrap .table-responsive.table-bordered{border:0}.bootstrap .form-control{display:block;width:100%;padding:.5rem .75rem;font-size:1rem;line-height:1.25;color:#464a4c;background-color:#fff;background-image:none;-webkit-background-clip:padding-box;background-clip:padding-box;border:1px solid rgba(0, 0, 0, 0.15);border-radius:.25rem;-webkit-transition:border-color ease-in-out 0.15s, -webkit-box-shadow ease-in-out 0.15s;transition:border-color ease-in-out 0.15s, -webkit-box-shadow ease-in-out 0.15s;-o-transition:border-color ease-in-out 0.15s, box-shadow ease-in-out 0.15s;transition:border-color ease-in-out 0.15s, box-shadow ease-in-out 0.15s;transition:border-color ease-in-out 0.15s, box-shadow ease-in-out 0.15s, -webkit-box-shadow ease-in-out 0.15s}.bootstrap .form-control::-ms-expand{background-color:transparent;border:0}.bootstrap .form-control:focus{color:#464a4c;background-color:#fff;border-color:#5cb3fd;outline:0}.bootstrap .form-control::-webkit-input-placeholder{color:#636c72;opacity:1}.bootstrap .form-control::-moz-placeholder{color:#636c72;opacity:1}.bootstrap .form-control:-ms-input-placeholder{color:#636c72;opacity:1}.bootstrap .form-control::placeholder{color:#636c72;opacity:1}.bootstrap .form-control:disabled,.bootstrap .form-control[readonly]{background-color:#eceeef;opacity:1}.bootstrap .form-control:disabled{cursor:not-allowed}.bootstrap select.form-control:not([size]):not([multiple]){height:calc(4.25rem)}.bootstrap select.form-control:focus::-ms-value{color:#464a4c;background-color:#fff}.bootstrap .form-control-file,.bootstrap .form-control-range{display:block}.bootstrap .col-form-label{padding-top:calc(-1.5rem);padding-bottom:calc(-1.5rem);margin-bottom:0}.bootstrap .col-form-label-lg{padding-top:calc(-1.25rem);padding-bottom:calc(-1.25rem);font-size:1.25rem}.bootstrap .col-form-label-sm{padding-top:calc(-1.75rem);padding-bottom:calc(-1.75rem);font-size:0.875rem}.bootstrap .col-form-legend{padding-top:.5rem;padding-bottom:.5rem;margin-bottom:0;font-size:1rem}.bootstrap .form-control-static{padding-top:.5rem;padding-bottom:.5rem;margin-bottom:0;line-height:1.25;border:solid transparent;border-width:1px 0}.bootstrap .form-control-static.form-control-lg,.bootstrap .form-control-static.form-control-sm,.bootstrap .input-group-lg > .form-control-static.form-control,.bootstrap .input-group-lg > .form-control-static.input-group-addon,.bootstrap .input-group-lg > .input-group-btn > .form-control-static.btn,.bootstrap .input-group-sm > .form-control-static.form-control,.bootstrap .input-group-sm > .form-control-static.input-group-addon,.bootstrap .input-group-sm > .input-group-btn > .form-control-static.btn{padding-right:0;padding-left:0}.bootstrap .form-control-sm,.bootstrap .input-group-sm > .form-control,.bootstrap .input-group-sm > .input-group-addon,.bootstrap .input-group-sm > .input-group-btn > .btn{padding:.25rem .5rem;font-size:.875rem;border-radius:0.2rem}.bootstrap .input-group-sm > .input-group-btn > select.btn:not([size]):not([multiple]),.bootstrap .input-group-sm > select.form-control:not([size]):not([multiple]),.bootstrap .input-group-sm > select.input-group-addon:not([size]):not([multiple]),.bootstrap select.form-control-sm:not([size]):not([multiple]){height:1.8125rem}.bootstrap .form-control-lg,.bootstrap .input-group-lg > .form-control,.bootstrap .input-group-lg > .input-group-addon,.bootstrap .input-group-lg > .input-group-btn > .btn{padding:.75rem 1.5rem;font-size:1.25rem;border-radius:0.3rem}.bootstrap .input-group-lg > .input-group-btn > select.btn:not([size]):not([multiple]),.bootstrap .input-group-lg > select.form-control:not([size]):not([multiple]),.bootstrap .input-group-lg > select.input-group-addon:not([size]):not([multiple]),.bootstrap select.form-control-lg:not([size]):not([multiple]){height:3.166667rem}.bootstrap .form-group{margin-bottom:1rem}.bootstrap .form-text{display:block;margin-top:0.25rem}.bootstrap .form-check{position:relative;display:block;margin-bottom:0.5rem}.bootstrap .form-check.disabled .form-check-label{color:#636c72;cursor:not-allowed}.bootstrap .form-check-label{padding-left:1.25rem;margin-bottom:0;cursor:pointer}.bootstrap .form-check-input{position:absolute;margin-top:.25rem;margin-left:-1.25rem}.bootstrap .form-check-input:only-child{position:static}.bootstrap .form-check-inline{display:inline-block}.bootstrap .form-check-inline .form-check-label{vertical-align:middle}.bootstrap .form-check-inline + .form-check-inline{margin-left:0.75rem}.bootstrap .form-control-feedback{margin-top:0.25rem}.bootstrap .form-control-danger,.bootstrap .form-control-success,.bootstrap .form-control-warning{padding-right:2.25rem;background-repeat:no-repeat;background-position:center right .5625rem;-webkit-background-size:1.125rem 1.125rem;background-size:1.125rem 1.125rem}.bootstrap .has-success .col-form-label,.bootstrap .has-success .custom-control,.bootstrap .has-success .form-check-label,.bootstrap .has-success .form-control-feedback,.bootstrap .has-success .form-control-label{color:#5cb85c}.bootstrap .has-success .form-control{border-color:#5cb85c}.bootstrap .has-success .input-group-addon{color:#5cb85c;border-color:#5cb85c;background-color:#eaf6ea}.bootstrap .has-success .form-control-success{background-image:url(\"data:image/svg+xml;charset=utf8,%3Csvg xmlns='http://www.w3.org/2000/svg' viewBox='0 0 8 8'%3E%3Cpath fill='%235cb85c' d='M2.3 6.73L.6 4.53c-.4-1.04.46-1.4 1.1-.8l1.1 1.4 3.4-3.8c.6-.63 1.6-.27 1.2.7l-4 4.6c-.43.5-.8.4-1.1.1z'/%3E%3C/svg%3E\")}.bootstrap .has-warning .col-form-label,.bootstrap .has-warning .custom-control,.bootstrap .has-warning .form-check-label,.bootstrap .has-warning .form-control-feedback,.bootstrap .has-warning .form-control-label{color:#f0ad4e}.bootstrap .has-warning .form-control{border-color:#f0ad4e}.bootstrap .has-warning .input-group-addon{color:#f0ad4e;border-color:#f0ad4e;background-color:#fff}.bootstrap .has-warning .form-control-warning{background-image:url(\"data:image/svg+xml;charset=utf8,%3Csvg xmlns='http://www.w3.org/2000/svg' viewBox='0 0 8 8'%3E%3Cpath fill='%23f0ad4e' d='M4.4 5.324h-.8v-2.46h.8zm0 1.42h-.8V5.89h.8zM3.76.63L.04 7.075c-.115.2.016.425.26.426h7.397c.242 0 .372-.226.258-.426C6.726 4.924 5.47 2.79 4.253.63c-.113-.174-.39-.174-.494 0z'/%3E%3C/svg%3E\")}.bootstrap .has-danger .col-form-label,.bootstrap .has-danger .custom-control,.bootstrap .has-danger .form-check-label,.bootstrap .has-danger .form-control-feedback,.bootstrap .has-danger .form-control-label{color:#d9534f}.bootstrap .has-danger .form-control{border-color:#d9534f}.bootstrap .has-danger .input-group-addon{color:#d9534f;border-color:#d9534f;background-color:#fdf7f7}.bootstrap .has-danger .form-control-danger{background-image:url(\"data:image/svg+xml;charset=utf8,%3Csvg xmlns='http://www.w3.org/2000/svg' fill='%23d9534f' viewBox='-2 -2 7 7'%3E%3Cpath stroke='%23d9534f' d='M0 0l3 3m0-3L0 3'/%3E%3Ccircle r='.5'/%3E%3Ccircle cx='3' r='.5'/%3E%3Ccircle cy='3' r='.5'/%3E%3Ccircle cx='3' cy='3' r='.5'/%3E%3C/svg%3E\")}.bootstrap .form-inline{display:-webkit-box;display:-webkit-flex;display:-ms-flexbox;display:flex;-webkit-flex-flow:row wrap;-ms-flex-flow:row wrap;flex-flow:row wrap;-webkit-box-align:center;-webkit-align-items:center;-ms-flex-align:center;align-items:center}.bootstrap .form-inline .form-check{width:100%}@media (min-width: 576px){.bootstrap .form-inline label{display:-webkit-box;display:-webkit-flex;display:-ms-flexbox;display:flex;-webkit-box-align:center;-webkit-align-items:center;-ms-flex-align:center;align-items:center;-webkit-box-pack:center;-webkit-justify-content:center;-ms-flex-pack:center;justify-content:center;margin-bottom:0}.bootstrap .form-inline .form-group{display:-webkit-box;display:-webkit-flex;display:-ms-flexbox;display:flex;-webkit-box-flex:0;-webkit-flex:0 0 auto;-ms-flex:0 0 auto;flex:0 0 auto;-webkit-flex-flow:row wrap;-ms-flex-flow:row wrap;flex-flow:row wrap;-webkit-box-align:center;-webkit-align-items:center;-ms-flex-align:center;align-items:center;margin-bottom:0}.bootstrap .form-inline .form-control{display:inline-block;width:auto;vertical-align:middle}.bootstrap .form-inline .form-control-static{display:inline-block}.bootstrap .form-inline .input-group{width:auto}.bootstrap .form-inline .form-control-label{margin-bottom:0;vertical-align:middle}.bootstrap .form-inline .form-check{display:-webkit-box;display:-webkit-flex;display:-ms-flexbox;display:flex;-webkit-box-align:center;-webkit-align-items:center;-ms-flex-align:center;align-items:center;-webkit-box-pack:center;-webkit-justify-content:center;-ms-flex-pack:center;justify-content:center;width:auto;margin-top:0;margin-bottom:0}.bootstrap .form-inline .form-check-label{padding-left:0}.bootstrap .form-inline .form-check-input{position:relative;margin-top:0;margin-right:.25rem;margin-left:0}.bootstrap .form-inline .custom-control{display:-webkit-box;display:-webkit-flex;display:-ms-flexbox;display:flex;-webkit-box-align:center;-webkit-align-items:center;-ms-flex-align:center;align-items:center;-webkit-box-pack:center;-webkit-justify-content:center;-ms-flex-pack:center;justify-content:center;padding-left:0}.bootstrap .form-inline .custom-control-indicator{position:static;display:inline-block;margin-right:.25rem;vertical-align:text-bottom}.bootstrap .form-inline .has-feedback .form-control-feedback{top:0}}.bootstrap .btn{display:inline-block;font-weight:400;line-height:1.25;text-align:center;white-space:nowrap;vertical-align:middle;-webkit-user-select:none;-moz-user-select:none;-ms-user-select:none;user-select:none;border:1px solid transparent;padding:.5rem 1rem;font-size:1rem;border-radius:.25rem;-webkit-transition:all 0.2s ease-in-out;-o-transition:all 0.2s ease-in-out;transition:all 0.2s ease-in-out}.bootstrap .btn:focus,.bootstrap .btn:hover{text-decoration:none}.bootstrap .btn.focus,.bootstrap .btn:focus{outline:0;-webkit-box-shadow:0 0 0 2px rgba(2, 117, 216, 0.25);box-shadow:0 0 0 2px rgba(2, 117, 216, 0.25)}.bootstrap .btn.disabled,.bootstrap .btn:disabled{cursor:not-allowed;opacity:0.65}.bootstrap .btn.active,.bootstrap .btn:active{background-image:none}.bootstrap a.btn.disabled,.bootstrap fieldset[disabled] a.btn{pointer-events:none}.bootstrap .btn-primary{color:#fff;background-color:#0275d8;border-color:#0275d8}.bootstrap .btn-primary:hover{color:#fff;background-color:#025aa5;border-color:#01549b}.bootstrap .btn-primary.focus,.bootstrap .btn-primary:focus{-webkit-box-shadow:0 0 0 2px rgba(2, 117, 216, 0.5);box-shadow:0 0 0 2px rgba(2, 117, 216, 0.5)}.bootstrap .btn-primary.disabled,.bootstrap .btn-primary:disabled{background-color:#0275d8;border-color:#0275d8}.bootstrap .btn-primary.active,.bootstrap .btn-primary:active,.bootstrap .show > .btn-primary.dropdown-toggle{color:#fff;background-color:#025aa5;background-image:none;border-color:#01549b}.bootstrap .btn-secondary{color:#292b2c;background-color:#fff;border-color:#ccc}.bootstrap .btn-secondary:hover{color:#292b2c;background-color:#e6e6e6;border-color:#adadad}.bootstrap .btn-secondary.focus,.bootstrap .btn-secondary:focus{-webkit-box-shadow:0 0 0 2px rgba(204, 204, 204, 0.5);box-shadow:0 0 0 2px rgba(204, 204, 204, 0.5)}.bootstrap .btn-secondary.disabled,.bootstrap .btn-secondary:disabled{background-color:#fff;border-color:#ccc}.bootstrap .btn-secondary.active,.bootstrap .btn-secondary:active,.bootstrap .show > .btn-secondary.dropdown-toggle{color:#292b2c;background-color:#e6e6e6;background-image:none;border-color:#adadad}.bootstrap .btn-info{color:#fff;background-color:#5bc0de;border-color:#5bc0de}.bootstrap .btn-info:hover{color:#fff;background-color:#31b0d5;border-color:#2aabd2}.bootstrap .btn-info.focus,.bootstrap .btn-info:focus{-webkit-box-shadow:0 0 0 2px rgba(91, 192, 222, 0.5);box-shadow:0 0 0 2px rgba(91, 192, 222, 0.5)}.bootstrap .btn-info.disabled,.bootstrap .btn-info:disabled{background-color:#5bc0de;border-color:#5bc0de}.bootstrap .btn-info.active,.bootstrap .btn-info:active,.bootstrap .show > .btn-info.dropdown-toggle{color:#fff;background-color:#31b0d5;background-image:none;border-color:#2aabd2}.bootstrap .btn-success{color:#fff;background-color:#5cb85c;border-color:#5cb85c}.bootstrap .btn-success:hover{color:#fff;background-color:#449d44;border-color:#419641}.bootstrap .btn-success.focus,.bootstrap .btn-success:focus{-webkit-box-shadow:0 0 0 2px rgba(92, 184, 92, 0.5);box-shadow:0 0 0 2px rgba(92, 184, 92, 0.5)}.bootstrap .btn-success.disabled,.bootstrap .btn-success:disabled{background-color:#5cb85c;border-color:#5cb85c}.bootstrap .btn-success.active,.bootstrap .btn-success:active,.bootstrap .show > .btn-success.dropdown-toggle{color:#fff;background-color:#449d44;background-image:none;border-color:#419641}.bootstrap .btn-warning{color:#fff;background-color:#f0ad4e;border-color:#f0ad4e}.bootstrap .btn-warning:hover{color:#fff;background-color:#ec971f;border-color:#eb9316}.bootstrap .btn-warning.focus,.bootstrap .btn-warning:focus{-webkit-box-shadow:0 0 0 2px rgba(240, 173, 78, 0.5);box-shadow:0 0 0 2px rgba(240, 173, 78, 0.5)}.bootstrap .btn-warning.disabled,.bootstrap .btn-warning:disabled{background-color:#f0ad4e;border-color:#f0ad4e}.bootstrap .btn-warning.active,.bootstrap .btn-warning:active,.bootstrap .show > .btn-warning.dropdown-toggle{color:#fff;background-color:#ec971f;background-image:none;border-color:#eb9316}.bootstrap .btn-danger{color:#fff;background-color:#d9534f;border-color:#d9534f}.bootstrap .btn-danger:hover{color:#fff;background-color:#c9302c;border-color:#c12e2a}.bootstrap .btn-danger.focus,.bootstrap .btn-danger:focus{-webkit-box-shadow:0 0 0 2px rgba(217, 83, 79, 0.5);box-shadow:0 0 0 2px rgba(217, 83, 79, 0.5)}.bootstrap .btn-danger.disabled,.bootstrap .btn-danger:disabled{background-color:#d9534f;border-color:#d9534f}.bootstrap .btn-danger.active,.bootstrap .btn-danger:active,.bootstrap .show > .btn-danger.dropdown-toggle{color:#fff;background-color:#c9302c;background-image:none;border-color:#c12e2a}.bootstrap .btn-outline-primary{color:#0275d8;background-image:none;background-color:transparent;border-color:#0275d8}.bootstrap .btn-outline-primary:hover{color:#fff;background-color:#0275d8;border-color:#0275d8}.bootstrap .btn-outline-primary.focus,.bootstrap .btn-outline-primary:focus{-webkit-box-shadow:0 0 0 2px rgba(2, 117, 216, 0.5);box-shadow:0 0 0 2px rgba(2, 117, 216, 0.5)}.bootstrap .btn-outline-primary.disabled,.bootstrap .btn-outline-primary:disabled{color:#0275d8;background-color:transparent}.bootstrap .btn-outline-primary.active,.bootstrap .btn-outline-primary:active,.bootstrap .show > .btn-outline-primary.dropdown-toggle{color:#fff;background-color:#0275d8;border-color:#0275d8}.bootstrap .btn-outline-secondary{color:#ccc;background-image:none;background-color:transparent;border-color:#ccc}.bootstrap .btn-outline-secondary:hover{color:#fff;background-color:#ccc;border-color:#ccc}.bootstrap .btn-outline-secondary.focus,.bootstrap .btn-outline-secondary:focus{-webkit-box-shadow:0 0 0 2px rgba(204, 204, 204, 0.5);box-shadow:0 0 0 2px rgba(204, 204, 204, 0.5)}.bootstrap .btn-outline-secondary.disabled,.bootstrap .btn-outline-secondary:disabled{color:#ccc;background-color:transparent}.bootstrap .btn-outline-secondary.active,.bootstrap .btn-outline-secondary:active,.bootstrap .show > .btn-outline-secondary.dropdown-toggle{color:#fff;background-color:#ccc;border-color:#ccc}.bootstrap .btn-outline-info{color:#5bc0de;background-image:none;background-color:transparent;border-color:#5bc0de}.bootstrap .btn-outline-info:hover{color:#fff;background-color:#5bc0de;border-color:#5bc0de}.bootstrap .btn-outline-info.focus,.bootstrap .btn-outline-info:focus{-webkit-box-shadow:0 0 0 2px rgba(91, 192, 222, 0.5);box-shadow:0 0 0 2px rgba(91, 192, 222, 0.5)}.bootstrap .btn-outline-info.disabled,.bootstrap .btn-outline-info:disabled{color:#5bc0de;background-color:transparent}.bootstrap .btn-outline-info.active,.bootstrap .btn-outline-info:active,.bootstrap .show > .btn-outline-info.dropdown-toggle{color:#fff;background-color:#5bc0de;border-color:#5bc0de}.bootstrap .btn-outline-success{color:#5cb85c;background-image:none;background-color:transparent;border-color:#5cb85c}.bootstrap .btn-outline-success:hover{color:#fff;background-color:#5cb85c;border-color:#5cb85c}.bootstrap .btn-outline-success.focus,.bootstrap .btn-outline-success:focus{-webkit-box-shadow:0 0 0 2px rgba(92, 184, 92, 0.5);box-shadow:0 0 0 2px rgba(92, 184, 92, 0.5)}.bootstrap .btn-outline-success.disabled,.bootstrap .btn-outline-success:disabled{color:#5cb85c;background-color:transparent}.bootstrap .btn-outline-success.active,.bootstrap .btn-outline-success:active,.bootstrap .show > .btn-outline-success.dropdown-toggle{color:#fff;background-color:#5cb85c;border-color:#5cb85c}.bootstrap .btn-outline-warning{color:#f0ad4e;background-image:none;background-color:transparent;border-color:#f0ad4e}.bootstrap .btn-outline-warning:hover{color:#fff;background-color:#f0ad4e;border-color:#f0ad4e}.bootstrap .btn-outline-warning.focus,.bootstrap .btn-outline-warning:focus{-webkit-box-shadow:0 0 0 2px rgba(240, 173, 78, 0.5);box-shadow:0 0 0 2px rgba(240, 173, 78, 0.5)}.bootstrap .btn-outline-warning.disabled,.bootstrap .btn-outline-warning:disabled{color:#f0ad4e;background-color:transparent}.bootstrap .btn-outline-warning.active,.bootstrap .btn-outline-warning:active,.bootstrap .show > .btn-outline-warning.dropdown-toggle{color:#fff;background-color:#f0ad4e;border-color:#f0ad4e}.bootstrap .btn-outline-danger{color:#d9534f;background-image:none;background-color:transparent;border-color:#d9534f}.bootstrap .btn-outline-danger:hover{color:#fff;background-color:#d9534f;border-color:#d9534f}.bootstrap .btn-outline-danger.focus,.bootstrap .btn-outline-danger:focus{-webkit-box-shadow:0 0 0 2px rgba(217, 83, 79, 0.5);box-shadow:0 0 0 2px rgba(217, 83, 79, 0.5)}.bootstrap .btn-outline-danger.disabled,.bootstrap .btn-outline-danger:disabled{color:#d9534f;background-color:transparent}.bootstrap .btn-outline-danger.active,.bootstrap .btn-outline-danger:active,.bootstrap .show > .btn-outline-danger.dropdown-toggle{color:#fff;background-color:#d9534f;border-color:#d9534f}.bootstrap .btn-link{font-weight:400;color:#0275d8;border-radius:0}.bootstrap .btn-link,.bootstrap .btn-link.active,.bootstrap .btn-link:active,.bootstrap .btn-link:disabled{background-color:transparent}.bootstrap .btn-link,.bootstrap .btn-link:active,.bootstrap .btn-link:focus{border-color:transparent}.bootstrap .btn-link:hover{border-color:transparent}.bootstrap .btn-link:focus,.bootstrap .btn-link:hover{color:#014c8c;text-decoration:underline;background-color:transparent}.bootstrap .btn-link:disabled{color:#636c72}.bootstrap .btn-link:disabled:focus,.bootstrap .btn-link:disabled:hover{text-decoration:none}.bootstrap .btn-group-lg > .btn,.bootstrap .btn-lg{padding:.75rem 1.5rem;font-size:1.25rem;border-radius:0.3rem}.bootstrap .btn-group-sm > .btn,.bootstrap .btn-sm{padding:.25rem .5rem;font-size:.875rem;border-radius:0.2rem}.bootstrap .btn-block{display:block;width:100%}.bootstrap .btn-block + .btn-block{margin-top:0.5rem}.bootstrap input[type=button].btn-block,.bootstrap input[type=reset].btn-block,.bootstrap input[type=submit].btn-block{width:100%}.bootstrap .fade{opacity:0;-webkit-transition:opacity .15s linear;-o-transition:opacity .15s linear;transition:opacity 0.15s linear}.bootstrap .fade.show{opacity:1}.bootstrap .collapse{display:none}.bootstrap .collapse.show{display:block}.bootstrap tr.collapse.show{display:table-row}.bootstrap tbody.collapse.show{display:table-row-group}.bootstrap .collapsing{position:relative;height:0;overflow:hidden;-webkit-transition:height .35s ease;-o-transition:height .35s ease;transition:height 0.35s ease}.bootstrap .dropdown,.bootstrap .dropup{position:relative}.bootstrap .dropdown-toggle::after{display:inline-block;width:0;height:0;margin-left:.3em;vertical-align:middle;content:\"\";border-top:.3em solid;border-right:.3em solid transparent;border-left:0.3em solid transparent}.bootstrap .dropdown-toggle:focus{outline:0}.bootstrap .dropup .dropdown-toggle::after{border-top:0;border-bottom:0.3em solid}.bootstrap .dropdown-menu{position:absolute;top:100%;left:0;z-index:1000;display:none;float:left;min-width:10rem;padding:.5rem 0;margin:.125rem 0 0;font-size:1rem;color:#292b2c;text-align:left;list-style:none;background-color:#fff;-webkit-background-clip:padding-box;background-clip:padding-box;border:1px solid rgba(0, 0, 0, 0.15);border-radius:0.25rem}.bootstrap .dropdown-divider{height:1px;margin:.5rem 0;overflow:hidden;background-color:#eceeef}.bootstrap .dropdown-item{display:block;width:100%;padding:3px 1.5rem;clear:both;font-weight:400;color:#292b2c;text-align:inherit;white-space:nowrap;background:0 0;border:0}.bootstrap .dropdown-item:focus,.bootstrap .dropdown-item:hover{color:#1d1e1f;text-decoration:none;background-color:#f7f7f9}.bootstrap .dropdown-item.active,.bootstrap .dropdown-item:active{color:#fff;text-decoration:none;background-color:#0275d8}.bootstrap .dropdown-item.disabled,.bootstrap .dropdown-item:disabled{color:#636c72;cursor:not-allowed;background-color:transparent}.bootstrap .show > .dropdown-menu{display:block}.bootstrap .show > a{outline:0}.bootstrap .dropdown-menu-right{right:0;left:auto}.bootstrap .dropdown-menu-left{right:auto;left:0}.bootstrap .dropdown-header{display:block;padding:.5rem 1.5rem;margin-bottom:0;font-size:.875rem;color:#636c72;white-space:nowrap}.bootstrap .dropdown-backdrop{position:fixed;top:0;right:0;bottom:0;left:0;z-index:990}.bootstrap .dropup .dropdown-menu{top:auto;bottom:100%;margin-bottom:0.125rem}.bootstrap .btn-group,.bootstrap .btn-group-vertical{position:relative;display:-webkit-inline-box;display:-webkit-inline-flex;display:-ms-inline-flexbox;display:inline-flex;vertical-align:middle}.bootstrap .btn-group-vertical > .btn,.bootstrap .btn-group > .btn{position:relative;-webkit-box-flex:0;-webkit-flex:0 1 auto;-ms-flex:0 1 auto;flex:0 1 auto}.bootstrap .btn-group-vertical > .btn:hover,.bootstrap .btn-group > .btn:hover{z-index:2}.bootstrap .btn-group-vertical > .btn.active,.bootstrap .btn-group-vertical > .btn:active,.bootstrap .btn-group-vertical > .btn:focus,.bootstrap .btn-group > .btn.active,.bootstrap .btn-group > .btn:active,.bootstrap .btn-group > .btn:focus{z-index:2}.bootstrap .btn-group .btn + .btn,.bootstrap .btn-group .btn + .btn-group,.bootstrap .btn-group .btn-group + .btn,.bootstrap .btn-group .btn-group + .btn-group,.bootstrap .btn-group-vertical .btn + .btn,.bootstrap .btn-group-vertical .btn + .btn-group,.bootstrap .btn-group-vertical .btn-group + .btn,.bootstrap .btn-group-vertical .btn-group + .btn-group{margin-left:-1px}.bootstrap .btn-toolbar{display:-webkit-box;display:-webkit-flex;display:-ms-flexbox;display:flex;-webkit-box-pack:start;-webkit-justify-content:flex-start;-ms-flex-pack:start;justify-content:flex-start}.bootstrap .btn-toolbar .input-group{width:auto}.bootstrap .btn-group > .btn:not(:first-child):not(:last-child):not(.dropdown-toggle){border-radius:0}.bootstrap .btn-group > .btn:first-child{margin-left:0}.bootstrap .btn-group > .btn:first-child:not(:last-child):not(.dropdown-toggle){border-bottom-right-radius:0;border-top-right-radius:0}.bootstrap .btn-group > .btn:last-child:not(:first-child),.bootstrap .btn-group > .dropdown-toggle:not(:first-child){border-bottom-left-radius:0;border-top-left-radius:0}.bootstrap .btn-group > .btn-group{float:left}.bootstrap .btn-group > .btn-group:not(:first-child):not(:last-child) > .btn{border-radius:0}.bootstrap .btn-group > .btn-group:first-child:not(:last-child) > .btn:last-child,.bootstrap .btn-group > .btn-group:first-child:not(:last-child) > .dropdown-toggle{border-bottom-right-radius:0;border-top-right-radius:0}.bootstrap .btn-group > .btn-group:last-child:not(:first-child) > .btn:first-child{border-bottom-left-radius:0;border-top-left-radius:0}.bootstrap .btn-group .dropdown-toggle:active,.bootstrap .btn-group.open .dropdown-toggle{outline:0}.bootstrap .btn + .dropdown-toggle-split{padding-right:.75rem;padding-left:0.75rem}.bootstrap .btn + .dropdown-toggle-split::after{margin-left:0}.bootstrap .btn-group-sm > .btn + .dropdown-toggle-split,.bootstrap .btn-sm + .dropdown-toggle-split{padding-right:.375rem;padding-left:0.375rem}.bootstrap .btn-group-lg > .btn + .dropdown-toggle-split,.bootstrap .btn-lg + .dropdown-toggle-split{padding-right:1.125rem;padding-left:1.125rem}.bootstrap .btn-group-vertical{display:-webkit-inline-box;display:-webkit-inline-flex;display:-ms-inline-flexbox;display:inline-flex;-webkit-box-orient:vertical;-webkit-box-direction:normal;-webkit-flex-direction:column;-ms-flex-direction:column;flex-direction:column;-webkit-box-align:start;-webkit-align-items:flex-start;-ms-flex-align:start;align-items:flex-start;-webkit-box-pack:center;-webkit-justify-content:center;-ms-flex-pack:center;justify-content:center}.bootstrap .btn-group-vertical .btn,.bootstrap .btn-group-vertical .btn-group{width:100%}.bootstrap .btn-group-vertical > .btn + .btn,.bootstrap .btn-group-vertical > .btn + .btn-group,.bootstrap .btn-group-vertical > .btn-group + .btn,.bootstrap .btn-group-vertical > .btn-group + .btn-group{margin-top:-1px;margin-left:0}.bootstrap .btn-group-vertical > .btn:not(:first-child):not(:last-child){border-radius:0}.bootstrap .btn-group-vertical > .btn:first-child:not(:last-child){border-bottom-right-radius:0;border-bottom-left-radius:0}.bootstrap .btn-group-vertical > .btn:last-child:not(:first-child){border-top-right-radius:0;border-top-left-radius:0}.bootstrap .btn-group-vertical > .btn-group:not(:first-child):not(:last-child) > .btn{border-radius:0}.bootstrap .btn-group-vertical > .btn-group:first-child:not(:last-child) > .btn:last-child,.bootstrap .btn-group-vertical > .btn-group:first-child:not(:last-child) > .dropdown-toggle{border-bottom-right-radius:0;border-bottom-left-radius:0}.bootstrap .btn-group-vertical > .btn-group:last-child:not(:first-child) > .btn:first-child{border-top-right-radius:0;border-top-left-radius:0}.bootstrap [data-toggle=buttons] > .btn input[type=checkbox],.bootstrap [data-toggle=buttons] > .btn input[type=radio],.bootstrap [data-toggle=buttons] > .btn-group > .btn input[type=checkbox],.bootstrap [data-toggle=buttons] > .btn-group > .btn input[type=radio]{position:absolute;clip:rect(0, 0, 0, 0);pointer-events:none}.bootstrap .input-group{position:relative;display:-webkit-box;display:-webkit-flex;display:-ms-flexbox;display:flex;width:100%}.bootstrap .input-group .form-control{position:relative;z-index:2;-webkit-box-flex:1;-webkit-flex:1 1 auto;-ms-flex:1 1 auto;flex:1 1 auto;width:1%;margin-bottom:0}.bootstrap .input-group .form-control:active,.bootstrap .input-group .form-control:focus,.bootstrap .input-group .form-control:hover{z-index:3}.bootstrap .input-group .form-control,.bootstrap .input-group-addon,.bootstrap .input-group-btn{display:-webkit-box;display:-webkit-flex;display:-ms-flexbox;display:flex;-webkit-box-orient:vertical;-webkit-box-direction:normal;-webkit-flex-direction:column;-ms-flex-direction:column;flex-direction:column;-webkit-box-pack:center;-webkit-justify-content:center;-ms-flex-pack:center;justify-content:center}.bootstrap .input-group .form-control:not(:first-child):not(:last-child),.bootstrap .input-group-addon:not(:first-child):not(:last-child),.bootstrap .input-group-btn:not(:first-child):not(:last-child){border-radius:0}.bootstrap .input-group-addon,.bootstrap .input-group-btn{white-space:nowrap;vertical-align:middle}.bootstrap .input-group-addon{padding:.5rem .75rem;margin-bottom:0;font-size:1rem;font-weight:400;line-height:1.25;color:#464a4c;text-align:center;background-color:#eceeef;border:1px solid rgba(0, 0, 0, 0.15);border-radius:0.25rem}.bootstrap .input-group-addon.form-control-sm,.bootstrap .input-group-sm > .input-group-addon,.bootstrap .input-group-sm > .input-group-btn > .input-group-addon.btn{padding:.25rem .5rem;font-size:.875rem;border-radius:0.2rem}.bootstrap .input-group-addon.form-control-lg,.bootstrap .input-group-lg > .input-group-addon,.bootstrap .input-group-lg > .input-group-btn > .input-group-addon.btn{padding:.75rem 1.5rem;font-size:1.25rem;border-radius:0.3rem}.bootstrap .input-group-addon input[type=checkbox],.bootstrap .input-group-addon input[type=radio]{margin-top:0}.bootstrap .input-group .form-control:not(:last-child),.bootstrap .input-group-addon:not(:last-child),.bootstrap .input-group-btn:not(:first-child) > .btn-group:not(:last-child) > .btn,.bootstrap .input-group-btn:not(:first-child) > .btn:not(:last-child):not(.dropdown-toggle),.bootstrap .input-group-btn:not(:last-child) > .btn,.bootstrap .input-group-btn:not(:last-child) > .btn-group > .btn,.bootstrap .input-group-btn:not(:last-child) > .dropdown-toggle{border-bottom-right-radius:0;border-top-right-radius:0}.bootstrap .input-group-addon:not(:last-child){border-right:0}.bootstrap .input-group .form-control:not(:first-child),.bootstrap .input-group-addon:not(:first-child),.bootstrap .input-group-btn:not(:first-child) > .btn,.bootstrap .input-group-btn:not(:first-child) > .btn-group > .btn,.bootstrap .input-group-btn:not(:first-child) > .dropdown-toggle,.bootstrap .input-group-btn:not(:last-child) > .btn-group:not(:first-child) > .btn,.bootstrap .input-group-btn:not(:last-child) > .btn:not(:first-child){border-bottom-left-radius:0;border-top-left-radius:0}.bootstrap .form-control + .input-group-addon:not(:first-child){border-left:0}.bootstrap .input-group-btn{position:relative;font-size:0;white-space:nowrap}.bootstrap .input-group-btn > .btn{position:relative;-webkit-box-flex:1;-webkit-flex:1 1 0%;-ms-flex:1 1 0%;flex:1 1 0%}.bootstrap .input-group-btn > .btn + .btn{margin-left:-1px}.bootstrap .input-group-btn > .btn:active,.bootstrap .input-group-btn > .btn:focus,.bootstrap .input-group-btn > .btn:hover{z-index:3}.bootstrap .input-group-btn:not(:last-child) > .btn,.bootstrap .input-group-btn:not(:last-child) > .btn-group{margin-right:-1px}.bootstrap .input-group-btn:not(:first-child) > .btn,.bootstrap .input-group-btn:not(:first-child) > .btn-group{z-index:2;margin-left:-1px}.bootstrap .input-group-btn:not(:first-child) > .btn-group:active,.bootstrap .input-group-btn:not(:first-child) > .btn-group:focus,.bootstrap .input-group-btn:not(:first-child) > .btn-group:hover,.bootstrap .input-group-btn:not(:first-child) > .btn:active,.bootstrap .input-group-btn:not(:first-child) > .btn:focus,.bootstrap .input-group-btn:not(:first-child) > .btn:hover{z-index:3}.bootstrap .custom-control{position:relative;display:-webkit-inline-box;display:-webkit-inline-flex;display:-ms-inline-flexbox;display:inline-flex;min-height:1.5rem;padding-left:1.5rem;margin-right:1rem;cursor:pointer}.bootstrap .custom-control-input{position:absolute;z-index:-1;opacity:0}.bootstrap .custom-control-input:checked ~ .custom-control-indicator{color:#fff;background-color:#0275d8}.bootstrap .custom-control-input:focus ~ .custom-control-indicator{-webkit-box-shadow:0 0 0 1px #fff,0 0 0 3px #0275d8;box-shadow:0 0 0 1px #fff, 0 0 0 3px #0275d8}.bootstrap .custom-control-input:active ~ .custom-control-indicator{color:#fff;background-color:#8fcafe}.bootstrap .custom-control-input:disabled ~ .custom-control-indicator{cursor:not-allowed;background-color:#eceeef}.bootstrap .custom-control-input:disabled ~ .custom-control-description{color:#636c72;cursor:not-allowed}.bootstrap .custom-control-indicator{position:absolute;top:.25rem;left:0;display:block;width:1rem;height:1rem;pointer-events:none;-webkit-user-select:none;-moz-user-select:none;-ms-user-select:none;user-select:none;background-color:#ddd;background-repeat:no-repeat;background-position:center center;-webkit-background-size:50% 50%;background-size:50% 50%}.bootstrap .custom-checkbox .custom-control-indicator{border-radius:0.25rem}.bootstrap .custom-checkbox .custom-control-input:checked ~ .custom-control-indicator{background-image:url(\"data:image/svg+xml;charset=utf8,%3Csvg xmlns='http://www.w3.org/2000/svg' viewBox='0 0 8 8'%3E%3Cpath fill='%23fff' d='M6.564.75l-3.59 3.612-1.538-1.55L0 4.26 2.974 7.25 8 2.193z'/%3E%3C/svg%3E\")}.bootstrap .custom-checkbox .custom-control-input:indeterminate ~ .custom-control-indicator{background-color:#0275d8;background-image:url(\"data:image/svg+xml;charset=utf8,%3Csvg xmlns='http://www.w3.org/2000/svg' viewBox='0 0 4 4'%3E%3Cpath stroke='%23fff' d='M0 2h4'/%3E%3C/svg%3E\")}.bootstrap .custom-radio .custom-control-indicator{border-radius:50%}.bootstrap .custom-radio .custom-control-input:checked ~ .custom-control-indicator{background-image:url(\"data:image/svg+xml;charset=utf8,%3Csvg xmlns='http://www.w3.org/2000/svg' viewBox='-4 -4 8 8'%3E%3Ccircle r='3' fill='%23fff'/%3E%3C/svg%3E\")}.bootstrap .custom-controls-stacked{display:-webkit-box;display:-webkit-flex;display:-ms-flexbox;display:flex;-webkit-box-orient:vertical;-webkit-box-direction:normal;-webkit-flex-direction:column;-ms-flex-direction:column;flex-direction:column}.bootstrap .custom-controls-stacked .custom-control{margin-bottom:0.25rem}.bootstrap .custom-controls-stacked .custom-control + .custom-control{margin-left:0}.bootstrap .custom-select{display:inline-block;max-width:100%;height:calc(4.25rem);padding:.375rem 1.75rem .375rem .75rem;line-height:1.25;color:#464a4c;vertical-align:middle;background:#fff url(\"data:image/svg+xml;charset=utf8,%3Csvg xmlns='http://www.w3.org/2000/svg' viewBox='0 0 4 5'%3E%3Cpath fill='%23333' d='M2 0L0 2h4zm0 5L0 3h4z'/%3E%3C/svg%3E\") no-repeat right 0.75rem center;-webkit-background-size:8px 10px;background-size:8px 10px;border:1px solid rgba(0, 0, 0, 0.15);border-radius:.25rem;-moz-appearance:none;-webkit-appearance:none}.bootstrap .custom-select:focus{border-color:#5cb3fd;outline:0}.bootstrap .custom-select:focus::-ms-value{color:#464a4c;background-color:#fff}.bootstrap .custom-select:disabled{color:#636c72;cursor:not-allowed;background-color:#eceeef}.bootstrap .custom-select::-ms-expand{opacity:0}.bootstrap .custom-select-sm{padding-top:.375rem;padding-bottom:.375rem;font-size:75%}.bootstrap .custom-file{position:relative;display:inline-block;max-width:100%;height:2.5rem;margin-bottom:0;cursor:pointer}.bootstrap .custom-file-input{min-width:14rem;max-width:100%;height:2.5rem;margin:0;filter:alpha(opacity=0);opacity:0}.bootstrap .custom-file-control{position:absolute;top:0;right:0;left:0;z-index:5;height:2.5rem;padding:.5rem 1rem;line-height:1.5;color:#464a4c;pointer-events:none;-webkit-user-select:none;-moz-user-select:none;-ms-user-select:none;user-select:none;background-color:#fff;border:1px solid rgba(0, 0, 0, 0.15);border-radius:0.25rem}.bootstrap .custom-file-control:lang(en)::after{content:\"Choose file...\"}.bootstrap .custom-file-control::before{position:absolute;top:-1px;right:-1px;bottom:-1px;z-index:6;display:block;height:2.5rem;padding:.5rem 1rem;line-height:1.5;color:#464a4c;background-color:#eceeef;border:1px solid rgba(0, 0, 0, 0.15);border-radius:0 0.25rem 0.25rem 0}.bootstrap .custom-file-control:lang(en)::before{content:\"Browse\"}.bootstrap .nav{display:-webkit-box;display:-webkit-flex;display:-ms-flexbox;display:flex;padding-left:0;margin-bottom:0;list-style:none}.bootstrap .nav-link{display:block;padding:0.5em 1em}.bootstrap .nav-link:focus,.bootstrap .nav-link:hover{text-decoration:none}.bootstrap .nav-link.disabled{color:#636c72;cursor:not-allowed}.bootstrap .nav-tabs{border-bottom:1px solid #ddd}.bootstrap .nav-tabs .nav-item{margin-bottom:-1px}.bootstrap .nav-tabs .nav-link{border:1px solid transparent;border-top-right-radius:.25rem;border-top-left-radius:0.25rem}.bootstrap .nav-tabs .nav-link:focus,.bootstrap .nav-tabs .nav-link:hover{border-color:#eceeef #eceeef #ddd}.bootstrap .nav-tabs .nav-link.disabled{color:#636c72;background-color:transparent;border-color:transparent}.bootstrap .nav-tabs .nav-item.show .nav-link,.bootstrap .nav-tabs .nav-link.active{color:#464a4c;background-color:#fff;border-color:#ddd #ddd #fff}.bootstrap .nav-tabs .dropdown-menu{margin-top:-1px;border-top-right-radius:0;border-top-left-radius:0}.bootstrap .nav-pills .nav-link{border-radius:0.25rem}.bootstrap .nav-pills .nav-item.show .nav-link,.bootstrap .nav-pills .nav-link.active{color:#fff;cursor:default;background-color:#0275d8}.bootstrap .nav-fill .nav-item{-webkit-box-flex:1;-webkit-flex:1 1 auto;-ms-flex:1 1 auto;flex:1 1 auto;text-align:center}.bootstrap .nav-justified .nav-item{-webkit-box-flex:1;-webkit-flex:1 1 100%;-ms-flex:1 1 100%;flex:1 1 100%;text-align:center}.bootstrap .tab-content > .tab-pane{display:none}.bootstrap .tab-content > .active{display:block}.bootstrap .navbar{position:relative;display:-webkit-box;display:-webkit-flex;display:-ms-flexbox;display:flex;-webkit-box-orient:vertical;-webkit-box-direction:normal;-webkit-flex-direction:column;-ms-flex-direction:column;flex-direction:column;padding:0.5rem 1rem}.bootstrap .navbar-brand{display:inline-block;padding-top:.25rem;padding-bottom:.25rem;margin-right:1rem;font-size:1.25rem;line-height:inherit;white-space:nowrap}.bootstrap .navbar-brand:focus,.bootstrap .navbar-brand:hover{text-decoration:none}.bootstrap .navbar-nav{display:-webkit-box;display:-webkit-flex;display:-ms-flexbox;display:flex;-webkit-box-orient:vertical;-webkit-box-direction:normal;-webkit-flex-direction:column;-ms-flex-direction:column;flex-direction:column;padding-left:0;margin-bottom:0;list-style:none}.bootstrap .navbar-nav .nav-link{padding-right:0;padding-left:0}.bootstrap .navbar-text{display:inline-block;padding-top:.425rem;padding-bottom:0.425rem}.bootstrap .navbar-toggler{-webkit-align-self:flex-start;-ms-flex-item-align:start;align-self:flex-start;padding:.25rem .75rem;font-size:1.25rem;line-height:1;background:0 0;border:1px solid transparent;border-radius:0.25rem}.bootstrap .navbar-toggler:focus,.bootstrap .navbar-toggler:hover{text-decoration:none}.bootstrap .navbar-toggler-icon{display:inline-block;width:1.5em;height:1.5em;vertical-align:middle;content:\"\";background:no-repeat center center;-webkit-background-size:100% 100%;background-size:100% 100%}.bootstrap .navbar-toggler-left{position:absolute;left:1rem}.bootstrap .navbar-toggler-right{position:absolute;right:1rem}@media (max-width: 575px){.bootstrap .navbar-toggleable .navbar-nav .dropdown-menu{position:static;float:none}.bootstrap .navbar-toggleable > .container{padding-right:0;padding-left:0}}@media (min-width: 576px){.bootstrap .navbar-toggleable{-webkit-box-orient:horizontal;-webkit-box-direction:normal;-webkit-flex-direction:row;-ms-flex-direction:row;flex-direction:row;-webkit-flex-wrap:nowrap;-ms-flex-wrap:nowrap;flex-wrap:nowrap;-webkit-box-align:center;-webkit-align-items:center;-ms-flex-align:center;align-items:center}.bootstrap .navbar-toggleable .navbar-nav{-webkit-box-orient:horizontal;-webkit-box-direction:normal;-webkit-flex-direction:row;-ms-flex-direction:row;flex-direction:row}.bootstrap .navbar-toggleable .navbar-nav .nav-link{padding-right:.5rem;padding-left:0.5rem}.bootstrap .navbar-toggleable > .container{display:-webkit-box;display:-webkit-flex;display:-ms-flexbox;display:flex;-webkit-flex-wrap:nowrap;-ms-flex-wrap:nowrap;flex-wrap:nowrap;-webkit-box-align:center;-webkit-align-items:center;-ms-flex-align:center;align-items:center}.bootstrap .navbar-toggleable .navbar-collapse{display:-webkit-box !important;display:-webkit-flex !important;display:-ms-flexbox !important;display:flex !important;width:100%}.bootstrap .navbar-toggleable .navbar-toggler{display:none}}@media (max-width: 767px){.bootstrap .navbar-toggleable-sm .navbar-nav .dropdown-menu{position:static;float:none}.bootstrap .navbar-toggleable-sm > .container{padding-right:0;padding-left:0}}@media (min-width: 768px){.bootstrap .navbar-toggleable-sm{-webkit-box-orient:horizontal;-webkit-box-direction:normal;-webkit-flex-direction:row;-ms-flex-direction:row;flex-direction:row;-webkit-flex-wrap:nowrap;-ms-flex-wrap:nowrap;flex-wrap:nowrap;-webkit-box-align:center;-webkit-align-items:center;-ms-flex-align:center;align-items:center}.bootstrap .navbar-toggleable-sm .navbar-nav{-webkit-box-orient:horizontal;-webkit-box-direction:normal;-webkit-flex-direction:row;-ms-flex-direction:row;flex-direction:row}.bootstrap .navbar-toggleable-sm .navbar-nav .nav-link{padding-right:.5rem;padding-left:0.5rem}.bootstrap .navbar-toggleable-sm > .container{display:-webkit-box;display:-webkit-flex;display:-ms-flexbox;display:flex;-webkit-flex-wrap:nowrap;-ms-flex-wrap:nowrap;flex-wrap:nowrap;-webkit-box-align:center;-webkit-align-items:center;-ms-flex-align:center;align-items:center}.bootstrap .navbar-toggleable-sm .navbar-collapse{display:-webkit-box !important;display:-webkit-flex !important;display:-ms-flexbox !important;display:flex !important;width:100%}.bootstrap .navbar-toggleable-sm .navbar-toggler{display:none}}@media (max-width: 991px){.bootstrap .navbar-toggleable-md .navbar-nav .dropdown-menu{position:static;float:none}.bootstrap .navbar-toggleable-md > .container{padding-right:0;padding-left:0}}@media (min-width: 992px){.bootstrap .navbar-toggleable-md{-webkit-box-orient:horizontal;-webkit-box-direction:normal;-webkit-flex-direction:row;-ms-flex-direction:row;flex-direction:row;-webkit-flex-wrap:nowrap;-ms-flex-wrap:nowrap;flex-wrap:nowrap;-webkit-box-align:center;-webkit-align-items:center;-ms-flex-align:center;align-items:center}.bootstrap .navbar-toggleable-md .navbar-nav{-webkit-box-orient:horizontal;-webkit-box-direction:normal;-webkit-flex-direction:row;-ms-flex-direction:row;flex-direction:row}.bootstrap .navbar-toggleable-md .navbar-nav .nav-link{padding-right:.5rem;padding-left:0.5rem}.bootstrap .navbar-toggleable-md > .container{display:-webkit-box;display:-webkit-flex;display:-ms-flexbox;display:flex;-webkit-flex-wrap:nowrap;-ms-flex-wrap:nowrap;flex-wrap:nowrap;-webkit-box-align:center;-webkit-align-items:center;-ms-flex-align:center;align-items:center}.bootstrap .navbar-toggleable-md .navbar-collapse{display:-webkit-box !important;display:-webkit-flex !important;display:-ms-flexbox !important;display:flex !important;width:100%}.bootstrap .navbar-toggleable-md .navbar-toggler{display:none}}@media (max-width: 1199px){.bootstrap .navbar-toggleable-lg .navbar-nav .dropdown-menu{position:static;float:none}.bootstrap .navbar-toggleable-lg > .container{padding-right:0;padding-left:0}}@media (min-width: 1200px){.bootstrap .navbar-toggleable-lg{-webkit-box-orient:horizontal;-webkit-box-direction:normal;-webkit-flex-direction:row;-ms-flex-direction:row;flex-direction:row;-webkit-flex-wrap:nowrap;-ms-flex-wrap:nowrap;flex-wrap:nowrap;-webkit-box-align:center;-webkit-align-items:center;-ms-flex-align:center;align-items:center}.bootstrap .navbar-toggleable-lg .navbar-nav{-webkit-box-orient:horizontal;-webkit-box-direction:normal;-webkit-flex-direction:row;-ms-flex-direction:row;flex-direction:row}.bootstrap .navbar-toggleable-lg .navbar-nav .nav-link{padding-right:.5rem;padding-left:0.5rem}.bootstrap .navbar-toggleable-lg > .container{display:-webkit-box;display:-webkit-flex;display:-ms-flexbox;display:flex;-webkit-flex-wrap:nowrap;-ms-flex-wrap:nowrap;flex-wrap:nowrap;-webkit-box-align:center;-webkit-align-items:center;-ms-flex-align:center;align-items:center}.bootstrap .navbar-toggleable-lg .navbar-collapse{display:-webkit-box !important;display:-webkit-flex !important;display:-ms-flexbox !important;display:flex !important;width:100%}.bootstrap .navbar-toggleable-lg .navbar-toggler{display:none}}.bootstrap .navbar-toggleable-xl{-webkit-box-orient:horizontal;-webkit-box-direction:normal;-webkit-flex-direction:row;-ms-flex-direction:row;flex-direction:row;-webkit-flex-wrap:nowrap;-ms-flex-wrap:nowrap;flex-wrap:nowrap;-webkit-box-align:center;-webkit-align-items:center;-ms-flex-align:center;align-items:center}.bootstrap .navbar-toggleable-xl .navbar-nav .dropdown-menu{position:static;float:none}.bootstrap .navbar-toggleable-xl > .container{padding-right:0;padding-left:0}.bootstrap .navbar-toggleable-xl .navbar-nav{-webkit-box-orient:horizontal;-webkit-box-direction:normal;-webkit-flex-direction:row;-ms-flex-direction:row;flex-direction:row}.bootstrap .navbar-toggleable-xl .navbar-nav .nav-link{padding-right:.5rem;padding-left:0.5rem}.bootstrap .navbar-toggleable-xl > .container{display:-webkit-box;display:-webkit-flex;display:-ms-flexbox;display:flex;-webkit-flex-wrap:nowrap;-ms-flex-wrap:nowrap;flex-wrap:nowrap;-webkit-box-align:center;-webkit-align-items:center;-ms-flex-align:center;align-items:center}.bootstrap .navbar-toggleable-xl .navbar-collapse{display:-webkit-box !important;display:-webkit-flex !important;display:-ms-flexbox !important;display:flex !important;width:100%}.bootstrap .navbar-toggleable-xl .navbar-toggler{display:none}.bootstrap .navbar-light .navbar-brand,.bootstrap .navbar-light .navbar-toggler{color:rgba(0, 0, 0, 0.9)}.bootstrap .navbar-light .navbar-brand:focus,.bootstrap .navbar-light .navbar-brand:hover,.bootstrap .navbar-light .navbar-toggler:focus,.bootstrap .navbar-light .navbar-toggler:hover{color:rgba(0, 0, 0, 0.9)}.bootstrap .navbar-light .navbar-nav .nav-link{color:rgba(0, 0, 0, 0.5)}.bootstrap .navbar-light .navbar-nav .nav-link:focus,.bootstrap .navbar-light .navbar-nav .nav-link:hover{color:rgba(0, 0, 0, 0.7)}.bootstrap .navbar-light .navbar-nav .nav-link.disabled{color:rgba(0, 0, 0, 0.3)}.bootstrap .navbar-light .navbar-nav .active > .nav-link,.bootstrap .navbar-light .navbar-nav .nav-link.active,.bootstrap .navbar-light .navbar-nav .nav-link.open,.bootstrap .navbar-light .navbar-nav .open > .nav-link{color:rgba(0, 0, 0, 0.9)}.bootstrap .navbar-light .navbar-toggler{border-color:rgba(0, 0, 0, 0.1)}.bootstrap .navbar-light .navbar-toggler-icon{background-image:url(\"data:image/svg+xml;charset=utf8,%3Csvg viewBox='0 0 32 32' xmlns='http://www.w3.org/2000/svg'%3E%3Cpath stroke='rgba(0, 0, 0, 0.5)' stroke-width='2' stroke-linecap='round' stroke-miterlimit='10' d='M4 8h24M4 16h24M4 24h24'/%3E%3C/svg%3E\");'}.bootstrap .navbar-light .navbar-text{color:rgba(0, 0, 0, 0.5)}.bootstrap .navbar-inverse .navbar-brand,.bootstrap .navbar-inverse .navbar-toggler{color:#fff}.bootstrap .navbar-inverse .navbar-brand:focus,.bootstrap .navbar-inverse .navbar-brand:hover,.bootstrap .navbar-inverse .navbar-toggler:focus,.bootstrap .navbar-inverse .navbar-toggler:hover{color:#fff}.bootstrap .navbar-inverse .navbar-nav .nav-link{color:rgba(255, 255, 255, 0.5)}.bootstrap .navbar-inverse .navbar-nav .nav-link:focus,.bootstrap .navbar-inverse .navbar-nav .nav-link:hover{color:rgba(255, 255, 255, 0.75)}.bootstrap .navbar-inverse .navbar-nav .nav-link.disabled{color:rgba(255, 255, 255, 0.25)}.bootstrap .navbar-inverse .navbar-nav .active > .nav-link,.bootstrap .navbar-inverse .navbar-nav .nav-link.active,.bootstrap .navbar-inverse .navbar-nav .nav-link.open,.bootstrap .navbar-inverse .navbar-nav .open > .nav-link{color:#fff}.bootstrap .navbar-inverse .navbar-toggler{border-color:rgba(255, 255, 255, 0.1)}.bootstrap .navbar-inverse .navbar-toggler-icon{background-image:url(\"data:image/svg+xml;charset=utf8,%3Csvg viewBox='0 0 32 32' xmlns='http://www.w3.org/2000/svg'%3E%3Cpath stroke='rgba(255, 255, 255, 0.5)' stroke-width='2' stroke-linecap='round' stroke-miterlimit='10' d='M4 8h24M4 16h24M4 24h24'/%3E%3C/svg%3E\");'}.bootstrap .navbar-inverse .navbar-text{color:rgba(255, 255, 255, 0.5)}.bootstrap .card{position:relative;display:-webkit-box;display:-webkit-flex;display:-ms-flexbox;display:flex;-webkit-box-orient:vertical;-webkit-box-direction:normal;-webkit-flex-direction:column;-ms-flex-direction:column;flex-direction:column;background-color:#fff;border:1px solid rgba(0, 0, 0, 0.125);border-radius:0.25rem}.bootstrap .card-block{-webkit-box-flex:1;-webkit-flex:1 1 auto;-ms-flex:1 1 auto;flex:1 1 auto;padding:1.25rem}.bootstrap .card-title{margin-bottom:0.75rem}.bootstrap .card-subtitle{margin-top:-0.375rem;margin-bottom:0}.bootstrap .card-text:last-child{margin-bottom:0}.bootstrap .card-link:hover{text-decoration:none}.bootstrap .card-link + .card-link{margin-left:1.25rem}.bootstrap .card > .list-group:first-child .list-group-item:first-child{border-top-right-radius:.25rem;border-top-left-radius:0.25rem}.bootstrap .card > .list-group:last-child .list-group-item:last-child{border-bottom-right-radius:.25rem;border-bottom-left-radius:0.25rem}.bootstrap .card-header{padding:.75rem 1.25rem;margin-bottom:0;background-color:#f7f7f9;border-bottom:1px solid rgba(0, 0, 0, 0.125)}.bootstrap .card-header:first-child{border-radius:calc(-0.75rem) calc(-0.75rem) 0 0}.bootstrap .card-footer{padding:.75rem 1.25rem;background-color:#f7f7f9;border-top:1px solid rgba(0, 0, 0, 0.125)}.bootstrap .card-footer:last-child{border-radius:0 0 calc(-0.75rem) calc(-0.75rem)}.bootstrap .card-header-tabs{margin-right:-0.625rem;margin-bottom:-0.75rem;margin-left:-0.625rem;border-bottom:0}.bootstrap .card-header-pills{margin-right:-0.625rem;margin-left:-0.625rem}.bootstrap .card-primary{background-color:#0275d8;border-color:#0275d8}.bootstrap .card-primary .card-footer,.bootstrap .card-primary .card-header{background-color:transparent}.bootstrap .card-success{background-color:#5cb85c;border-color:#5cb85c}.bootstrap .card-success .card-footer,.bootstrap .card-success .card-header{background-color:transparent}.bootstrap .card-info{background-color:#5bc0de;border-color:#5bc0de}.bootstrap .card-info .card-footer,.bootstrap .card-info .card-header{background-color:transparent}.bootstrap .card-warning{background-color:#f0ad4e;border-color:#f0ad4e}.bootstrap .card-warning .card-footer,.bootstrap .card-warning .card-header{background-color:transparent}.bootstrap .card-danger{background-color:#d9534f;border-color:#d9534f}.bootstrap .card-danger .card-footer,.bootstrap .card-danger .card-header{background-color:transparent}.bootstrap .card-outline-primary{background-color:transparent;border-color:#0275d8}.bootstrap .card-outline-secondary{background-color:transparent;border-color:#ccc}.bootstrap .card-outline-info{background-color:transparent;border-color:#5bc0de}.bootstrap .card-outline-success{background-color:transparent;border-color:#5cb85c}.bootstrap .card-outline-warning{background-color:transparent;border-color:#f0ad4e}.bootstrap .card-outline-danger{background-color:transparent;border-color:#d9534f}.bootstrap .card-inverse{color:rgba(255, 255, 255, 0.65)}.bootstrap .card-inverse .card-footer,.bootstrap .card-inverse .card-header{background-color:transparent;border-color:rgba(255, 255, 255, 0.2)}.bootstrap .card-inverse .card-blockquote,.bootstrap .card-inverse .card-footer,.bootstrap .card-inverse .card-header,.bootstrap .card-inverse .card-title{color:#fff}.bootstrap .card-inverse .card-blockquote .blockquote-footer,.bootstrap .card-inverse .card-link,.bootstrap .card-inverse .card-subtitle,.bootstrap .card-inverse .card-text{color:rgba(255, 255, 255, 0.65)}.bootstrap .card-inverse .card-link:focus,.bootstrap .card-inverse .card-link:hover{color:#fff}.bootstrap .card-blockquote{padding:0;margin-bottom:0;border-left:0}.bootstrap .card-img{border-radius:calc(-0.75rem)}.bootstrap .card-img-overlay{position:absolute;top:0;right:0;bottom:0;left:0;padding:1.25rem}.bootstrap .card-img-top{border-top-right-radius:calc(-0.75rem);border-top-left-radius:calc(-0.75rem)}.bootstrap .card-img-bottom{border-bottom-right-radius:calc(-0.75rem);border-bottom-left-radius:calc(-0.75rem)}@media (min-width: 576px){.bootstrap .card-deck{display:-webkit-box;display:-webkit-flex;display:-ms-flexbox;display:flex;-webkit-flex-flow:row wrap;-ms-flex-flow:row wrap;flex-flow:row wrap}.bootstrap .card-deck .card{display:-webkit-box;display:-webkit-flex;display:-ms-flexbox;display:flex;-webkit-box-flex:1;-webkit-flex:1 0 0%;-ms-flex:1 0 0%;flex:1 0 0%;-webkit-box-orient:vertical;-webkit-box-direction:normal;-webkit-flex-direction:column;-ms-flex-direction:column;flex-direction:column}.bootstrap .card-deck .card:not(:first-child){margin-left:15px}.bootstrap .card-deck .card:not(:last-child){margin-right:15px}}@media (min-width: 576px){.bootstrap .card-group{display:-webkit-box;display:-webkit-flex;display:-ms-flexbox;display:flex;-webkit-flex-flow:row wrap;-ms-flex-flow:row wrap;flex-flow:row wrap}.bootstrap .card-group .card{-webkit-box-flex:1;-webkit-flex:1 0 0%;-ms-flex:1 0 0%;flex:1 0 0%}.bootstrap .card-group .card + .card{margin-left:0;border-left:0}.bootstrap .card-group .card:first-child{border-bottom-right-radius:0;border-top-right-radius:0}.bootstrap .card-group .card:first-child .card-img-top{border-top-right-radius:0}.bootstrap .card-group .card:first-child .card-img-bottom{border-bottom-right-radius:0}.bootstrap .card-group .card:last-child{border-bottom-left-radius:0;border-top-left-radius:0}.bootstrap .card-group .card:last-child .card-img-top{border-top-left-radius:0}.bootstrap .card-group .card:last-child .card-img-bottom{border-bottom-left-radius:0}.bootstrap .card-group .card:not(:first-child):not(:last-child){border-radius:0}.bootstrap .card-group .card:not(:first-child):not(:last-child) .card-img-bottom,.bootstrap .card-group .card:not(:first-child):not(:last-child) .card-img-top{border-radius:0}}@media (min-width: 576px){.bootstrap .card-columns{-webkit-column-count:3;-moz-column-count:3;column-count:3;-webkit-column-gap:1.25rem;-moz-column-gap:1.25rem;column-gap:1.25rem}.bootstrap .card-columns .card{display:inline-block;width:100%;margin-bottom:0.75rem}}.bootstrap .breadcrumb{padding:.75rem 1rem;margin-bottom:1rem;list-style:none;background-color:#eceeef;border-radius:0.25rem}.bootstrap .breadcrumb::after{display:block;content:\"\";clear:both}.bootstrap .breadcrumb-item{float:left}.bootstrap .breadcrumb-item + .breadcrumb-item::before{display:inline-block;padding-right:.5rem;padding-left:.5rem;color:#636c72;content:\"/\"}.bootstrap .breadcrumb-item + .breadcrumb-item:hover::before{text-decoration:underline}.bootstrap .breadcrumb-item + .breadcrumb-item:hover::before{text-decoration:none}.bootstrap .breadcrumb-item.active{color:#636c72}.bootstrap .pagination{display:-webkit-box;display:-webkit-flex;display:-ms-flexbox;display:flex;padding-left:0;list-style:none;border-radius:0.25rem}.bootstrap .page-item:first-child .page-link{margin-left:0;border-bottom-left-radius:.25rem;border-top-left-radius:0.25rem}.bootstrap .page-item:last-child .page-link{border-bottom-right-radius:.25rem;border-top-right-radius:0.25rem}.bootstrap .page-item.active .page-link{z-index:2;color:#fff;background-color:#0275d8;border-color:#0275d8}.bootstrap .page-item.disabled .page-link{color:#636c72;pointer-events:none;cursor:not-allowed;background-color:#fff;border-color:#ddd}.bootstrap .page-link{position:relative;display:block;padding:.5rem .75rem;margin-left:-1px;line-height:1.25;color:#0275d8;background-color:#fff;border:1px solid #ddd}.bootstrap .page-link:focus,.bootstrap .page-link:hover{color:#014c8c;text-decoration:none;background-color:#eceeef;border-color:#ddd}.bootstrap .pagination-lg .page-link{padding:.75rem 1.5rem;font-size:1.25rem}.bootstrap .pagination-lg .page-item:first-child .page-link{border-bottom-left-radius:.3rem;border-top-left-radius:0.3rem}.bootstrap .pagination-lg .page-item:last-child .page-link{border-bottom-right-radius:.3rem;border-top-right-radius:0.3rem}.bootstrap .pagination-sm .page-link{padding:.25rem .5rem;font-size:0.875rem}.bootstrap .pagination-sm .page-item:first-child .page-link{border-bottom-left-radius:.2rem;border-top-left-radius:0.2rem}.bootstrap .pagination-sm .page-item:last-child .page-link{border-bottom-right-radius:.2rem;border-top-right-radius:0.2rem}.bootstrap .badge{display:inline-block;padding:.25em .4em;font-size:75%;font-weight:700;line-height:1;color:#fff;text-align:center;white-space:nowrap;vertical-align:baseline;border-radius:0.25rem}.bootstrap .badge:empty{display:none}.bootstrap .btn .badge{position:relative;top:-1px}.bootstrap a.badge:focus,.bootstrap a.badge:hover{color:#fff;text-decoration:none;cursor:pointer}.bootstrap .badge-pill{padding-right:.6em;padding-left:.6em;border-radius:10rem}.bootstrap .badge-default{background-color:#636c72}.bootstrap .badge-default[href]:focus,.bootstrap .badge-default[href]:hover{background-color:#4b5257}.bootstrap .badge-primary{background-color:#0275d8}.bootstrap .badge-primary[href]:focus,.bootstrap .badge-primary[href]:hover{background-color:#025aa5}.bootstrap .badge-success{background-color:#5cb85c}.bootstrap .badge-success[href]:focus,.bootstrap .badge-success[href]:hover{background-color:#449d44}.bootstrap .badge-info{background-color:#5bc0de}.bootstrap .badge-info[href]:focus,.bootstrap .badge-info[href]:hover{background-color:#31b0d5}.bootstrap .badge-warning{background-color:#f0ad4e}.bootstrap .badge-warning[href]:focus,.bootstrap .badge-warning[href]:hover{background-color:#ec971f}.bootstrap .badge-danger{background-color:#d9534f}.bootstrap .badge-danger[href]:focus,.bootstrap .badge-danger[href]:hover{background-color:#c9302c}.bootstrap .jumbotron{padding:2rem 1rem;margin-bottom:2rem;background-color:#eceeef;border-radius:0.3rem}@media (min-width: 576px){.bootstrap .jumbotron{padding:4rem 2rem}}.bootstrap .jumbotron-hr{border-top-color:#d0d5d8}.bootstrap .jumbotron-fluid{padding-right:0;padding-left:0;border-radius:0}.bootstrap .alert{padding:.75rem 1.25rem;margin-bottom:1rem;border:1px solid transparent;border-radius:0.25rem}.bootstrap .alert-heading{color:inherit}.bootstrap .alert-link{font-weight:700}.bootstrap .alert-dismissible .close{position:relative;top:-0.75rem;right:-1.25rem;padding:.75rem 1.25rem;color:inherit}.bootstrap .alert-success{background-color:#dff0d8;border-color:#d0e9c6;color:#3c763d}.bootstrap .alert-success hr{border-top-color:#c1e2b3}.bootstrap .alert-success .alert-link{color:#2b542c}.bootstrap .alert-info{background-color:#d9edf7;border-color:#bcdff1;color:#31708f}.bootstrap .alert-info hr{border-top-color:#a6d5ec}.bootstrap .alert-info .alert-link{color:#245269}.bootstrap .alert-warning{background-color:#fcf8e3;border-color:#faf2cc;color:#8a6d3b}.bootstrap .alert-warning hr{border-top-color:#f7ecb5}.bootstrap .alert-warning .alert-link{color:#66512c}.bootstrap .alert-danger{background-color:#f2dede;border-color:#ebcccc;color:#a94442}.bootstrap .alert-danger hr{border-top-color:#e4b9b9}.bootstrap .alert-danger .alert-link{color:#843534}@-webkit-keyframes \"progress-bar-stripes\"{from{background-position:1rem 0;}to{background-position:0 0;}}@-o-keyframes progress-bar-stripes{from { background-position:1rem 0}to{background-position:0 0}@keyframes \"progress-bar-stripes\"{from{background-position:1rem 0;}to{background-position:0 0;}}.bootstrap .progress{display:-webkit-box;display:-webkit-flex;display:-ms-flexbox;display:flex;overflow:hidden;font-size:.75rem;line-height:1rem;text-align:center;background-color:#eceeef;border-radius:0.25rem}.bootstrap .progress-bar{height:1rem;color:#fff;background-color:#0275d8}.bootstrap .progress-bar-striped{background-image:-webkit-linear-gradient(45deg, rgba(255, 255, 255, 0.15) 25%, transparent 25%, transparent 50%, rgba(255, 255, 255, 0.15) 50%, rgba(255, 255, 255, 0.15) 75%, transparent 75%, transparent);background-image:-o-linear-gradient(45deg, rgba(255, 255, 255, 0.15) 25%, transparent 25%, transparent 50%, rgba(255, 255, 255, 0.15) 50%, rgba(255, 255, 255, 0.15) 75%, transparent 75%, transparent);background-image:linear-gradient(45deg, rgba(255, 255, 255, 0.15) 25%, transparent 25%, transparent 50%, rgba(255, 255, 255, 0.15) 50%, rgba(255, 255, 255, 0.15) 75%, transparent 75%, transparent);-webkit-background-size:1rem 1rem;background-size:1rem 1rem}.bootstrap .progress-bar-animated{-webkit-animation:progress-bar-stripes 1s linear infinite;-o-animation:progress-bar-stripes 1s linear infinite;animation:progress-bar-stripes 1s linear infinite}.bootstrap .media{display:-webkit-box;display:-webkit-flex;display:-ms-flexbox;display:flex;-webkit-box-align:start;-webkit-align-items:flex-start;-ms-flex-align:start;align-items:flex-start}.bootstrap .media-body{-webkit-box-flex:1;-webkit-flex:1 1 0%;-ms-flex:1 1 0%;flex:1 1 0%}.bootstrap .list-group{display:-webkit-box;display:-webkit-flex;display:-ms-flexbox;display:flex;-webkit-box-orient:vertical;-webkit-box-direction:normal;-webkit-flex-direction:column;-ms-flex-direction:column;flex-direction:column;padding-left:0;margin-bottom:0}.bootstrap .list-group-item-action{width:100%;color:#464a4c;text-align:inherit}.bootstrap .list-group-item-action .list-group-item-heading{color:#292b2c}.bootstrap .list-group-item-action:focus,.bootstrap .list-group-item-action:hover{color:#464a4c;text-decoration:none;background-color:#f7f7f9}.bootstrap .list-group-item-action:active{color:#292b2c;background-color:#eceeef}.bootstrap .list-group-item{position:relative;display:-webkit-box;display:-webkit-flex;display:-ms-flexbox;display:flex;-webkit-flex-flow:row wrap;-ms-flex-flow:row wrap;flex-flow:row wrap;-webkit-box-align:center;-webkit-align-items:center;-ms-flex-align:center;align-items:center;padding:.75rem 1.25rem;margin-bottom:-1px;background-color:#fff;border:1px solid rgba(0, 0, 0, 0.125)}.bootstrap .list-group-item:first-child{border-top-right-radius:.25rem;border-top-left-radius:0.25rem}.bootstrap .list-group-item:last-child{margin-bottom:0;border-bottom-right-radius:.25rem;border-bottom-left-radius:0.25rem}.bootstrap .list-group-item:focus,.bootstrap .list-group-item:hover{text-decoration:none}.bootstrap .list-group-item.disabled,.bootstrap .list-group-item:disabled{color:#636c72;cursor:not-allowed;background-color:#fff}.bootstrap .list-group-item.disabled .list-group-item-heading,.bootstrap .list-group-item:disabled .list-group-item-heading{color:inherit}.bootstrap .list-group-item.disabled .list-group-item-text,.bootstrap .list-group-item:disabled .list-group-item-text{color:#636c72}.bootstrap .list-group-item.active{z-index:2;color:#fff;background-color:#0275d8;border-color:#0275d8}.bootstrap .list-group-item.active .list-group-item-heading,.bootstrap .list-group-item.active .list-group-item-heading > .small,.bootstrap .list-group-item.active .list-group-item-heading > small{color:inherit}.bootstrap .list-group-item.active .list-group-item-text{color:#daeeff}.bootstrap .list-group-flush .list-group-item{border-right:0;border-left:0;border-radius:0}.bootstrap .list-group-flush:first-child .list-group-item:first-child{border-top:0}.bootstrap .list-group-flush:last-child .list-group-item:last-child{border-bottom:0}.bootstrap .list-group-item-success{color:#3c763d;background-color:#dff0d8}.bootstrap a.list-group-item-success,.bootstrap button.list-group-item-success{color:#3c763d}.bootstrap a.list-group-item-success .list-group-item-heading,.bootstrap button.list-group-item-success .list-group-item-heading{color:inherit}.bootstrap a.list-group-item-success:focus,.bootstrap a.list-group-item-success:hover,.bootstrap button.list-group-item-success:focus,.bootstrap button.list-group-item-success:hover{color:#3c763d;background-color:#d0e9c6}.bootstrap a.list-group-item-success.active,.bootstrap button.list-group-item-success.active{color:#fff;background-color:#3c763d;border-color:#3c763d}.bootstrap .list-group-item-info{color:#31708f;background-color:#d9edf7}.bootstrap a.list-group-item-info,.bootstrap button.list-group-item-info{color:#31708f}.bootstrap a.list-group-item-info .list-group-item-heading,.bootstrap button.list-group-item-info .list-group-item-heading{color:inherit}.bootstrap a.list-group-item-info:focus,.bootstrap a.list-group-item-info:hover,.bootstrap button.list-group-item-info:focus,.bootstrap button.list-group-item-info:hover{color:#31708f;background-color:#c4e3f3}.bootstrap a.list-group-item-info.active,.bootstrap button.list-group-item-info.active{color:#fff;background-color:#31708f;border-color:#31708f}.bootstrap .list-group-item-warning{color:#8a6d3b;background-color:#fcf8e3}.bootstrap a.list-group-item-warning,.bootstrap button.list-group-item-warning{color:#8a6d3b}.bootstrap a.list-group-item-warning .list-group-item-heading,.bootstrap button.list-group-item-warning .list-group-item-heading{color:inherit}.bootstrap a.list-group-item-warning:focus,.bootstrap a.list-group-item-warning:hover,.bootstrap button.list-group-item-warning:focus,.bootstrap button.list-group-item-warning:hover{color:#8a6d3b;background-color:#faf2cc}.bootstrap a.list-group-item-warning.active,.bootstrap button.list-group-item-warning.active{color:#fff;background-color:#8a6d3b;border-color:#8a6d3b}.bootstrap .list-group-item-danger{color:#a94442;background-color:#f2dede}.bootstrap a.list-group-item-danger,.bootstrap button.list-group-item-danger{color:#a94442}.bootstrap a.list-group-item-danger .list-group-item-heading,.bootstrap button.list-group-item-danger .list-group-item-heading{color:inherit}.bootstrap a.list-group-item-danger:focus,.bootstrap a.list-group-item-danger:hover,.bootstrap button.list-group-item-danger:focus,.bootstrap button.list-group-item-danger:hover{color:#a94442;background-color:#ebcccc}.bootstrap a.list-group-item-danger.active,.bootstrap button.list-group-item-danger.active{color:#fff;background-color:#a94442;border-color:#a94442}.bootstrap .embed-responsive{position:relative;display:block;width:100%;padding:0;overflow:hidden}.bootstrap .embed-responsive::before{display:block;content:\"\"}.bootstrap .embed-responsive .embed-responsive-item,.bootstrap .embed-responsive embed,.bootstrap .embed-responsive iframe,.bootstrap .embed-responsive object,.bootstrap .embed-responsive video{position:absolute;top:0;bottom:0;left:0;width:100%;height:100%;border:0}.bootstrap .embed-responsive-21by9::before{padding-top:42.857143%}.bootstrap .embed-responsive-16by9::before{padding-top:56.25%}.bootstrap .embed-responsive-4by3::before{padding-top:75%}.bootstrap .embed-responsive-1by1::before{padding-top:100%}.bootstrap .close{float:right;font-size:1.5rem;font-weight:700;line-height:1;color:#000;text-shadow:0 1px 0 #fff;opacity:0.5}.bootstrap .close:focus,.bootstrap .close:hover{color:#000;text-decoration:none;cursor:pointer;opacity:0.75}.bootstrap button.close{padding:0;cursor:pointer;background:0 0;border:0;-webkit-appearance:none}.bootstrap .modal-open{overflow:hidden}.bootstrap .modal{position:fixed;top:0;right:0;bottom:0;left:0;z-index:1050;display:none;overflow:hidden;outline:0}.bootstrap .modal.fade .modal-dialog{-webkit-transition:-webkit-transform 0.3s ease-out;transition:-webkit-transform 0.3s ease-out;-o-transition:-o-transform 0.3s ease-out;transition:transform 0.3s ease-out;transition:transform 0.3s ease-out, -webkit-transform 0.3s ease-out, -o-transform 0.3s ease-out;-webkit-transform:translate(0, -25%);-o-transform:translate(0, -25%);transform:translate(0, -25%)}.bootstrap .modal.show .modal-dialog{-webkit-transform:translate(0, 0);-o-transform:translate(0, 0);transform:translate(0, 0)}.bootstrap .modal-open .modal{overflow-x:hidden;overflow-y:auto}.bootstrap .modal-dialog{position:relative;width:auto;margin:10px}.bootstrap .modal-content{position:relative;display:-webkit-box;display:-webkit-flex;display:-ms-flexbox;display:flex;-webkit-box-orient:vertical;-webkit-box-direction:normal;-webkit-flex-direction:column;-ms-flex-direction:column;flex-direction:column;background-color:#fff;-webkit-background-clip:padding-box;background-clip:padding-box;border:1px solid rgba(0, 0, 0, 0.2);border-radius:.3rem;outline:0}.bootstrap .modal-backdrop{position:fixed;top:0;right:0;bottom:0;left:0;z-index:1040;background-color:#000}.bootstrap .modal-backdrop.fade{opacity:0}.bootstrap .modal-backdrop.show{opacity:0.5}.bootstrap .modal-header{display:-webkit-box;display:-webkit-flex;display:-ms-flexbox;display:flex;-webkit-box-align:center;-webkit-align-items:center;-ms-flex-align:center;align-items:center;-webkit-box-pack:justify;-webkit-justify-content:space-between;-ms-flex-pack:justify;justify-content:space-between;padding:15px;border-bottom:1px solid #eceeef}.bootstrap .modal-title{margin-bottom:0;line-height:1.5}.bootstrap .modal-body{position:relative;-webkit-box-flex:1;-webkit-flex:1 1 auto;-ms-flex:1 1 auto;flex:1 1 auto;padding:15px}.bootstrap .modal-footer{display:-webkit-box;display:-webkit-flex;display:-ms-flexbox;display:flex;-webkit-box-align:center;-webkit-align-items:center;-ms-flex-align:center;align-items:center;-webkit-box-pack:end;-webkit-justify-content:flex-end;-ms-flex-pack:end;justify-content:flex-end;padding:15px;border-top:1px solid #eceeef}.bootstrap .modal-footer > :not(:first-child){margin-left:0.25rem}.bootstrap .modal-footer > :not(:last-child){margin-right:0.25rem}.bootstrap .modal-scrollbar-measure{position:absolute;top:-9999px;width:50px;height:50px;overflow:scroll}@media (min-width: 576px){.bootstrap .modal-dialog{max-width:500px;margin:30px auto}.bootstrap .modal-sm{max-width:300px}}@media (min-width: 992px){.bootstrap .modal-lg{max-width:800px}}.bootstrap .tooltip{position:absolute;z-index:1070;display:block;font-family:-apple-system, system-ui, BlinkMacSystemFont, \"Segoe UI\", Roboto, \"Helvetica Neue\", Arial, sans-serif;font-style:normal;font-weight:400;letter-spacing:normal;line-break:auto;line-height:1.5;text-align:left;text-align:start;text-decoration:none;text-shadow:none;text-transform:none;white-space:normal;word-break:normal;word-spacing:normal;font-size:.875rem;word-wrap:break-word;opacity:0}.bootstrap .tooltip.show{opacity:0.9}.bootstrap .tooltip.bs-tether-element-attached-bottom,.bootstrap .tooltip.tooltip-top{padding:5px 0;margin-top:-3px}.bootstrap .tooltip.bs-tether-element-attached-bottom .tooltip-inner::before,.bootstrap .tooltip.tooltip-top .tooltip-inner::before{bottom:0;left:50%;margin-left:-5px;content:\"\";border-width:5px 5px 0;border-top-color:#000}.bootstrap .tooltip.bs-tether-element-attached-left,.bootstrap .tooltip.tooltip-right{padding:0 5px;margin-left:3px}.bootstrap .tooltip.bs-tether-element-attached-left .tooltip-inner::before,.bootstrap .tooltip.tooltip-right .tooltip-inner::before{top:50%;left:0;margin-top:-5px;content:\"\";border-width:5px 5px 5px 0;border-right-color:#000}.bootstrap .tooltip.bs-tether-element-attached-top,.bootstrap .tooltip.tooltip-bottom{padding:5px 0;margin-top:3px}.bootstrap .tooltip.bs-tether-element-attached-top .tooltip-inner::before,.bootstrap .tooltip.tooltip-bottom .tooltip-inner::before{top:0;left:50%;margin-left:-5px;content:\"\";border-width:0 5px 5px;border-bottom-color:#000}.bootstrap .tooltip.bs-tether-element-attached-right,.bootstrap .tooltip.tooltip-left{padding:0 5px;margin-left:-3px}.bootstrap .tooltip.bs-tether-element-attached-right .tooltip-inner::before,.bootstrap .tooltip.tooltip-left .tooltip-inner::before{top:50%;right:0;margin-top:-5px;content:\"\";border-width:5px 0 5px 5px;border-left-color:#000}.bootstrap .tooltip-inner{max-width:200px;padding:3px 8px;color:#fff;text-align:center;background-color:#000;border-radius:0.25rem}.bootstrap .tooltip-inner::before{position:absolute;width:0;height:0;border-color:transparent;border-style:solid}.bootstrap .popover{position:absolute;top:0;left:0;z-index:1060;display:block;max-width:276px;padding:1px;font-family:-apple-system, system-ui, BlinkMacSystemFont, \"Segoe UI\", Roboto, \"Helvetica Neue\", Arial, sans-serif;font-style:normal;font-weight:400;letter-spacing:normal;line-break:auto;line-height:1.5;text-align:left;text-align:start;text-decoration:none;text-shadow:none;text-transform:none;white-space:normal;word-break:normal;word-spacing:normal;font-size:.875rem;word-wrap:break-word;background-color:#fff;-webkit-background-clip:padding-box;background-clip:padding-box;border:1px solid rgba(0, 0, 0, 0.2);border-radius:0.3rem}.bootstrap .popover.bs-tether-element-attached-bottom,.bootstrap .popover.popover-top{margin-top:-10px}.bootstrap .popover.bs-tether-element-attached-bottom::after,.bootstrap .popover.bs-tether-element-attached-bottom::before,.bootstrap .popover.popover-top::after,.bootstrap .popover.popover-top::before{left:50%;border-bottom-width:0}.bootstrap .popover.bs-tether-element-attached-bottom::before,.bootstrap .popover.popover-top::before{bottom:-11px;margin-left:-11px;border-top-color:rgba(0, 0, 0, 0.25)}.bootstrap .popover.bs-tether-element-attached-bottom::after,.bootstrap .popover.popover-top::after{bottom:-10px;margin-left:-10px;border-top-color:#fff}.bootstrap .popover.bs-tether-element-attached-left,.bootstrap .popover.popover-right{margin-left:10px}.bootstrap .popover.bs-tether-element-attached-left::after,.bootstrap .popover.bs-tether-element-attached-left::before,.bootstrap .popover.popover-right::after,.bootstrap .popover.popover-right::before{top:50%;border-left-width:0}.bootstrap .popover.bs-tether-element-attached-left::before,.bootstrap .popover.popover-right::before{left:-11px;margin-top:-11px;border-right-color:rgba(0, 0, 0, 0.25)}.bootstrap .popover.bs-tether-element-attached-left::after,.bootstrap .popover.popover-right::after{left:-10px;margin-top:-10px;border-right-color:#fff}.bootstrap .popover.bs-tether-element-attached-top,.bootstrap .popover.popover-bottom{margin-top:10px}.bootstrap .popover.bs-tether-element-attached-top::after,.bootstrap .popover.bs-tether-element-attached-top::before,.bootstrap .popover.popover-bottom::after,.bootstrap .popover.popover-bottom::before{left:50%;border-top-width:0}.bootstrap .popover.bs-tether-element-attached-top::before,.bootstrap .popover.popover-bottom::before{top:-11px;margin-left:-11px;border-bottom-color:rgba(0, 0, 0, 0.25)}.bootstrap .popover.bs-tether-element-attached-top::after,.bootstrap .popover.popover-bottom::after{top:-10px;margin-left:-10px;border-bottom-color:#f7f7f7}.bootstrap .popover.bs-tether-element-attached-top .popover-title::before,.bootstrap .popover.popover-bottom .popover-title::before{position:absolute;top:0;left:50%;display:block;width:20px;margin-left:-10px;content:\"\";border-bottom:1px solid #f7f7f7}.bootstrap .popover.bs-tether-element-attached-right,.bootstrap .popover.popover-left{margin-left:-10px}.bootstrap .popover.bs-tether-element-attached-right::after,.bootstrap .popover.bs-tether-element-attached-right::before,.bootstrap .popover.popover-left::after,.bootstrap .popover.popover-left::before{top:50%;border-right-width:0}.bootstrap .popover.bs-tether-element-attached-right::before,.bootstrap .popover.popover-left::before{right:-11px;margin-top:-11px;border-left-color:rgba(0, 0, 0, 0.25)}.bootstrap .popover.bs-tether-element-attached-right::after,.bootstrap .popover.popover-left::after{right:-10px;margin-top:-10px;border-left-color:#fff}.bootstrap .popover-title{padding:8px 14px;margin-bottom:0;font-size:1rem;background-color:#f7f7f7;border-bottom:1px solid #ebebeb;border-top-right-radius:calc(-0.7rem);border-top-left-radius:calc(-0.7rem)}.bootstrap .popover-title:empty{display:none}.bootstrap .popover-content{padding:9px 14px}.bootstrap .popover::after,.bootstrap .popover::before{position:absolute;display:block;width:0;height:0;border-color:transparent;border-style:solid}.bootstrap .popover::before{content:\"\";border-width:11px}.bootstrap .popover::after{content:\"\";border-width:10px}.bootstrap .carousel{position:relative}.bootstrap .carousel-inner{position:relative;width:100%;overflow:hidden}.bootstrap .carousel-item{position:relative;display:none;width:100%}@media (-webkit-transform-3d){.bootstrap .carousel-item{-webkit-transition:-webkit-transform 0.6s ease-in-out;transition:-webkit-transform 0.6s ease-in-out;-o-transition:-o-transform 0.6s ease-in-out;transition:transform 0.6s ease-in-out;transition:transform 0.6s ease-in-out, -webkit-transform 0.6s ease-in-out, -o-transform 0.6s ease-in-out;-webkit-backface-visibility:hidden;backface-visibility:hidden;-webkit-perspective:1000px;perspective:1000px}}@supports ((-webkit-transform:translate3d(0,0,0)) or (transform:translate3d(0,0,0))){.bootstrap .carousel-item { -webkit-transition:-webkit-transform 0.6s ease-in-out;transition:-webkit-transform 0.6s ease-in-out;-o-transition:-o-transform 0.6s ease-in-out;transition:transform 0.6s ease-in-out;transition:transform 0.6s ease-in-out, -webkit-transform 0.6s ease-in-out, -o-transform 0.6s ease-in-out;-webkit-backface-visibility:hidden;backface-visibility:hidden;-webkit-perspective:1000px;perspective:1000px}} .bootstrap .carousel-item-next,.bootstrap .carousel-item-prev,.bootstrap .carousel-item.active{display:-webkit-box;display:-webkit-flex;display:-ms-flexbox;display:flex}.bootstrap .carousel-item-next,.bootstrap .carousel-item-prev{position:absolute;top:0}@media (-webkit-transform-3d){.bootstrap .carousel-item-next.carousel-item-left,.bootstrap .carousel-item-prev.carousel-item-right{-webkit-transform:translate3d(0, 0, 0);transform:translate3d(0, 0, 0)}.bootstrap .active.carousel-item-right,.bootstrap .carousel-item-next{-webkit-transform:translate3d(100%, 0, 0);transform:translate3d(100%, 0, 0)}.bootstrap .active.carousel-item-left,.bootstrap .carousel-item-prev{-webkit-transform:translate3d(-100%, 0, 0);transform:translate3d(-100%, 0, 0)}}@supports ((-webkit-transform:translate3d(0,0,0)) or (transform:translate3d(0,0,0))){.bootstrap .carousel-item-next.carousel-item-left, .bootstrap .carousel-item-prev.carousel-item-right { -webkit-transform:translate3d(0, 0, 0);transform:translate3d(0, 0, 0)}.bootstrap .active.carousel-item-right,.bootstrap .carousel-item-next{-webkit-transform:translate3d(100%, 0, 0);transform:translate3d(100%, 0, 0)}.bootstrap .active.carousel-item-left,.bootstrap .carousel-item-prev{-webkit-transform:translate3d(-100%, 0, 0);transform:translate3d(-100%, 0, 0)}} .bootstrap .carousel-control-next,.bootstrap .carousel-control-prev{position:absolute;top:0;bottom:0;display:-webkit-box;display:-webkit-flex;display:-ms-flexbox;display:flex;-webkit-box-align:center;-webkit-align-items:center;-ms-flex-align:center;align-items:center;-webkit-box-pack:center;-webkit-justify-content:center;-ms-flex-pack:center;justify-content:center;width:15%;color:#fff;text-align:center;opacity:0.5}.bootstrap .carousel-control-next:focus,.bootstrap .carousel-control-next:hover,.bootstrap .carousel-control-prev:focus,.bootstrap .carousel-control-prev:hover{color:#fff;text-decoration:none;outline:0;opacity:0.9}.bootstrap .carousel-control-prev{left:0}.bootstrap .carousel-control-next{right:0}.bootstrap .carousel-control-next-icon,.bootstrap .carousel-control-prev-icon{display:inline-block;width:20px;height:20px;background:transparent no-repeat center center;-webkit-background-size:100% 100%;background-size:100% 100%}.bootstrap .carousel-control-prev-icon{background-image:url(\"data:image/svg+xml;charset=utf8,%3Csvg xmlns='http://www.w3.org/2000/svg' fill='%23fff' viewBox='0 0 8 8'%3E%3Cpath d='M4 0l-4 4 4 4 1.5-1.5-2.5-2.5 2.5-2.5-1.5-1.5z'/%3E%3C/svg%3E\")}.bootstrap .carousel-control-next-icon{background-image:url(\"data:image/svg+xml;charset=utf8,%3Csvg xmlns='http://www.w3.org/2000/svg' fill='%23fff' viewBox='0 0 8 8'%3E%3Cpath d='M1.5 0l-1.5 1.5 2.5 2.5-2.5 2.5 1.5 1.5 4-4-4-4z'/%3E%3C/svg%3E\")}.bootstrap .carousel-indicators{position:absolute;right:0;bottom:10px;left:0;z-index:15;display:-webkit-box;display:-webkit-flex;display:-ms-flexbox;display:flex;-webkit-box-pack:center;-webkit-justify-content:center;-ms-flex-pack:center;justify-content:center;padding-left:0;margin-right:15%;margin-left:15%;list-style:none}.bootstrap .carousel-indicators li{position:relative;-webkit-box-flex:1;-webkit-flex:1 0 auto;-ms-flex:1 0 auto;flex:1 0 auto;max-width:30px;height:3px;margin-right:3px;margin-left:3px;text-indent:-999px;cursor:pointer;background-color:rgba(255, 255, 255, 0.5)}.bootstrap .carousel-indicators li::before{position:absolute;top:-10px;left:0;display:inline-block;width:100%;height:10px;content:\"\"}.bootstrap .carousel-indicators li::after{position:absolute;bottom:-10px;left:0;display:inline-block;width:100%;height:10px;content:\"\"}.bootstrap .carousel-indicators .active{background-color:#fff}.bootstrap .carousel-caption{position:absolute;right:15%;bottom:20px;left:15%;z-index:10;padding-top:20px;padding-bottom:20px;color:#fff;text-align:center}.bootstrap .align-baseline{vertical-align:baseline !important}.bootstrap .align-top{vertical-align:top !important}.bootstrap .align-middle{vertical-align:middle !important}.bootstrap .align-bottom{vertical-align:bottom !important}.bootstrap .align-text-bottom{vertical-align:text-bottom !important}.bootstrap .align-text-top{vertical-align:text-top !important}.bootstrap .bg-faded{background-color:#f7f7f7}.bootstrap .bg-primary{background-color:#0275d8 !important}.bootstrap a.bg-primary:focus,.bootstrap a.bg-primary:hover{background-color:#025aa5 !important}.bootstrap .bg-success{background-color:#5cb85c !important}.bootstrap a.bg-success:focus,.bootstrap a.bg-success:hover{background-color:#449d44 !important}.bootstrap .bg-info{background-color:#5bc0de !important}.bootstrap a.bg-info:focus,.bootstrap a.bg-info:hover{background-color:#31b0d5 !important}.bootstrap .bg-warning{background-color:#f0ad4e !important}.bootstrap a.bg-warning:focus,.bootstrap a.bg-warning:hover{background-color:#ec971f !important}.bootstrap .bg-danger{background-color:#d9534f !important}.bootstrap a.bg-danger:focus,.bootstrap a.bg-danger:hover{background-color:#c9302c !important}.bootstrap .bg-inverse{background-color:#292b2c !important}.bootstrap a.bg-inverse:focus,.bootstrap a.bg-inverse:hover{background-color:#101112 !important}.bootstrap .border-0{border:0 !important}.bootstrap .border-top-0{border-top:0 !important}.bootstrap .border-right-0{border-right:0 !important}.bootstrap .border-bottom-0{border-bottom:0 !important}.bootstrap .border-left-0{border-left:0 !important}.bootstrap .rounded{border-radius:0.25rem}.bootstrap .rounded-top{border-top-right-radius:.25rem;border-top-left-radius:0.25rem}.bootstrap .rounded-right{border-bottom-right-radius:.25rem;border-top-right-radius:0.25rem}.bootstrap .rounded-bottom{border-bottom-right-radius:.25rem;border-bottom-left-radius:0.25rem}.bootstrap .rounded-left{border-bottom-left-radius:.25rem;border-top-left-radius:0.25rem}.bootstrap .rounded-circle{border-radius:50%}.bootstrap .rounded-0{border-radius:0}.bootstrap .clearfix::after{display:block;content:\"\";clear:both}.bootstrap .d-none{display:none !important}.bootstrap .d-inline{display:inline !important}.bootstrap .d-inline-block{display:inline-block !important}.bootstrap .d-block{display:block !important}.bootstrap .d-table{display:table !important}.bootstrap .d-table-cell{display:table-cell !important}.bootstrap .d-flex{display:-webkit-box !important;display:-webkit-flex !important;display:-ms-flexbox !important;display:flex !important}.bootstrap .d-inline-flex{display:-webkit-inline-box !important;display:-webkit-inline-flex !important;display:-ms-inline-flexbox !important;display:inline-flex !important}@media (min-width: 576px){.bootstrap .d-sm-none{display:none !important}.bootstrap .d-sm-inline{display:inline !important}.bootstrap .d-sm-inline-block{display:inline-block !important}.bootstrap .d-sm-block{display:block !important}.bootstrap .d-sm-table{display:table !important}.bootstrap .d-sm-table-cell{display:table-cell !important}.bootstrap .d-sm-flex{display:-webkit-box !important;display:-webkit-flex !important;display:-ms-flexbox !important;display:flex !important}.bootstrap .d-sm-inline-flex{display:-webkit-inline-box !important;display:-webkit-inline-flex !important;display:-ms-inline-flexbox !important;display:inline-flex !important}}@media (min-width: 768px){.bootstrap .d-md-none{display:none !important}.bootstrap .d-md-inline{display:inline !important}.bootstrap .d-md-inline-block{display:inline-block !important}.bootstrap .d-md-block{display:block !important}.bootstrap .d-md-table{display:table !important}.bootstrap .d-md-table-cell{display:table-cell !important}.bootstrap .d-md-flex{display:-webkit-box !important;display:-webkit-flex !important;display:-ms-flexbox !important;display:flex !important}.bootstrap .d-md-inline-flex{display:-webkit-inline-box !important;display:-webkit-inline-flex !important;display:-ms-inline-flexbox !important;display:inline-flex !important}}@media (min-width: 992px){.bootstrap .d-lg-none{display:none !important}.bootstrap .d-lg-inline{display:inline !important}.bootstrap .d-lg-inline-block{display:inline-block !important}.bootstrap .d-lg-block{display:block !important}.bootstrap .d-lg-table{display:table !important}.bootstrap .d-lg-table-cell{display:table-cell !important}.bootstrap .d-lg-flex{display:-webkit-box !important;display:-webkit-flex !important;display:-ms-flexbox !important;display:flex !important}.bootstrap .d-lg-inline-flex{display:-webkit-inline-box !important;display:-webkit-inline-flex !important;display:-ms-inline-flexbox !important;display:inline-flex !important}}@media (min-width: 1200px){.bootstrap .d-xl-none{display:none !important}.bootstrap .d-xl-inline{display:inline !important}.bootstrap .d-xl-inline-block{display:inline-block !important}.bootstrap .d-xl-block{display:block !important}.bootstrap .d-xl-table{display:table !important}.bootstrap .d-xl-table-cell{display:table-cell !important}.bootstrap .d-xl-flex{display:-webkit-box !important;display:-webkit-flex !important;display:-ms-flexbox !important;display:flex !important}.bootstrap .d-xl-inline-flex{display:-webkit-inline-box !important;display:-webkit-inline-flex !important;display:-ms-inline-flexbox !important;display:inline-flex !important}}.bootstrap .flex-first{-webkit-box-ordinal-group:0;-webkit-order:-1;-ms-flex-order:-1;order:-1}.bootstrap .flex-last{-webkit-box-ordinal-group:2;-webkit-order:1;-ms-flex-order:1;order:1}.bootstrap .flex-unordered{-webkit-box-ordinal-group:1;-webkit-order:0;-ms-flex-order:0;order:0}.bootstrap .flex-row{-webkit-box-orient:horizontal !important;-webkit-box-direction:normal !important;-webkit-flex-direction:row !important;-ms-flex-direction:row !important;flex-direction:row !important}.bootstrap .flex-column{-webkit-box-orient:vertical !important;-webkit-box-direction:normal !important;-webkit-flex-direction:column !important;-ms-flex-direction:column !important;flex-direction:column !important}.bootstrap .flex-row-reverse{-webkit-box-orient:horizontal !important;-webkit-box-direction:reverse !important;-webkit-flex-direction:row-reverse !important;-ms-flex-direction:row-reverse !important;flex-direction:row-reverse !important}.bootstrap .flex-column-reverse{-webkit-box-orient:vertical !important;-webkit-box-direction:reverse !important;-webkit-flex-direction:column-reverse !important;-ms-flex-direction:column-reverse !important;flex-direction:column-reverse !important}.bootstrap .flex-wrap{-webkit-flex-wrap:wrap !important;-ms-flex-wrap:wrap !important;flex-wrap:wrap !important}.bootstrap .flex-nowrap{-webkit-flex-wrap:nowrap !important;-ms-flex-wrap:nowrap !important;flex-wrap:nowrap !important}.bootstrap .flex-wrap-reverse{-webkit-flex-wrap:wrap-reverse !important;-ms-flex-wrap:wrap-reverse !important;flex-wrap:wrap-reverse !important}.bootstrap .justify-content-start{-webkit-box-pack:start !important;-webkit-justify-content:flex-start !important;-ms-flex-pack:start !important;justify-content:flex-start !important}.bootstrap .justify-content-end{-webkit-box-pack:end !important;-webkit-justify-content:flex-end !important;-ms-flex-pack:end !important;justify-content:flex-end !important}.bootstrap .justify-content-center{-webkit-box-pack:center !important;-webkit-justify-content:center !important;-ms-flex-pack:center !important;justify-content:center !important}.bootstrap .justify-content-between{-webkit-box-pack:justify !important;-webkit-justify-content:space-between !important;-ms-flex-pack:justify !important;justify-content:space-between !important}.bootstrap .justify-content-around{-webkit-justify-content:space-around !important;-ms-flex-pack:distribute !important;justify-content:space-around !important}.bootstrap .align-items-start{-webkit-box-align:start !important;-webkit-align-items:flex-start !important;-ms-flex-align:start !important;align-items:flex-start !important}.bootstrap .align-items-end{-webkit-box-align:end !important;-webkit-align-items:flex-end !important;-ms-flex-align:end !important;align-items:flex-end !important}.bootstrap .align-items-center{-webkit-box-align:center !important;-webkit-align-items:center !important;-ms-flex-align:center !important;align-items:center !important}.bootstrap .align-items-baseline{-webkit-box-align:baseline !important;-webkit-align-items:baseline !important;-ms-flex-align:baseline !important;align-items:baseline !important}.bootstrap .align-items-stretch{-webkit-box-align:stretch !important;-webkit-align-items:stretch !important;-ms-flex-align:stretch !important;align-items:stretch !important}.bootstrap .align-content-start{-webkit-align-content:flex-start !important;-ms-flex-line-pack:start !important;align-content:flex-start !important}.bootstrap .align-content-end{-webkit-align-content:flex-end !important;-ms-flex-line-pack:end !important;align-content:flex-end !important}.bootstrap .align-content-center{-webkit-align-content:center !important;-ms-flex-line-pack:center !important;align-content:center !important}.bootstrap .align-content-between{-webkit-align-content:space-between !important;-ms-flex-line-pack:justify !important;align-content:space-between !important}.bootstrap .align-content-around{-webkit-align-content:space-around !important;-ms-flex-line-pack:distribute !important;align-content:space-around !important}.bootstrap .align-content-stretch{-webkit-align-content:stretch !important;-ms-flex-line-pack:stretch !important;align-content:stretch !important}.bootstrap .align-self-auto{-webkit-align-self:auto !important;-ms-flex-item-align:auto !important;-ms-grid-row-align:auto !important;align-self:auto !important}.bootstrap .align-self-start{-webkit-align-self:flex-start !important;-ms-flex-item-align:start !important;align-self:flex-start !important}.bootstrap .align-self-end{-webkit-align-self:flex-end !important;-ms-flex-item-align:end !important;align-self:flex-end !important}.bootstrap .align-self-center{-webkit-align-self:center !important;-ms-flex-item-align:center !important;-ms-grid-row-align:center !important;align-self:center !important}.bootstrap .align-self-baseline{-webkit-align-self:baseline !important;-ms-flex-item-align:baseline !important;align-self:baseline !important}.bootstrap .align-self-stretch{-webkit-align-self:stretch !important;-ms-flex-item-align:stretch !important;-ms-grid-row-align:stretch !important;align-self:stretch !important}@media (min-width: 576px){.bootstrap .flex-sm-first{-webkit-box-ordinal-group:0;-webkit-order:-1;-ms-flex-order:-1;order:-1}.bootstrap .flex-sm-last{-webkit-box-ordinal-group:2;-webkit-order:1;-ms-flex-order:1;order:1}.bootstrap .flex-sm-unordered{-webkit-box-ordinal-group:1;-webkit-order:0;-ms-flex-order:0;order:0}.bootstrap .flex-sm-row{-webkit-box-orient:horizontal !important;-webkit-box-direction:normal !important;-webkit-flex-direction:row !important;-ms-flex-direction:row !important;flex-direction:row !important}.bootstrap .flex-sm-column{-webkit-box-orient:vertical !important;-webkit-box-direction:normal !important;-webkit-flex-direction:column !important;-ms-flex-direction:column !important;flex-direction:column !important}.bootstrap .flex-sm-row-reverse{-webkit-box-orient:horizontal !important;-webkit-box-direction:reverse !important;-webkit-flex-direction:row-reverse !important;-ms-flex-direction:row-reverse !important;flex-direction:row-reverse !important}.bootstrap .flex-sm-column-reverse{-webkit-box-orient:vertical !important;-webkit-box-direction:reverse !important;-webkit-flex-direction:column-reverse !important;-ms-flex-direction:column-reverse !important;flex-direction:column-reverse !important}.bootstrap .flex-sm-wrap{-webkit-flex-wrap:wrap !important;-ms-flex-wrap:wrap !important;flex-wrap:wrap !important}.bootstrap .flex-sm-nowrap{-webkit-flex-wrap:nowrap !important;-ms-flex-wrap:nowrap !important;flex-wrap:nowrap !important}.bootstrap .flex-sm-wrap-reverse{-webkit-flex-wrap:wrap-reverse !important;-ms-flex-wrap:wrap-reverse !important;flex-wrap:wrap-reverse !important}.bootstrap .justify-content-sm-start{-webkit-box-pack:start !important;-webkit-justify-content:flex-start !important;-ms-flex-pack:start !important;justify-content:flex-start !important}.bootstrap .justify-content-sm-end{-webkit-box-pack:end !important;-webkit-justify-content:flex-end !important;-ms-flex-pack:end !important;justify-content:flex-end !important}.bootstrap .justify-content-sm-center{-webkit-box-pack:center !important;-webkit-justify-content:center !important;-ms-flex-pack:center !important;justify-content:center !important}.bootstrap .justify-content-sm-between{-webkit-box-pack:justify !important;-webkit-justify-content:space-between !important;-ms-flex-pack:justify !important;justify-content:space-between !important}.bootstrap .justify-content-sm-around{-webkit-justify-content:space-around !important;-ms-flex-pack:distribute !important;justify-content:space-around !important}.bootstrap .align-items-sm-start{-webkit-box-align:start !important;-webkit-align-items:flex-start !important;-ms-flex-align:start !important;align-items:flex-start !important}.bootstrap .align-items-sm-end{-webkit-box-align:end !important;-webkit-align-items:flex-end !important;-ms-flex-align:end !important;align-items:flex-end !important}.bootstrap .align-items-sm-center{-webkit-box-align:center !important;-webkit-align-items:center !important;-ms-flex-align:center !important;align-items:center !important}.bootstrap .align-items-sm-baseline{-webkit-box-align:baseline !important;-webkit-align-items:baseline !important;-ms-flex-align:baseline !important;align-items:baseline !important}.bootstrap .align-items-sm-stretch{-webkit-box-align:stretch !important;-webkit-align-items:stretch !important;-ms-flex-align:stretch !important;align-items:stretch !important}.bootstrap .align-content-sm-start{-webkit-align-content:flex-start !important;-ms-flex-line-pack:start !important;align-content:flex-start !important}.bootstrap .align-content-sm-end{-webkit-align-content:flex-end !important;-ms-flex-line-pack:end !important;align-content:flex-end !important}.bootstrap .align-content-sm-center{-webkit-align-content:center !important;-ms-flex-line-pack:center !important;align-content:center !important}.bootstrap .align-content-sm-between{-webkit-align-content:space-between !important;-ms-flex-line-pack:justify !important;align-content:space-between !important}.bootstrap .align-content-sm-around{-webkit-align-content:space-around !important;-ms-flex-line-pack:distribute !important;align-content:space-around !important}.bootstrap .align-content-sm-stretch{-webkit-align-content:stretch !important;-ms-flex-line-pack:stretch !important;align-content:stretch !important}.bootstrap .align-self-sm-auto{-webkit-align-self:auto !important;-ms-flex-item-align:auto !important;-ms-grid-row-align:auto !important;align-self:auto !important}.bootstrap .align-self-sm-start{-webkit-align-self:flex-start !important;-ms-flex-item-align:start !important;align-self:flex-start !important}.bootstrap .align-self-sm-end{-webkit-align-self:flex-end !important;-ms-flex-item-align:end !important;align-self:flex-end !important}.bootstrap .align-self-sm-center{-webkit-align-self:center !important;-ms-flex-item-align:center !important;-ms-grid-row-align:center !important;align-self:center !important}.bootstrap .align-self-sm-baseline{-webkit-align-self:baseline !important;-ms-flex-item-align:baseline !important;align-self:baseline !important}.bootstrap .align-self-sm-stretch{-webkit-align-self:stretch !important;-ms-flex-item-align:stretch !important;-ms-grid-row-align:stretch !important;align-self:stretch !important}}@media (min-width: 768px){.bootstrap .flex-md-first{-webkit-box-ordinal-group:0;-webkit-order:-1;-ms-flex-order:-1;order:-1}.bootstrap .flex-md-last{-webkit-box-ordinal-group:2;-webkit-order:1;-ms-flex-order:1;order:1}.bootstrap .flex-md-unordered{-webkit-box-ordinal-group:1;-webkit-order:0;-ms-flex-order:0;order:0}.bootstrap .flex-md-row{-webkit-box-orient:horizontal !important;-webkit-box-direction:normal !important;-webkit-flex-direction:row !important;-ms-flex-direction:row !important;flex-direction:row !important}.bootstrap .flex-md-column{-webkit-box-orient:vertical !important;-webkit-box-direction:normal !important;-webkit-flex-direction:column !important;-ms-flex-direction:column !important;flex-direction:column !important}.bootstrap .flex-md-row-reverse{-webkit-box-orient:horizontal !important;-webkit-box-direction:reverse !important;-webkit-flex-direction:row-reverse !important;-ms-flex-direction:row-reverse !important;flex-direction:row-reverse !important}.bootstrap .flex-md-column-reverse{-webkit-box-orient:vertical !important;-webkit-box-direction:reverse !important;-webkit-flex-direction:column-reverse !important;-ms-flex-direction:column-reverse !important;flex-direction:column-reverse !important}.bootstrap .flex-md-wrap{-webkit-flex-wrap:wrap !important;-ms-flex-wrap:wrap !important;flex-wrap:wrap !important}.bootstrap .flex-md-nowrap{-webkit-flex-wrap:nowrap !important;-ms-flex-wrap:nowrap !important;flex-wrap:nowrap !important}.bootstrap .flex-md-wrap-reverse{-webkit-flex-wrap:wrap-reverse !important;-ms-flex-wrap:wrap-reverse !important;flex-wrap:wrap-reverse !important}.bootstrap .justify-content-md-start{-webkit-box-pack:start !important;-webkit-justify-content:flex-start !important;-ms-flex-pack:start !important;justify-content:flex-start !important}.bootstrap .justify-content-md-end{-webkit-box-pack:end !important;-webkit-justify-content:flex-end !important;-ms-flex-pack:end !important;justify-content:flex-end !important}.bootstrap .justify-content-md-center{-webkit-box-pack:center !important;-webkit-justify-content:center !important;-ms-flex-pack:center !important;justify-content:center !important}.bootstrap .justify-content-md-between{-webkit-box-pack:justify !important;-webkit-justify-content:space-between !important;-ms-flex-pack:justify !important;justify-content:space-between !important}.bootstrap .justify-content-md-around{-webkit-justify-content:space-around !important;-ms-flex-pack:distribute !important;justify-content:space-around !important}.bootstrap .align-items-md-start{-webkit-box-align:start !important;-webkit-align-items:flex-start !important;-ms-flex-align:start !important;align-items:flex-start !important}.bootstrap .align-items-md-end{-webkit-box-align:end !important;-webkit-align-items:flex-end !important;-ms-flex-align:end !important;align-items:flex-end !important}.bootstrap .align-items-md-center{-webkit-box-align:center !important;-webkit-align-items:center !important;-ms-flex-align:center !important;align-items:center !important}.bootstrap .align-items-md-baseline{-webkit-box-align:baseline !important;-webkit-align-items:baseline !important;-ms-flex-align:baseline !important;align-items:baseline !important}.bootstrap .align-items-md-stretch{-webkit-box-align:stretch !important;-webkit-align-items:stretch !important;-ms-flex-align:stretch !important;align-items:stretch !important}.bootstrap .align-content-md-start{-webkit-align-content:flex-start !important;-ms-flex-line-pack:start !important;align-content:flex-start !important}.bootstrap .align-content-md-end{-webkit-align-content:flex-end !important;-ms-flex-line-pack:end !important;align-content:flex-end !important}.bootstrap .align-content-md-center{-webkit-align-content:center !important;-ms-flex-line-pack:center !important;align-content:center !important}.bootstrap .align-content-md-between{-webkit-align-content:space-between !important;-ms-flex-line-pack:justify !important;align-content:space-between !important}.bootstrap .align-content-md-around{-webkit-align-content:space-around !important;-ms-flex-line-pack:distribute !important;align-content:space-around !important}.bootstrap .align-content-md-stretch{-webkit-align-content:stretch !important;-ms-flex-line-pack:stretch !important;align-content:stretch !important}.bootstrap .align-self-md-auto{-webkit-align-self:auto !important;-ms-flex-item-align:auto !important;-ms-grid-row-align:auto !important;align-self:auto !important}.bootstrap .align-self-md-start{-webkit-align-self:flex-start !important;-ms-flex-item-align:start !important;align-self:flex-start !important}.bootstrap .align-self-md-end{-webkit-align-self:flex-end !important;-ms-flex-item-align:end !important;align-self:flex-end !important}.bootstrap .align-self-md-center{-webkit-align-self:center !important;-ms-flex-item-align:center !important;-ms-grid-row-align:center !important;align-self:center !important}.bootstrap .align-self-md-baseline{-webkit-align-self:baseline !important;-ms-flex-item-align:baseline !important;align-self:baseline !important}.bootstrap .align-self-md-stretch{-webkit-align-self:stretch !important;-ms-flex-item-align:stretch !important;-ms-grid-row-align:stretch !important;align-self:stretch !important}}@media (min-width: 992px){.bootstrap .flex-lg-first{-webkit-box-ordinal-group:0;-webkit-order:-1;-ms-flex-order:-1;order:-1}.bootstrap .flex-lg-last{-webkit-box-ordinal-group:2;-webkit-order:1;-ms-flex-order:1;order:1}.bootstrap .flex-lg-unordered{-webkit-box-ordinal-group:1;-webkit-order:0;-ms-flex-order:0;order:0}.bootstrap .flex-lg-row{-webkit-box-orient:horizontal !important;-webkit-box-direction:normal !important;-webkit-flex-direction:row !important;-ms-flex-direction:row !important;flex-direction:row !important}.bootstrap .flex-lg-column{-webkit-box-orient:vertical !important;-webkit-box-direction:normal !important;-webkit-flex-direction:column !important;-ms-flex-direction:column !important;flex-direction:column !important}.bootstrap .flex-lg-row-reverse{-webkit-box-orient:horizontal !important;-webkit-box-direction:reverse !important;-webkit-flex-direction:row-reverse !important;-ms-flex-direction:row-reverse !important;flex-direction:row-reverse !important}.bootstrap .flex-lg-column-reverse{-webkit-box-orient:vertical !important;-webkit-box-direction:reverse !important;-webkit-flex-direction:column-reverse !important;-ms-flex-direction:column-reverse !important;flex-direction:column-reverse !important}.bootstrap .flex-lg-wrap{-webkit-flex-wrap:wrap !important;-ms-flex-wrap:wrap !important;flex-wrap:wrap !important}.bootstrap .flex-lg-nowrap{-webkit-flex-wrap:nowrap !important;-ms-flex-wrap:nowrap !important;flex-wrap:nowrap !important}.bootstrap .flex-lg-wrap-reverse{-webkit-flex-wrap:wrap-reverse !important;-ms-flex-wrap:wrap-reverse !important;flex-wrap:wrap-reverse !important}.bootstrap .justify-content-lg-start{-webkit-box-pack:start !important;-webkit-justify-content:flex-start !important;-ms-flex-pack:start !important;justify-content:flex-start !important}.bootstrap .justify-content-lg-end{-webkit-box-pack:end !important;-webkit-justify-content:flex-end !important;-ms-flex-pack:end !important;justify-content:flex-end !important}.bootstrap .justify-content-lg-center{-webkit-box-pack:center !important;-webkit-justify-content:center !important;-ms-flex-pack:center !important;justify-content:center !important}.bootstrap .justify-content-lg-between{-webkit-box-pack:justify !important;-webkit-justify-content:space-between !important;-ms-flex-pack:justify !important;justify-content:space-between !important}.bootstrap .justify-content-lg-around{-webkit-justify-content:space-around !important;-ms-flex-pack:distribute !important;justify-content:space-around !important}.bootstrap .align-items-lg-start{-webkit-box-align:start !important;-webkit-align-items:flex-start !important;-ms-flex-align:start !important;align-items:flex-start !important}.bootstrap .align-items-lg-end{-webkit-box-align:end !important;-webkit-align-items:flex-end !important;-ms-flex-align:end !important;align-items:flex-end !important}.bootstrap .align-items-lg-center{-webkit-box-align:center !important;-webkit-align-items:center !important;-ms-flex-align:center !important;align-items:center !important}.bootstrap .align-items-lg-baseline{-webkit-box-align:baseline !important;-webkit-align-items:baseline !important;-ms-flex-align:baseline !important;align-items:baseline !important}.bootstrap .align-items-lg-stretch{-webkit-box-align:stretch !important;-webkit-align-items:stretch !important;-ms-flex-align:stretch !important;align-items:stretch !important}.bootstrap .align-content-lg-start{-webkit-align-content:flex-start !important;-ms-flex-line-pack:start !important;align-content:flex-start !important}.bootstrap .align-content-lg-end{-webkit-align-content:flex-end !important;-ms-flex-line-pack:end !important;align-content:flex-end !important}.bootstrap .align-content-lg-center{-webkit-align-content:center !important;-ms-flex-line-pack:center !important;align-content:center !important}.bootstrap .align-content-lg-between{-webkit-align-content:space-between !important;-ms-flex-line-pack:justify !important;align-content:space-between !important}.bootstrap .align-content-lg-around{-webkit-align-content:space-around !important;-ms-flex-line-pack:distribute !important;align-content:space-around !important}.bootstrap .align-content-lg-stretch{-webkit-align-content:stretch !important;-ms-flex-line-pack:stretch !important;align-content:stretch !important}.bootstrap .align-self-lg-auto{-webkit-align-self:auto !important;-ms-flex-item-align:auto !important;-ms-grid-row-align:auto !important;align-self:auto !important}.bootstrap .align-self-lg-start{-webkit-align-self:flex-start !important;-ms-flex-item-align:start !important;align-self:flex-start !important}.bootstrap .align-self-lg-end{-webkit-align-self:flex-end !important;-ms-flex-item-align:end !important;align-self:flex-end !important}.bootstrap .align-self-lg-center{-webkit-align-self:center !important;-ms-flex-item-align:center !important;-ms-grid-row-align:center !important;align-self:center !important}.bootstrap .align-self-lg-baseline{-webkit-align-self:baseline !important;-ms-flex-item-align:baseline !important;align-self:baseline !important}.bootstrap .align-self-lg-stretch{-webkit-align-self:stretch !important;-ms-flex-item-align:stretch !important;-ms-grid-row-align:stretch !important;align-self:stretch !important}}@media (min-width: 1200px){.bootstrap .flex-xl-first{-webkit-box-ordinal-group:0;-webkit-order:-1;-ms-flex-order:-1;order:-1}.bootstrap .flex-xl-last{-webkit-box-ordinal-group:2;-webkit-order:1;-ms-flex-order:1;order:1}.bootstrap .flex-xl-unordered{-webkit-box-ordinal-group:1;-webkit-order:0;-ms-flex-order:0;order:0}.bootstrap .flex-xl-row{-webkit-box-orient:horizontal !important;-webkit-box-direction:normal !important;-webkit-flex-direction:row !important;-ms-flex-direction:row !important;flex-direction:row !important}.bootstrap .flex-xl-column{-webkit-box-orient:vertical !important;-webkit-box-direction:normal !important;-webkit-flex-direction:column !important;-ms-flex-direction:column !important;flex-direction:column !important}.bootstrap .flex-xl-row-reverse{-webkit-box-orient:horizontal !important;-webkit-box-direction:reverse !important;-webkit-flex-direction:row-reverse !important;-ms-flex-direction:row-reverse !important;flex-direction:row-reverse !important}.bootstrap .flex-xl-column-reverse{-webkit-box-orient:vertical !important;-webkit-box-direction:reverse !important;-webkit-flex-direction:column-reverse !important;-ms-flex-direction:column-reverse !important;flex-direction:column-reverse !important}.bootstrap .flex-xl-wrap{-webkit-flex-wrap:wrap !important;-ms-flex-wrap:wrap !important;flex-wrap:wrap !important}.bootstrap .flex-xl-nowrap{-webkit-flex-wrap:nowrap !important;-ms-flex-wrap:nowrap !important;flex-wrap:nowrap !important}.bootstrap .flex-xl-wrap-reverse{-webkit-flex-wrap:wrap-reverse !important;-ms-flex-wrap:wrap-reverse !important;flex-wrap:wrap-reverse !important}.bootstrap .justify-content-xl-start{-webkit-box-pack:start !important;-webkit-justify-content:flex-start !important;-ms-flex-pack:start !important;justify-content:flex-start !important}.bootstrap .justify-content-xl-end{-webkit-box-pack:end !important;-webkit-justify-content:flex-end !important;-ms-flex-pack:end !important;justify-content:flex-end !important}.bootstrap .justify-content-xl-center{-webkit-box-pack:center !important;-webkit-justify-content:center !important;-ms-flex-pack:center !important;justify-content:center !important}.bootstrap .justify-content-xl-between{-webkit-box-pack:justify !important;-webkit-justify-content:space-between !important;-ms-flex-pack:justify !important;justify-content:space-between !important}.bootstrap .justify-content-xl-around{-webkit-justify-content:space-around !important;-ms-flex-pack:distribute !important;justify-content:space-around !important}.bootstrap .align-items-xl-start{-webkit-box-align:start !important;-webkit-align-items:flex-start !important;-ms-flex-align:start !important;align-items:flex-start !important}.bootstrap .align-items-xl-end{-webkit-box-align:end !important;-webkit-align-items:flex-end !important;-ms-flex-align:end !important;align-items:flex-end !important}.bootstrap .align-items-xl-center{-webkit-box-align:center !important;-webkit-align-items:center !important;-ms-flex-align:center !important;align-items:center !important}.bootstrap .align-items-xl-baseline{-webkit-box-align:baseline !important;-webkit-align-items:baseline !important;-ms-flex-align:baseline !important;align-items:baseline !important}.bootstrap .align-items-xl-stretch{-webkit-box-align:stretch !important;-webkit-align-items:stretch !important;-ms-flex-align:stretch !important;align-items:stretch !important}.bootstrap .align-content-xl-start{-webkit-align-content:flex-start !important;-ms-flex-line-pack:start !important;align-content:flex-start !important}.bootstrap .align-content-xl-end{-webkit-align-content:flex-end !important;-ms-flex-line-pack:end !important;align-content:flex-end !important}.bootstrap .align-content-xl-center{-webkit-align-content:center !important;-ms-flex-line-pack:center !important;align-content:center !important}.bootstrap .align-content-xl-between{-webkit-align-content:space-between !important;-ms-flex-line-pack:justify !important;align-content:space-between !important}.bootstrap .align-content-xl-around{-webkit-align-content:space-around !important;-ms-flex-line-pack:distribute !important;align-content:space-around !important}.bootstrap .align-content-xl-stretch{-webkit-align-content:stretch !important;-ms-flex-line-pack:stretch !important;align-content:stretch !important}.bootstrap .align-self-xl-auto{-webkit-align-self:auto !important;-ms-flex-item-align:auto !important;-ms-grid-row-align:auto !important;align-self:auto !important}.bootstrap .align-self-xl-start{-webkit-align-self:flex-start !important;-ms-flex-item-align:start !important;align-self:flex-start !important}.bootstrap .align-self-xl-end{-webkit-align-self:flex-end !important;-ms-flex-item-align:end !important;align-self:flex-end !important}.bootstrap .align-self-xl-center{-webkit-align-self:center !important;-ms-flex-item-align:center !important;-ms-grid-row-align:center !important;align-self:center !important}.bootstrap .align-self-xl-baseline{-webkit-align-self:baseline !important;-ms-flex-item-align:baseline !important;align-self:baseline !important}.bootstrap .align-self-xl-stretch{-webkit-align-self:stretch !important;-ms-flex-item-align:stretch !important;-ms-grid-row-align:stretch !important;align-self:stretch !important}}.bootstrap .float-left{float:left !important}.bootstrap .float-right{float:right !important}.bootstrap .float-none{float:none !important}@media (min-width: 576px){.bootstrap .float-sm-left{float:left !important}.bootstrap .float-sm-right{float:right !important}.bootstrap .float-sm-none{float:none !important}}@media (min-width: 768px){.bootstrap .float-md-left{float:left !important}.bootstrap .float-md-right{float:right !important}.bootstrap .float-md-none{float:none !important}}@media (min-width: 992px){.bootstrap .float-lg-left{float:left !important}.bootstrap .float-lg-right{float:right !important}.bootstrap .float-lg-none{float:none !important}}@media (min-width: 1200px){.bootstrap .float-xl-left{float:left !important}.bootstrap .float-xl-right{float:right !important}.bootstrap .float-xl-none{float:none !important}}.bootstrap .fixed-top{position:fixed;top:0;right:0;left:0;z-index:1030}.bootstrap .fixed-bottom{position:fixed;right:0;bottom:0;left:0;z-index:1030}.bootstrap .sticky-top{position:-webkit-sticky;position:sticky;top:0;z-index:1030}.bootstrap .sr-only{position:absolute;width:1px;height:1px;padding:0;margin:-1px;overflow:hidden;clip:rect(0, 0, 0, 0);border:0}.bootstrap .sr-only-focusable:active,.bootstrap .sr-only-focusable:focus{position:static;width:auto;height:auto;margin:0;overflow:visible;clip:auto}.bootstrap .w-25{width:25% !important}.bootstrap .w-50{width:50% !important}.bootstrap .w-75{width:75% !important}.bootstrap .w-100{width:100% !important}.bootstrap .h-25{height:25% !important}.bootstrap .h-50{height:50% !important}.bootstrap .h-75{height:75% !important}.bootstrap .h-100{height:100% !important}.bootstrap .mw-100{max-width:100% !important}.bootstrap .mh-100{max-height:100% !important}.bootstrap .m-0{margin:0 0 !important}.bootstrap .mt-0{margin-top:0 !important}.bootstrap .mr-0{margin-right:0 !important}.bootstrap .mb-0{margin-bottom:0 !important}.bootstrap .ml-0{margin-left:0 !important}.bootstrap .mx-0{margin-right:0 !important;margin-left:0 !important}.bootstrap .my-0{margin-top:0 !important;margin-bottom:0 !important}.bootstrap .m-1{margin:0.25rem 0.25rem !important}.bootstrap .mt-1{margin-top:0.25rem !important}.bootstrap .mr-1{margin-right:0.25rem !important}.bootstrap .mb-1{margin-bottom:0.25rem !important}.bootstrap .ml-1{margin-left:0.25rem !important}.bootstrap .mx-1{margin-right:.25rem !important;margin-left:0.25rem !important}.bootstrap .my-1{margin-top:.25rem !important;margin-bottom:0.25rem !important}.bootstrap .m-2{margin:0.5rem 0.5rem !important}.bootstrap .mt-2{margin-top:0.5rem !important}.bootstrap .mr-2{margin-right:0.5rem !important}.bootstrap .mb-2{margin-bottom:0.5rem !important}.bootstrap .ml-2{margin-left:0.5rem !important}.bootstrap .mx-2{margin-right:.5rem !important;margin-left:0.5rem !important}.bootstrap .my-2{margin-top:.5rem !important;margin-bottom:0.5rem !important}.bootstrap .m-3{margin:1rem 1rem !important}.bootstrap .mt-3{margin-top:1rem !important}.bootstrap .mr-3{margin-right:1rem !important}.bootstrap .mb-3{margin-bottom:1rem !important}.bootstrap .ml-3{margin-left:1rem !important}.bootstrap .mx-3{margin-right:1rem !important;margin-left:1rem !important}.bootstrap .my-3{margin-top:1rem !important;margin-bottom:1rem !important}.bootstrap .m-4{margin:1.5rem 1.5rem !important}.bootstrap .mt-4{margin-top:1.5rem !important}.bootstrap .mr-4{margin-right:1.5rem !important}.bootstrap .mb-4{margin-bottom:1.5rem !important}.bootstrap .ml-4{margin-left:1.5rem !important}.bootstrap .mx-4{margin-right:1.5rem !important;margin-left:1.5rem !important}.bootstrap .my-4{margin-top:1.5rem !important;margin-bottom:1.5rem !important}.bootstrap .m-5{margin:3rem 3rem !important}.bootstrap .mt-5{margin-top:3rem !important}.bootstrap .mr-5{margin-right:3rem !important}.bootstrap .mb-5{margin-bottom:3rem !important}.bootstrap .ml-5{margin-left:3rem !important}.bootstrap .mx-5{margin-right:3rem !important;margin-left:3rem !important}.bootstrap .my-5{margin-top:3rem !important;margin-bottom:3rem !important}.bootstrap .p-0{padding:0 0 !important}.bootstrap .pt-0{padding-top:0 !important}.bootstrap .pr-0{padding-right:0 !important}.bootstrap .pb-0{padding-bottom:0 !important}.bootstrap .pl-0{padding-left:0 !important}.bootstrap .px-0{padding-right:0 !important;padding-left:0 !important}.bootstrap .py-0{padding-top:0 !important;padding-bottom:0 !important}.bootstrap .p-1{padding:0.25rem 0.25rem !important}.bootstrap .pt-1{padding-top:0.25rem !important}.bootstrap .pr-1{padding-right:0.25rem !important}.bootstrap .pb-1{padding-bottom:0.25rem !important}.bootstrap .pl-1{padding-left:0.25rem !important}.bootstrap .px-1{padding-right:.25rem !important;padding-left:0.25rem !important}.bootstrap .py-1{padding-top:.25rem !important;padding-bottom:0.25rem !important}.bootstrap .p-2{padding:0.5rem 0.5rem !important}.bootstrap .pt-2{padding-top:0.5rem !important}.bootstrap .pr-2{padding-right:0.5rem !important}.bootstrap .pb-2{padding-bottom:0.5rem !important}.bootstrap .pl-2{padding-left:0.5rem !important}.bootstrap .px-2{padding-right:.5rem !important;padding-left:0.5rem !important}.bootstrap .py-2{padding-top:.5rem !important;padding-bottom:0.5rem !important}.bootstrap .p-3{padding:1rem 1rem !important}.bootstrap .pt-3{padding-top:1rem !important}.bootstrap .pr-3{padding-right:1rem !important}.bootstrap .pb-3{padding-bottom:1rem !important}.bootstrap .pl-3{padding-left:1rem !important}.bootstrap .px-3{padding-right:1rem !important;padding-left:1rem !important}.bootstrap .py-3{padding-top:1rem !important;padding-bottom:1rem !important}.bootstrap .p-4{padding:1.5rem 1.5rem !important}.bootstrap .pt-4{padding-top:1.5rem !important}.bootstrap .pr-4{padding-right:1.5rem !important}.bootstrap .pb-4{padding-bottom:1.5rem !important}.bootstrap .pl-4{padding-left:1.5rem !important}.bootstrap .px-4{padding-right:1.5rem !important;padding-left:1.5rem !important}.bootstrap .py-4{padding-top:1.5rem !important;padding-bottom:1.5rem !important}.bootstrap .p-5{padding:3rem 3rem !important}.bootstrap .pt-5{padding-top:3rem !important}.bootstrap .pr-5{padding-right:3rem !important}.bootstrap .pb-5{padding-bottom:3rem !important}.bootstrap .pl-5{padding-left:3rem !important}.bootstrap .px-5{padding-right:3rem !important;padding-left:3rem !important}.bootstrap .py-5{padding-top:3rem !important;padding-bottom:3rem !important}.bootstrap .m-auto{margin:auto !important}.bootstrap .mt-auto{margin-top:auto !important}.bootstrap .mr-auto{margin-right:auto !important}.bootstrap .mb-auto{margin-bottom:auto !important}.bootstrap .ml-auto{margin-left:auto !important}.bootstrap .mx-auto{margin-right:auto !important;margin-left:auto !important}.bootstrap .my-auto{margin-top:auto !important;margin-bottom:auto !important}@media (min-width: 576px){.bootstrap .m-sm-0{margin:0 0 !important}.bootstrap .mt-sm-0{margin-top:0 !important}.bootstrap .mr-sm-0{margin-right:0 !important}.bootstrap .mb-sm-0{margin-bottom:0 !important}.bootstrap .ml-sm-0{margin-left:0 !important}.bootstrap .mx-sm-0{margin-right:0 !important;margin-left:0 !important}.bootstrap .my-sm-0{margin-top:0 !important;margin-bottom:0 !important}.bootstrap .m-sm-1{margin:0.25rem 0.25rem !important}.bootstrap .mt-sm-1{margin-top:0.25rem !important}.bootstrap .mr-sm-1{margin-right:0.25rem !important}.bootstrap .mb-sm-1{margin-bottom:0.25rem !important}.bootstrap .ml-sm-1{margin-left:0.25rem !important}.bootstrap .mx-sm-1{margin-right:.25rem !important;margin-left:0.25rem !important}.bootstrap .my-sm-1{margin-top:.25rem !important;margin-bottom:0.25rem !important}.bootstrap .m-sm-2{margin:0.5rem 0.5rem !important}.bootstrap .mt-sm-2{margin-top:0.5rem !important}.bootstrap .mr-sm-2{margin-right:0.5rem !important}.bootstrap .mb-sm-2{margin-bottom:0.5rem !important}.bootstrap .ml-sm-2{margin-left:0.5rem !important}.bootstrap .mx-sm-2{margin-right:.5rem !important;margin-left:0.5rem !important}.bootstrap .my-sm-2{margin-top:.5rem !important;margin-bottom:0.5rem !important}.bootstrap .m-sm-3{margin:1rem 1rem !important}.bootstrap .mt-sm-3{margin-top:1rem !important}.bootstrap .mr-sm-3{margin-right:1rem !important}.bootstrap .mb-sm-3{margin-bottom:1rem !important}.bootstrap .ml-sm-3{margin-left:1rem !important}.bootstrap .mx-sm-3{margin-right:1rem !important;margin-left:1rem !important}.bootstrap .my-sm-3{margin-top:1rem !important;margin-bottom:1rem !important}.bootstrap .m-sm-4{margin:1.5rem 1.5rem !important}.bootstrap .mt-sm-4{margin-top:1.5rem !important}.bootstrap .mr-sm-4{margin-right:1.5rem !important}.bootstrap .mb-sm-4{margin-bottom:1.5rem !important}.bootstrap .ml-sm-4{margin-left:1.5rem !important}.bootstrap .mx-sm-4{margin-right:1.5rem !important;margin-left:1.5rem !important}.bootstrap .my-sm-4{margin-top:1.5rem !important;margin-bottom:1.5rem !important}.bootstrap .m-sm-5{margin:3rem 3rem !important}.bootstrap .mt-sm-5{margin-top:3rem !important}.bootstrap .mr-sm-5{margin-right:3rem !important}.bootstrap .mb-sm-5{margin-bottom:3rem !important}.bootstrap .ml-sm-5{margin-left:3rem !important}.bootstrap .mx-sm-5{margin-right:3rem !important;margin-left:3rem !important}.bootstrap .my-sm-5{margin-top:3rem !important;margin-bottom:3rem !important}.bootstrap .p-sm-0{padding:0 0 !important}.bootstrap .pt-sm-0{padding-top:0 !important}.bootstrap .pr-sm-0{padding-right:0 !important}.bootstrap .pb-sm-0{padding-bottom:0 !important}.bootstrap .pl-sm-0{padding-left:0 !important}.bootstrap .px-sm-0{padding-right:0 !important;padding-left:0 !important}.bootstrap .py-sm-0{padding-top:0 !important;padding-bottom:0 !important}.bootstrap .p-sm-1{padding:0.25rem 0.25rem !important}.bootstrap .pt-sm-1{padding-top:0.25rem !important}.bootstrap .pr-sm-1{padding-right:0.25rem !important}.bootstrap .pb-sm-1{padding-bottom:0.25rem !important}.bootstrap .pl-sm-1{padding-left:0.25rem !important}.bootstrap .px-sm-1{padding-right:.25rem !important;padding-left:0.25rem !important}.bootstrap .py-sm-1{padding-top:.25rem !important;padding-bottom:0.25rem !important}.bootstrap .p-sm-2{padding:0.5rem 0.5rem !important}.bootstrap .pt-sm-2{padding-top:0.5rem !important}.bootstrap .pr-sm-2{padding-right:0.5rem !important}.bootstrap .pb-sm-2{padding-bottom:0.5rem !important}.bootstrap .pl-sm-2{padding-left:0.5rem !important}.bootstrap .px-sm-2{padding-right:.5rem !important;padding-left:0.5rem !important}.bootstrap .py-sm-2{padding-top:.5rem !important;padding-bottom:0.5rem !important}.bootstrap .p-sm-3{padding:1rem 1rem !important}.bootstrap .pt-sm-3{padding-top:1rem !important}.bootstrap .pr-sm-3{padding-right:1rem !important}.bootstrap .pb-sm-3{padding-bottom:1rem !important}.bootstrap .pl-sm-3{padding-left:1rem !important}.bootstrap .px-sm-3{padding-right:1rem !important;padding-left:1rem !important}.bootstrap .py-sm-3{padding-top:1rem !important;padding-bottom:1rem !important}.bootstrap .p-sm-4{padding:1.5rem 1.5rem !important}.bootstrap .pt-sm-4{padding-top:1.5rem !important}.bootstrap .pr-sm-4{padding-right:1.5rem !important}.bootstrap .pb-sm-4{padding-bottom:1.5rem !important}.bootstrap .pl-sm-4{padding-left:1.5rem !important}.bootstrap .px-sm-4{padding-right:1.5rem !important;padding-left:1.5rem !important}.bootstrap .py-sm-4{padding-top:1.5rem !important;padding-bottom:1.5rem !important}.bootstrap .p-sm-5{padding:3rem 3rem !important}.bootstrap .pt-sm-5{padding-top:3rem !important}.bootstrap .pr-sm-5{padding-right:3rem !important}.bootstrap .pb-sm-5{padding-bottom:3rem !important}.bootstrap .pl-sm-5{padding-left:3rem !important}.bootstrap .px-sm-5{padding-right:3rem !important;padding-left:3rem !important}.bootstrap .py-sm-5{padding-top:3rem !important;padding-bottom:3rem !important}.bootstrap .m-sm-auto{margin:auto !important}.bootstrap .mt-sm-auto{margin-top:auto !important}.bootstrap .mr-sm-auto{margin-right:auto !important}.bootstrap .mb-sm-auto{margin-bottom:auto !important}.bootstrap .ml-sm-auto{margin-left:auto !important}.bootstrap .mx-sm-auto{margin-right:auto !important;margin-left:auto !important}.bootstrap .my-sm-auto{margin-top:auto !important;margin-bottom:auto !important}}@media (min-width: 768px){.bootstrap .m-md-0{margin:0 0 !important}.bootstrap .mt-md-0{margin-top:0 !important}.bootstrap .mr-md-0{margin-right:0 !important}.bootstrap .mb-md-0{margin-bottom:0 !important}.bootstrap .ml-md-0{margin-left:0 !important}.bootstrap .mx-md-0{margin-right:0 !important;margin-left:0 !important}.bootstrap .my-md-0{margin-top:0 !important;margin-bottom:0 !important}.bootstrap .m-md-1{margin:0.25rem 0.25rem !important}.bootstrap .mt-md-1{margin-top:0.25rem !important}.bootstrap .mr-md-1{margin-right:0.25rem !important}.bootstrap .mb-md-1{margin-bottom:0.25rem !important}.bootstrap .ml-md-1{margin-left:0.25rem !important}.bootstrap .mx-md-1{margin-right:.25rem !important;margin-left:0.25rem !important}.bootstrap .my-md-1{margin-top:.25rem !important;margin-bottom:0.25rem !important}.bootstrap .m-md-2{margin:0.5rem 0.5rem !important}.bootstrap .mt-md-2{margin-top:0.5rem !important}.bootstrap .mr-md-2{margin-right:0.5rem !important}.bootstrap .mb-md-2{margin-bottom:0.5rem !important}.bootstrap .ml-md-2{margin-left:0.5rem !important}.bootstrap .mx-md-2{margin-right:.5rem !important;margin-left:0.5rem !important}.bootstrap .my-md-2{margin-top:.5rem !important;margin-bottom:0.5rem !important}.bootstrap .m-md-3{margin:1rem 1rem !important}.bootstrap .mt-md-3{margin-top:1rem !important}.bootstrap .mr-md-3{margin-right:1rem !important}.bootstrap .mb-md-3{margin-bottom:1rem !important}.bootstrap .ml-md-3{margin-left:1rem !important}.bootstrap .mx-md-3{margin-right:1rem !important;margin-left:1rem !important}.bootstrap .my-md-3{margin-top:1rem !important;margin-bottom:1rem !important}.bootstrap .m-md-4{margin:1.5rem 1.5rem !important}.bootstrap .mt-md-4{margin-top:1.5rem !important}.bootstrap .mr-md-4{margin-right:1.5rem !important}.bootstrap .mb-md-4{margin-bottom:1.5rem !important}.bootstrap .ml-md-4{margin-left:1.5rem !important}.bootstrap .mx-md-4{margin-right:1.5rem !important;margin-left:1.5rem !important}.bootstrap .my-md-4{margin-top:1.5rem !important;margin-bottom:1.5rem !important}.bootstrap .m-md-5{margin:3rem 3rem !important}.bootstrap .mt-md-5{margin-top:3rem !important}.bootstrap .mr-md-5{margin-right:3rem !important}.bootstrap .mb-md-5{margin-bottom:3rem !important}.bootstrap .ml-md-5{margin-left:3rem !important}.bootstrap .mx-md-5{margin-right:3rem !important;margin-left:3rem !important}.bootstrap .my-md-5{margin-top:3rem !important;margin-bottom:3rem !important}.bootstrap .p-md-0{padding:0 0 !important}.bootstrap .pt-md-0{padding-top:0 !important}.bootstrap .pr-md-0{padding-right:0 !important}.bootstrap .pb-md-0{padding-bottom:0 !important}.bootstrap .pl-md-0{padding-left:0 !important}.bootstrap .px-md-0{padding-right:0 !important;padding-left:0 !important}.bootstrap .py-md-0{padding-top:0 !important;padding-bottom:0 !important}.bootstrap .p-md-1{padding:0.25rem 0.25rem !important}.bootstrap .pt-md-1{padding-top:0.25rem !important}.bootstrap .pr-md-1{padding-right:0.25rem !important}.bootstrap .pb-md-1{padding-bottom:0.25rem !important}.bootstrap .pl-md-1{padding-left:0.25rem !important}.bootstrap .px-md-1{padding-right:.25rem !important;padding-left:0.25rem !important}.bootstrap .py-md-1{padding-top:.25rem !important;padding-bottom:0.25rem !important}.bootstrap .p-md-2{padding:0.5rem 0.5rem !important}.bootstrap .pt-md-2{padding-top:0.5rem !important}.bootstrap .pr-md-2{padding-right:0.5rem !important}.bootstrap .pb-md-2{padding-bottom:0.5rem !important}.bootstrap .pl-md-2{padding-left:0.5rem !important}.bootstrap .px-md-2{padding-right:.5rem !important;padding-left:0.5rem !important}.bootstrap .py-md-2{padding-top:.5rem !important;padding-bottom:0.5rem !important}.bootstrap .p-md-3{padding:1rem 1rem !important}.bootstrap .pt-md-3{padding-top:1rem !important}.bootstrap .pr-md-3{padding-right:1rem !important}.bootstrap .pb-md-3{padding-bottom:1rem !important}.bootstrap .pl-md-3{padding-left:1rem !important}.bootstrap .px-md-3{padding-right:1rem !important;padding-left:1rem !important}.bootstrap .py-md-3{padding-top:1rem !important;padding-bottom:1rem !important}.bootstrap .p-md-4{padding:1.5rem 1.5rem !important}.bootstrap .pt-md-4{padding-top:1.5rem !important}.bootstrap .pr-md-4{padding-right:1.5rem !important}.bootstrap .pb-md-4{padding-bottom:1.5rem !important}.bootstrap .pl-md-4{padding-left:1.5rem !important}.bootstrap .px-md-4{padding-right:1.5rem !important;padding-left:1.5rem !important}.bootstrap .py-md-4{padding-top:1.5rem !important;padding-bottom:1.5rem !important}.bootstrap .p-md-5{padding:3rem 3rem !important}.bootstrap .pt-md-5{padding-top:3rem !important}.bootstrap .pr-md-5{padding-right:3rem !important}.bootstrap .pb-md-5{padding-bottom:3rem !important}.bootstrap .pl-md-5{padding-left:3rem !important}.bootstrap .px-md-5{padding-right:3rem !important;padding-left:3rem !important}.bootstrap .py-md-5{padding-top:3rem !important;padding-bottom:3rem !important}.bootstrap .m-md-auto{margin:auto !important}.bootstrap .mt-md-auto{margin-top:auto !important}.bootstrap .mr-md-auto{margin-right:auto !important}.bootstrap .mb-md-auto{margin-bottom:auto !important}.bootstrap .ml-md-auto{margin-left:auto !important}.bootstrap .mx-md-auto{margin-right:auto !important;margin-left:auto !important}.bootstrap .my-md-auto{margin-top:auto !important;margin-bottom:auto !important}}@media (min-width: 992px){.bootstrap .m-lg-0{margin:0 0 !important}.bootstrap .mt-lg-0{margin-top:0 !important}.bootstrap .mr-lg-0{margin-right:0 !important}.bootstrap .mb-lg-0{margin-bottom:0 !important}.bootstrap .ml-lg-0{margin-left:0 !important}.bootstrap .mx-lg-0{margin-right:0 !important;margin-left:0 !important}.bootstrap .my-lg-0{margin-top:0 !important;margin-bottom:0 !important}.bootstrap .m-lg-1{margin:0.25rem 0.25rem !important}.bootstrap .mt-lg-1{margin-top:0.25rem !important}.bootstrap .mr-lg-1{margin-right:0.25rem !important}.bootstrap .mb-lg-1{margin-bottom:0.25rem !important}.bootstrap .ml-lg-1{margin-left:0.25rem !important}.bootstrap .mx-lg-1{margin-right:.25rem !important;margin-left:0.25rem !important}.bootstrap .my-lg-1{margin-top:.25rem !important;margin-bottom:0.25rem !important}.bootstrap .m-lg-2{margin:0.5rem 0.5rem !important}.bootstrap .mt-lg-2{margin-top:0.5rem !important}.bootstrap .mr-lg-2{margin-right:0.5rem !important}.bootstrap .mb-lg-2{margin-bottom:0.5rem !important}.bootstrap .ml-lg-2{margin-left:0.5rem !important}.bootstrap .mx-lg-2{margin-right:.5rem !important;margin-left:0.5rem !important}.bootstrap .my-lg-2{margin-top:.5rem !important;margin-bottom:0.5rem !important}.bootstrap .m-lg-3{margin:1rem 1rem !important}.bootstrap .mt-lg-3{margin-top:1rem !important}.bootstrap .mr-lg-3{margin-right:1rem !important}.bootstrap .mb-lg-3{margin-bottom:1rem !important}.bootstrap .ml-lg-3{margin-left:1rem !important}.bootstrap .mx-lg-3{margin-right:1rem !important;margin-left:1rem !important}.bootstrap .my-lg-3{margin-top:1rem !important;margin-bottom:1rem !important}.bootstrap .m-lg-4{margin:1.5rem 1.5rem !important}.bootstrap .mt-lg-4{margin-top:1.5rem !important}.bootstrap .mr-lg-4{margin-right:1.5rem !important}.bootstrap .mb-lg-4{margin-bottom:1.5rem !important}.bootstrap .ml-lg-4{margin-left:1.5rem !important}.bootstrap .mx-lg-4{margin-right:1.5rem !important;margin-left:1.5rem !important}.bootstrap .my-lg-4{margin-top:1.5rem !important;margin-bottom:1.5rem !important}.bootstrap .m-lg-5{margin:3rem 3rem !important}.bootstrap .mt-lg-5{margin-top:3rem !important}.bootstrap .mr-lg-5{margin-right:3rem !important}.bootstrap .mb-lg-5{margin-bottom:3rem !important}.bootstrap .ml-lg-5{margin-left:3rem !important}.bootstrap .mx-lg-5{margin-right:3rem !important;margin-left:3rem !important}.bootstrap .my-lg-5{margin-top:3rem !important;margin-bottom:3rem !important}.bootstrap .p-lg-0{padding:0 0 !important}.bootstrap .pt-lg-0{padding-top:0 !important}.bootstrap .pr-lg-0{padding-right:0 !important}.bootstrap .pb-lg-0{padding-bottom:0 !important}.bootstrap .pl-lg-0{padding-left:0 !important}.bootstrap .px-lg-0{padding-right:0 !important;padding-left:0 !important}.bootstrap .py-lg-0{padding-top:0 !important;padding-bottom:0 !important}.bootstrap .p-lg-1{padding:0.25rem 0.25rem !important}.bootstrap .pt-lg-1{padding-top:0.25rem !important}.bootstrap .pr-lg-1{padding-right:0.25rem !important}.bootstrap .pb-lg-1{padding-bottom:0.25rem !important}.bootstrap .pl-lg-1{padding-left:0.25rem !important}.bootstrap .px-lg-1{padding-right:.25rem !important;padding-left:0.25rem !important}.bootstrap .py-lg-1{padding-top:.25rem !important;padding-bottom:0.25rem !important}.bootstrap .p-lg-2{padding:0.5rem 0.5rem !important}.bootstrap .pt-lg-2{padding-top:0.5rem !important}.bootstrap .pr-lg-2{padding-right:0.5rem !important}.bootstrap .pb-lg-2{padding-bottom:0.5rem !important}.bootstrap .pl-lg-2{padding-left:0.5rem !important}.bootstrap .px-lg-2{padding-right:.5rem !important;padding-left:0.5rem !important}.bootstrap .py-lg-2{padding-top:.5rem !important;padding-bottom:0.5rem !important}.bootstrap .p-lg-3{padding:1rem 1rem !important}.bootstrap .pt-lg-3{padding-top:1rem !important}.bootstrap .pr-lg-3{padding-right:1rem !important}.bootstrap .pb-lg-3{padding-bottom:1rem !important}.bootstrap .pl-lg-3{padding-left:1rem !important}.bootstrap .px-lg-3{padding-right:1rem !important;padding-left:1rem !important}.bootstrap .py-lg-3{padding-top:1rem !important;padding-bottom:1rem !important}.bootstrap .p-lg-4{padding:1.5rem 1.5rem !important}.bootstrap .pt-lg-4{padding-top:1.5rem !important}.bootstrap .pr-lg-4{padding-right:1.5rem !important}.bootstrap .pb-lg-4{padding-bottom:1.5rem !important}.bootstrap .pl-lg-4{padding-left:1.5rem !important}.bootstrap .px-lg-4{padding-right:1.5rem !important;padding-left:1.5rem !important}.bootstrap .py-lg-4{padding-top:1.5rem !important;padding-bottom:1.5rem !important}.bootstrap .p-lg-5{padding:3rem 3rem !important}.bootstrap .pt-lg-5{padding-top:3rem !important}.bootstrap .pr-lg-5{padding-right:3rem !important}.bootstrap .pb-lg-5{padding-bottom:3rem !important}.bootstrap .pl-lg-5{padding-left:3rem !important}.bootstrap .px-lg-5{padding-right:3rem !important;padding-left:3rem !important}.bootstrap .py-lg-5{padding-top:3rem !important;padding-bottom:3rem !important}.bootstrap .m-lg-auto{margin:auto !important}.bootstrap .mt-lg-auto{margin-top:auto !important}.bootstrap .mr-lg-auto{margin-right:auto !important}.bootstrap .mb-lg-auto{margin-bottom:auto !important}.bootstrap .ml-lg-auto{margin-left:auto !important}.bootstrap .mx-lg-auto{margin-right:auto !important;margin-left:auto !important}.bootstrap .my-lg-auto{margin-top:auto !important;margin-bottom:auto !important}}@media (min-width: 1200px){.bootstrap .m-xl-0{margin:0 0 !important}.bootstrap .mt-xl-0{margin-top:0 !important}.bootstrap .mr-xl-0{margin-right:0 !important}.bootstrap .mb-xl-0{margin-bottom:0 !important}.bootstrap .ml-xl-0{margin-left:0 !important}.bootstrap .mx-xl-0{margin-right:0 !important;margin-left:0 !important}.bootstrap .my-xl-0{margin-top:0 !important;margin-bottom:0 !important}.bootstrap .m-xl-1{margin:0.25rem 0.25rem !important}.bootstrap .mt-xl-1{margin-top:0.25rem !important}.bootstrap .mr-xl-1{margin-right:0.25rem !important}.bootstrap .mb-xl-1{margin-bottom:0.25rem !important}.bootstrap .ml-xl-1{margin-left:0.25rem !important}.bootstrap .mx-xl-1{margin-right:.25rem !important;margin-left:0.25rem !important}.bootstrap .my-xl-1{margin-top:.25rem !important;margin-bottom:0.25rem !important}.bootstrap .m-xl-2{margin:0.5rem 0.5rem !important}.bootstrap .mt-xl-2{margin-top:0.5rem !important}.bootstrap .mr-xl-2{margin-right:0.5rem !important}.bootstrap .mb-xl-2{margin-bottom:0.5rem !important}.bootstrap .ml-xl-2{margin-left:0.5rem !important}.bootstrap .mx-xl-2{margin-right:.5rem !important;margin-left:0.5rem !important}.bootstrap .my-xl-2{margin-top:.5rem !important;margin-bottom:0.5rem !important}.bootstrap .m-xl-3{margin:1rem 1rem !important}.bootstrap .mt-xl-3{margin-top:1rem !important}.bootstrap .mr-xl-3{margin-right:1rem !important}.bootstrap .mb-xl-3{margin-bottom:1rem !important}.bootstrap .ml-xl-3{margin-left:1rem !important}.bootstrap .mx-xl-3{margin-right:1rem !important;margin-left:1rem !important}.bootstrap .my-xl-3{margin-top:1rem !important;margin-bottom:1rem !important}.bootstrap .m-xl-4{margin:1.5rem 1.5rem !important}.bootstrap .mt-xl-4{margin-top:1.5rem !important}.bootstrap .mr-xl-4{margin-right:1.5rem !important}.bootstrap .mb-xl-4{margin-bottom:1.5rem !important}.bootstrap .ml-xl-4{margin-left:1.5rem !important}.bootstrap .mx-xl-4{margin-right:1.5rem !important;margin-left:1.5rem !important}.bootstrap .my-xl-4{margin-top:1.5rem !important;margin-bottom:1.5rem !important}.bootstrap .m-xl-5{margin:3rem 3rem !important}.bootstrap .mt-xl-5{margin-top:3rem !important}.bootstrap .mr-xl-5{margin-right:3rem !important}.bootstrap .mb-xl-5{margin-bottom:3rem !important}.bootstrap .ml-xl-5{margin-left:3rem !important}.bootstrap .mx-xl-5{margin-right:3rem !important;margin-left:3rem !important}.bootstrap .my-xl-5{margin-top:3rem !important;margin-bottom:3rem !important}.bootstrap .p-xl-0{padding:0 0 !important}.bootstrap .pt-xl-0{padding-top:0 !important}.bootstrap .pr-xl-0{padding-right:0 !important}.bootstrap .pb-xl-0{padding-bottom:0 !important}.bootstrap .pl-xl-0{padding-left:0 !important}.bootstrap .px-xl-0{padding-right:0 !important;padding-left:0 !important}.bootstrap .py-xl-0{padding-top:0 !important;padding-bottom:0 !important}.bootstrap .p-xl-1{padding:0.25rem 0.25rem !important}.bootstrap .pt-xl-1{padding-top:0.25rem !important}.bootstrap .pr-xl-1{padding-right:0.25rem !important}.bootstrap .pb-xl-1{padding-bottom:0.25rem !important}.bootstrap .pl-xl-1{padding-left:0.25rem !important}.bootstrap .px-xl-1{padding-right:.25rem !important;padding-left:0.25rem !important}.bootstrap .py-xl-1{padding-top:.25rem !important;padding-bottom:0.25rem !important}.bootstrap .p-xl-2{padding:0.5rem 0.5rem !important}.bootstrap .pt-xl-2{padding-top:0.5rem !important}.bootstrap .pr-xl-2{padding-right:0.5rem !important}.bootstrap .pb-xl-2{padding-bottom:0.5rem !important}.bootstrap .pl-xl-2{padding-left:0.5rem !important}.bootstrap .px-xl-2{padding-right:.5rem !important;padding-left:0.5rem !important}.bootstrap .py-xl-2{padding-top:.5rem !important;padding-bottom:0.5rem !important}.bootstrap .p-xl-3{padding:1rem 1rem !important}.bootstrap .pt-xl-3{padding-top:1rem !important}.bootstrap .pr-xl-3{padding-right:1rem !important}.bootstrap .pb-xl-3{padding-bottom:1rem !important}.bootstrap .pl-xl-3{padding-left:1rem !important}.bootstrap .px-xl-3{padding-right:1rem !important;padding-left:1rem !important}.bootstrap .py-xl-3{padding-top:1rem !important;padding-bottom:1rem !important}.bootstrap .p-xl-4{padding:1.5rem 1.5rem !important}.bootstrap .pt-xl-4{padding-top:1.5rem !important}.bootstrap .pr-xl-4{padding-right:1.5rem !important}.bootstrap .pb-xl-4{padding-bottom:1.5rem !important}.bootstrap .pl-xl-4{padding-left:1.5rem !important}.bootstrap .px-xl-4{padding-right:1.5rem !important;padding-left:1.5rem !important}.bootstrap .py-xl-4{padding-top:1.5rem !important;padding-bottom:1.5rem !important}.bootstrap .p-xl-5{padding:3rem 3rem !important}.bootstrap .pt-xl-5{padding-top:3rem !important}.bootstrap .pr-xl-5{padding-right:3rem !important}.bootstrap .pb-xl-5{padding-bottom:3rem !important}.bootstrap .pl-xl-5{padding-left:3rem !important}.bootstrap .px-xl-5{padding-right:3rem !important;padding-left:3rem !important}.bootstrap .py-xl-5{padding-top:3rem !important;padding-bottom:3rem !important}.bootstrap .m-xl-auto{margin:auto !important}.bootstrap .mt-xl-auto{margin-top:auto !important}.bootstrap .mr-xl-auto{margin-right:auto !important}.bootstrap .mb-xl-auto{margin-bottom:auto !important}.bootstrap .ml-xl-auto{margin-left:auto !important}.bootstrap .mx-xl-auto{margin-right:auto !important;margin-left:auto !important}.bootstrap .my-xl-auto{margin-top:auto !important;margin-bottom:auto !important}}.bootstrap .text-justify{text-align:justify !important}.bootstrap .text-nowrap{white-space:nowrap !important}.bootstrap .text-truncate{overflow:hidden;text-overflow:ellipsis;white-space:nowrap}.bootstrap .text-left{text-align:left !important}.bootstrap .text-right{text-align:right !important}.bootstrap .text-center{text-align:center !important}@media (min-width: 576px){.bootstrap .text-sm-left{text-align:left !important}.bootstrap .text-sm-right{text-align:right !important}.bootstrap .text-sm-center{text-align:center !important}}@media (min-width: 768px){.bootstrap .text-md-left{text-align:left !important}.bootstrap .text-md-right{text-align:right !important}.bootstrap .text-md-center{text-align:center !important}}@media (min-width: 992px){.bootstrap .text-lg-left{text-align:left !important}.bootstrap .text-lg-right{text-align:right !important}.bootstrap .text-lg-center{text-align:center !important}}@media (min-width: 1200px){.bootstrap .text-xl-left{text-align:left !important}.bootstrap .text-xl-right{text-align:right !important}.bootstrap .text-xl-center{text-align:center !important}}.bootstrap .text-lowercase{text-transform:lowercase !important}.bootstrap .text-uppercase{text-transform:uppercase !important}.bootstrap .text-capitalize{text-transform:capitalize !important}.bootstrap .font-weight-normal{font-weight:400}.bootstrap .font-weight-bold{font-weight:700}.bootstrap .font-italic{font-style:italic}.bootstrap .text-white{color:#fff !important}.bootstrap .text-muted{color:#636c72 !important}.bootstrap a.text-muted:focus,.bootstrap a.text-muted:hover{color:#4b5257 !important}.bootstrap .text-primary{color:#0275d8 !important}.bootstrap a.text-primary:focus,.bootstrap a.text-primary:hover{color:#025aa5 !important}.bootstrap .text-success{color:#5cb85c !important}.bootstrap a.text-success:focus,.bootstrap a.text-success:hover{color:#449d44 !important}.bootstrap .text-info{color:#5bc0de !important}.bootstrap a.text-info:focus,.bootstrap a.text-info:hover{color:#31b0d5 !important}.bootstrap .text-warning{color:#f0ad4e !important}.bootstrap a.text-warning:focus,.bootstrap a.text-warning:hover{color:#ec971f !important}.bootstrap .text-danger{color:#d9534f !important}.bootstrap a.text-danger:focus,.bootstrap a.text-danger:hover{color:#c9302c !important}.bootstrap .text-gray-dark{color:#292b2c !important}.bootstrap a.text-gray-dark:focus,.bootstrap a.text-gray-dark:hover{color:#101112 !important}.bootstrap .text-hide{font:0/0 a;color:transparent;text-shadow:none;background-color:transparent;border:0}.bootstrap .invisible{visibility:hidden !important}.bootstrap .hidden-xs-up{display:none !important}@media (max-width: 575px){.bootstrap .hidden-xs-down{display:none !important}}@media (min-width: 576px){.bootstrap .hidden-sm-up{display:none !important}}@media (max-width: 767px){.bootstrap .hidden-sm-down{display:none !important}}@media (min-width: 768px){.bootstrap .hidden-md-up{display:none !important}}@media (max-width: 991px){.bootstrap .hidden-md-down{display:none !important}}@media (min-width: 992px){.bootstrap .hidden-lg-up{display:none !important}}@media (max-width: 1199px){.bootstrap .hidden-lg-down{display:none !important}}@media (min-width: 1200px){.bootstrap .hidden-xl-up{display:none !important}}.bootstrap .hidden-xl-down{display:none !important}.bootstrap .visible-print-block{display:none !important}@media print{.bootstrap .visible-print-block{display:block !important}}.bootstrap .visible-print-inline{display:none !important}@media print{.bootstrap .visible-print-inline{display:inline !important}}.bootstrap .visible-print-inline-block{display:none !important}@media print{.bootstrap .visible-print-inline-block{display:inline-block !important}}@media print{.bootstrap .hidden-print{display:none !important}}.bootstrap .btn-default,.bootstrap .btn-primary,.bootstrap .btn-success,.bootstrap .btn-info,.bootstrap .btn-warning,.bootstrap .btn-danger{text-shadow:0 -1px 0 rgba(0, 0, 0, 0.2);-webkit-box-shadow:inset 0 1px 0 rgba(255, 255, 255, 0.15), 0 1px 1px rgba(0, 0, 0, 0.075);box-shadow:inset 0 1px 0 rgba(255, 255, 255, 0.15), 0 1px 1px rgba(0, 0, 0, 0.075)}.bootstrap .btn-default:active,.bootstrap .btn-primary:active,.bootstrap .btn-success:active,.bootstrap .btn-info:active,.bootstrap .btn-warning:active,.bootstrap .btn-danger:active,.bootstrap .btn-default.active,.bootstrap .btn-primary.active,.bootstrap .btn-success.active,.bootstrap .btn-info.active,.bootstrap .btn-warning.active,.bootstrap .btn-danger.active{-webkit-box-shadow:inset 0 3px 5px rgba(0, 0, 0, 0.125);box-shadow:inset 0 3px 5px rgba(0, 0, 0, 0.125)}.bootstrap .btn-default.disabled,.bootstrap .btn-primary.disabled,.bootstrap .btn-success.disabled,.bootstrap .btn-info.disabled,.bootstrap .btn-warning.disabled,.bootstrap .btn-danger.disabled,.bootstrap .btn-default[disabled],.bootstrap .btn-primary[disabled],.bootstrap .btn-success[disabled],.bootstrap .btn-info[disabled],.bootstrap .btn-warning[disabled],.bootstrap .btn-danger[disabled],.bootstrap fieldset[disabled] .btn-default,.bootstrap fieldset[disabled] .btn-primary,.bootstrap fieldset[disabled] .btn-success,.bootstrap fieldset[disabled] .btn-info,.bootstrap fieldset[disabled] .btn-warning,.bootstrap fieldset[disabled] .btn-danger{-webkit-box-shadow:none;box-shadow:none}.bootstrap .btn-default .badge,.bootstrap .btn-primary .badge,.bootstrap .btn-success .badge,.bootstrap .btn-info .badge,.bootstrap .btn-warning .badge,.bootstrap .btn-danger .badge{text-shadow:none}.bootstrap .btn:active,.bootstrap .btn.active{background-image:none}.bootstrap .btn-default{background-image:-webkit-linear-gradient(top, #fff 0, #e0e0e0 100%);background-image:-o-linear-gradient(top, #fff 0, #e0e0e0 100%);background-image:-webkit-gradient(linear, left top, left bottom, color-stop(0, #fff), to(#e0e0e0));background-image:linear-gradient(to bottom, #fff 0, #e0e0e0 100%);filter:progid:DXImageTransform.Microsoft.gradient(startColorstr='#ffffffff', endColorstr='#ffe0e0e0', GradientType=0);filter:progid:DXImageTransform.Microsoft.gradient(enabled=false);background-repeat:repeat-x;border-color:#dbdbdb;text-shadow:0 1px 0 #fff;border-color:#ccc}.bootstrap .btn-default:hover,.bootstrap .btn-default:focus{background-color:#e0e0e0;background-position:0 -15px}.bootstrap .btn-default:active,.bootstrap .btn-default.active{background-color:#e0e0e0;border-color:#dbdbdb}.bootstrap .btn-default.disabled,.bootstrap .btn-default[disabled],.bootstrap fieldset[disabled] .btn-default,.bootstrap .btn-default.disabled:hover,.bootstrap .btn-default[disabled]:hover,.bootstrap fieldset[disabled] .btn-default:hover,.bootstrap .btn-default.disabled:focus,.bootstrap .btn-default[disabled]:focus,.bootstrap fieldset[disabled] .btn-default:focus,.bootstrap .btn-default.disabled.focus,.bootstrap .btn-default[disabled].focus,.bootstrap fieldset[disabled] .btn-default.focus,.bootstrap .btn-default.disabled:active,.bootstrap .btn-default[disabled]:active,.bootstrap fieldset[disabled] .btn-default:active,.bootstrap .btn-default.disabled.active,.bootstrap .btn-default[disabled].active,.bootstrap fieldset[disabled] .btn-default.active{background-color:#e0e0e0;background-image:none}.bootstrap .btn-primary{background-image:-webkit-linear-gradient(top, #337ab7 0, #265a88 100%);background-image:-o-linear-gradient(top, #337ab7 0, #265a88 100%);background-image:-webkit-gradient(linear, left top, left bottom, color-stop(0, #337ab7), to(#265a88));background-image:linear-gradient(to bottom, #337ab7 0, #265a88 100%);filter:progid:DXImageTransform.Microsoft.gradient(startColorstr='#ff337ab7', endColorstr='#ff265a88', GradientType=0);filter:progid:DXImageTransform.Microsoft.gradient(enabled=false);background-repeat:repeat-x;border-color:#245580}.bootstrap .btn-primary:hover,.bootstrap .btn-primary:focus{background-color:#265a88;background-position:0 -15px}.bootstrap .btn-primary:active,.bootstrap .btn-primary.active{background-color:#265a88;border-color:#245580}.bootstrap .btn-primary.disabled,.bootstrap .btn-primary[disabled],.bootstrap fieldset[disabled] .btn-primary,.bootstrap .btn-primary.disabled:hover,.bootstrap .btn-primary[disabled]:hover,.bootstrap fieldset[disabled] .btn-primary:hover,.bootstrap .btn-primary.disabled:focus,.bootstrap .btn-primary[disabled]:focus,.bootstrap fieldset[disabled] .btn-primary:focus,.bootstrap .btn-primary.disabled.focus,.bootstrap .btn-primary[disabled].focus,.bootstrap fieldset[disabled] .btn-primary.focus,.bootstrap .btn-primary.disabled:active,.bootstrap .btn-primary[disabled]:active,.bootstrap fieldset[disabled] .btn-primary:active,.bootstrap .btn-primary.disabled.active,.bootstrap .btn-primary[disabled].active,.bootstrap fieldset[disabled] .btn-primary.active{background-color:#265a88;background-image:none}.bootstrap .btn-success{background-image:-webkit-linear-gradient(top, #5cb85c 0, #419641 100%);background-image:-o-linear-gradient(top, #5cb85c 0, #419641 100%);background-image:-webkit-gradient(linear, left top, left bottom, color-stop(0, #5cb85c), to(#419641));background-image:linear-gradient(to bottom, #5cb85c 0, #419641 100%);filter:progid:DXImageTransform.Microsoft.gradient(startColorstr='#ff5cb85c', endColorstr='#ff419641', GradientType=0);filter:progid:DXImageTransform.Microsoft.gradient(enabled=false);background-repeat:repeat-x;border-color:#3e8f3e}.bootstrap .btn-success:hover,.bootstrap .btn-success:focus{background-color:#419641;background-position:0 -15px}.bootstrap .btn-success:active,.bootstrap .btn-success.active{background-color:#419641;border-color:#3e8f3e}.bootstrap .btn-success.disabled,.bootstrap .btn-success[disabled],.bootstrap fieldset[disabled] .btn-success,.bootstrap .btn-success.disabled:hover,.bootstrap .btn-success[disabled]:hover,.bootstrap fieldset[disabled] .btn-success:hover,.bootstrap .btn-success.disabled:focus,.bootstrap .btn-success[disabled]:focus,.bootstrap fieldset[disabled] .btn-success:focus,.bootstrap .btn-success.disabled.focus,.bootstrap .btn-success[disabled].focus,.bootstrap fieldset[disabled] .btn-success.focus,.bootstrap .btn-success.disabled:active,.bootstrap .btn-success[disabled]:active,.bootstrap fieldset[disabled] .btn-success:active,.bootstrap .btn-success.disabled.active,.bootstrap .btn-success[disabled].active,.bootstrap fieldset[disabled] .btn-success.active{background-color:#419641;background-image:none}.bootstrap .btn-info{background-image:-webkit-linear-gradient(top, #5bc0de 0, #2aabd2 100%);background-image:-o-linear-gradient(top, #5bc0de 0, #2aabd2 100%);background-image:-webkit-gradient(linear, left top, left bottom, color-stop(0, #5bc0de), to(#2aabd2));background-image:linear-gradient(to bottom, #5bc0de 0, #2aabd2 100%);filter:progid:DXImageTransform.Microsoft.gradient(startColorstr='#ff5bc0de', endColorstr='#ff2aabd2', GradientType=0);filter:progid:DXImageTransform.Microsoft.gradient(enabled=false);background-repeat:repeat-x;border-color:#28a4c9}.bootstrap .btn-info:hover,.bootstrap .btn-info:focus{background-color:#2aabd2;background-position:0 -15px}.bootstrap .btn-info:active,.bootstrap .btn-info.active{background-color:#2aabd2;border-color:#28a4c9}.bootstrap .btn-info.disabled,.bootstrap .btn-info[disabled],.bootstrap fieldset[disabled] .btn-info,.bootstrap .btn-info.disabled:hover,.bootstrap .btn-info[disabled]:hover,.bootstrap fieldset[disabled] .btn-info:hover,.bootstrap .btn-info.disabled:focus,.bootstrap .btn-info[disabled]:focus,.bootstrap fieldset[disabled] .btn-info:focus,.bootstrap .btn-info.disabled.focus,.bootstrap .btn-info[disabled].focus,.bootstrap fieldset[disabled] .btn-info.focus,.bootstrap .btn-info.disabled:active,.bootstrap .btn-info[disabled]:active,.bootstrap fieldset[disabled] .btn-info:active,.bootstrap .btn-info.disabled.active,.bootstrap .btn-info[disabled].active,.bootstrap fieldset[disabled] .btn-info.active{background-color:#2aabd2;background-image:none}.bootstrap .btn-warning{background-image:-webkit-linear-gradient(top, #f0ad4e 0, #eb9316 100%);background-image:-o-linear-gradient(top, #f0ad4e 0, #eb9316 100%);background-image:-webkit-gradient(linear, left top, left bottom, color-stop(0, #f0ad4e), to(#eb9316));background-image:linear-gradient(to bottom, #f0ad4e 0, #eb9316 100%);filter:progid:DXImageTransform.Microsoft.gradient(startColorstr='#fff0ad4e', endColorstr='#ffeb9316', GradientType=0);filter:progid:DXImageTransform.Microsoft.gradient(enabled=false);background-repeat:repeat-x;border-color:#e38d13}.bootstrap .btn-warning:hover,.bootstrap .btn-warning:focus{background-color:#eb9316;background-position:0 -15px}.bootstrap .btn-warning:active,.bootstrap .btn-warning.active{background-color:#eb9316;border-color:#e38d13}.bootstrap .btn-warning.disabled,.bootstrap .btn-warning[disabled],.bootstrap fieldset[disabled] .btn-warning,.bootstrap .btn-warning.disabled:hover,.bootstrap .btn-warning[disabled]:hover,.bootstrap fieldset[disabled] .btn-warning:hover,.bootstrap .btn-warning.disabled:focus,.bootstrap .btn-warning[disabled]:focus,.bootstrap fieldset[disabled] .btn-warning:focus,.bootstrap .btn-warning.disabled.focus,.bootstrap .btn-warning[disabled].focus,.bootstrap fieldset[disabled] .btn-warning.focus,.bootstrap .btn-warning.disabled:active,.bootstrap .btn-warning[disabled]:active,.bootstrap fieldset[disabled] .btn-warning:active,.bootstrap .btn-warning.disabled.active,.bootstrap .btn-warning[disabled].active,.bootstrap fieldset[disabled] .btn-warning.active{background-color:#eb9316;background-image:none}.bootstrap .btn-danger{background-image:-webkit-linear-gradient(top, #d9534f 0, #c12e2a 100%);background-image:-o-linear-gradient(top, #d9534f 0, #c12e2a 100%);background-image:-webkit-gradient(linear, left top, left bottom, color-stop(0, #d9534f), to(#c12e2a));background-image:linear-gradient(to bottom, #d9534f 0, #c12e2a 100%);filter:progid:DXImageTransform.Microsoft.gradient(startColorstr='#ffd9534f', endColorstr='#ffc12e2a', GradientType=0);filter:progid:DXImageTransform.Microsoft.gradient(enabled=false);background-repeat:repeat-x;border-color:#b92c28}.bootstrap .btn-danger:hover,.bootstrap .btn-danger:focus{background-color:#c12e2a;background-position:0 -15px}.bootstrap .btn-danger:active,.bootstrap .btn-danger.active{background-color:#c12e2a;border-color:#b92c28}.bootstrap .btn-danger.disabled,.bootstrap .btn-danger[disabled],.bootstrap fieldset[disabled] .btn-danger,.bootstrap .btn-danger.disabled:hover,.bootstrap .btn-danger[disabled]:hover,.bootstrap fieldset[disabled] .btn-danger:hover,.bootstrap .btn-danger.disabled:focus,.bootstrap .btn-danger[disabled]:focus,.bootstrap fieldset[disabled] .btn-danger:focus,.bootstrap .btn-danger.disabled.focus,.bootstrap .btn-danger[disabled].focus,.bootstrap fieldset[disabled] .btn-danger.focus,.bootstrap .btn-danger.disabled:active,.bootstrap .btn-danger[disabled]:active,.bootstrap fieldset[disabled] .btn-danger:active,.bootstrap .btn-danger.disabled.active,.bootstrap .btn-danger[disabled].active,.bootstrap fieldset[disabled] .btn-danger.active{background-color:#c12e2a;background-image:none}.bootstrap .thumbnail,.bootstrap .img-thumbnail{-webkit-box-shadow:0 1px 2px rgba(0, 0, 0, 0.075);box-shadow:0 1px 2px rgba(0, 0, 0, 0.075)}.bootstrap .dropdown-menu > li > a:hover,.bootstrap .dropdown-menu > li > a:focus{background-image:-webkit-linear-gradient(top, #f5f5f5 0, #e8e8e8 100%);background-image:-o-linear-gradient(top, #f5f5f5 0, #e8e8e8 100%);background-image:-webkit-gradient(linear, left top, left bottom, color-stop(0, #f5f5f5), to(#e8e8e8));background-image:linear-gradient(to bottom, #f5f5f5 0, #e8e8e8 100%);background-repeat:repeat-x;filter:progid:DXImageTransform.Microsoft.gradient(startColorstr='#fff5f5f5', endColorstr='#ffe8e8e8', GradientType=0);background-color:#e8e8e8}.bootstrap .dropdown-menu > .active > a,.bootstrap .dropdown-menu > .active > a:hover,.bootstrap .dropdown-menu > .active > a:focus{background-image:-webkit-linear-gradient(top, #337ab7 0, #2e6da4 100%);background-image:-o-linear-gradient(top, #337ab7 0, #2e6da4 100%);background-image:-webkit-gradient(linear, left top, left bottom, color-stop(0, #337ab7), to(#2e6da4));background-image:linear-gradient(to bottom, #337ab7 0, #2e6da4 100%);background-repeat:repeat-x;filter:progid:DXImageTransform.Microsoft.gradient(startColorstr='#ff337ab7', endColorstr='#ff2e6da4', GradientType=0);background-color:#2e6da4}.bootstrap .navbar-default{background-image:-webkit-linear-gradient(top, #fff 0, #f8f8f8 100%);background-image:-o-linear-gradient(top, #fff 0, #f8f8f8 100%);background-image:-webkit-gradient(linear, left top, left bottom, color-stop(0, #fff), to(#f8f8f8));background-image:linear-gradient(to bottom, #fff 0, #f8f8f8 100%);background-repeat:repeat-x;filter:progid:DXImageTransform.Microsoft.gradient(startColorstr='#ffffffff', endColorstr='#fff8f8f8', GradientType=0);filter:progid:DXImageTransform.Microsoft.gradient(enabled=false);border-radius:4px;-webkit-box-shadow:inset 0 1px 0 rgba(255, 255, 255, 0.15), 0 1px 5px rgba(0, 0, 0, 0.075);box-shadow:inset 0 1px 0 rgba(255, 255, 255, 0.15), 0 1px 5px rgba(0, 0, 0, 0.075)}.bootstrap .navbar-default .navbar-nav > .open > a,.bootstrap .navbar-default .navbar-nav > .active > a{background-image:-webkit-linear-gradient(top, #dbdbdb 0, #e2e2e2 100%);background-image:-o-linear-gradient(top, #dbdbdb 0, #e2e2e2 100%);background-image:-webkit-gradient(linear, left top, left bottom, color-stop(0, #dbdbdb), to(#e2e2e2));background-image:linear-gradient(to bottom, #dbdbdb 0, #e2e2e2 100%);background-repeat:repeat-x;filter:progid:DXImageTransform.Microsoft.gradient(startColorstr='#ffdbdbdb', endColorstr='#ffe2e2e2', GradientType=0);-webkit-box-shadow:inset 0 3px 9px rgba(0, 0, 0, 0.075);box-shadow:inset 0 3px 9px rgba(0, 0, 0, 0.075)}.bootstrap .navbar-brand,.bootstrap .navbar-nav > li > a{text-shadow:0 1px 0 rgba(255, 255, 255, 0.25)}.bootstrap .navbar-inverse{background-image:-webkit-linear-gradient(top, #3c3c3c 0, #222 100%);background-image:-o-linear-gradient(top, #3c3c3c 0, #222 100%);background-image:-webkit-gradient(linear, left top, left bottom, color-stop(0, #3c3c3c), to(#222));background-image:linear-gradient(to bottom, #3c3c3c 0, #222 100%);background-repeat:repeat-x;filter:progid:DXImageTransform.Microsoft.gradient(startColorstr='#ff3c3c3c', endColorstr='#ff222222', GradientType=0);filter:progid:DXImageTransform.Microsoft.gradient(enabled=false);border-radius:4px}.bootstrap .navbar-inverse .navbar-nav > .open > a,.bootstrap .navbar-inverse .navbar-nav > .active > a{background-image:-webkit-linear-gradient(top, #080808 0, #0f0f0f 100%);background-image:-o-linear-gradient(top, #080808 0, #0f0f0f 100%);background-image:-webkit-gradient(linear, left top, left bottom, color-stop(0, #080808), to(#0f0f0f));background-image:linear-gradient(to bottom, #080808 0, #0f0f0f 100%);background-repeat:repeat-x;filter:progid:DXImageTransform.Microsoft.gradient(startColorstr='#ff080808', endColorstr='#ff0f0f0f', GradientType=0);-webkit-box-shadow:inset 0 3px 9px rgba(0, 0, 0, 0.25);box-shadow:inset 0 3px 9px rgba(0, 0, 0, 0.25)}.bootstrap .navbar-inverse .navbar-brand,.bootstrap .navbar-inverse .navbar-nav > li > a{text-shadow:0 -1px 0 rgba(0, 0, 0, 0.25)}.bootstrap .navbar-static-top,.bootstrap .navbar-fixed-top,.bootstrap .navbar-fixed-bottom{border-radius:0}@media (max-width: 767px){.bootstrap .navbar .navbar-nav .open .dropdown-menu > .active > a,.bootstrap .navbar .navbar-nav .open .dropdown-menu > .active > a:hover,.bootstrap .navbar .navbar-nav .open .dropdown-menu > .active > a:focus{color:#fff;background-image:-webkit-linear-gradient(top, #337ab7 0, #2e6da4 100%);background-image:-o-linear-gradient(top, #337ab7 0, #2e6da4 100%);background-image:-webkit-gradient(linear, left top, left bottom, color-stop(0, #337ab7), to(#2e6da4));background-image:linear-gradient(to bottom, #337ab7 0, #2e6da4 100%);background-repeat:repeat-x;filter:progid:DXImageTransform.Microsoft.gradient(startColorstr='#ff337ab7', endColorstr='#ff2e6da4', GradientType=0)}}.bootstrap .alert{text-shadow:0 1px 0 rgba(255, 255, 255, 0.2);-webkit-box-shadow:inset 0 1px 0 rgba(255, 255, 255, 0.25), 0 1px 2px rgba(0, 0, 0, 0.05);box-shadow:inset 0 1px 0 rgba(255, 255, 255, 0.25), 0 1px 2px rgba(0, 0, 0, 0.05)}.bootstrap .alert-success{background-image:-webkit-linear-gradient(top, #dff0d8 0, #c8e5bc 100%);background-image:-o-linear-gradient(top, #dff0d8 0, #c8e5bc 100%);background-image:-webkit-gradient(linear, left top, left bottom, color-stop(0, #dff0d8), to(#c8e5bc));background-image:linear-gradient(to bottom, #dff0d8 0, #c8e5bc 100%);background-repeat:repeat-x;filter:progid:DXImageTransform.Microsoft.gradient(startColorstr='#ffdff0d8', endColorstr='#ffc8e5bc', GradientType=0);border-color:#b2dba1}.bootstrap .alert-info{background-image:-webkit-linear-gradient(top, #d9edf7 0, #b9def0 100%);background-image:-o-linear-gradient(top, #d9edf7 0, #b9def0 100%);background-image:-webkit-gradient(linear, left top, left bottom, color-stop(0, #d9edf7), to(#b9def0));background-image:linear-gradient(to bottom, #d9edf7 0, #b9def0 100%);background-repeat:repeat-x;filter:progid:DXImageTransform.Microsoft.gradient(startColorstr='#ffd9edf7', endColorstr='#ffb9def0', GradientType=0);border-color:#9acfea}.bootstrap .alert-warning{background-image:-webkit-linear-gradient(top, #fcf8e3 0, #f8efc0 100%);background-image:-o-linear-gradient(top, #fcf8e3 0, #f8efc0 100%);background-image:-webkit-gradient(linear, left top, left bottom, color-stop(0, #fcf8e3), to(#f8efc0));background-image:linear-gradient(to bottom, #fcf8e3 0, #f8efc0 100%);background-repeat:repeat-x;filter:progid:DXImageTransform.Microsoft.gradient(startColorstr='#fffcf8e3', endColorstr='#fff8efc0', GradientType=0);border-color:#f5e79e}.bootstrap .alert-danger{background-image:-webkit-linear-gradient(top, #f2dede 0, #e7c3c3 100%);background-image:-o-linear-gradient(top, #f2dede 0, #e7c3c3 100%);background-image:-webkit-gradient(linear, left top, left bottom, color-stop(0, #f2dede), to(#e7c3c3));background-image:linear-gradient(to bottom, #f2dede 0, #e7c3c3 100%);background-repeat:repeat-x;filter:progid:DXImageTransform.Microsoft.gradient(startColorstr='#fff2dede', endColorstr='#ffe7c3c3', GradientType=0);border-color:#dca7a7}.bootstrap .progress{background-image:-webkit-linear-gradient(top, #ebebeb 0, #f5f5f5 100%);background-image:-o-linear-gradient(top, #ebebeb 0, #f5f5f5 100%);background-image:-webkit-gradient(linear, left top, left bottom, color-stop(0, #ebebeb), to(#f5f5f5));background-image:linear-gradient(to bottom, #ebebeb 0, #f5f5f5 100%);background-repeat:repeat-x;filter:progid:DXImageTransform.Microsoft.gradient(startColorstr='#ffebebeb', endColorstr='#fff5f5f5', GradientType=0)}.bootstrap .progress-bar{background-image:-webkit-linear-gradient(top, #337ab7 0, #286090 100%);background-image:-o-linear-gradient(top, #337ab7 0, #286090 100%);background-image:-webkit-gradient(linear, left top, left bottom, color-stop(0, #337ab7), to(#286090));background-image:linear-gradient(to bottom, #337ab7 0, #286090 100%);background-repeat:repeat-x;filter:progid:DXImageTransform.Microsoft.gradient(startColorstr='#ff337ab7', endColorstr='#ff286090', GradientType=0)}.bootstrap .progress-bar-success{background-image:-webkit-linear-gradient(top, #5cb85c 0, #449d44 100%);background-image:-o-linear-gradient(top, #5cb85c 0, #449d44 100%);background-image:-webkit-gradient(linear, left top, left bottom, color-stop(0, #5cb85c), to(#449d44));background-image:linear-gradient(to bottom, #5cb85c 0, #449d44 100%);background-repeat:repeat-x;filter:progid:DXImageTransform.Microsoft.gradient(startColorstr='#ff5cb85c', endColorstr='#ff449d44', GradientType=0)}.bootstrap .progress-bar-info{background-image:-webkit-linear-gradient(top, #5bc0de 0, #31b0d5 100%);background-image:-o-linear-gradient(top, #5bc0de 0, #31b0d5 100%);background-image:-webkit-gradient(linear, left top, left bottom, color-stop(0, #5bc0de), to(#31b0d5));background-image:linear-gradient(to bottom, #5bc0de 0, #31b0d5 100%);background-repeat:repeat-x;filter:progid:DXImageTransform.Microsoft.gradient(startColorstr='#ff5bc0de', endColorstr='#ff31b0d5', GradientType=0)}.bootstrap .progress-bar-warning{background-image:-webkit-linear-gradient(top, #f0ad4e 0, #ec971f 100%);background-image:-o-linear-gradient(top, #f0ad4e 0, #ec971f 100%);background-image:-webkit-gradient(linear, left top, left bottom, color-stop(0, #f0ad4e), to(#ec971f));background-image:linear-gradient(to bottom, #f0ad4e 0, #ec971f 100%);background-repeat:repeat-x;filter:progid:DXImageTransform.Microsoft.gradient(startColorstr='#fff0ad4e', endColorstr='#ffec971f', GradientType=0)}.bootstrap .progress-bar-danger{background-image:-webkit-linear-gradient(top, #d9534f 0, #c9302c 100%);background-image:-o-linear-gradient(top, #d9534f 0, #c9302c 100%);background-image:-webkit-gradient(linear, left top, left bottom, color-stop(0, #d9534f), to(#c9302c));background-image:linear-gradient(to bottom, #d9534f 0, #c9302c 100%);background-repeat:repeat-x;filter:progid:DXImageTransform.Microsoft.gradient(startColorstr='#ffd9534f', endColorstr='#ffc9302c', GradientType=0)}.bootstrap .progress-bar-striped{background-image:-webkit-linear-gradient(45deg, rgba(255, 255, 255, 0.15) 25%, transparent 25%, transparent 50%, rgba(255, 255, 255, 0.15) 50%, rgba(255, 255, 255, 0.15) 75%, transparent 75%, transparent);background-image:-o-linear-gradient(45deg, rgba(255, 255, 255, 0.15) 25%, transparent 25%, transparent 50%, rgba(255, 255, 255, 0.15) 50%, rgba(255, 255, 255, 0.15) 75%, transparent 75%, transparent);background-image:linear-gradient(45deg, rgba(255, 255, 255, 0.15) 25%, transparent 25%, transparent 50%, rgba(255, 255, 255, 0.15) 50%, rgba(255, 255, 255, 0.15) 75%, transparent 75%, transparent)}.bootstrap .list-group{border-radius:4px;-webkit-box-shadow:0 1px 2px rgba(0, 0, 0, 0.075);box-shadow:0 1px 2px rgba(0, 0, 0, 0.075)}.bootstrap .list-group-item.active,.bootstrap .list-group-item.active:hover,.bootstrap .list-group-item.active:focus{text-shadow:0 -1px 0 #286090;background-image:-webkit-linear-gradient(top, #337ab7 0, #2b669a 100%);background-image:-o-linear-gradient(top, #337ab7 0, #2b669a 100%);background-image:-webkit-gradient(linear, left top, left bottom, color-stop(0, #337ab7), to(#2b669a));background-image:linear-gradient(to bottom, #337ab7 0, #2b669a 100%);background-repeat:repeat-x;filter:progid:DXImageTransform.Microsoft.gradient(startColorstr='#ff337ab7', endColorstr='#ff2b669a', GradientType=0);border-color:#2b669a}.bootstrap .list-group-item.active .badge,.bootstrap .list-group-item.active:hover .badge,.bootstrap .list-group-item.active:focus .badge{text-shadow:none}.bootstrap .panel{-webkit-box-shadow:0 1px 2px rgba(0, 0, 0, 0.05);box-shadow:0 1px 2px rgba(0, 0, 0, 0.05)}.bootstrap .panel-default > .panel-heading{background-image:-webkit-linear-gradient(top, #f5f5f5 0, #e8e8e8 100%);background-image:-o-linear-gradient(top, #f5f5f5 0, #e8e8e8 100%);background-image:-webkit-gradient(linear, left top, left bottom, color-stop(0, #f5f5f5), to(#e8e8e8));background-image:linear-gradient(to bottom, #f5f5f5 0, #e8e8e8 100%);background-repeat:repeat-x;filter:progid:DXImageTransform.Microsoft.gradient(startColorstr='#fff5f5f5', endColorstr='#ffe8e8e8', GradientType=0)}.bootstrap .panel-primary > .panel-heading{background-image:-webkit-linear-gradient(top, #337ab7 0, #2e6da4 100%);background-image:-o-linear-gradient(top, #337ab7 0, #2e6da4 100%);background-image:-webkit-gradient(linear, left top, left bottom, color-stop(0, #337ab7), to(#2e6da4));background-image:linear-gradient(to bottom, #337ab7 0, #2e6da4 100%);background-repeat:repeat-x;filter:progid:DXImageTransform.Microsoft.gradient(startColorstr='#ff337ab7', endColorstr='#ff2e6da4', GradientType=0)}.bootstrap .panel-success > .panel-heading{background-image:-webkit-linear-gradient(top, #dff0d8 0, #d0e9c6 100%);background-image:-o-linear-gradient(top, #dff0d8 0, #d0e9c6 100%);background-image:-webkit-gradient(linear, left top, left bottom, color-stop(0, #dff0d8), to(#d0e9c6));background-image:linear-gradient(to bottom, #dff0d8 0, #d0e9c6 100%);background-repeat:repeat-x;filter:progid:DXImageTransform.Microsoft.gradient(startColorstr='#ffdff0d8', endColorstr='#ffd0e9c6', GradientType=0)}.bootstrap .panel-info > .panel-heading{background-image:-webkit-linear-gradient(top, #d9edf7 0, #c4e3f3 100%);background-image:-o-linear-gradient(top, #d9edf7 0, #c4e3f3 100%);background-image:-webkit-gradient(linear, left top, left bottom, color-stop(0, #d9edf7), to(#c4e3f3));background-image:linear-gradient(to bottom, #d9edf7 0, #c4e3f3 100%);background-repeat:repeat-x;filter:progid:DXImageTransform.Microsoft.gradient(startColorstr='#ffd9edf7', endColorstr='#ffc4e3f3', GradientType=0)}.bootstrap .panel-warning > .panel-heading{background-image:-webkit-linear-gradient(top, #fcf8e3 0, #faf2cc 100%);background-image:-o-linear-gradient(top, #fcf8e3 0, #faf2cc 100%);background-image:-webkit-gradient(linear, left top, left bottom, color-stop(0, #fcf8e3), to(#faf2cc));background-image:linear-gradient(to bottom, #fcf8e3 0, #faf2cc 100%);background-repeat:repeat-x;filter:progid:DXImageTransform.Microsoft.gradient(startColorstr='#fffcf8e3', endColorstr='#fffaf2cc', GradientType=0)}.bootstrap .panel-danger > .panel-heading{background-image:-webkit-linear-gradient(top, #f2dede 0, #ebcccc 100%);background-image:-o-linear-gradient(top, #f2dede 0, #ebcccc 100%);background-image:-webkit-gradient(linear, left top, left bottom, color-stop(0, #f2dede), to(#ebcccc));background-image:linear-gradient(to bottom, #f2dede 0, #ebcccc 100%);background-repeat:repeat-x;filter:progid:DXImageTransform.Microsoft.gradient(startColorstr='#fff2dede', endColorstr='#ffebcccc', GradientType=0)}.bootstrap .well{background-image:-webkit-linear-gradient(top, #e8e8e8 0, #f5f5f5 100%);background-image:-o-linear-gradient(top, #e8e8e8 0, #f5f5f5 100%);background-image:-webkit-gradient(linear, left top, left bottom, color-stop(0, #e8e8e8), to(#f5f5f5));background-image:linear-gradient(to bottom, #e8e8e8 0, #f5f5f5 100%);background-repeat:repeat-x;filter:progid:DXImageTransform.Microsoft.gradient(startColorstr='#ffe8e8e8', endColorstr='#fff5f5f5', GradientType=0);border-color:#dcdcdc;-webkit-box-shadow:inset 0 1px 3px rgba(0, 0, 0, 0.05), 0 1px 0 rgba(255, 255, 255, 0.1);box-shadow:inset 0 1px 3px rgba(0, 0, 0, 0.05), 0 1px 0 rgba(255, 255, 255, 0.1)}\n",
       "</style><style>/*\n",
       " CSS to override bootstrap or define custom styles\n",
       "*/\n",
       "\n",
       ".bootstrap .p {\n",
       " font-size: 18px;\n",
       "}\n",
       "\n",
       ".bootstrap .pull-right {\n",
       "    @extend .float-right;\n",
       "}\n",
       ".bootstrap .pull-left {\n",
       "    @extend .float-left;\n",
       "}\n",
       "</style>\n",
       "            </div>\n",
       "    <div class=\"bootstrap\">\n",
       "      <div class=\"container-fluid border\">\n",
       "        <div class=\"row border\">\n",
       "          <div class=\"col-6\">\n",
       "            <p><b>Data</b>: <a href=\"https://obdaac-tea.earthdatacloud.nasa.gov/ob-cumulus-prod-public/AQUA_MODIS.20220914_20220921.L3m.8D.CHL.chlor_a.9km.nc\" target=\"_blank\" class=\"btn btn-secondary btn-sm\">AQUA_MODIS.20220914_20220921.L3m.8D.CHL.chlor_a.9km.nc</a><p/>\n",
       "            <p><b>Size</b>: 12.32 MB</p>\n",
       "            <p><b>Cloud Hosted</b>: <span>True</span></p>\n",
       "          </div>\n",
       "          <div class=\"col-2 offset-sm-3 pull-right\">\n",
       "            \n",
       "          </div>\n",
       "        </div>\n",
       "      </div>\n",
       "    </div>\n",
       "    "
      ],
      "text/plain": [
       "Collection: {'ShortName': 'MODISA_L3m_CHL', 'Version': '2022.0'}\n",
       "Spatial coverage: {'HorizontalSpatialDomain': {'Geometry': {'BoundingRectangles': [{'NorthBoundingCoordinate': 90, 'EastBoundingCoordinate': 180, 'WestBoundingCoordinate': -180, 'SouthBoundingCoordinate': -90}]}}}\n",
       "Temporal coverage: {'RangeDateTime': {'BeginningDateTime': '2022-09-14T00:00:00Z', 'EndingDateTime': '2022-09-21T23:59:59Z'}}\n",
       "Size(MB): 12.31857681274414\n",
       "Data: ['https://obdaac-tea.earthdatacloud.nasa.gov/ob-cumulus-prod-public/AQUA_MODIS.20220914_20220921.L3m.8D.CHL.chlor_a.9km.nc']"
      ]
     },
     "execution_count": 15,
     "metadata": {},
     "output_type": "execute_result"
    }
   ],
   "source": [
    "results[0]"
   ]
  },
  {
   "cell_type": "markdown",
   "id": "20b2a9ac-3066-4a24-bf63-25e4eba5c572",
   "metadata": {},
   "source": [
    "# Download all the Daily Aqua Data from Terra Satellite\n"
   ]
  },
  {
   "cell_type": "code",
   "execution_count": 16,
   "id": "dcc7506e-ee94-4fc2-9ce3-6901edc7ca0b",
   "metadata": {},
   "outputs": [
    {
     "data": {
      "application/vnd.jupyter.widget-view+json": {
       "model_id": "9d994bf1e8dd4233a4ec9eda6872bc6e",
       "version_major": 2,
       "version_minor": 0
      },
      "text/plain": [
       "QUEUEING TASKS | :   0%|          | 0/1 [00:00<?, ?it/s]"
      ]
     },
     "metadata": {},
     "output_type": "display_data"
    },
    {
     "data": {
      "application/vnd.jupyter.widget-view+json": {
       "model_id": "8dc867f0410f4bda9793425071a5ff33",
       "version_major": 2,
       "version_minor": 0
      },
      "text/plain": [
       "PROCESSING TASKS | :   0%|          | 0/1 [00:00<?, ?it/s]"
      ]
     },
     "metadata": {},
     "output_type": "display_data"
    },
    {
     "data": {
      "application/vnd.jupyter.widget-view+json": {
       "model_id": "788c44ca3b7b4d94baffb9df9a799c42",
       "version_major": 2,
       "version_minor": 0
      },
      "text/plain": [
       "COLLECTING RESULTS | :   0%|          | 0/1 [00:00<?, ?it/s]"
      ]
     },
     "metadata": {},
     "output_type": "display_data"
    },
    {
     "name": "stdout",
     "output_type": "stream",
     "text": [
      "Completed downloading\n"
     ]
    },
    {
     "data": {
      "application/vnd.jupyter.widget-view+json": {
       "model_id": "3933e51cf5c54ecba9df4ba8b6f8ec4b",
       "version_major": 2,
       "version_minor": 0
      },
      "text/plain": [
       "QUEUEING TASKS | :   0%|          | 0/1 [00:00<?, ?it/s]"
      ]
     },
     "metadata": {},
     "output_type": "display_data"
    },
    {
     "data": {
      "application/vnd.jupyter.widget-view+json": {
       "model_id": "86287d86a6d54511a930a9e7dbf7a6dc",
       "version_major": 2,
       "version_minor": 0
      },
      "text/plain": [
       "PROCESSING TASKS | :   0%|          | 0/1 [00:00<?, ?it/s]"
      ]
     },
     "metadata": {},
     "output_type": "display_data"
    },
    {
     "data": {
      "application/vnd.jupyter.widget-view+json": {
       "model_id": "46cd9de5e49a4061afae4ee3bc71a799",
       "version_major": 2,
       "version_minor": 0
      },
      "text/plain": [
       "COLLECTING RESULTS | :   0%|          | 0/1 [00:00<?, ?it/s]"
      ]
     },
     "metadata": {},
     "output_type": "display_data"
    },
    {
     "name": "stdout",
     "output_type": "stream",
     "text": [
      "Completed downloading\n"
     ]
    },
    {
     "data": {
      "application/vnd.jupyter.widget-view+json": {
       "model_id": "1039b06975fa41f3bd973bb166034c92",
       "version_major": 2,
       "version_minor": 0
      },
      "text/plain": [
       "QUEUEING TASKS | :   0%|          | 0/1 [00:00<?, ?it/s]"
      ]
     },
     "metadata": {},
     "output_type": "display_data"
    },
    {
     "data": {
      "application/vnd.jupyter.widget-view+json": {
       "model_id": "411d5f67bfe6481d8c210933a7da99cd",
       "version_major": 2,
       "version_minor": 0
      },
      "text/plain": [
       "PROCESSING TASKS | :   0%|          | 0/1 [00:00<?, ?it/s]"
      ]
     },
     "metadata": {},
     "output_type": "display_data"
    },
    {
     "data": {
      "application/vnd.jupyter.widget-view+json": {
       "model_id": "746cc550e85a49878de38a224768b715",
       "version_major": 2,
       "version_minor": 0
      },
      "text/plain": [
       "COLLECTING RESULTS | :   0%|          | 0/1 [00:00<?, ?it/s]"
      ]
     },
     "metadata": {},
     "output_type": "display_data"
    },
    {
     "name": "stdout",
     "output_type": "stream",
     "text": [
      "Completed downloading\n"
     ]
    },
    {
     "data": {
      "application/vnd.jupyter.widget-view+json": {
       "model_id": "ef4beb88eee847308c72e98495bc0227",
       "version_major": 2,
       "version_minor": 0
      },
      "text/plain": [
       "QUEUEING TASKS | :   0%|          | 0/1 [00:00<?, ?it/s]"
      ]
     },
     "metadata": {},
     "output_type": "display_data"
    },
    {
     "data": {
      "application/vnd.jupyter.widget-view+json": {
       "model_id": "e6cdafff42344c00802da3e24c9f63b9",
       "version_major": 2,
       "version_minor": 0
      },
      "text/plain": [
       "PROCESSING TASKS | :   0%|          | 0/1 [00:00<?, ?it/s]"
      ]
     },
     "metadata": {},
     "output_type": "display_data"
    },
    {
     "data": {
      "application/vnd.jupyter.widget-view+json": {
       "model_id": "97fb2cfdf13e4d63a5c72c60c19ed002",
       "version_major": 2,
       "version_minor": 0
      },
      "text/plain": [
       "COLLECTING RESULTS | :   0%|          | 0/1 [00:00<?, ?it/s]"
      ]
     },
     "metadata": {},
     "output_type": "display_data"
    },
    {
     "name": "stdout",
     "output_type": "stream",
     "text": [
      "Completed downloading\n"
     ]
    },
    {
     "data": {
      "application/vnd.jupyter.widget-view+json": {
       "model_id": "95ff5d30eb4a42b58e81191671132851",
       "version_major": 2,
       "version_minor": 0
      },
      "text/plain": [
       "QUEUEING TASKS | :   0%|          | 0/1 [00:00<?, ?it/s]"
      ]
     },
     "metadata": {},
     "output_type": "display_data"
    },
    {
     "data": {
      "application/vnd.jupyter.widget-view+json": {
       "model_id": "55b0552cbd0244cab4a9840ae4da063c",
       "version_major": 2,
       "version_minor": 0
      },
      "text/plain": [
       "PROCESSING TASKS | :   0%|          | 0/1 [00:00<?, ?it/s]"
      ]
     },
     "metadata": {},
     "output_type": "display_data"
    },
    {
     "data": {
      "application/vnd.jupyter.widget-view+json": {
       "model_id": "d92df52142a345298f38ca1b7aca90a8",
       "version_major": 2,
       "version_minor": 0
      },
      "text/plain": [
       "COLLECTING RESULTS | :   0%|          | 0/1 [00:00<?, ?it/s]"
      ]
     },
     "metadata": {},
     "output_type": "display_data"
    },
    {
     "name": "stdout",
     "output_type": "stream",
     "text": [
      "Completed downloading\n"
     ]
    },
    {
     "data": {
      "application/vnd.jupyter.widget-view+json": {
       "model_id": "da1f16f75b1b440a9359f8d7cc16e354",
       "version_major": 2,
       "version_minor": 0
      },
      "text/plain": [
       "QUEUEING TASKS | :   0%|          | 0/1 [00:00<?, ?it/s]"
      ]
     },
     "metadata": {},
     "output_type": "display_data"
    },
    {
     "data": {
      "application/vnd.jupyter.widget-view+json": {
       "model_id": "f729d0215c384250a895f053328c82f3",
       "version_major": 2,
       "version_minor": 0
      },
      "text/plain": [
       "PROCESSING TASKS | :   0%|          | 0/1 [00:00<?, ?it/s]"
      ]
     },
     "metadata": {},
     "output_type": "display_data"
    },
    {
     "data": {
      "application/vnd.jupyter.widget-view+json": {
       "model_id": "80c63d7a44084620a8d4e2b35eae78ee",
       "version_major": 2,
       "version_minor": 0
      },
      "text/plain": [
       "COLLECTING RESULTS | :   0%|          | 0/1 [00:00<?, ?it/s]"
      ]
     },
     "metadata": {},
     "output_type": "display_data"
    },
    {
     "name": "stdout",
     "output_type": "stream",
     "text": [
      "Completed downloading\n"
     ]
    },
    {
     "data": {
      "application/vnd.jupyter.widget-view+json": {
       "model_id": "17e9837da2ba48b0a39767080085462b",
       "version_major": 2,
       "version_minor": 0
      },
      "text/plain": [
       "QUEUEING TASKS | :   0%|          | 0/1 [00:00<?, ?it/s]"
      ]
     },
     "metadata": {},
     "output_type": "display_data"
    },
    {
     "data": {
      "application/vnd.jupyter.widget-view+json": {
       "model_id": "cf333902248849a18a464071d1bbbb99",
       "version_major": 2,
       "version_minor": 0
      },
      "text/plain": [
       "PROCESSING TASKS | :   0%|          | 0/1 [00:00<?, ?it/s]"
      ]
     },
     "metadata": {},
     "output_type": "display_data"
    },
    {
     "data": {
      "application/vnd.jupyter.widget-view+json": {
       "model_id": "8f461c8ee5874dcba7a192e87623da67",
       "version_major": 2,
       "version_minor": 0
      },
      "text/plain": [
       "COLLECTING RESULTS | :   0%|          | 0/1 [00:00<?, ?it/s]"
      ]
     },
     "metadata": {},
     "output_type": "display_data"
    },
    {
     "name": "stdout",
     "output_type": "stream",
     "text": [
      "Completed downloading\n"
     ]
    },
    {
     "data": {
      "application/vnd.jupyter.widget-view+json": {
       "model_id": "14e876cdec4f4d7f9565b830e76d9a4b",
       "version_major": 2,
       "version_minor": 0
      },
      "text/plain": [
       "QUEUEING TASKS | :   0%|          | 0/1 [00:00<?, ?it/s]"
      ]
     },
     "metadata": {},
     "output_type": "display_data"
    },
    {
     "data": {
      "application/vnd.jupyter.widget-view+json": {
       "model_id": "b9224c7298e642d880a3882d55848889",
       "version_major": 2,
       "version_minor": 0
      },
      "text/plain": [
       "PROCESSING TASKS | :   0%|          | 0/1 [00:00<?, ?it/s]"
      ]
     },
     "metadata": {},
     "output_type": "display_data"
    },
    {
     "data": {
      "application/vnd.jupyter.widget-view+json": {
       "model_id": "fdc4b9b3aa7a49f0a76944d26ccae507",
       "version_major": 2,
       "version_minor": 0
      },
      "text/plain": [
       "COLLECTING RESULTS | :   0%|          | 0/1 [00:00<?, ?it/s]"
      ]
     },
     "metadata": {},
     "output_type": "display_data"
    },
    {
     "name": "stdout",
     "output_type": "stream",
     "text": [
      "Completed downloading\n"
     ]
    },
    {
     "data": {
      "application/vnd.jupyter.widget-view+json": {
       "model_id": "d46eb8a70a044436838278c1a2c491be",
       "version_major": 2,
       "version_minor": 0
      },
      "text/plain": [
       "QUEUEING TASKS | :   0%|          | 0/1 [00:00<?, ?it/s]"
      ]
     },
     "metadata": {},
     "output_type": "display_data"
    },
    {
     "data": {
      "application/vnd.jupyter.widget-view+json": {
       "model_id": "b885929d019748a5a1e238eb119bbd58",
       "version_major": 2,
       "version_minor": 0
      },
      "text/plain": [
       "PROCESSING TASKS | :   0%|          | 0/1 [00:00<?, ?it/s]"
      ]
     },
     "metadata": {},
     "output_type": "display_data"
    },
    {
     "data": {
      "application/vnd.jupyter.widget-view+json": {
       "model_id": "270859f33861464b8a40facee789b8bf",
       "version_major": 2,
       "version_minor": 0
      },
      "text/plain": [
       "COLLECTING RESULTS | :   0%|          | 0/1 [00:00<?, ?it/s]"
      ]
     },
     "metadata": {},
     "output_type": "display_data"
    },
    {
     "name": "stdout",
     "output_type": "stream",
     "text": [
      "Completed downloading\n"
     ]
    },
    {
     "data": {
      "application/vnd.jupyter.widget-view+json": {
       "model_id": "c94de30dded74160aa116c764cf4ac1b",
       "version_major": 2,
       "version_minor": 0
      },
      "text/plain": [
       "QUEUEING TASKS | :   0%|          | 0/1 [00:00<?, ?it/s]"
      ]
     },
     "metadata": {},
     "output_type": "display_data"
    },
    {
     "data": {
      "application/vnd.jupyter.widget-view+json": {
       "model_id": "95bf33bb840c4df2ba513f00b45255ad",
       "version_major": 2,
       "version_minor": 0
      },
      "text/plain": [
       "PROCESSING TASKS | :   0%|          | 0/1 [00:00<?, ?it/s]"
      ]
     },
     "metadata": {},
     "output_type": "display_data"
    },
    {
     "data": {
      "application/vnd.jupyter.widget-view+json": {
       "model_id": "5bc0088e19574ff4afbe5b5e9c16b9e7",
       "version_major": 2,
       "version_minor": 0
      },
      "text/plain": [
       "COLLECTING RESULTS | :   0%|          | 0/1 [00:00<?, ?it/s]"
      ]
     },
     "metadata": {},
     "output_type": "display_data"
    },
    {
     "name": "stdout",
     "output_type": "stream",
     "text": [
      "Completed downloading\n"
     ]
    },
    {
     "data": {
      "application/vnd.jupyter.widget-view+json": {
       "model_id": "f33db698d61543519f3aa0ecb08c1f82",
       "version_major": 2,
       "version_minor": 0
      },
      "text/plain": [
       "QUEUEING TASKS | :   0%|          | 0/1 [00:00<?, ?it/s]"
      ]
     },
     "metadata": {},
     "output_type": "display_data"
    },
    {
     "data": {
      "application/vnd.jupyter.widget-view+json": {
       "model_id": "429eb38874ad4deeb8560726782f3777",
       "version_major": 2,
       "version_minor": 0
      },
      "text/plain": [
       "PROCESSING TASKS | :   0%|          | 0/1 [00:00<?, ?it/s]"
      ]
     },
     "metadata": {},
     "output_type": "display_data"
    },
    {
     "data": {
      "application/vnd.jupyter.widget-view+json": {
       "model_id": "49416e51a0fe46fd8401e69c3b761607",
       "version_major": 2,
       "version_minor": 0
      },
      "text/plain": [
       "COLLECTING RESULTS | :   0%|          | 0/1 [00:00<?, ?it/s]"
      ]
     },
     "metadata": {},
     "output_type": "display_data"
    },
    {
     "name": "stdout",
     "output_type": "stream",
     "text": [
      "Completed downloading\n"
     ]
    },
    {
     "data": {
      "application/vnd.jupyter.widget-view+json": {
       "model_id": "9172bc18869f4efcb917047e8c7fc82d",
       "version_major": 2,
       "version_minor": 0
      },
      "text/plain": [
       "QUEUEING TASKS | :   0%|          | 0/1 [00:00<?, ?it/s]"
      ]
     },
     "metadata": {},
     "output_type": "display_data"
    },
    {
     "data": {
      "application/vnd.jupyter.widget-view+json": {
       "model_id": "a79c7a62401b49fe94563ee0ff7c3d34",
       "version_major": 2,
       "version_minor": 0
      },
      "text/plain": [
       "PROCESSING TASKS | :   0%|          | 0/1 [00:00<?, ?it/s]"
      ]
     },
     "metadata": {},
     "output_type": "display_data"
    },
    {
     "data": {
      "application/vnd.jupyter.widget-view+json": {
       "model_id": "c3b842dbd2c0469ab16f693445e8b118",
       "version_major": 2,
       "version_minor": 0
      },
      "text/plain": [
       "COLLECTING RESULTS | :   0%|          | 0/1 [00:00<?, ?it/s]"
      ]
     },
     "metadata": {},
     "output_type": "display_data"
    },
    {
     "name": "stdout",
     "output_type": "stream",
     "text": [
      "Completed downloading\n"
     ]
    },
    {
     "data": {
      "application/vnd.jupyter.widget-view+json": {
       "model_id": "0bb59b287a4843e897d435070b8b1037",
       "version_major": 2,
       "version_minor": 0
      },
      "text/plain": [
       "QUEUEING TASKS | :   0%|          | 0/1 [00:00<?, ?it/s]"
      ]
     },
     "metadata": {},
     "output_type": "display_data"
    },
    {
     "data": {
      "application/vnd.jupyter.widget-view+json": {
       "model_id": "5893f95669bc4c968225f0e75e83a71d",
       "version_major": 2,
       "version_minor": 0
      },
      "text/plain": [
       "PROCESSING TASKS | :   0%|          | 0/1 [00:00<?, ?it/s]"
      ]
     },
     "metadata": {},
     "output_type": "display_data"
    },
    {
     "data": {
      "application/vnd.jupyter.widget-view+json": {
       "model_id": "54a9ef8ab44245edaf99f1636a799afa",
       "version_major": 2,
       "version_minor": 0
      },
      "text/plain": [
       "COLLECTING RESULTS | :   0%|          | 0/1 [00:00<?, ?it/s]"
      ]
     },
     "metadata": {},
     "output_type": "display_data"
    },
    {
     "name": "stdout",
     "output_type": "stream",
     "text": [
      "Completed downloading\n"
     ]
    },
    {
     "data": {
      "application/vnd.jupyter.widget-view+json": {
       "model_id": "83ee6b5bc88348a18f9b961cd17f9cd1",
       "version_major": 2,
       "version_minor": 0
      },
      "text/plain": [
       "QUEUEING TASKS | :   0%|          | 0/1 [00:00<?, ?it/s]"
      ]
     },
     "metadata": {},
     "output_type": "display_data"
    },
    {
     "data": {
      "application/vnd.jupyter.widget-view+json": {
       "model_id": "1a69966583994941916bcd0f5a3f0438",
       "version_major": 2,
       "version_minor": 0
      },
      "text/plain": [
       "PROCESSING TASKS | :   0%|          | 0/1 [00:00<?, ?it/s]"
      ]
     },
     "metadata": {},
     "output_type": "display_data"
    },
    {
     "data": {
      "application/vnd.jupyter.widget-view+json": {
       "model_id": "e3cb1526d314492b9ea10489c88d27b0",
       "version_major": 2,
       "version_minor": 0
      },
      "text/plain": [
       "COLLECTING RESULTS | :   0%|          | 0/1 [00:00<?, ?it/s]"
      ]
     },
     "metadata": {},
     "output_type": "display_data"
    },
    {
     "name": "stdout",
     "output_type": "stream",
     "text": [
      "Completed downloading\n"
     ]
    },
    {
     "data": {
      "application/vnd.jupyter.widget-view+json": {
       "model_id": "7d5e41d0ecec415b8e550b5f09e64f43",
       "version_major": 2,
       "version_minor": 0
      },
      "text/plain": [
       "QUEUEING TASKS | :   0%|          | 0/1 [00:00<?, ?it/s]"
      ]
     },
     "metadata": {},
     "output_type": "display_data"
    },
    {
     "data": {
      "application/vnd.jupyter.widget-view+json": {
       "model_id": "80453a728908452aafe6e733aa36354f",
       "version_major": 2,
       "version_minor": 0
      },
      "text/plain": [
       "PROCESSING TASKS | :   0%|          | 0/1 [00:00<?, ?it/s]"
      ]
     },
     "metadata": {},
     "output_type": "display_data"
    },
    {
     "data": {
      "application/vnd.jupyter.widget-view+json": {
       "model_id": "67b8bf775f1e4d079ca120b85205d1a0",
       "version_major": 2,
       "version_minor": 0
      },
      "text/plain": [
       "COLLECTING RESULTS | :   0%|          | 0/1 [00:00<?, ?it/s]"
      ]
     },
     "metadata": {},
     "output_type": "display_data"
    },
    {
     "name": "stdout",
     "output_type": "stream",
     "text": [
      "Completed downloading\n"
     ]
    },
    {
     "data": {
      "application/vnd.jupyter.widget-view+json": {
       "model_id": "b5e146df7dfc414eacc8f6b6a47fd9b8",
       "version_major": 2,
       "version_minor": 0
      },
      "text/plain": [
       "QUEUEING TASKS | :   0%|          | 0/1 [00:00<?, ?it/s]"
      ]
     },
     "metadata": {},
     "output_type": "display_data"
    },
    {
     "data": {
      "application/vnd.jupyter.widget-view+json": {
       "model_id": "9d46efb56f05439eb87181dedb199f49",
       "version_major": 2,
       "version_minor": 0
      },
      "text/plain": [
       "PROCESSING TASKS | :   0%|          | 0/1 [00:00<?, ?it/s]"
      ]
     },
     "metadata": {},
     "output_type": "display_data"
    },
    {
     "data": {
      "application/vnd.jupyter.widget-view+json": {
       "model_id": "b795cc9ce817402d896be6a99fc3aecc",
       "version_major": 2,
       "version_minor": 0
      },
      "text/plain": [
       "COLLECTING RESULTS | :   0%|          | 0/1 [00:00<?, ?it/s]"
      ]
     },
     "metadata": {},
     "output_type": "display_data"
    },
    {
     "name": "stdout",
     "output_type": "stream",
     "text": [
      "Completed downloading\n"
     ]
    },
    {
     "data": {
      "application/vnd.jupyter.widget-view+json": {
       "model_id": "2ad34703b7ce49b499334c05688bed0a",
       "version_major": 2,
       "version_minor": 0
      },
      "text/plain": [
       "QUEUEING TASKS | :   0%|          | 0/1 [00:00<?, ?it/s]"
      ]
     },
     "metadata": {},
     "output_type": "display_data"
    },
    {
     "data": {
      "application/vnd.jupyter.widget-view+json": {
       "model_id": "ac99ab4952184ee580dc469a44379b1b",
       "version_major": 2,
       "version_minor": 0
      },
      "text/plain": [
       "PROCESSING TASKS | :   0%|          | 0/1 [00:00<?, ?it/s]"
      ]
     },
     "metadata": {},
     "output_type": "display_data"
    },
    {
     "data": {
      "application/vnd.jupyter.widget-view+json": {
       "model_id": "a4f8c7ed2f4d4cceba53b1af83f9add6",
       "version_major": 2,
       "version_minor": 0
      },
      "text/plain": [
       "COLLECTING RESULTS | :   0%|          | 0/1 [00:00<?, ?it/s]"
      ]
     },
     "metadata": {},
     "output_type": "display_data"
    },
    {
     "name": "stdout",
     "output_type": "stream",
     "text": [
      "Completed downloading\n"
     ]
    },
    {
     "data": {
      "application/vnd.jupyter.widget-view+json": {
       "model_id": "2745d6fea96f4d21b8d87bb037deaf20",
       "version_major": 2,
       "version_minor": 0
      },
      "text/plain": [
       "QUEUEING TASKS | :   0%|          | 0/1 [00:00<?, ?it/s]"
      ]
     },
     "metadata": {},
     "output_type": "display_data"
    },
    {
     "data": {
      "application/vnd.jupyter.widget-view+json": {
       "model_id": "7fe7bd68bfe6438caa35c5550a7ac0fd",
       "version_major": 2,
       "version_minor": 0
      },
      "text/plain": [
       "PROCESSING TASKS | :   0%|          | 0/1 [00:00<?, ?it/s]"
      ]
     },
     "metadata": {},
     "output_type": "display_data"
    },
    {
     "data": {
      "application/vnd.jupyter.widget-view+json": {
       "model_id": "89d35c115d174ccf9b5d8aed70496f4b",
       "version_major": 2,
       "version_minor": 0
      },
      "text/plain": [
       "COLLECTING RESULTS | :   0%|          | 0/1 [00:00<?, ?it/s]"
      ]
     },
     "metadata": {},
     "output_type": "display_data"
    },
    {
     "name": "stdout",
     "output_type": "stream",
     "text": [
      "Completed downloading\n"
     ]
    },
    {
     "data": {
      "application/vnd.jupyter.widget-view+json": {
       "model_id": "703b42d721cd4e678e43aa6fd7ded87f",
       "version_major": 2,
       "version_minor": 0
      },
      "text/plain": [
       "QUEUEING TASKS | :   0%|          | 0/1 [00:00<?, ?it/s]"
      ]
     },
     "metadata": {},
     "output_type": "display_data"
    },
    {
     "data": {
      "application/vnd.jupyter.widget-view+json": {
       "model_id": "6a8cba34f5f149ba8e129f9a4de7c5db",
       "version_major": 2,
       "version_minor": 0
      },
      "text/plain": [
       "PROCESSING TASKS | :   0%|          | 0/1 [00:00<?, ?it/s]"
      ]
     },
     "metadata": {},
     "output_type": "display_data"
    },
    {
     "data": {
      "application/vnd.jupyter.widget-view+json": {
       "model_id": "05cf9362b75944d98da2cdd84293a0f4",
       "version_major": 2,
       "version_minor": 0
      },
      "text/plain": [
       "COLLECTING RESULTS | :   0%|          | 0/1 [00:00<?, ?it/s]"
      ]
     },
     "metadata": {},
     "output_type": "display_data"
    },
    {
     "name": "stdout",
     "output_type": "stream",
     "text": [
      "Completed downloading\n"
     ]
    },
    {
     "data": {
      "application/vnd.jupyter.widget-view+json": {
       "model_id": "93098928cf1c4d1c86a31bfee3214b23",
       "version_major": 2,
       "version_minor": 0
      },
      "text/plain": [
       "QUEUEING TASKS | :   0%|          | 0/1 [00:00<?, ?it/s]"
      ]
     },
     "metadata": {},
     "output_type": "display_data"
    },
    {
     "data": {
      "application/vnd.jupyter.widget-view+json": {
       "model_id": "48a10921cb9a47109b9c2b52672c4831",
       "version_major": 2,
       "version_minor": 0
      },
      "text/plain": [
       "PROCESSING TASKS | :   0%|          | 0/1 [00:00<?, ?it/s]"
      ]
     },
     "metadata": {},
     "output_type": "display_data"
    },
    {
     "data": {
      "application/vnd.jupyter.widget-view+json": {
       "model_id": "3ed805b193fc4384be59b43872059936",
       "version_major": 2,
       "version_minor": 0
      },
      "text/plain": [
       "COLLECTING RESULTS | :   0%|          | 0/1 [00:00<?, ?it/s]"
      ]
     },
     "metadata": {},
     "output_type": "display_data"
    },
    {
     "name": "stdout",
     "output_type": "stream",
     "text": [
      "Completed downloading\n"
     ]
    },
    {
     "data": {
      "application/vnd.jupyter.widget-view+json": {
       "model_id": "a30c71b5df2b4818b82514fae432c64b",
       "version_major": 2,
       "version_minor": 0
      },
      "text/plain": [
       "QUEUEING TASKS | :   0%|          | 0/1 [00:00<?, ?it/s]"
      ]
     },
     "metadata": {},
     "output_type": "display_data"
    },
    {
     "data": {
      "application/vnd.jupyter.widget-view+json": {
       "model_id": "26d9ac46dfe844a0b08d22b74430bba3",
       "version_major": 2,
       "version_minor": 0
      },
      "text/plain": [
       "PROCESSING TASKS | :   0%|          | 0/1 [00:00<?, ?it/s]"
      ]
     },
     "metadata": {},
     "output_type": "display_data"
    },
    {
     "data": {
      "application/vnd.jupyter.widget-view+json": {
       "model_id": "2bda33aa9c1f40e29de31527200315dd",
       "version_major": 2,
       "version_minor": 0
      },
      "text/plain": [
       "COLLECTING RESULTS | :   0%|          | 0/1 [00:00<?, ?it/s]"
      ]
     },
     "metadata": {},
     "output_type": "display_data"
    },
    {
     "name": "stdout",
     "output_type": "stream",
     "text": [
      "Completed downloading\n"
     ]
    },
    {
     "data": {
      "application/vnd.jupyter.widget-view+json": {
       "model_id": "d37dbc98437d4f2e9070af5e3c6236db",
       "version_major": 2,
       "version_minor": 0
      },
      "text/plain": [
       "QUEUEING TASKS | :   0%|          | 0/1 [00:00<?, ?it/s]"
      ]
     },
     "metadata": {},
     "output_type": "display_data"
    },
    {
     "data": {
      "application/vnd.jupyter.widget-view+json": {
       "model_id": "29700526683b403288bbd839fd1ac270",
       "version_major": 2,
       "version_minor": 0
      },
      "text/plain": [
       "PROCESSING TASKS | :   0%|          | 0/1 [00:00<?, ?it/s]"
      ]
     },
     "metadata": {},
     "output_type": "display_data"
    },
    {
     "data": {
      "application/vnd.jupyter.widget-view+json": {
       "model_id": "559dd3fc1f04480c99c130de3f393e93",
       "version_major": 2,
       "version_minor": 0
      },
      "text/plain": [
       "COLLECTING RESULTS | :   0%|          | 0/1 [00:00<?, ?it/s]"
      ]
     },
     "metadata": {},
     "output_type": "display_data"
    },
    {
     "name": "stdout",
     "output_type": "stream",
     "text": [
      "Completed downloading\n"
     ]
    },
    {
     "data": {
      "application/vnd.jupyter.widget-view+json": {
       "model_id": "02ab0504765846e580f608e43831aac7",
       "version_major": 2,
       "version_minor": 0
      },
      "text/plain": [
       "QUEUEING TASKS | :   0%|          | 0/1 [00:00<?, ?it/s]"
      ]
     },
     "metadata": {},
     "output_type": "display_data"
    },
    {
     "data": {
      "application/vnd.jupyter.widget-view+json": {
       "model_id": "75f9c2217e2a4762b437f676ae78e549",
       "version_major": 2,
       "version_minor": 0
      },
      "text/plain": [
       "PROCESSING TASKS | :   0%|          | 0/1 [00:00<?, ?it/s]"
      ]
     },
     "metadata": {},
     "output_type": "display_data"
    },
    {
     "data": {
      "application/vnd.jupyter.widget-view+json": {
       "model_id": "c0c5240b14944539a72d12ed627e1630",
       "version_major": 2,
       "version_minor": 0
      },
      "text/plain": [
       "COLLECTING RESULTS | :   0%|          | 0/1 [00:00<?, ?it/s]"
      ]
     },
     "metadata": {},
     "output_type": "display_data"
    },
    {
     "name": "stdout",
     "output_type": "stream",
     "text": [
      "Completed downloading\n"
     ]
    },
    {
     "data": {
      "application/vnd.jupyter.widget-view+json": {
       "model_id": "b7f5fe3cfb8d4153831e7d4bafa6d937",
       "version_major": 2,
       "version_minor": 0
      },
      "text/plain": [
       "QUEUEING TASKS | :   0%|          | 0/1 [00:00<?, ?it/s]"
      ]
     },
     "metadata": {},
     "output_type": "display_data"
    },
    {
     "data": {
      "application/vnd.jupyter.widget-view+json": {
       "model_id": "a79051950400461099e1d5f7c122fa77",
       "version_major": 2,
       "version_minor": 0
      },
      "text/plain": [
       "PROCESSING TASKS | :   0%|          | 0/1 [00:00<?, ?it/s]"
      ]
     },
     "metadata": {},
     "output_type": "display_data"
    },
    {
     "data": {
      "application/vnd.jupyter.widget-view+json": {
       "model_id": "64806dcae743486da70d6d77a69e6312",
       "version_major": 2,
       "version_minor": 0
      },
      "text/plain": [
       "COLLECTING RESULTS | :   0%|          | 0/1 [00:00<?, ?it/s]"
      ]
     },
     "metadata": {},
     "output_type": "display_data"
    },
    {
     "name": "stdout",
     "output_type": "stream",
     "text": [
      "Completed downloading\n"
     ]
    },
    {
     "data": {
      "application/vnd.jupyter.widget-view+json": {
       "model_id": "433dc03ef7c043409007c6a93bda0d67",
       "version_major": 2,
       "version_minor": 0
      },
      "text/plain": [
       "QUEUEING TASKS | :   0%|          | 0/1 [00:00<?, ?it/s]"
      ]
     },
     "metadata": {},
     "output_type": "display_data"
    },
    {
     "data": {
      "application/vnd.jupyter.widget-view+json": {
       "model_id": "88658f3eb0e043f3b360706d4bad5d97",
       "version_major": 2,
       "version_minor": 0
      },
      "text/plain": [
       "PROCESSING TASKS | :   0%|          | 0/1 [00:00<?, ?it/s]"
      ]
     },
     "metadata": {},
     "output_type": "display_data"
    },
    {
     "data": {
      "application/vnd.jupyter.widget-view+json": {
       "model_id": "dc8e3c867f2b48e9951935cc1cb3d619",
       "version_major": 2,
       "version_minor": 0
      },
      "text/plain": [
       "COLLECTING RESULTS | :   0%|          | 0/1 [00:00<?, ?it/s]"
      ]
     },
     "metadata": {},
     "output_type": "display_data"
    },
    {
     "name": "stdout",
     "output_type": "stream",
     "text": [
      "Completed downloading\n"
     ]
    },
    {
     "data": {
      "application/vnd.jupyter.widget-view+json": {
       "model_id": "eeb9817709a8486ea8d9b65b62793cfe",
       "version_major": 2,
       "version_minor": 0
      },
      "text/plain": [
       "QUEUEING TASKS | :   0%|          | 0/1 [00:00<?, ?it/s]"
      ]
     },
     "metadata": {},
     "output_type": "display_data"
    },
    {
     "data": {
      "application/vnd.jupyter.widget-view+json": {
       "model_id": "528faf3792fb48f2babbe0239604c8ce",
       "version_major": 2,
       "version_minor": 0
      },
      "text/plain": [
       "PROCESSING TASKS | :   0%|          | 0/1 [00:00<?, ?it/s]"
      ]
     },
     "metadata": {},
     "output_type": "display_data"
    },
    {
     "data": {
      "application/vnd.jupyter.widget-view+json": {
       "model_id": "8f42770937f84768b4deeac5effad510",
       "version_major": 2,
       "version_minor": 0
      },
      "text/plain": [
       "COLLECTING RESULTS | :   0%|          | 0/1 [00:00<?, ?it/s]"
      ]
     },
     "metadata": {},
     "output_type": "display_data"
    },
    {
     "name": "stdout",
     "output_type": "stream",
     "text": [
      "Completed downloading\n"
     ]
    },
    {
     "data": {
      "application/vnd.jupyter.widget-view+json": {
       "model_id": "83664df7227c47ebaa88e253fdb5ca7e",
       "version_major": 2,
       "version_minor": 0
      },
      "text/plain": [
       "QUEUEING TASKS | :   0%|          | 0/1 [00:00<?, ?it/s]"
      ]
     },
     "metadata": {},
     "output_type": "display_data"
    },
    {
     "data": {
      "application/vnd.jupyter.widget-view+json": {
       "model_id": "db949a0460e94b90a6cf10708af8ea08",
       "version_major": 2,
       "version_minor": 0
      },
      "text/plain": [
       "PROCESSING TASKS | :   0%|          | 0/1 [00:00<?, ?it/s]"
      ]
     },
     "metadata": {},
     "output_type": "display_data"
    },
    {
     "data": {
      "application/vnd.jupyter.widget-view+json": {
       "model_id": "b291945bd8ab4f78a2d055313710e1ee",
       "version_major": 2,
       "version_minor": 0
      },
      "text/plain": [
       "COLLECTING RESULTS | :   0%|          | 0/1 [00:00<?, ?it/s]"
      ]
     },
     "metadata": {},
     "output_type": "display_data"
    },
    {
     "name": "stdout",
     "output_type": "stream",
     "text": [
      "Completed downloading\n"
     ]
    },
    {
     "data": {
      "application/vnd.jupyter.widget-view+json": {
       "model_id": "559d693ae385425993ca7f55a01263f8",
       "version_major": 2,
       "version_minor": 0
      },
      "text/plain": [
       "QUEUEING TASKS | :   0%|          | 0/1 [00:00<?, ?it/s]"
      ]
     },
     "metadata": {},
     "output_type": "display_data"
    },
    {
     "data": {
      "application/vnd.jupyter.widget-view+json": {
       "model_id": "37964a6130c14dfebcc3cefc07266a94",
       "version_major": 2,
       "version_minor": 0
      },
      "text/plain": [
       "PROCESSING TASKS | :   0%|          | 0/1 [00:00<?, ?it/s]"
      ]
     },
     "metadata": {},
     "output_type": "display_data"
    },
    {
     "data": {
      "application/vnd.jupyter.widget-view+json": {
       "model_id": "1af83636f70147d8841cbc4a8430565d",
       "version_major": 2,
       "version_minor": 0
      },
      "text/plain": [
       "COLLECTING RESULTS | :   0%|          | 0/1 [00:00<?, ?it/s]"
      ]
     },
     "metadata": {},
     "output_type": "display_data"
    },
    {
     "name": "stdout",
     "output_type": "stream",
     "text": [
      "Completed downloading\n"
     ]
    },
    {
     "data": {
      "application/vnd.jupyter.widget-view+json": {
       "model_id": "4ac96928f49743558061cf5399ee4fd7",
       "version_major": 2,
       "version_minor": 0
      },
      "text/plain": [
       "QUEUEING TASKS | :   0%|          | 0/1 [00:00<?, ?it/s]"
      ]
     },
     "metadata": {},
     "output_type": "display_data"
    },
    {
     "data": {
      "application/vnd.jupyter.widget-view+json": {
       "model_id": "40deaacb9ca64a35884c42ff0fd4f305",
       "version_major": 2,
       "version_minor": 0
      },
      "text/plain": [
       "PROCESSING TASKS | :   0%|          | 0/1 [00:00<?, ?it/s]"
      ]
     },
     "metadata": {},
     "output_type": "display_data"
    },
    {
     "data": {
      "application/vnd.jupyter.widget-view+json": {
       "model_id": "96f1134f650f4fcda7a640112328be89",
       "version_major": 2,
       "version_minor": 0
      },
      "text/plain": [
       "COLLECTING RESULTS | :   0%|          | 0/1 [00:00<?, ?it/s]"
      ]
     },
     "metadata": {},
     "output_type": "display_data"
    },
    {
     "name": "stdout",
     "output_type": "stream",
     "text": [
      "Completed downloading\n"
     ]
    },
    {
     "data": {
      "application/vnd.jupyter.widget-view+json": {
       "model_id": "9995fb27187244ffac68df7213b3675a",
       "version_major": 2,
       "version_minor": 0
      },
      "text/plain": [
       "QUEUEING TASKS | :   0%|          | 0/1 [00:00<?, ?it/s]"
      ]
     },
     "metadata": {},
     "output_type": "display_data"
    },
    {
     "data": {
      "application/vnd.jupyter.widget-view+json": {
       "model_id": "241cc14281684a768aff09a5b8ae6b71",
       "version_major": 2,
       "version_minor": 0
      },
      "text/plain": [
       "PROCESSING TASKS | :   0%|          | 0/1 [00:00<?, ?it/s]"
      ]
     },
     "metadata": {},
     "output_type": "display_data"
    },
    {
     "data": {
      "application/vnd.jupyter.widget-view+json": {
       "model_id": "84cc340f54ad4e228da0d4644d9b57dc",
       "version_major": 2,
       "version_minor": 0
      },
      "text/plain": [
       "COLLECTING RESULTS | :   0%|          | 0/1 [00:00<?, ?it/s]"
      ]
     },
     "metadata": {},
     "output_type": "display_data"
    },
    {
     "name": "stdout",
     "output_type": "stream",
     "text": [
      "Completed downloading\n"
     ]
    },
    {
     "data": {
      "application/vnd.jupyter.widget-view+json": {
       "model_id": "f70b9e18bc304ec9a28680a3e24921c2",
       "version_major": 2,
       "version_minor": 0
      },
      "text/plain": [
       "QUEUEING TASKS | :   0%|          | 0/1 [00:00<?, ?it/s]"
      ]
     },
     "metadata": {},
     "output_type": "display_data"
    },
    {
     "data": {
      "application/vnd.jupyter.widget-view+json": {
       "model_id": "0e4657c286bb4c1193fad0da7b0341e0",
       "version_major": 2,
       "version_minor": 0
      },
      "text/plain": [
       "PROCESSING TASKS | :   0%|          | 0/1 [00:00<?, ?it/s]"
      ]
     },
     "metadata": {},
     "output_type": "display_data"
    },
    {
     "data": {
      "application/vnd.jupyter.widget-view+json": {
       "model_id": "3cb3f2e8d05e47b38073c673d9a948dd",
       "version_major": 2,
       "version_minor": 0
      },
      "text/plain": [
       "COLLECTING RESULTS | :   0%|          | 0/1 [00:00<?, ?it/s]"
      ]
     },
     "metadata": {},
     "output_type": "display_data"
    },
    {
     "name": "stdout",
     "output_type": "stream",
     "text": [
      "Completed downloading\n"
     ]
    },
    {
     "data": {
      "application/vnd.jupyter.widget-view+json": {
       "model_id": "c6bfaa3907d8406fa7d4dcb09cde30df",
       "version_major": 2,
       "version_minor": 0
      },
      "text/plain": [
       "QUEUEING TASKS | :   0%|          | 0/1 [00:00<?, ?it/s]"
      ]
     },
     "metadata": {},
     "output_type": "display_data"
    },
    {
     "data": {
      "application/vnd.jupyter.widget-view+json": {
       "model_id": "79aaa529e19f41bf9158ed1b6f22ade8",
       "version_major": 2,
       "version_minor": 0
      },
      "text/plain": [
       "PROCESSING TASKS | :   0%|          | 0/1 [00:00<?, ?it/s]"
      ]
     },
     "metadata": {},
     "output_type": "display_data"
    },
    {
     "data": {
      "application/vnd.jupyter.widget-view+json": {
       "model_id": "6c0b9d12af3a499ca9cf927bed1875a4",
       "version_major": 2,
       "version_minor": 0
      },
      "text/plain": [
       "COLLECTING RESULTS | :   0%|          | 0/1 [00:00<?, ?it/s]"
      ]
     },
     "metadata": {},
     "output_type": "display_data"
    },
    {
     "name": "stdout",
     "output_type": "stream",
     "text": [
      "Completed downloading\n"
     ]
    },
    {
     "data": {
      "application/vnd.jupyter.widget-view+json": {
       "model_id": "0724ab6954d040879756316505a963c2",
       "version_major": 2,
       "version_minor": 0
      },
      "text/plain": [
       "QUEUEING TASKS | :   0%|          | 0/1 [00:00<?, ?it/s]"
      ]
     },
     "metadata": {},
     "output_type": "display_data"
    },
    {
     "data": {
      "application/vnd.jupyter.widget-view+json": {
       "model_id": "6e19edd6750f4a939fd0f433af3c0d83",
       "version_major": 2,
       "version_minor": 0
      },
      "text/plain": [
       "PROCESSING TASKS | :   0%|          | 0/1 [00:00<?, ?it/s]"
      ]
     },
     "metadata": {},
     "output_type": "display_data"
    },
    {
     "data": {
      "application/vnd.jupyter.widget-view+json": {
       "model_id": "a633317065264901bbf991664bb0e384",
       "version_major": 2,
       "version_minor": 0
      },
      "text/plain": [
       "COLLECTING RESULTS | :   0%|          | 0/1 [00:00<?, ?it/s]"
      ]
     },
     "metadata": {},
     "output_type": "display_data"
    },
    {
     "name": "stdout",
     "output_type": "stream",
     "text": [
      "Completed downloading\n"
     ]
    },
    {
     "data": {
      "application/vnd.jupyter.widget-view+json": {
       "model_id": "dcb18be07994480e8d4fbfb89c5e6987",
       "version_major": 2,
       "version_minor": 0
      },
      "text/plain": [
       "QUEUEING TASKS | :   0%|          | 0/1 [00:00<?, ?it/s]"
      ]
     },
     "metadata": {},
     "output_type": "display_data"
    },
    {
     "data": {
      "application/vnd.jupyter.widget-view+json": {
       "model_id": "8c012521ec04445e82b7348051bb94c8",
       "version_major": 2,
       "version_minor": 0
      },
      "text/plain": [
       "PROCESSING TASKS | :   0%|          | 0/1 [00:00<?, ?it/s]"
      ]
     },
     "metadata": {},
     "output_type": "display_data"
    },
    {
     "data": {
      "application/vnd.jupyter.widget-view+json": {
       "model_id": "c8f6dd211492456a9b3c8f7205a78752",
       "version_major": 2,
       "version_minor": 0
      },
      "text/plain": [
       "COLLECTING RESULTS | :   0%|          | 0/1 [00:00<?, ?it/s]"
      ]
     },
     "metadata": {},
     "output_type": "display_data"
    },
    {
     "name": "stdout",
     "output_type": "stream",
     "text": [
      "Completed downloading\n"
     ]
    },
    {
     "data": {
      "application/vnd.jupyter.widget-view+json": {
       "model_id": "c9af93ab1d8341fe8f245594150cd14c",
       "version_major": 2,
       "version_minor": 0
      },
      "text/plain": [
       "QUEUEING TASKS | :   0%|          | 0/1 [00:00<?, ?it/s]"
      ]
     },
     "metadata": {},
     "output_type": "display_data"
    },
    {
     "data": {
      "application/vnd.jupyter.widget-view+json": {
       "model_id": "9b23bd96e8fe46be9165cb1490859b9a",
       "version_major": 2,
       "version_minor": 0
      },
      "text/plain": [
       "PROCESSING TASKS | :   0%|          | 0/1 [00:00<?, ?it/s]"
      ]
     },
     "metadata": {},
     "output_type": "display_data"
    },
    {
     "data": {
      "application/vnd.jupyter.widget-view+json": {
       "model_id": "d9ea0bcdebb64e25a367ab1713631cad",
       "version_major": 2,
       "version_minor": 0
      },
      "text/plain": [
       "COLLECTING RESULTS | :   0%|          | 0/1 [00:00<?, ?it/s]"
      ]
     },
     "metadata": {},
     "output_type": "display_data"
    },
    {
     "name": "stdout",
     "output_type": "stream",
     "text": [
      "Completed downloading\n"
     ]
    },
    {
     "data": {
      "application/vnd.jupyter.widget-view+json": {
       "model_id": "56343a03c8f746e5ba78b66b23502b31",
       "version_major": 2,
       "version_minor": 0
      },
      "text/plain": [
       "QUEUEING TASKS | :   0%|          | 0/1 [00:00<?, ?it/s]"
      ]
     },
     "metadata": {},
     "output_type": "display_data"
    },
    {
     "data": {
      "application/vnd.jupyter.widget-view+json": {
       "model_id": "e106f3cfd45f424caae0ea5d38fd80e9",
       "version_major": 2,
       "version_minor": 0
      },
      "text/plain": [
       "PROCESSING TASKS | :   0%|          | 0/1 [00:00<?, ?it/s]"
      ]
     },
     "metadata": {},
     "output_type": "display_data"
    },
    {
     "data": {
      "application/vnd.jupyter.widget-view+json": {
       "model_id": "a2129f68de07427a85c5706b038a1752",
       "version_major": 2,
       "version_minor": 0
      },
      "text/plain": [
       "COLLECTING RESULTS | :   0%|          | 0/1 [00:00<?, ?it/s]"
      ]
     },
     "metadata": {},
     "output_type": "display_data"
    },
    {
     "name": "stdout",
     "output_type": "stream",
     "text": [
      "Completed downloading\n"
     ]
    },
    {
     "data": {
      "application/vnd.jupyter.widget-view+json": {
       "model_id": "b80e8761b1a341de9106ddcf5add1256",
       "version_major": 2,
       "version_minor": 0
      },
      "text/plain": [
       "QUEUEING TASKS | :   0%|          | 0/1 [00:00<?, ?it/s]"
      ]
     },
     "metadata": {},
     "output_type": "display_data"
    },
    {
     "data": {
      "application/vnd.jupyter.widget-view+json": {
       "model_id": "94169a0455d64d718c9599ab885277ba",
       "version_major": 2,
       "version_minor": 0
      },
      "text/plain": [
       "PROCESSING TASKS | :   0%|          | 0/1 [00:00<?, ?it/s]"
      ]
     },
     "metadata": {},
     "output_type": "display_data"
    },
    {
     "data": {
      "application/vnd.jupyter.widget-view+json": {
       "model_id": "90611be6e9474c0c8b85ed397036bb33",
       "version_major": 2,
       "version_minor": 0
      },
      "text/plain": [
       "COLLECTING RESULTS | :   0%|          | 0/1 [00:00<?, ?it/s]"
      ]
     },
     "metadata": {},
     "output_type": "display_data"
    },
    {
     "name": "stdout",
     "output_type": "stream",
     "text": [
      "Completed downloading\n"
     ]
    },
    {
     "data": {
      "application/vnd.jupyter.widget-view+json": {
       "model_id": "b84b9387d4e1400e9325210d800f0311",
       "version_major": 2,
       "version_minor": 0
      },
      "text/plain": [
       "QUEUEING TASKS | :   0%|          | 0/1 [00:00<?, ?it/s]"
      ]
     },
     "metadata": {},
     "output_type": "display_data"
    },
    {
     "data": {
      "application/vnd.jupyter.widget-view+json": {
       "model_id": "4a713dbcfedd4cf5a4cdc3fc4a824713",
       "version_major": 2,
       "version_minor": 0
      },
      "text/plain": [
       "PROCESSING TASKS | :   0%|          | 0/1 [00:00<?, ?it/s]"
      ]
     },
     "metadata": {},
     "output_type": "display_data"
    },
    {
     "data": {
      "application/vnd.jupyter.widget-view+json": {
       "model_id": "9b4d8b95041e4d688492c9f0a0c9e280",
       "version_major": 2,
       "version_minor": 0
      },
      "text/plain": [
       "COLLECTING RESULTS | :   0%|          | 0/1 [00:00<?, ?it/s]"
      ]
     },
     "metadata": {},
     "output_type": "display_data"
    },
    {
     "name": "stdout",
     "output_type": "stream",
     "text": [
      "Completed downloading\n"
     ]
    },
    {
     "data": {
      "application/vnd.jupyter.widget-view+json": {
       "model_id": "e649e4a462a64f6a960b7fb5f139dfa9",
       "version_major": 2,
       "version_minor": 0
      },
      "text/plain": [
       "QUEUEING TASKS | :   0%|          | 0/1 [00:00<?, ?it/s]"
      ]
     },
     "metadata": {},
     "output_type": "display_data"
    },
    {
     "data": {
      "application/vnd.jupyter.widget-view+json": {
       "model_id": "60ad66ece9ce43109da93fb736caab03",
       "version_major": 2,
       "version_minor": 0
      },
      "text/plain": [
       "PROCESSING TASKS | :   0%|          | 0/1 [00:00<?, ?it/s]"
      ]
     },
     "metadata": {},
     "output_type": "display_data"
    },
    {
     "data": {
      "application/vnd.jupyter.widget-view+json": {
       "model_id": "2ceb6228617e48eab26eea4b3b89d11d",
       "version_major": 2,
       "version_minor": 0
      },
      "text/plain": [
       "COLLECTING RESULTS | :   0%|          | 0/1 [00:00<?, ?it/s]"
      ]
     },
     "metadata": {},
     "output_type": "display_data"
    },
    {
     "name": "stdout",
     "output_type": "stream",
     "text": [
      "Completed downloading\n"
     ]
    },
    {
     "data": {
      "application/vnd.jupyter.widget-view+json": {
       "model_id": "72b29c7fb32f416d9604315839608392",
       "version_major": 2,
       "version_minor": 0
      },
      "text/plain": [
       "QUEUEING TASKS | :   0%|          | 0/1 [00:00<?, ?it/s]"
      ]
     },
     "metadata": {},
     "output_type": "display_data"
    },
    {
     "data": {
      "application/vnd.jupyter.widget-view+json": {
       "model_id": "16fbfc8c46454a70961b836d8b82d591",
       "version_major": 2,
       "version_minor": 0
      },
      "text/plain": [
       "PROCESSING TASKS | :   0%|          | 0/1 [00:00<?, ?it/s]"
      ]
     },
     "metadata": {},
     "output_type": "display_data"
    },
    {
     "data": {
      "application/vnd.jupyter.widget-view+json": {
       "model_id": "5dc216de341a4622835dcd49f52acc59",
       "version_major": 2,
       "version_minor": 0
      },
      "text/plain": [
       "COLLECTING RESULTS | :   0%|          | 0/1 [00:00<?, ?it/s]"
      ]
     },
     "metadata": {},
     "output_type": "display_data"
    },
    {
     "name": "stdout",
     "output_type": "stream",
     "text": [
      "Completed downloading\n"
     ]
    },
    {
     "data": {
      "application/vnd.jupyter.widget-view+json": {
       "model_id": "cf0b4b6e8b3145198e01354d82fff43a",
       "version_major": 2,
       "version_minor": 0
      },
      "text/plain": [
       "QUEUEING TASKS | :   0%|          | 0/1 [00:00<?, ?it/s]"
      ]
     },
     "metadata": {},
     "output_type": "display_data"
    },
    {
     "data": {
      "application/vnd.jupyter.widget-view+json": {
       "model_id": "0262bd4aa59b47a083a31b3fdd2e23b0",
       "version_major": 2,
       "version_minor": 0
      },
      "text/plain": [
       "PROCESSING TASKS | :   0%|          | 0/1 [00:00<?, ?it/s]"
      ]
     },
     "metadata": {},
     "output_type": "display_data"
    },
    {
     "data": {
      "application/vnd.jupyter.widget-view+json": {
       "model_id": "562ae96d74714375a43a2e06aa79fe33",
       "version_major": 2,
       "version_minor": 0
      },
      "text/plain": [
       "COLLECTING RESULTS | :   0%|          | 0/1 [00:00<?, ?it/s]"
      ]
     },
     "metadata": {},
     "output_type": "display_data"
    },
    {
     "name": "stdout",
     "output_type": "stream",
     "text": [
      "Completed downloading\n"
     ]
    },
    {
     "data": {
      "application/vnd.jupyter.widget-view+json": {
       "model_id": "4932a7cd34184ddbb7f4bfc5c1bbbf1d",
       "version_major": 2,
       "version_minor": 0
      },
      "text/plain": [
       "QUEUEING TASKS | :   0%|          | 0/1 [00:00<?, ?it/s]"
      ]
     },
     "metadata": {},
     "output_type": "display_data"
    },
    {
     "data": {
      "application/vnd.jupyter.widget-view+json": {
       "model_id": "afca4a12eb834d2ab5d9dfed184cd8cb",
       "version_major": 2,
       "version_minor": 0
      },
      "text/plain": [
       "PROCESSING TASKS | :   0%|          | 0/1 [00:00<?, ?it/s]"
      ]
     },
     "metadata": {},
     "output_type": "display_data"
    },
    {
     "data": {
      "application/vnd.jupyter.widget-view+json": {
       "model_id": "d7695ce141c74a228a13083b44b06d7e",
       "version_major": 2,
       "version_minor": 0
      },
      "text/plain": [
       "COLLECTING RESULTS | :   0%|          | 0/1 [00:00<?, ?it/s]"
      ]
     },
     "metadata": {},
     "output_type": "display_data"
    },
    {
     "name": "stdout",
     "output_type": "stream",
     "text": [
      "Completed downloading\n"
     ]
    },
    {
     "data": {
      "application/vnd.jupyter.widget-view+json": {
       "model_id": "e89e726652d7450cb152e6e128360f75",
       "version_major": 2,
       "version_minor": 0
      },
      "text/plain": [
       "QUEUEING TASKS | :   0%|          | 0/1 [00:00<?, ?it/s]"
      ]
     },
     "metadata": {},
     "output_type": "display_data"
    },
    {
     "data": {
      "application/vnd.jupyter.widget-view+json": {
       "model_id": "1f2d67e093594ca6a7183be271c597a5",
       "version_major": 2,
       "version_minor": 0
      },
      "text/plain": [
       "PROCESSING TASKS | :   0%|          | 0/1 [00:00<?, ?it/s]"
      ]
     },
     "metadata": {},
     "output_type": "display_data"
    },
    {
     "data": {
      "application/vnd.jupyter.widget-view+json": {
       "model_id": "5afe47cb2d374cee9ac3072827d81aab",
       "version_major": 2,
       "version_minor": 0
      },
      "text/plain": [
       "COLLECTING RESULTS | :   0%|          | 0/1 [00:00<?, ?it/s]"
      ]
     },
     "metadata": {},
     "output_type": "display_data"
    },
    {
     "name": "stdout",
     "output_type": "stream",
     "text": [
      "Completed downloading\n"
     ]
    },
    {
     "data": {
      "application/vnd.jupyter.widget-view+json": {
       "model_id": "6a3b91347b2a43a7aabb4fcf8a5794a2",
       "version_major": 2,
       "version_minor": 0
      },
      "text/plain": [
       "QUEUEING TASKS | :   0%|          | 0/1 [00:00<?, ?it/s]"
      ]
     },
     "metadata": {},
     "output_type": "display_data"
    },
    {
     "data": {
      "application/vnd.jupyter.widget-view+json": {
       "model_id": "f4c86dcb075b4fd88706ec6af6c53263",
       "version_major": 2,
       "version_minor": 0
      },
      "text/plain": [
       "PROCESSING TASKS | :   0%|          | 0/1 [00:00<?, ?it/s]"
      ]
     },
     "metadata": {},
     "output_type": "display_data"
    },
    {
     "data": {
      "application/vnd.jupyter.widget-view+json": {
       "model_id": "ed796b97160e4a9d89c8874255c3687a",
       "version_major": 2,
       "version_minor": 0
      },
      "text/plain": [
       "COLLECTING RESULTS | :   0%|          | 0/1 [00:00<?, ?it/s]"
      ]
     },
     "metadata": {},
     "output_type": "display_data"
    },
    {
     "name": "stdout",
     "output_type": "stream",
     "text": [
      "Completed downloading\n"
     ]
    },
    {
     "data": {
      "application/vnd.jupyter.widget-view+json": {
       "model_id": "2686b55ad0264fcb8f764e316f39e4d6",
       "version_major": 2,
       "version_minor": 0
      },
      "text/plain": [
       "QUEUEING TASKS | :   0%|          | 0/1 [00:00<?, ?it/s]"
      ]
     },
     "metadata": {},
     "output_type": "display_data"
    },
    {
     "data": {
      "application/vnd.jupyter.widget-view+json": {
       "model_id": "b22fb224618c4a5ab0fe90335d160265",
       "version_major": 2,
       "version_minor": 0
      },
      "text/plain": [
       "PROCESSING TASKS | :   0%|          | 0/1 [00:00<?, ?it/s]"
      ]
     },
     "metadata": {},
     "output_type": "display_data"
    },
    {
     "data": {
      "application/vnd.jupyter.widget-view+json": {
       "model_id": "eed5ad43e45842c880a5544cf15ae017",
       "version_major": 2,
       "version_minor": 0
      },
      "text/plain": [
       "COLLECTING RESULTS | :   0%|          | 0/1 [00:00<?, ?it/s]"
      ]
     },
     "metadata": {},
     "output_type": "display_data"
    },
    {
     "name": "stdout",
     "output_type": "stream",
     "text": [
      "Completed downloading\n"
     ]
    },
    {
     "data": {
      "application/vnd.jupyter.widget-view+json": {
       "model_id": "eaf3be916a5a45508fc569fbe0a34009",
       "version_major": 2,
       "version_minor": 0
      },
      "text/plain": [
       "QUEUEING TASKS | :   0%|          | 0/1 [00:00<?, ?it/s]"
      ]
     },
     "metadata": {},
     "output_type": "display_data"
    },
    {
     "data": {
      "application/vnd.jupyter.widget-view+json": {
       "model_id": "be0eeca9bc2a4f48bb5c59be9f8ca627",
       "version_major": 2,
       "version_minor": 0
      },
      "text/plain": [
       "PROCESSING TASKS | :   0%|          | 0/1 [00:00<?, ?it/s]"
      ]
     },
     "metadata": {},
     "output_type": "display_data"
    },
    {
     "data": {
      "application/vnd.jupyter.widget-view+json": {
       "model_id": "d2514a944aa04e54b0280b7f24778e54",
       "version_major": 2,
       "version_minor": 0
      },
      "text/plain": [
       "COLLECTING RESULTS | :   0%|          | 0/1 [00:00<?, ?it/s]"
      ]
     },
     "metadata": {},
     "output_type": "display_data"
    },
    {
     "name": "stdout",
     "output_type": "stream",
     "text": [
      "Completed downloading\n"
     ]
    },
    {
     "data": {
      "application/vnd.jupyter.widget-view+json": {
       "model_id": "67e9eebe8e1f4e9e9a40f39702602d1f",
       "version_major": 2,
       "version_minor": 0
      },
      "text/plain": [
       "QUEUEING TASKS | :   0%|          | 0/1 [00:00<?, ?it/s]"
      ]
     },
     "metadata": {},
     "output_type": "display_data"
    },
    {
     "data": {
      "application/vnd.jupyter.widget-view+json": {
       "model_id": "a06c2166c1764254ad13eb1a1f75e467",
       "version_major": 2,
       "version_minor": 0
      },
      "text/plain": [
       "PROCESSING TASKS | :   0%|          | 0/1 [00:00<?, ?it/s]"
      ]
     },
     "metadata": {},
     "output_type": "display_data"
    },
    {
     "data": {
      "application/vnd.jupyter.widget-view+json": {
       "model_id": "36c7f14f41ae4dad9844ddcc8a810cac",
       "version_major": 2,
       "version_minor": 0
      },
      "text/plain": [
       "COLLECTING RESULTS | :   0%|          | 0/1 [00:00<?, ?it/s]"
      ]
     },
     "metadata": {},
     "output_type": "display_data"
    },
    {
     "name": "stdout",
     "output_type": "stream",
     "text": [
      "Completed downloading\n"
     ]
    },
    {
     "data": {
      "application/vnd.jupyter.widget-view+json": {
       "model_id": "de3e5ebe0715437eb5a1d1ef76e8367c",
       "version_major": 2,
       "version_minor": 0
      },
      "text/plain": [
       "QUEUEING TASKS | :   0%|          | 0/1 [00:00<?, ?it/s]"
      ]
     },
     "metadata": {},
     "output_type": "display_data"
    },
    {
     "data": {
      "application/vnd.jupyter.widget-view+json": {
       "model_id": "1e43bc077f6f4ad480cf7c167ab51710",
       "version_major": 2,
       "version_minor": 0
      },
      "text/plain": [
       "PROCESSING TASKS | :   0%|          | 0/1 [00:00<?, ?it/s]"
      ]
     },
     "metadata": {},
     "output_type": "display_data"
    },
    {
     "data": {
      "application/vnd.jupyter.widget-view+json": {
       "model_id": "2786c1bfaf5c4e69b000bf36a0f2bd70",
       "version_major": 2,
       "version_minor": 0
      },
      "text/plain": [
       "COLLECTING RESULTS | :   0%|          | 0/1 [00:00<?, ?it/s]"
      ]
     },
     "metadata": {},
     "output_type": "display_data"
    },
    {
     "name": "stdout",
     "output_type": "stream",
     "text": [
      "Completed downloading\n"
     ]
    },
    {
     "data": {
      "application/vnd.jupyter.widget-view+json": {
       "model_id": "559fd642579b49259f241dd08a4fbed0",
       "version_major": 2,
       "version_minor": 0
      },
      "text/plain": [
       "QUEUEING TASKS | :   0%|          | 0/1 [00:00<?, ?it/s]"
      ]
     },
     "metadata": {},
     "output_type": "display_data"
    },
    {
     "data": {
      "application/vnd.jupyter.widget-view+json": {
       "model_id": "82158d19594448d0a12bced89720f437",
       "version_major": 2,
       "version_minor": 0
      },
      "text/plain": [
       "PROCESSING TASKS | :   0%|          | 0/1 [00:00<?, ?it/s]"
      ]
     },
     "metadata": {},
     "output_type": "display_data"
    },
    {
     "data": {
      "application/vnd.jupyter.widget-view+json": {
       "model_id": "a1e25e7ab45441058fc0b5369cbe0004",
       "version_major": 2,
       "version_minor": 0
      },
      "text/plain": [
       "COLLECTING RESULTS | :   0%|          | 0/1 [00:00<?, ?it/s]"
      ]
     },
     "metadata": {},
     "output_type": "display_data"
    },
    {
     "name": "stdout",
     "output_type": "stream",
     "text": [
      "Completed downloading\n"
     ]
    },
    {
     "data": {
      "application/vnd.jupyter.widget-view+json": {
       "model_id": "446ddc38185344ed852ed81ca7419d51",
       "version_major": 2,
       "version_minor": 0
      },
      "text/plain": [
       "QUEUEING TASKS | :   0%|          | 0/1 [00:00<?, ?it/s]"
      ]
     },
     "metadata": {},
     "output_type": "display_data"
    },
    {
     "data": {
      "application/vnd.jupyter.widget-view+json": {
       "model_id": "a0cd37321bba4a13ae59dddd8d6bf2e4",
       "version_major": 2,
       "version_minor": 0
      },
      "text/plain": [
       "PROCESSING TASKS | :   0%|          | 0/1 [00:00<?, ?it/s]"
      ]
     },
     "metadata": {},
     "output_type": "display_data"
    },
    {
     "data": {
      "application/vnd.jupyter.widget-view+json": {
       "model_id": "cb91ceba2af742de965f0456e2759344",
       "version_major": 2,
       "version_minor": 0
      },
      "text/plain": [
       "COLLECTING RESULTS | :   0%|          | 0/1 [00:00<?, ?it/s]"
      ]
     },
     "metadata": {},
     "output_type": "display_data"
    },
    {
     "name": "stdout",
     "output_type": "stream",
     "text": [
      "Completed downloading\n"
     ]
    },
    {
     "data": {
      "application/vnd.jupyter.widget-view+json": {
       "model_id": "0b2f5886df1840d7b312b82c1688191a",
       "version_major": 2,
       "version_minor": 0
      },
      "text/plain": [
       "QUEUEING TASKS | :   0%|          | 0/1 [00:00<?, ?it/s]"
      ]
     },
     "metadata": {},
     "output_type": "display_data"
    },
    {
     "data": {
      "application/vnd.jupyter.widget-view+json": {
       "model_id": "10ca16ebefa94d529e8b903eef4259dc",
       "version_major": 2,
       "version_minor": 0
      },
      "text/plain": [
       "PROCESSING TASKS | :   0%|          | 0/1 [00:00<?, ?it/s]"
      ]
     },
     "metadata": {},
     "output_type": "display_data"
    },
    {
     "data": {
      "application/vnd.jupyter.widget-view+json": {
       "model_id": "05691fdb733c46328b2387000b7e9576",
       "version_major": 2,
       "version_minor": 0
      },
      "text/plain": [
       "COLLECTING RESULTS | :   0%|          | 0/1 [00:00<?, ?it/s]"
      ]
     },
     "metadata": {},
     "output_type": "display_data"
    },
    {
     "name": "stdout",
     "output_type": "stream",
     "text": [
      "Completed downloading\n"
     ]
    },
    {
     "data": {
      "application/vnd.jupyter.widget-view+json": {
       "model_id": "cb346a7843894e45873a3c64d16a31a4",
       "version_major": 2,
       "version_minor": 0
      },
      "text/plain": [
       "QUEUEING TASKS | :   0%|          | 0/1 [00:00<?, ?it/s]"
      ]
     },
     "metadata": {},
     "output_type": "display_data"
    },
    {
     "data": {
      "application/vnd.jupyter.widget-view+json": {
       "model_id": "df4736a49e48414fa6f36ab729302ea1",
       "version_major": 2,
       "version_minor": 0
      },
      "text/plain": [
       "PROCESSING TASKS | :   0%|          | 0/1 [00:00<?, ?it/s]"
      ]
     },
     "metadata": {},
     "output_type": "display_data"
    },
    {
     "data": {
      "application/vnd.jupyter.widget-view+json": {
       "model_id": "80ac6e877cf544b1a428fcf4d1e3c8ae",
       "version_major": 2,
       "version_minor": 0
      },
      "text/plain": [
       "COLLECTING RESULTS | :   0%|          | 0/1 [00:00<?, ?it/s]"
      ]
     },
     "metadata": {},
     "output_type": "display_data"
    },
    {
     "name": "stdout",
     "output_type": "stream",
     "text": [
      "Completed downloading\n"
     ]
    },
    {
     "data": {
      "application/vnd.jupyter.widget-view+json": {
       "model_id": "b232539890074830a987c49ba103f806",
       "version_major": 2,
       "version_minor": 0
      },
      "text/plain": [
       "QUEUEING TASKS | :   0%|          | 0/1 [00:00<?, ?it/s]"
      ]
     },
     "metadata": {},
     "output_type": "display_data"
    },
    {
     "data": {
      "application/vnd.jupyter.widget-view+json": {
       "model_id": "7817b04ee53e4f42a617e1facd5d997b",
       "version_major": 2,
       "version_minor": 0
      },
      "text/plain": [
       "PROCESSING TASKS | :   0%|          | 0/1 [00:00<?, ?it/s]"
      ]
     },
     "metadata": {},
     "output_type": "display_data"
    },
    {
     "data": {
      "application/vnd.jupyter.widget-view+json": {
       "model_id": "8f8556f938dc4fa6a6f6728a67c23f29",
       "version_major": 2,
       "version_minor": 0
      },
      "text/plain": [
       "COLLECTING RESULTS | :   0%|          | 0/1 [00:00<?, ?it/s]"
      ]
     },
     "metadata": {},
     "output_type": "display_data"
    },
    {
     "name": "stdout",
     "output_type": "stream",
     "text": [
      "Completed downloading\n"
     ]
    },
    {
     "data": {
      "application/vnd.jupyter.widget-view+json": {
       "model_id": "272f216a23eb4657a6f605ad2dab5ce9",
       "version_major": 2,
       "version_minor": 0
      },
      "text/plain": [
       "QUEUEING TASKS | :   0%|          | 0/1 [00:00<?, ?it/s]"
      ]
     },
     "metadata": {},
     "output_type": "display_data"
    },
    {
     "data": {
      "application/vnd.jupyter.widget-view+json": {
       "model_id": "d004e82d6f7541a697d10791ac9f629e",
       "version_major": 2,
       "version_minor": 0
      },
      "text/plain": [
       "PROCESSING TASKS | :   0%|          | 0/1 [00:00<?, ?it/s]"
      ]
     },
     "metadata": {},
     "output_type": "display_data"
    },
    {
     "data": {
      "application/vnd.jupyter.widget-view+json": {
       "model_id": "4d1ba61f08b746808d6a4d54ef0e4ceb",
       "version_major": 2,
       "version_minor": 0
      },
      "text/plain": [
       "COLLECTING RESULTS | :   0%|          | 0/1 [00:00<?, ?it/s]"
      ]
     },
     "metadata": {},
     "output_type": "display_data"
    },
    {
     "name": "stdout",
     "output_type": "stream",
     "text": [
      "Completed downloading\n"
     ]
    },
    {
     "data": {
      "application/vnd.jupyter.widget-view+json": {
       "model_id": "f9d25aa889344c69ae90e2ae8a2a2989",
       "version_major": 2,
       "version_minor": 0
      },
      "text/plain": [
       "QUEUEING TASKS | :   0%|          | 0/1 [00:00<?, ?it/s]"
      ]
     },
     "metadata": {},
     "output_type": "display_data"
    },
    {
     "data": {
      "application/vnd.jupyter.widget-view+json": {
       "model_id": "0eb88135cc454225b41a995ff9832d82",
       "version_major": 2,
       "version_minor": 0
      },
      "text/plain": [
       "PROCESSING TASKS | :   0%|          | 0/1 [00:00<?, ?it/s]"
      ]
     },
     "metadata": {},
     "output_type": "display_data"
    },
    {
     "data": {
      "application/vnd.jupyter.widget-view+json": {
       "model_id": "51ab67cc19484b1ab782ff9d4826c374",
       "version_major": 2,
       "version_minor": 0
      },
      "text/plain": [
       "COLLECTING RESULTS | :   0%|          | 0/1 [00:00<?, ?it/s]"
      ]
     },
     "metadata": {},
     "output_type": "display_data"
    },
    {
     "name": "stdout",
     "output_type": "stream",
     "text": [
      "Completed downloading\n"
     ]
    },
    {
     "data": {
      "application/vnd.jupyter.widget-view+json": {
       "model_id": "c6884d089f4547de8e423c6679e26cf6",
       "version_major": 2,
       "version_minor": 0
      },
      "text/plain": [
       "QUEUEING TASKS | :   0%|          | 0/1 [00:00<?, ?it/s]"
      ]
     },
     "metadata": {},
     "output_type": "display_data"
    },
    {
     "data": {
      "application/vnd.jupyter.widget-view+json": {
       "model_id": "f8f507219c814da491a41e18f2dd0b6a",
       "version_major": 2,
       "version_minor": 0
      },
      "text/plain": [
       "PROCESSING TASKS | :   0%|          | 0/1 [00:00<?, ?it/s]"
      ]
     },
     "metadata": {},
     "output_type": "display_data"
    },
    {
     "data": {
      "application/vnd.jupyter.widget-view+json": {
       "model_id": "d22be64d3de2423db02f38c40eff92a7",
       "version_major": 2,
       "version_minor": 0
      },
      "text/plain": [
       "COLLECTING RESULTS | :   0%|          | 0/1 [00:00<?, ?it/s]"
      ]
     },
     "metadata": {},
     "output_type": "display_data"
    },
    {
     "name": "stdout",
     "output_type": "stream",
     "text": [
      "Completed downloading\n"
     ]
    },
    {
     "data": {
      "application/vnd.jupyter.widget-view+json": {
       "model_id": "bde9a103590a47818ffd81a937fb0e9f",
       "version_major": 2,
       "version_minor": 0
      },
      "text/plain": [
       "QUEUEING TASKS | :   0%|          | 0/1 [00:00<?, ?it/s]"
      ]
     },
     "metadata": {},
     "output_type": "display_data"
    },
    {
     "data": {
      "application/vnd.jupyter.widget-view+json": {
       "model_id": "f90972d3754747d99d459f3b160a8a77",
       "version_major": 2,
       "version_minor": 0
      },
      "text/plain": [
       "PROCESSING TASKS | :   0%|          | 0/1 [00:00<?, ?it/s]"
      ]
     },
     "metadata": {},
     "output_type": "display_data"
    },
    {
     "data": {
      "application/vnd.jupyter.widget-view+json": {
       "model_id": "2b1803afd1ab4898a334fafbe0282d84",
       "version_major": 2,
       "version_minor": 0
      },
      "text/plain": [
       "COLLECTING RESULTS | :   0%|          | 0/1 [00:00<?, ?it/s]"
      ]
     },
     "metadata": {},
     "output_type": "display_data"
    },
    {
     "name": "stdout",
     "output_type": "stream",
     "text": [
      "Completed downloading\n"
     ]
    },
    {
     "data": {
      "application/vnd.jupyter.widget-view+json": {
       "model_id": "c1f7cef516ee4e31affd37bf2e32d055",
       "version_major": 2,
       "version_minor": 0
      },
      "text/plain": [
       "QUEUEING TASKS | :   0%|          | 0/1 [00:00<?, ?it/s]"
      ]
     },
     "metadata": {},
     "output_type": "display_data"
    },
    {
     "data": {
      "application/vnd.jupyter.widget-view+json": {
       "model_id": "03fc6d9fdc5d4de4b45950fc9652f6aa",
       "version_major": 2,
       "version_minor": 0
      },
      "text/plain": [
       "PROCESSING TASKS | :   0%|          | 0/1 [00:00<?, ?it/s]"
      ]
     },
     "metadata": {},
     "output_type": "display_data"
    },
    {
     "data": {
      "application/vnd.jupyter.widget-view+json": {
       "model_id": "010d2b33a79f4a9a88155ffc910fd64b",
       "version_major": 2,
       "version_minor": 0
      },
      "text/plain": [
       "COLLECTING RESULTS | :   0%|          | 0/1 [00:00<?, ?it/s]"
      ]
     },
     "metadata": {},
     "output_type": "display_data"
    },
    {
     "name": "stdout",
     "output_type": "stream",
     "text": [
      "Completed downloading\n"
     ]
    },
    {
     "data": {
      "application/vnd.jupyter.widget-view+json": {
       "model_id": "8619e06496de4bda9762639644cd2cb9",
       "version_major": 2,
       "version_minor": 0
      },
      "text/plain": [
       "QUEUEING TASKS | :   0%|          | 0/1 [00:00<?, ?it/s]"
      ]
     },
     "metadata": {},
     "output_type": "display_data"
    },
    {
     "data": {
      "application/vnd.jupyter.widget-view+json": {
       "model_id": "fedd31bf18e24d9f994822661be4c726",
       "version_major": 2,
       "version_minor": 0
      },
      "text/plain": [
       "PROCESSING TASKS | :   0%|          | 0/1 [00:00<?, ?it/s]"
      ]
     },
     "metadata": {},
     "output_type": "display_data"
    },
    {
     "data": {
      "application/vnd.jupyter.widget-view+json": {
       "model_id": "cbcfbd3d12d041df93637c8d960219aa",
       "version_major": 2,
       "version_minor": 0
      },
      "text/plain": [
       "COLLECTING RESULTS | :   0%|          | 0/1 [00:00<?, ?it/s]"
      ]
     },
     "metadata": {},
     "output_type": "display_data"
    },
    {
     "name": "stdout",
     "output_type": "stream",
     "text": [
      "Completed downloading\n"
     ]
    },
    {
     "data": {
      "application/vnd.jupyter.widget-view+json": {
       "model_id": "9ee5de443a4c407ca87945d89651d1aa",
       "version_major": 2,
       "version_minor": 0
      },
      "text/plain": [
       "QUEUEING TASKS | :   0%|          | 0/1 [00:00<?, ?it/s]"
      ]
     },
     "metadata": {},
     "output_type": "display_data"
    },
    {
     "data": {
      "application/vnd.jupyter.widget-view+json": {
       "model_id": "3f2b836d14ee4c5f96be1dfd9a9a633b",
       "version_major": 2,
       "version_minor": 0
      },
      "text/plain": [
       "PROCESSING TASKS | :   0%|          | 0/1 [00:00<?, ?it/s]"
      ]
     },
     "metadata": {},
     "output_type": "display_data"
    },
    {
     "data": {
      "application/vnd.jupyter.widget-view+json": {
       "model_id": "0b3a2febad3e4eb78f9cd91c2dac178f",
       "version_major": 2,
       "version_minor": 0
      },
      "text/plain": [
       "COLLECTING RESULTS | :   0%|          | 0/1 [00:00<?, ?it/s]"
      ]
     },
     "metadata": {},
     "output_type": "display_data"
    },
    {
     "name": "stdout",
     "output_type": "stream",
     "text": [
      "Completed downloading\n"
     ]
    },
    {
     "data": {
      "application/vnd.jupyter.widget-view+json": {
       "model_id": "6fd052a39d78491e95e475f1bafab07a",
       "version_major": 2,
       "version_minor": 0
      },
      "text/plain": [
       "QUEUEING TASKS | :   0%|          | 0/1 [00:00<?, ?it/s]"
      ]
     },
     "metadata": {},
     "output_type": "display_data"
    },
    {
     "data": {
      "application/vnd.jupyter.widget-view+json": {
       "model_id": "1363aff9ab7745c989c90c07a677b4e4",
       "version_major": 2,
       "version_minor": 0
      },
      "text/plain": [
       "PROCESSING TASKS | :   0%|          | 0/1 [00:00<?, ?it/s]"
      ]
     },
     "metadata": {},
     "output_type": "display_data"
    },
    {
     "data": {
      "application/vnd.jupyter.widget-view+json": {
       "model_id": "6b8b0657ba5e45a3b9474d205380e61d",
       "version_major": 2,
       "version_minor": 0
      },
      "text/plain": [
       "COLLECTING RESULTS | :   0%|          | 0/1 [00:00<?, ?it/s]"
      ]
     },
     "metadata": {},
     "output_type": "display_data"
    },
    {
     "name": "stdout",
     "output_type": "stream",
     "text": [
      "Completed downloading\n"
     ]
    },
    {
     "data": {
      "application/vnd.jupyter.widget-view+json": {
       "model_id": "f8f1c93532a844a4ba6853f50f84ca98",
       "version_major": 2,
       "version_minor": 0
      },
      "text/plain": [
       "QUEUEING TASKS | :   0%|          | 0/1 [00:00<?, ?it/s]"
      ]
     },
     "metadata": {},
     "output_type": "display_data"
    },
    {
     "data": {
      "application/vnd.jupyter.widget-view+json": {
       "model_id": "79736c566fa947b39e8c5854676a006d",
       "version_major": 2,
       "version_minor": 0
      },
      "text/plain": [
       "PROCESSING TASKS | :   0%|          | 0/1 [00:00<?, ?it/s]"
      ]
     },
     "metadata": {},
     "output_type": "display_data"
    },
    {
     "data": {
      "application/vnd.jupyter.widget-view+json": {
       "model_id": "113a097b03ca47d5bf72a8cc1df0fc5c",
       "version_major": 2,
       "version_minor": 0
      },
      "text/plain": [
       "COLLECTING RESULTS | :   0%|          | 0/1 [00:00<?, ?it/s]"
      ]
     },
     "metadata": {},
     "output_type": "display_data"
    },
    {
     "name": "stdout",
     "output_type": "stream",
     "text": [
      "Completed downloading\n"
     ]
    },
    {
     "data": {
      "application/vnd.jupyter.widget-view+json": {
       "model_id": "7de3163002d24848b5e1325db7497d6b",
       "version_major": 2,
       "version_minor": 0
      },
      "text/plain": [
       "QUEUEING TASKS | :   0%|          | 0/1 [00:00<?, ?it/s]"
      ]
     },
     "metadata": {},
     "output_type": "display_data"
    },
    {
     "data": {
      "application/vnd.jupyter.widget-view+json": {
       "model_id": "db583974440c4764a5b19b8c20542ef9",
       "version_major": 2,
       "version_minor": 0
      },
      "text/plain": [
       "PROCESSING TASKS | :   0%|          | 0/1 [00:00<?, ?it/s]"
      ]
     },
     "metadata": {},
     "output_type": "display_data"
    },
    {
     "data": {
      "application/vnd.jupyter.widget-view+json": {
       "model_id": "0a4f09985abd41b38019931ec024c667",
       "version_major": 2,
       "version_minor": 0
      },
      "text/plain": [
       "COLLECTING RESULTS | :   0%|          | 0/1 [00:00<?, ?it/s]"
      ]
     },
     "metadata": {},
     "output_type": "display_data"
    },
    {
     "name": "stdout",
     "output_type": "stream",
     "text": [
      "Completed downloading\n"
     ]
    },
    {
     "data": {
      "application/vnd.jupyter.widget-view+json": {
       "model_id": "e8ee85a5b8104650bd77090560a3e252",
       "version_major": 2,
       "version_minor": 0
      },
      "text/plain": [
       "QUEUEING TASKS | :   0%|          | 0/1 [00:00<?, ?it/s]"
      ]
     },
     "metadata": {},
     "output_type": "display_data"
    },
    {
     "data": {
      "application/vnd.jupyter.widget-view+json": {
       "model_id": "5520bd168b4747c4b916db69179017e1",
       "version_major": 2,
       "version_minor": 0
      },
      "text/plain": [
       "PROCESSING TASKS | :   0%|          | 0/1 [00:00<?, ?it/s]"
      ]
     },
     "metadata": {},
     "output_type": "display_data"
    },
    {
     "data": {
      "application/vnd.jupyter.widget-view+json": {
       "model_id": "be1feb6769a64e3b8c02519ac52972a7",
       "version_major": 2,
       "version_minor": 0
      },
      "text/plain": [
       "COLLECTING RESULTS | :   0%|          | 0/1 [00:00<?, ?it/s]"
      ]
     },
     "metadata": {},
     "output_type": "display_data"
    },
    {
     "name": "stdout",
     "output_type": "stream",
     "text": [
      "Completed downloading\n"
     ]
    },
    {
     "data": {
      "application/vnd.jupyter.widget-view+json": {
       "model_id": "9c3f87045e814338b60661b76589f1c3",
       "version_major": 2,
       "version_minor": 0
      },
      "text/plain": [
       "QUEUEING TASKS | :   0%|          | 0/1 [00:00<?, ?it/s]"
      ]
     },
     "metadata": {},
     "output_type": "display_data"
    },
    {
     "data": {
      "application/vnd.jupyter.widget-view+json": {
       "model_id": "79afe8e6c05a4aecb829de7e53f1c893",
       "version_major": 2,
       "version_minor": 0
      },
      "text/plain": [
       "PROCESSING TASKS | :   0%|          | 0/1 [00:00<?, ?it/s]"
      ]
     },
     "metadata": {},
     "output_type": "display_data"
    },
    {
     "data": {
      "application/vnd.jupyter.widget-view+json": {
       "model_id": "023353047bd14699b4b2a1d0328aba3c",
       "version_major": 2,
       "version_minor": 0
      },
      "text/plain": [
       "COLLECTING RESULTS | :   0%|          | 0/1 [00:00<?, ?it/s]"
      ]
     },
     "metadata": {},
     "output_type": "display_data"
    },
    {
     "name": "stdout",
     "output_type": "stream",
     "text": [
      "Completed downloading\n"
     ]
    },
    {
     "data": {
      "application/vnd.jupyter.widget-view+json": {
       "model_id": "fbc145faaa3546439a1b52077d79e54f",
       "version_major": 2,
       "version_minor": 0
      },
      "text/plain": [
       "QUEUEING TASKS | :   0%|          | 0/1 [00:00<?, ?it/s]"
      ]
     },
     "metadata": {},
     "output_type": "display_data"
    },
    {
     "data": {
      "application/vnd.jupyter.widget-view+json": {
       "model_id": "d323133c4d3b4e4eb88e79f8eb8012cd",
       "version_major": 2,
       "version_minor": 0
      },
      "text/plain": [
       "PROCESSING TASKS | :   0%|          | 0/1 [00:00<?, ?it/s]"
      ]
     },
     "metadata": {},
     "output_type": "display_data"
    },
    {
     "data": {
      "application/vnd.jupyter.widget-view+json": {
       "model_id": "40b8ad511f2841009c70fcbe4bee83b2",
       "version_major": 2,
       "version_minor": 0
      },
      "text/plain": [
       "COLLECTING RESULTS | :   0%|          | 0/1 [00:00<?, ?it/s]"
      ]
     },
     "metadata": {},
     "output_type": "display_data"
    },
    {
     "name": "stdout",
     "output_type": "stream",
     "text": [
      "Completed downloading\n"
     ]
    },
    {
     "data": {
      "application/vnd.jupyter.widget-view+json": {
       "model_id": "86bd96e2512e4e1e83840bcb16d9f7cc",
       "version_major": 2,
       "version_minor": 0
      },
      "text/plain": [
       "QUEUEING TASKS | :   0%|          | 0/1 [00:00<?, ?it/s]"
      ]
     },
     "metadata": {},
     "output_type": "display_data"
    },
    {
     "data": {
      "application/vnd.jupyter.widget-view+json": {
       "model_id": "c98404235bad4cc09b4d050f96d7fd2e",
       "version_major": 2,
       "version_minor": 0
      },
      "text/plain": [
       "PROCESSING TASKS | :   0%|          | 0/1 [00:00<?, ?it/s]"
      ]
     },
     "metadata": {},
     "output_type": "display_data"
    },
    {
     "data": {
      "application/vnd.jupyter.widget-view+json": {
       "model_id": "9955e31765aa458aba9f4f24765dd68a",
       "version_major": 2,
       "version_minor": 0
      },
      "text/plain": [
       "COLLECTING RESULTS | :   0%|          | 0/1 [00:00<?, ?it/s]"
      ]
     },
     "metadata": {},
     "output_type": "display_data"
    },
    {
     "name": "stdout",
     "output_type": "stream",
     "text": [
      "Completed downloading\n"
     ]
    },
    {
     "data": {
      "application/vnd.jupyter.widget-view+json": {
       "model_id": "7eb21b2ea65d4c8f9a9498a60e8d58c1",
       "version_major": 2,
       "version_minor": 0
      },
      "text/plain": [
       "QUEUEING TASKS | :   0%|          | 0/1 [00:00<?, ?it/s]"
      ]
     },
     "metadata": {},
     "output_type": "display_data"
    },
    {
     "data": {
      "application/vnd.jupyter.widget-view+json": {
       "model_id": "a00f4f346f674f91af3236030a341608",
       "version_major": 2,
       "version_minor": 0
      },
      "text/plain": [
       "PROCESSING TASKS | :   0%|          | 0/1 [00:00<?, ?it/s]"
      ]
     },
     "metadata": {},
     "output_type": "display_data"
    },
    {
     "data": {
      "application/vnd.jupyter.widget-view+json": {
       "model_id": "d59b02acbc75445288512e28fb731a0f",
       "version_major": 2,
       "version_minor": 0
      },
      "text/plain": [
       "COLLECTING RESULTS | :   0%|          | 0/1 [00:00<?, ?it/s]"
      ]
     },
     "metadata": {},
     "output_type": "display_data"
    },
    {
     "name": "stdout",
     "output_type": "stream",
     "text": [
      "Completed downloading\n"
     ]
    },
    {
     "data": {
      "application/vnd.jupyter.widget-view+json": {
       "model_id": "30bd2ee4a8634486ba18c18b73f20bd4",
       "version_major": 2,
       "version_minor": 0
      },
      "text/plain": [
       "QUEUEING TASKS | :   0%|          | 0/1 [00:00<?, ?it/s]"
      ]
     },
     "metadata": {},
     "output_type": "display_data"
    },
    {
     "data": {
      "application/vnd.jupyter.widget-view+json": {
       "model_id": "b6f73922e10344ec96fefa51e3c8b104",
       "version_major": 2,
       "version_minor": 0
      },
      "text/plain": [
       "PROCESSING TASKS | :   0%|          | 0/1 [00:00<?, ?it/s]"
      ]
     },
     "metadata": {},
     "output_type": "display_data"
    },
    {
     "data": {
      "application/vnd.jupyter.widget-view+json": {
       "model_id": "cb57187c3dc54fba9929e8b5e0e72545",
       "version_major": 2,
       "version_minor": 0
      },
      "text/plain": [
       "COLLECTING RESULTS | :   0%|          | 0/1 [00:00<?, ?it/s]"
      ]
     },
     "metadata": {},
     "output_type": "display_data"
    },
    {
     "name": "stdout",
     "output_type": "stream",
     "text": [
      "Completed downloading\n"
     ]
    },
    {
     "data": {
      "application/vnd.jupyter.widget-view+json": {
       "model_id": "eb14dd70803e4139a6cbf4b4d6cf03d7",
       "version_major": 2,
       "version_minor": 0
      },
      "text/plain": [
       "QUEUEING TASKS | :   0%|          | 0/1 [00:00<?, ?it/s]"
      ]
     },
     "metadata": {},
     "output_type": "display_data"
    },
    {
     "data": {
      "application/vnd.jupyter.widget-view+json": {
       "model_id": "320acadb327f423bb1a5a17904cab2e9",
       "version_major": 2,
       "version_minor": 0
      },
      "text/plain": [
       "PROCESSING TASKS | :   0%|          | 0/1 [00:00<?, ?it/s]"
      ]
     },
     "metadata": {},
     "output_type": "display_data"
    },
    {
     "data": {
      "application/vnd.jupyter.widget-view+json": {
       "model_id": "980829823a3d47ed9e1c8167abf0b06d",
       "version_major": 2,
       "version_minor": 0
      },
      "text/plain": [
       "COLLECTING RESULTS | :   0%|          | 0/1 [00:00<?, ?it/s]"
      ]
     },
     "metadata": {},
     "output_type": "display_data"
    },
    {
     "name": "stdout",
     "output_type": "stream",
     "text": [
      "Completed downloading\n"
     ]
    },
    {
     "data": {
      "application/vnd.jupyter.widget-view+json": {
       "model_id": "edfbdf863d4e4f59b0fdf73740ce2ad1",
       "version_major": 2,
       "version_minor": 0
      },
      "text/plain": [
       "QUEUEING TASKS | :   0%|          | 0/1 [00:00<?, ?it/s]"
      ]
     },
     "metadata": {},
     "output_type": "display_data"
    },
    {
     "data": {
      "application/vnd.jupyter.widget-view+json": {
       "model_id": "a6f86b276a304c55b970f80677178900",
       "version_major": 2,
       "version_minor": 0
      },
      "text/plain": [
       "PROCESSING TASKS | :   0%|          | 0/1 [00:00<?, ?it/s]"
      ]
     },
     "metadata": {},
     "output_type": "display_data"
    },
    {
     "data": {
      "application/vnd.jupyter.widget-view+json": {
       "model_id": "dc0154cae37b451cac23cbb984e51dbd",
       "version_major": 2,
       "version_minor": 0
      },
      "text/plain": [
       "COLLECTING RESULTS | :   0%|          | 0/1 [00:00<?, ?it/s]"
      ]
     },
     "metadata": {},
     "output_type": "display_data"
    },
    {
     "name": "stdout",
     "output_type": "stream",
     "text": [
      "Completed downloading\n"
     ]
    },
    {
     "data": {
      "application/vnd.jupyter.widget-view+json": {
       "model_id": "cf66b841e7e042cb899f79df5cc62d1a",
       "version_major": 2,
       "version_minor": 0
      },
      "text/plain": [
       "QUEUEING TASKS | :   0%|          | 0/1 [00:00<?, ?it/s]"
      ]
     },
     "metadata": {},
     "output_type": "display_data"
    },
    {
     "data": {
      "application/vnd.jupyter.widget-view+json": {
       "model_id": "81fc755fd17d41579dc06c81bc11ebd1",
       "version_major": 2,
       "version_minor": 0
      },
      "text/plain": [
       "PROCESSING TASKS | :   0%|          | 0/1 [00:00<?, ?it/s]"
      ]
     },
     "metadata": {},
     "output_type": "display_data"
    },
    {
     "data": {
      "application/vnd.jupyter.widget-view+json": {
       "model_id": "b24c84f60e9e44c7a9cddbc9ef9e7d2b",
       "version_major": 2,
       "version_minor": 0
      },
      "text/plain": [
       "COLLECTING RESULTS | :   0%|          | 0/1 [00:00<?, ?it/s]"
      ]
     },
     "metadata": {},
     "output_type": "display_data"
    },
    {
     "name": "stdout",
     "output_type": "stream",
     "text": [
      "Completed downloading\n"
     ]
    },
    {
     "data": {
      "application/vnd.jupyter.widget-view+json": {
       "model_id": "92e4c9d581fb4afab5e8219d9e31f060",
       "version_major": 2,
       "version_minor": 0
      },
      "text/plain": [
       "QUEUEING TASKS | :   0%|          | 0/1 [00:00<?, ?it/s]"
      ]
     },
     "metadata": {},
     "output_type": "display_data"
    },
    {
     "data": {
      "application/vnd.jupyter.widget-view+json": {
       "model_id": "cd7a5a27a2374f83a5b7771db2f95630",
       "version_major": 2,
       "version_minor": 0
      },
      "text/plain": [
       "PROCESSING TASKS | :   0%|          | 0/1 [00:00<?, ?it/s]"
      ]
     },
     "metadata": {},
     "output_type": "display_data"
    },
    {
     "data": {
      "application/vnd.jupyter.widget-view+json": {
       "model_id": "209f222c793b45aaa886a00a0cf84488",
       "version_major": 2,
       "version_minor": 0
      },
      "text/plain": [
       "COLLECTING RESULTS | :   0%|          | 0/1 [00:00<?, ?it/s]"
      ]
     },
     "metadata": {},
     "output_type": "display_data"
    },
    {
     "name": "stdout",
     "output_type": "stream",
     "text": [
      "Completed downloading\n"
     ]
    },
    {
     "data": {
      "application/vnd.jupyter.widget-view+json": {
       "model_id": "5c3ad4e55d544321b4aa11805fc4cc50",
       "version_major": 2,
       "version_minor": 0
      },
      "text/plain": [
       "QUEUEING TASKS | :   0%|          | 0/1 [00:00<?, ?it/s]"
      ]
     },
     "metadata": {},
     "output_type": "display_data"
    },
    {
     "data": {
      "application/vnd.jupyter.widget-view+json": {
       "model_id": "5c68f591df204e89a5990149f26acbc7",
       "version_major": 2,
       "version_minor": 0
      },
      "text/plain": [
       "PROCESSING TASKS | :   0%|          | 0/1 [00:00<?, ?it/s]"
      ]
     },
     "metadata": {},
     "output_type": "display_data"
    },
    {
     "data": {
      "application/vnd.jupyter.widget-view+json": {
       "model_id": "39f63ea9da424fdd9ae73281672247b4",
       "version_major": 2,
       "version_minor": 0
      },
      "text/plain": [
       "COLLECTING RESULTS | :   0%|          | 0/1 [00:00<?, ?it/s]"
      ]
     },
     "metadata": {},
     "output_type": "display_data"
    },
    {
     "name": "stdout",
     "output_type": "stream",
     "text": [
      "Completed downloading\n"
     ]
    },
    {
     "data": {
      "application/vnd.jupyter.widget-view+json": {
       "model_id": "81cfd98b2a3149928715f04bf4aae5ce",
       "version_major": 2,
       "version_minor": 0
      },
      "text/plain": [
       "QUEUEING TASKS | :   0%|          | 0/1 [00:00<?, ?it/s]"
      ]
     },
     "metadata": {},
     "output_type": "display_data"
    },
    {
     "data": {
      "application/vnd.jupyter.widget-view+json": {
       "model_id": "8e8f8840c9dc426f95e51b7b327f5931",
       "version_major": 2,
       "version_minor": 0
      },
      "text/plain": [
       "PROCESSING TASKS | :   0%|          | 0/1 [00:00<?, ?it/s]"
      ]
     },
     "metadata": {},
     "output_type": "display_data"
    },
    {
     "data": {
      "application/vnd.jupyter.widget-view+json": {
       "model_id": "d40a08eb0e1447fa93cf496db58e0b3c",
       "version_major": 2,
       "version_minor": 0
      },
      "text/plain": [
       "COLLECTING RESULTS | :   0%|          | 0/1 [00:00<?, ?it/s]"
      ]
     },
     "metadata": {},
     "output_type": "display_data"
    },
    {
     "name": "stdout",
     "output_type": "stream",
     "text": [
      "Completed downloading\n"
     ]
    },
    {
     "data": {
      "application/vnd.jupyter.widget-view+json": {
       "model_id": "0b4031ea184d4b8aa441efc66846b1ac",
       "version_major": 2,
       "version_minor": 0
      },
      "text/plain": [
       "QUEUEING TASKS | :   0%|          | 0/1 [00:00<?, ?it/s]"
      ]
     },
     "metadata": {},
     "output_type": "display_data"
    },
    {
     "data": {
      "application/vnd.jupyter.widget-view+json": {
       "model_id": "ca719fc7f6bc4fd4ba830988b1dcdef8",
       "version_major": 2,
       "version_minor": 0
      },
      "text/plain": [
       "PROCESSING TASKS | :   0%|          | 0/1 [00:00<?, ?it/s]"
      ]
     },
     "metadata": {},
     "output_type": "display_data"
    },
    {
     "data": {
      "application/vnd.jupyter.widget-view+json": {
       "model_id": "98d1206cc05e4bf2a7489474d65bdebb",
       "version_major": 2,
       "version_minor": 0
      },
      "text/plain": [
       "COLLECTING RESULTS | :   0%|          | 0/1 [00:00<?, ?it/s]"
      ]
     },
     "metadata": {},
     "output_type": "display_data"
    },
    {
     "name": "stdout",
     "output_type": "stream",
     "text": [
      "Completed downloading\n"
     ]
    },
    {
     "data": {
      "application/vnd.jupyter.widget-view+json": {
       "model_id": "891e7860a53d4df4a6c49e3a4e6a62db",
       "version_major": 2,
       "version_minor": 0
      },
      "text/plain": [
       "QUEUEING TASKS | :   0%|          | 0/1 [00:00<?, ?it/s]"
      ]
     },
     "metadata": {},
     "output_type": "display_data"
    },
    {
     "data": {
      "application/vnd.jupyter.widget-view+json": {
       "model_id": "07df8f8ceb3a4ab3a64485a818aac700",
       "version_major": 2,
       "version_minor": 0
      },
      "text/plain": [
       "PROCESSING TASKS | :   0%|          | 0/1 [00:00<?, ?it/s]"
      ]
     },
     "metadata": {},
     "output_type": "display_data"
    },
    {
     "data": {
      "application/vnd.jupyter.widget-view+json": {
       "model_id": "b9c862cfe6b841debe6e566e59dd11f4",
       "version_major": 2,
       "version_minor": 0
      },
      "text/plain": [
       "COLLECTING RESULTS | :   0%|          | 0/1 [00:00<?, ?it/s]"
      ]
     },
     "metadata": {},
     "output_type": "display_data"
    },
    {
     "name": "stdout",
     "output_type": "stream",
     "text": [
      "Completed downloading\n"
     ]
    },
    {
     "data": {
      "application/vnd.jupyter.widget-view+json": {
       "model_id": "ff43fa399b064e56b22670013c75c68b",
       "version_major": 2,
       "version_minor": 0
      },
      "text/plain": [
       "QUEUEING TASKS | :   0%|          | 0/1 [00:00<?, ?it/s]"
      ]
     },
     "metadata": {},
     "output_type": "display_data"
    },
    {
     "data": {
      "application/vnd.jupyter.widget-view+json": {
       "model_id": "4d3c28d7588e445c8cbc788103c3b180",
       "version_major": 2,
       "version_minor": 0
      },
      "text/plain": [
       "PROCESSING TASKS | :   0%|          | 0/1 [00:00<?, ?it/s]"
      ]
     },
     "metadata": {},
     "output_type": "display_data"
    },
    {
     "data": {
      "application/vnd.jupyter.widget-view+json": {
       "model_id": "e4d0974a559c40289930da40a1252764",
       "version_major": 2,
       "version_minor": 0
      },
      "text/plain": [
       "COLLECTING RESULTS | :   0%|          | 0/1 [00:00<?, ?it/s]"
      ]
     },
     "metadata": {},
     "output_type": "display_data"
    },
    {
     "name": "stdout",
     "output_type": "stream",
     "text": [
      "Completed downloading\n"
     ]
    },
    {
     "data": {
      "application/vnd.jupyter.widget-view+json": {
       "model_id": "1e003d7bde0c4f33a004b58e735695c3",
       "version_major": 2,
       "version_minor": 0
      },
      "text/plain": [
       "QUEUEING TASKS | :   0%|          | 0/1 [00:00<?, ?it/s]"
      ]
     },
     "metadata": {},
     "output_type": "display_data"
    },
    {
     "data": {
      "application/vnd.jupyter.widget-view+json": {
       "model_id": "9fedd4cbecb645e8933162958d562aa9",
       "version_major": 2,
       "version_minor": 0
      },
      "text/plain": [
       "PROCESSING TASKS | :   0%|          | 0/1 [00:00<?, ?it/s]"
      ]
     },
     "metadata": {},
     "output_type": "display_data"
    },
    {
     "data": {
      "application/vnd.jupyter.widget-view+json": {
       "model_id": "983a5211f5634b56807be5bb7cfd71d7",
       "version_major": 2,
       "version_minor": 0
      },
      "text/plain": [
       "COLLECTING RESULTS | :   0%|          | 0/1 [00:00<?, ?it/s]"
      ]
     },
     "metadata": {},
     "output_type": "display_data"
    },
    {
     "name": "stdout",
     "output_type": "stream",
     "text": [
      "Completed downloading\n"
     ]
    },
    {
     "data": {
      "application/vnd.jupyter.widget-view+json": {
       "model_id": "2ae5e0dbb9584dffb070166cfa312168",
       "version_major": 2,
       "version_minor": 0
      },
      "text/plain": [
       "QUEUEING TASKS | :   0%|          | 0/1 [00:00<?, ?it/s]"
      ]
     },
     "metadata": {},
     "output_type": "display_data"
    },
    {
     "data": {
      "application/vnd.jupyter.widget-view+json": {
       "model_id": "a8b660aff7af466ca55dda21cafecd2e",
       "version_major": 2,
       "version_minor": 0
      },
      "text/plain": [
       "PROCESSING TASKS | :   0%|          | 0/1 [00:00<?, ?it/s]"
      ]
     },
     "metadata": {},
     "output_type": "display_data"
    },
    {
     "data": {
      "application/vnd.jupyter.widget-view+json": {
       "model_id": "d351f5f25a254929b9b2932e6328cb99",
       "version_major": 2,
       "version_minor": 0
      },
      "text/plain": [
       "COLLECTING RESULTS | :   0%|          | 0/1 [00:00<?, ?it/s]"
      ]
     },
     "metadata": {},
     "output_type": "display_data"
    },
    {
     "name": "stdout",
     "output_type": "stream",
     "text": [
      "Completed downloading\n"
     ]
    },
    {
     "data": {
      "application/vnd.jupyter.widget-view+json": {
       "model_id": "0076849cea3848629138b568acffe6c5",
       "version_major": 2,
       "version_minor": 0
      },
      "text/plain": [
       "QUEUEING TASKS | :   0%|          | 0/1 [00:00<?, ?it/s]"
      ]
     },
     "metadata": {},
     "output_type": "display_data"
    },
    {
     "data": {
      "application/vnd.jupyter.widget-view+json": {
       "model_id": "f6f6fb94b9824faba9a0efd0d38d9b1f",
       "version_major": 2,
       "version_minor": 0
      },
      "text/plain": [
       "PROCESSING TASKS | :   0%|          | 0/1 [00:00<?, ?it/s]"
      ]
     },
     "metadata": {},
     "output_type": "display_data"
    },
    {
     "data": {
      "application/vnd.jupyter.widget-view+json": {
       "model_id": "13c86ed31e764b128e9b089f5dd90303",
       "version_major": 2,
       "version_minor": 0
      },
      "text/plain": [
       "COLLECTING RESULTS | :   0%|          | 0/1 [00:00<?, ?it/s]"
      ]
     },
     "metadata": {},
     "output_type": "display_data"
    },
    {
     "name": "stdout",
     "output_type": "stream",
     "text": [
      "Completed downloading\n"
     ]
    },
    {
     "data": {
      "application/vnd.jupyter.widget-view+json": {
       "model_id": "8daea33ae1c14e14abf2907457016012",
       "version_major": 2,
       "version_minor": 0
      },
      "text/plain": [
       "QUEUEING TASKS | :   0%|          | 0/1 [00:00<?, ?it/s]"
      ]
     },
     "metadata": {},
     "output_type": "display_data"
    },
    {
     "data": {
      "application/vnd.jupyter.widget-view+json": {
       "model_id": "491c466470b340f88b527ee5c8e482da",
       "version_major": 2,
       "version_minor": 0
      },
      "text/plain": [
       "PROCESSING TASKS | :   0%|          | 0/1 [00:00<?, ?it/s]"
      ]
     },
     "metadata": {},
     "output_type": "display_data"
    },
    {
     "data": {
      "application/vnd.jupyter.widget-view+json": {
       "model_id": "5398c18ea4af4999a0226ab220f8f435",
       "version_major": 2,
       "version_minor": 0
      },
      "text/plain": [
       "COLLECTING RESULTS | :   0%|          | 0/1 [00:00<?, ?it/s]"
      ]
     },
     "metadata": {},
     "output_type": "display_data"
    },
    {
     "name": "stdout",
     "output_type": "stream",
     "text": [
      "Completed downloading\n"
     ]
    },
    {
     "data": {
      "application/vnd.jupyter.widget-view+json": {
       "model_id": "507dca28249a465f8b232c06547a857c",
       "version_major": 2,
       "version_minor": 0
      },
      "text/plain": [
       "QUEUEING TASKS | :   0%|          | 0/1 [00:00<?, ?it/s]"
      ]
     },
     "metadata": {},
     "output_type": "display_data"
    },
    {
     "data": {
      "application/vnd.jupyter.widget-view+json": {
       "model_id": "f491c0d1f5cd45a8b8bc9dc05b533139",
       "version_major": 2,
       "version_minor": 0
      },
      "text/plain": [
       "PROCESSING TASKS | :   0%|          | 0/1 [00:00<?, ?it/s]"
      ]
     },
     "metadata": {},
     "output_type": "display_data"
    },
    {
     "data": {
      "application/vnd.jupyter.widget-view+json": {
       "model_id": "3214a3727c234afd94be9ffdb8a0674a",
       "version_major": 2,
       "version_minor": 0
      },
      "text/plain": [
       "COLLECTING RESULTS | :   0%|          | 0/1 [00:00<?, ?it/s]"
      ]
     },
     "metadata": {},
     "output_type": "display_data"
    },
    {
     "name": "stdout",
     "output_type": "stream",
     "text": [
      "Completed downloading\n"
     ]
    },
    {
     "data": {
      "application/vnd.jupyter.widget-view+json": {
       "model_id": "7410456da2974fe6933428647728cbad",
       "version_major": 2,
       "version_minor": 0
      },
      "text/plain": [
       "QUEUEING TASKS | :   0%|          | 0/1 [00:00<?, ?it/s]"
      ]
     },
     "metadata": {},
     "output_type": "display_data"
    },
    {
     "data": {
      "application/vnd.jupyter.widget-view+json": {
       "model_id": "3c05adae652343a8b13642f2c44962c3",
       "version_major": 2,
       "version_minor": 0
      },
      "text/plain": [
       "PROCESSING TASKS | :   0%|          | 0/1 [00:00<?, ?it/s]"
      ]
     },
     "metadata": {},
     "output_type": "display_data"
    },
    {
     "data": {
      "application/vnd.jupyter.widget-view+json": {
       "model_id": "3341c9bd69ef49a2a4945a25f0c5a8e6",
       "version_major": 2,
       "version_minor": 0
      },
      "text/plain": [
       "COLLECTING RESULTS | :   0%|          | 0/1 [00:00<?, ?it/s]"
      ]
     },
     "metadata": {},
     "output_type": "display_data"
    },
    {
     "name": "stdout",
     "output_type": "stream",
     "text": [
      "Completed downloading\n"
     ]
    },
    {
     "data": {
      "application/vnd.jupyter.widget-view+json": {
       "model_id": "e347d85a488d451c9b3f8c748322a543",
       "version_major": 2,
       "version_minor": 0
      },
      "text/plain": [
       "QUEUEING TASKS | :   0%|          | 0/1 [00:00<?, ?it/s]"
      ]
     },
     "metadata": {},
     "output_type": "display_data"
    },
    {
     "data": {
      "application/vnd.jupyter.widget-view+json": {
       "model_id": "b3308894577849abb313fef0fa427c6e",
       "version_major": 2,
       "version_minor": 0
      },
      "text/plain": [
       "PROCESSING TASKS | :   0%|          | 0/1 [00:00<?, ?it/s]"
      ]
     },
     "metadata": {},
     "output_type": "display_data"
    },
    {
     "data": {
      "application/vnd.jupyter.widget-view+json": {
       "model_id": "b4ae217bc71749cfa1dacfc12cb6e479",
       "version_major": 2,
       "version_minor": 0
      },
      "text/plain": [
       "COLLECTING RESULTS | :   0%|          | 0/1 [00:00<?, ?it/s]"
      ]
     },
     "metadata": {},
     "output_type": "display_data"
    },
    {
     "name": "stdout",
     "output_type": "stream",
     "text": [
      "Completed downloading\n"
     ]
    },
    {
     "data": {
      "application/vnd.jupyter.widget-view+json": {
       "model_id": "7d3cae5c8a814143a3464cbf318a0ce6",
       "version_major": 2,
       "version_minor": 0
      },
      "text/plain": [
       "QUEUEING TASKS | :   0%|          | 0/1 [00:00<?, ?it/s]"
      ]
     },
     "metadata": {},
     "output_type": "display_data"
    },
    {
     "data": {
      "application/vnd.jupyter.widget-view+json": {
       "model_id": "98b444c9eaf94e4f9782cb8baa0eb452",
       "version_major": 2,
       "version_minor": 0
      },
      "text/plain": [
       "PROCESSING TASKS | :   0%|          | 0/1 [00:00<?, ?it/s]"
      ]
     },
     "metadata": {},
     "output_type": "display_data"
    },
    {
     "data": {
      "application/vnd.jupyter.widget-view+json": {
       "model_id": "038c7a01c25f4e359d4504a5b52ef7d3",
       "version_major": 2,
       "version_minor": 0
      },
      "text/plain": [
       "COLLECTING RESULTS | :   0%|          | 0/1 [00:00<?, ?it/s]"
      ]
     },
     "metadata": {},
     "output_type": "display_data"
    },
    {
     "name": "stdout",
     "output_type": "stream",
     "text": [
      "Completed downloading\n"
     ]
    },
    {
     "data": {
      "application/vnd.jupyter.widget-view+json": {
       "model_id": "0b9d0e72f74b436880430809d2b86173",
       "version_major": 2,
       "version_minor": 0
      },
      "text/plain": [
       "QUEUEING TASKS | :   0%|          | 0/1 [00:00<?, ?it/s]"
      ]
     },
     "metadata": {},
     "output_type": "display_data"
    },
    {
     "data": {
      "application/vnd.jupyter.widget-view+json": {
       "model_id": "1c7195b2d8b442fd82410ad7592f8a0d",
       "version_major": 2,
       "version_minor": 0
      },
      "text/plain": [
       "PROCESSING TASKS | :   0%|          | 0/1 [00:00<?, ?it/s]"
      ]
     },
     "metadata": {},
     "output_type": "display_data"
    },
    {
     "data": {
      "application/vnd.jupyter.widget-view+json": {
       "model_id": "1eaeb150d6434ca58f82a6f7ec9c6232",
       "version_major": 2,
       "version_minor": 0
      },
      "text/plain": [
       "COLLECTING RESULTS | :   0%|          | 0/1 [00:00<?, ?it/s]"
      ]
     },
     "metadata": {},
     "output_type": "display_data"
    },
    {
     "name": "stdout",
     "output_type": "stream",
     "text": [
      "Completed downloading\n"
     ]
    },
    {
     "data": {
      "application/vnd.jupyter.widget-view+json": {
       "model_id": "80bd0eb773b344e78d762d53dece94fb",
       "version_major": 2,
       "version_minor": 0
      },
      "text/plain": [
       "QUEUEING TASKS | :   0%|          | 0/1 [00:00<?, ?it/s]"
      ]
     },
     "metadata": {},
     "output_type": "display_data"
    },
    {
     "data": {
      "application/vnd.jupyter.widget-view+json": {
       "model_id": "4396faa604e34d4fbb17efbbc231d6a7",
       "version_major": 2,
       "version_minor": 0
      },
      "text/plain": [
       "PROCESSING TASKS | :   0%|          | 0/1 [00:00<?, ?it/s]"
      ]
     },
     "metadata": {},
     "output_type": "display_data"
    },
    {
     "data": {
      "application/vnd.jupyter.widget-view+json": {
       "model_id": "0e6c9f45d475408cb04e0eafe3b2e11a",
       "version_major": 2,
       "version_minor": 0
      },
      "text/plain": [
       "COLLECTING RESULTS | :   0%|          | 0/1 [00:00<?, ?it/s]"
      ]
     },
     "metadata": {},
     "output_type": "display_data"
    },
    {
     "name": "stdout",
     "output_type": "stream",
     "text": [
      "Completed downloading\n"
     ]
    },
    {
     "data": {
      "application/vnd.jupyter.widget-view+json": {
       "model_id": "9f6576916d364ea8bced3d0c2dc31350",
       "version_major": 2,
       "version_minor": 0
      },
      "text/plain": [
       "QUEUEING TASKS | :   0%|          | 0/1 [00:00<?, ?it/s]"
      ]
     },
     "metadata": {},
     "output_type": "display_data"
    },
    {
     "data": {
      "application/vnd.jupyter.widget-view+json": {
       "model_id": "cb3a7fe7fb974433a7a5f3d032615ab9",
       "version_major": 2,
       "version_minor": 0
      },
      "text/plain": [
       "PROCESSING TASKS | :   0%|          | 0/1 [00:00<?, ?it/s]"
      ]
     },
     "metadata": {},
     "output_type": "display_data"
    },
    {
     "data": {
      "application/vnd.jupyter.widget-view+json": {
       "model_id": "f081347a123349f4bd3bc41b6f17dd34",
       "version_major": 2,
       "version_minor": 0
      },
      "text/plain": [
       "COLLECTING RESULTS | :   0%|          | 0/1 [00:00<?, ?it/s]"
      ]
     },
     "metadata": {},
     "output_type": "display_data"
    },
    {
     "name": "stdout",
     "output_type": "stream",
     "text": [
      "Completed downloading\n"
     ]
    },
    {
     "data": {
      "application/vnd.jupyter.widget-view+json": {
       "model_id": "7903c5614baa4b68862892fe82c94bf5",
       "version_major": 2,
       "version_minor": 0
      },
      "text/plain": [
       "QUEUEING TASKS | :   0%|          | 0/1 [00:00<?, ?it/s]"
      ]
     },
     "metadata": {},
     "output_type": "display_data"
    },
    {
     "data": {
      "application/vnd.jupyter.widget-view+json": {
       "model_id": "f2e83f80426f4c12ab2181363d96a6bc",
       "version_major": 2,
       "version_minor": 0
      },
      "text/plain": [
       "PROCESSING TASKS | :   0%|          | 0/1 [00:00<?, ?it/s]"
      ]
     },
     "metadata": {},
     "output_type": "display_data"
    },
    {
     "data": {
      "application/vnd.jupyter.widget-view+json": {
       "model_id": "84cddf8e7e234a68ad7b31b70041d32a",
       "version_major": 2,
       "version_minor": 0
      },
      "text/plain": [
       "COLLECTING RESULTS | :   0%|          | 0/1 [00:00<?, ?it/s]"
      ]
     },
     "metadata": {},
     "output_type": "display_data"
    },
    {
     "name": "stdout",
     "output_type": "stream",
     "text": [
      "Completed downloading\n"
     ]
    },
    {
     "data": {
      "application/vnd.jupyter.widget-view+json": {
       "model_id": "00d7a32adff24d979739c8a51da42682",
       "version_major": 2,
       "version_minor": 0
      },
      "text/plain": [
       "QUEUEING TASKS | :   0%|          | 0/1 [00:00<?, ?it/s]"
      ]
     },
     "metadata": {},
     "output_type": "display_data"
    },
    {
     "data": {
      "application/vnd.jupyter.widget-view+json": {
       "model_id": "d477a2ceceee421d8394e2d27ced13d3",
       "version_major": 2,
       "version_minor": 0
      },
      "text/plain": [
       "PROCESSING TASKS | :   0%|          | 0/1 [00:00<?, ?it/s]"
      ]
     },
     "metadata": {},
     "output_type": "display_data"
    },
    {
     "data": {
      "application/vnd.jupyter.widget-view+json": {
       "model_id": "a8bfb620f15345f392a1895717c9e640",
       "version_major": 2,
       "version_minor": 0
      },
      "text/plain": [
       "COLLECTING RESULTS | :   0%|          | 0/1 [00:00<?, ?it/s]"
      ]
     },
     "metadata": {},
     "output_type": "display_data"
    },
    {
     "name": "stdout",
     "output_type": "stream",
     "text": [
      "Completed downloading\n"
     ]
    },
    {
     "data": {
      "application/vnd.jupyter.widget-view+json": {
       "model_id": "c34d734b971a4c69b1d38a7a182bc4c7",
       "version_major": 2,
       "version_minor": 0
      },
      "text/plain": [
       "QUEUEING TASKS | :   0%|          | 0/1 [00:00<?, ?it/s]"
      ]
     },
     "metadata": {},
     "output_type": "display_data"
    },
    {
     "data": {
      "application/vnd.jupyter.widget-view+json": {
       "model_id": "dcf3f3c40cac40569fd211fb1f7e16be",
       "version_major": 2,
       "version_minor": 0
      },
      "text/plain": [
       "PROCESSING TASKS | :   0%|          | 0/1 [00:00<?, ?it/s]"
      ]
     },
     "metadata": {},
     "output_type": "display_data"
    },
    {
     "data": {
      "application/vnd.jupyter.widget-view+json": {
       "model_id": "de63a01aa7624f2fb308708ef4ac141f",
       "version_major": 2,
       "version_minor": 0
      },
      "text/plain": [
       "COLLECTING RESULTS | :   0%|          | 0/1 [00:00<?, ?it/s]"
      ]
     },
     "metadata": {},
     "output_type": "display_data"
    },
    {
     "name": "stdout",
     "output_type": "stream",
     "text": [
      "Completed downloading\n"
     ]
    },
    {
     "data": {
      "application/vnd.jupyter.widget-view+json": {
       "model_id": "adc4127c3a8d400fa352ffd1b177590d",
       "version_major": 2,
       "version_minor": 0
      },
      "text/plain": [
       "QUEUEING TASKS | :   0%|          | 0/1 [00:00<?, ?it/s]"
      ]
     },
     "metadata": {},
     "output_type": "display_data"
    },
    {
     "data": {
      "application/vnd.jupyter.widget-view+json": {
       "model_id": "7968d3c4e04b49a0b137fe88bd4e2f45",
       "version_major": 2,
       "version_minor": 0
      },
      "text/plain": [
       "PROCESSING TASKS | :   0%|          | 0/1 [00:00<?, ?it/s]"
      ]
     },
     "metadata": {},
     "output_type": "display_data"
    },
    {
     "data": {
      "application/vnd.jupyter.widget-view+json": {
       "model_id": "9c7024defc5c4d198f9fa815beb7964e",
       "version_major": 2,
       "version_minor": 0
      },
      "text/plain": [
       "COLLECTING RESULTS | :   0%|          | 0/1 [00:00<?, ?it/s]"
      ]
     },
     "metadata": {},
     "output_type": "display_data"
    },
    {
     "name": "stdout",
     "output_type": "stream",
     "text": [
      "Completed downloading\n"
     ]
    },
    {
     "data": {
      "application/vnd.jupyter.widget-view+json": {
       "model_id": "065eb88b379e4407910262213bd68216",
       "version_major": 2,
       "version_minor": 0
      },
      "text/plain": [
       "QUEUEING TASKS | :   0%|          | 0/1 [00:00<?, ?it/s]"
      ]
     },
     "metadata": {},
     "output_type": "display_data"
    },
    {
     "data": {
      "application/vnd.jupyter.widget-view+json": {
       "model_id": "01c1e91cb8ac4378aad5127691a9c069",
       "version_major": 2,
       "version_minor": 0
      },
      "text/plain": [
       "PROCESSING TASKS | :   0%|          | 0/1 [00:00<?, ?it/s]"
      ]
     },
     "metadata": {},
     "output_type": "display_data"
    },
    {
     "data": {
      "application/vnd.jupyter.widget-view+json": {
       "model_id": "e4c2b80f0be440859b8d25a8d3ba78cf",
       "version_major": 2,
       "version_minor": 0
      },
      "text/plain": [
       "COLLECTING RESULTS | :   0%|          | 0/1 [00:00<?, ?it/s]"
      ]
     },
     "metadata": {},
     "output_type": "display_data"
    },
    {
     "name": "stdout",
     "output_type": "stream",
     "text": [
      "Completed downloading\n"
     ]
    },
    {
     "data": {
      "application/vnd.jupyter.widget-view+json": {
       "model_id": "525bcb60463d4a689bde0c6adef5d200",
       "version_major": 2,
       "version_minor": 0
      },
      "text/plain": [
       "QUEUEING TASKS | :   0%|          | 0/1 [00:00<?, ?it/s]"
      ]
     },
     "metadata": {},
     "output_type": "display_data"
    },
    {
     "data": {
      "application/vnd.jupyter.widget-view+json": {
       "model_id": "d86734c70ec2435cacd5ecf615c45983",
       "version_major": 2,
       "version_minor": 0
      },
      "text/plain": [
       "PROCESSING TASKS | :   0%|          | 0/1 [00:00<?, ?it/s]"
      ]
     },
     "metadata": {},
     "output_type": "display_data"
    },
    {
     "data": {
      "application/vnd.jupyter.widget-view+json": {
       "model_id": "cb27d68eb0144c428de666e7877e1426",
       "version_major": 2,
       "version_minor": 0
      },
      "text/plain": [
       "COLLECTING RESULTS | :   0%|          | 0/1 [00:00<?, ?it/s]"
      ]
     },
     "metadata": {},
     "output_type": "display_data"
    },
    {
     "name": "stdout",
     "output_type": "stream",
     "text": [
      "Completed downloading\n"
     ]
    },
    {
     "data": {
      "application/vnd.jupyter.widget-view+json": {
       "model_id": "ad1420fd49ce46c5bddf965a90b530fc",
       "version_major": 2,
       "version_minor": 0
      },
      "text/plain": [
       "QUEUEING TASKS | :   0%|          | 0/1 [00:00<?, ?it/s]"
      ]
     },
     "metadata": {},
     "output_type": "display_data"
    },
    {
     "data": {
      "application/vnd.jupyter.widget-view+json": {
       "model_id": "0813c50834be4e48ba8b23c7c4e5f39e",
       "version_major": 2,
       "version_minor": 0
      },
      "text/plain": [
       "PROCESSING TASKS | :   0%|          | 0/1 [00:00<?, ?it/s]"
      ]
     },
     "metadata": {},
     "output_type": "display_data"
    },
    {
     "data": {
      "application/vnd.jupyter.widget-view+json": {
       "model_id": "199c0c8d12d64e68b56d1a013a02f4de",
       "version_major": 2,
       "version_minor": 0
      },
      "text/plain": [
       "COLLECTING RESULTS | :   0%|          | 0/1 [00:00<?, ?it/s]"
      ]
     },
     "metadata": {},
     "output_type": "display_data"
    },
    {
     "name": "stdout",
     "output_type": "stream",
     "text": [
      "Completed downloading\n"
     ]
    },
    {
     "data": {
      "application/vnd.jupyter.widget-view+json": {
       "model_id": "506d468bd1fd403aafcba5049af756aa",
       "version_major": 2,
       "version_minor": 0
      },
      "text/plain": [
       "QUEUEING TASKS | :   0%|          | 0/1 [00:00<?, ?it/s]"
      ]
     },
     "metadata": {},
     "output_type": "display_data"
    },
    {
     "data": {
      "application/vnd.jupyter.widget-view+json": {
       "model_id": "8bb8b64a55774ace82933b6eb39b062a",
       "version_major": 2,
       "version_minor": 0
      },
      "text/plain": [
       "PROCESSING TASKS | :   0%|          | 0/1 [00:00<?, ?it/s]"
      ]
     },
     "metadata": {},
     "output_type": "display_data"
    },
    {
     "data": {
      "application/vnd.jupyter.widget-view+json": {
       "model_id": "fb2e3348d27640cb9675a357c8167161",
       "version_major": 2,
       "version_minor": 0
      },
      "text/plain": [
       "COLLECTING RESULTS | :   0%|          | 0/1 [00:00<?, ?it/s]"
      ]
     },
     "metadata": {},
     "output_type": "display_data"
    },
    {
     "name": "stdout",
     "output_type": "stream",
     "text": [
      "Completed downloading\n"
     ]
    },
    {
     "data": {
      "application/vnd.jupyter.widget-view+json": {
       "model_id": "a59c0356baa64eabab45f6f5853d7e73",
       "version_major": 2,
       "version_minor": 0
      },
      "text/plain": [
       "QUEUEING TASKS | :   0%|          | 0/1 [00:00<?, ?it/s]"
      ]
     },
     "metadata": {},
     "output_type": "display_data"
    },
    {
     "data": {
      "application/vnd.jupyter.widget-view+json": {
       "model_id": "d6c0237a783f4c7e93ff228643bf5fa7",
       "version_major": 2,
       "version_minor": 0
      },
      "text/plain": [
       "PROCESSING TASKS | :   0%|          | 0/1 [00:00<?, ?it/s]"
      ]
     },
     "metadata": {},
     "output_type": "display_data"
    },
    {
     "data": {
      "application/vnd.jupyter.widget-view+json": {
       "model_id": "c3fe8e690f604898be4ae23e0d37ab8a",
       "version_major": 2,
       "version_minor": 0
      },
      "text/plain": [
       "COLLECTING RESULTS | :   0%|          | 0/1 [00:00<?, ?it/s]"
      ]
     },
     "metadata": {},
     "output_type": "display_data"
    },
    {
     "name": "stdout",
     "output_type": "stream",
     "text": [
      "Completed downloading\n"
     ]
    },
    {
     "data": {
      "application/vnd.jupyter.widget-view+json": {
       "model_id": "778573e803644fefa9885d4535f4bd0a",
       "version_major": 2,
       "version_minor": 0
      },
      "text/plain": [
       "QUEUEING TASKS | :   0%|          | 0/1 [00:00<?, ?it/s]"
      ]
     },
     "metadata": {},
     "output_type": "display_data"
    },
    {
     "data": {
      "application/vnd.jupyter.widget-view+json": {
       "model_id": "48c58efcb91b461d8e4f64933db5eefa",
       "version_major": 2,
       "version_minor": 0
      },
      "text/plain": [
       "PROCESSING TASKS | :   0%|          | 0/1 [00:00<?, ?it/s]"
      ]
     },
     "metadata": {},
     "output_type": "display_data"
    },
    {
     "data": {
      "application/vnd.jupyter.widget-view+json": {
       "model_id": "0d75b2bfa0b947148d27bb912d1b0cc2",
       "version_major": 2,
       "version_minor": 0
      },
      "text/plain": [
       "COLLECTING RESULTS | :   0%|          | 0/1 [00:00<?, ?it/s]"
      ]
     },
     "metadata": {},
     "output_type": "display_data"
    },
    {
     "name": "stdout",
     "output_type": "stream",
     "text": [
      "Completed downloading\n"
     ]
    },
    {
     "data": {
      "application/vnd.jupyter.widget-view+json": {
       "model_id": "8dbae269d71d4ab1959fad1fddded085",
       "version_major": 2,
       "version_minor": 0
      },
      "text/plain": [
       "QUEUEING TASKS | :   0%|          | 0/1 [00:00<?, ?it/s]"
      ]
     },
     "metadata": {},
     "output_type": "display_data"
    },
    {
     "data": {
      "application/vnd.jupyter.widget-view+json": {
       "model_id": "102de28f602544d098df1421243854fc",
       "version_major": 2,
       "version_minor": 0
      },
      "text/plain": [
       "PROCESSING TASKS | :   0%|          | 0/1 [00:00<?, ?it/s]"
      ]
     },
     "metadata": {},
     "output_type": "display_data"
    },
    {
     "data": {
      "application/vnd.jupyter.widget-view+json": {
       "model_id": "5140ef58f25e45e5afba7fd0b8c48f7f",
       "version_major": 2,
       "version_minor": 0
      },
      "text/plain": [
       "COLLECTING RESULTS | :   0%|          | 0/1 [00:00<?, ?it/s]"
      ]
     },
     "metadata": {},
     "output_type": "display_data"
    },
    {
     "name": "stdout",
     "output_type": "stream",
     "text": [
      "Completed downloading\n"
     ]
    },
    {
     "data": {
      "application/vnd.jupyter.widget-view+json": {
       "model_id": "fb758fb083fe487db518fda876e8712f",
       "version_major": 2,
       "version_minor": 0
      },
      "text/plain": [
       "QUEUEING TASKS | :   0%|          | 0/1 [00:00<?, ?it/s]"
      ]
     },
     "metadata": {},
     "output_type": "display_data"
    },
    {
     "data": {
      "application/vnd.jupyter.widget-view+json": {
       "model_id": "dc23748a598346828ab29f9bfe41a870",
       "version_major": 2,
       "version_minor": 0
      },
      "text/plain": [
       "PROCESSING TASKS | :   0%|          | 0/1 [00:00<?, ?it/s]"
      ]
     },
     "metadata": {},
     "output_type": "display_data"
    },
    {
     "data": {
      "application/vnd.jupyter.widget-view+json": {
       "model_id": "c94a3be88b2e472595d12cfb7bd5df43",
       "version_major": 2,
       "version_minor": 0
      },
      "text/plain": [
       "COLLECTING RESULTS | :   0%|          | 0/1 [00:00<?, ?it/s]"
      ]
     },
     "metadata": {},
     "output_type": "display_data"
    },
    {
     "name": "stdout",
     "output_type": "stream",
     "text": [
      "Completed downloading\n"
     ]
    },
    {
     "data": {
      "application/vnd.jupyter.widget-view+json": {
       "model_id": "19d3bcf31f0b4f3bb58d84fb9a920de8",
       "version_major": 2,
       "version_minor": 0
      },
      "text/plain": [
       "QUEUEING TASKS | :   0%|          | 0/1 [00:00<?, ?it/s]"
      ]
     },
     "metadata": {},
     "output_type": "display_data"
    },
    {
     "data": {
      "application/vnd.jupyter.widget-view+json": {
       "model_id": "6404cc085206489180be4a1f0edf9262",
       "version_major": 2,
       "version_minor": 0
      },
      "text/plain": [
       "PROCESSING TASKS | :   0%|          | 0/1 [00:00<?, ?it/s]"
      ]
     },
     "metadata": {},
     "output_type": "display_data"
    },
    {
     "data": {
      "application/vnd.jupyter.widget-view+json": {
       "model_id": "c51567025d464f39aa09f969a84086f1",
       "version_major": 2,
       "version_minor": 0
      },
      "text/plain": [
       "COLLECTING RESULTS | :   0%|          | 0/1 [00:00<?, ?it/s]"
      ]
     },
     "metadata": {},
     "output_type": "display_data"
    },
    {
     "name": "stdout",
     "output_type": "stream",
     "text": [
      "Completed downloading\n"
     ]
    },
    {
     "data": {
      "application/vnd.jupyter.widget-view+json": {
       "model_id": "66a1541aa28d42b4945dde053204ccc9",
       "version_major": 2,
       "version_minor": 0
      },
      "text/plain": [
       "QUEUEING TASKS | :   0%|          | 0/1 [00:00<?, ?it/s]"
      ]
     },
     "metadata": {},
     "output_type": "display_data"
    },
    {
     "data": {
      "application/vnd.jupyter.widget-view+json": {
       "model_id": "b3c1bca82752412d9bc20c8952ddbffc",
       "version_major": 2,
       "version_minor": 0
      },
      "text/plain": [
       "PROCESSING TASKS | :   0%|          | 0/1 [00:00<?, ?it/s]"
      ]
     },
     "metadata": {},
     "output_type": "display_data"
    },
    {
     "data": {
      "application/vnd.jupyter.widget-view+json": {
       "model_id": "2f7e6ad7d3804c7fb13da608a83cf95f",
       "version_major": 2,
       "version_minor": 0
      },
      "text/plain": [
       "COLLECTING RESULTS | :   0%|          | 0/1 [00:00<?, ?it/s]"
      ]
     },
     "metadata": {},
     "output_type": "display_data"
    },
    {
     "name": "stdout",
     "output_type": "stream",
     "text": [
      "Completed downloading\n"
     ]
    },
    {
     "data": {
      "application/vnd.jupyter.widget-view+json": {
       "model_id": "b18d9f5a8ced48b88746ae8d40fe6f12",
       "version_major": 2,
       "version_minor": 0
      },
      "text/plain": [
       "QUEUEING TASKS | :   0%|          | 0/1 [00:00<?, ?it/s]"
      ]
     },
     "metadata": {},
     "output_type": "display_data"
    },
    {
     "data": {
      "application/vnd.jupyter.widget-view+json": {
       "model_id": "ff18129ed9584c1b9b0dd3ca4437d098",
       "version_major": 2,
       "version_minor": 0
      },
      "text/plain": [
       "PROCESSING TASKS | :   0%|          | 0/1 [00:00<?, ?it/s]"
      ]
     },
     "metadata": {},
     "output_type": "display_data"
    },
    {
     "data": {
      "application/vnd.jupyter.widget-view+json": {
       "model_id": "ae98035cdc3f4c7aad70d0f83e750028",
       "version_major": 2,
       "version_minor": 0
      },
      "text/plain": [
       "COLLECTING RESULTS | :   0%|          | 0/1 [00:00<?, ?it/s]"
      ]
     },
     "metadata": {},
     "output_type": "display_data"
    },
    {
     "name": "stdout",
     "output_type": "stream",
     "text": [
      "Completed downloading\n"
     ]
    },
    {
     "data": {
      "application/vnd.jupyter.widget-view+json": {
       "model_id": "4366933d7ae54705a5735825b1b9a1e3",
       "version_major": 2,
       "version_minor": 0
      },
      "text/plain": [
       "QUEUEING TASKS | :   0%|          | 0/1 [00:00<?, ?it/s]"
      ]
     },
     "metadata": {},
     "output_type": "display_data"
    },
    {
     "data": {
      "application/vnd.jupyter.widget-view+json": {
       "model_id": "f5a22da3c94e4d3a9a10abfa0df22530",
       "version_major": 2,
       "version_minor": 0
      },
      "text/plain": [
       "PROCESSING TASKS | :   0%|          | 0/1 [00:00<?, ?it/s]"
      ]
     },
     "metadata": {},
     "output_type": "display_data"
    },
    {
     "data": {
      "application/vnd.jupyter.widget-view+json": {
       "model_id": "c1c59efb626a476da1c1a6c353a829ef",
       "version_major": 2,
       "version_minor": 0
      },
      "text/plain": [
       "COLLECTING RESULTS | :   0%|          | 0/1 [00:00<?, ?it/s]"
      ]
     },
     "metadata": {},
     "output_type": "display_data"
    },
    {
     "name": "stdout",
     "output_type": "stream",
     "text": [
      "Completed downloading\n"
     ]
    },
    {
     "data": {
      "application/vnd.jupyter.widget-view+json": {
       "model_id": "7c958d0d2cd944a7b4ee336dd6b5e96c",
       "version_major": 2,
       "version_minor": 0
      },
      "text/plain": [
       "QUEUEING TASKS | :   0%|          | 0/1 [00:00<?, ?it/s]"
      ]
     },
     "metadata": {},
     "output_type": "display_data"
    },
    {
     "data": {
      "application/vnd.jupyter.widget-view+json": {
       "model_id": "caaeb792f6b04af2bb7c0079672a7a93",
       "version_major": 2,
       "version_minor": 0
      },
      "text/plain": [
       "PROCESSING TASKS | :   0%|          | 0/1 [00:00<?, ?it/s]"
      ]
     },
     "metadata": {},
     "output_type": "display_data"
    },
    {
     "data": {
      "application/vnd.jupyter.widget-view+json": {
       "model_id": "fc4937caf0ca481cadeeead3b0b58f92",
       "version_major": 2,
       "version_minor": 0
      },
      "text/plain": [
       "COLLECTING RESULTS | :   0%|          | 0/1 [00:00<?, ?it/s]"
      ]
     },
     "metadata": {},
     "output_type": "display_data"
    },
    {
     "name": "stdout",
     "output_type": "stream",
     "text": [
      "Completed downloading\n"
     ]
    },
    {
     "data": {
      "application/vnd.jupyter.widget-view+json": {
       "model_id": "bed7eeaaae2d4c60bedb45932be33457",
       "version_major": 2,
       "version_minor": 0
      },
      "text/plain": [
       "QUEUEING TASKS | :   0%|          | 0/1 [00:00<?, ?it/s]"
      ]
     },
     "metadata": {},
     "output_type": "display_data"
    },
    {
     "data": {
      "application/vnd.jupyter.widget-view+json": {
       "model_id": "12a17ffdd91c49d4bb4b1456dc8b100f",
       "version_major": 2,
       "version_minor": 0
      },
      "text/plain": [
       "PROCESSING TASKS | :   0%|          | 0/1 [00:00<?, ?it/s]"
      ]
     },
     "metadata": {},
     "output_type": "display_data"
    },
    {
     "data": {
      "application/vnd.jupyter.widget-view+json": {
       "model_id": "a2841eb7ff9a4498be84f1de6849c9e0",
       "version_major": 2,
       "version_minor": 0
      },
      "text/plain": [
       "COLLECTING RESULTS | :   0%|          | 0/1 [00:00<?, ?it/s]"
      ]
     },
     "metadata": {},
     "output_type": "display_data"
    },
    {
     "name": "stdout",
     "output_type": "stream",
     "text": [
      "Completed downloading\n"
     ]
    },
    {
     "data": {
      "application/vnd.jupyter.widget-view+json": {
       "model_id": "9eaaa0caeb6d4bcf9718816b51b8d28c",
       "version_major": 2,
       "version_minor": 0
      },
      "text/plain": [
       "QUEUEING TASKS | :   0%|          | 0/1 [00:00<?, ?it/s]"
      ]
     },
     "metadata": {},
     "output_type": "display_data"
    },
    {
     "data": {
      "application/vnd.jupyter.widget-view+json": {
       "model_id": "0ab3882c1d8e46bc9ab41e3cc1fe8e24",
       "version_major": 2,
       "version_minor": 0
      },
      "text/plain": [
       "PROCESSING TASKS | :   0%|          | 0/1 [00:00<?, ?it/s]"
      ]
     },
     "metadata": {},
     "output_type": "display_data"
    },
    {
     "data": {
      "application/vnd.jupyter.widget-view+json": {
       "model_id": "f34530e9ba42488191044e6012367a31",
       "version_major": 2,
       "version_minor": 0
      },
      "text/plain": [
       "COLLECTING RESULTS | :   0%|          | 0/1 [00:00<?, ?it/s]"
      ]
     },
     "metadata": {},
     "output_type": "display_data"
    },
    {
     "name": "stdout",
     "output_type": "stream",
     "text": [
      "Completed downloading\n"
     ]
    },
    {
     "data": {
      "application/vnd.jupyter.widget-view+json": {
       "model_id": "b92dbb6e62db4ea883ec3fd1bd5bd45a",
       "version_major": 2,
       "version_minor": 0
      },
      "text/plain": [
       "QUEUEING TASKS | :   0%|          | 0/1 [00:00<?, ?it/s]"
      ]
     },
     "metadata": {},
     "output_type": "display_data"
    },
    {
     "data": {
      "application/vnd.jupyter.widget-view+json": {
       "model_id": "46c028eaa4a24f98a169a0148ed9b54f",
       "version_major": 2,
       "version_minor": 0
      },
      "text/plain": [
       "PROCESSING TASKS | :   0%|          | 0/1 [00:00<?, ?it/s]"
      ]
     },
     "metadata": {},
     "output_type": "display_data"
    },
    {
     "data": {
      "application/vnd.jupyter.widget-view+json": {
       "model_id": "e310534b7fe74a2e9a47d74593703e13",
       "version_major": 2,
       "version_minor": 0
      },
      "text/plain": [
       "COLLECTING RESULTS | :   0%|          | 0/1 [00:00<?, ?it/s]"
      ]
     },
     "metadata": {},
     "output_type": "display_data"
    },
    {
     "name": "stdout",
     "output_type": "stream",
     "text": [
      "Completed downloading\n"
     ]
    },
    {
     "data": {
      "application/vnd.jupyter.widget-view+json": {
       "model_id": "c5c19659215545479141b4f58fdf7b44",
       "version_major": 2,
       "version_minor": 0
      },
      "text/plain": [
       "QUEUEING TASKS | :   0%|          | 0/1 [00:00<?, ?it/s]"
      ]
     },
     "metadata": {},
     "output_type": "display_data"
    },
    {
     "data": {
      "application/vnd.jupyter.widget-view+json": {
       "model_id": "7ccafd0da1484963b6d25251c26667dd",
       "version_major": 2,
       "version_minor": 0
      },
      "text/plain": [
       "PROCESSING TASKS | :   0%|          | 0/1 [00:00<?, ?it/s]"
      ]
     },
     "metadata": {},
     "output_type": "display_data"
    },
    {
     "data": {
      "application/vnd.jupyter.widget-view+json": {
       "model_id": "17fd00eaa22b43d3943af6ead333fe35",
       "version_major": 2,
       "version_minor": 0
      },
      "text/plain": [
       "COLLECTING RESULTS | :   0%|          | 0/1 [00:00<?, ?it/s]"
      ]
     },
     "metadata": {},
     "output_type": "display_data"
    },
    {
     "name": "stdout",
     "output_type": "stream",
     "text": [
      "Completed downloading\n"
     ]
    },
    {
     "data": {
      "application/vnd.jupyter.widget-view+json": {
       "model_id": "c01686580ff24219af0af96a5f9abf5d",
       "version_major": 2,
       "version_minor": 0
      },
      "text/plain": [
       "QUEUEING TASKS | :   0%|          | 0/1 [00:00<?, ?it/s]"
      ]
     },
     "metadata": {},
     "output_type": "display_data"
    },
    {
     "data": {
      "application/vnd.jupyter.widget-view+json": {
       "model_id": "cca172e9c79e40c19f765e4ffd2bf697",
       "version_major": 2,
       "version_minor": 0
      },
      "text/plain": [
       "PROCESSING TASKS | :   0%|          | 0/1 [00:00<?, ?it/s]"
      ]
     },
     "metadata": {},
     "output_type": "display_data"
    },
    {
     "data": {
      "application/vnd.jupyter.widget-view+json": {
       "model_id": "acd70c2983704e188ed99c318dfc4206",
       "version_major": 2,
       "version_minor": 0
      },
      "text/plain": [
       "COLLECTING RESULTS | :   0%|          | 0/1 [00:00<?, ?it/s]"
      ]
     },
     "metadata": {},
     "output_type": "display_data"
    },
    {
     "name": "stdout",
     "output_type": "stream",
     "text": [
      "Completed downloading\n"
     ]
    },
    {
     "data": {
      "application/vnd.jupyter.widget-view+json": {
       "model_id": "ab97b68e7d3e4494be9485480eb3c4cd",
       "version_major": 2,
       "version_minor": 0
      },
      "text/plain": [
       "QUEUEING TASKS | :   0%|          | 0/1 [00:00<?, ?it/s]"
      ]
     },
     "metadata": {},
     "output_type": "display_data"
    },
    {
     "data": {
      "application/vnd.jupyter.widget-view+json": {
       "model_id": "9dd1c38270544c4e8efa9e096c5ec145",
       "version_major": 2,
       "version_minor": 0
      },
      "text/plain": [
       "PROCESSING TASKS | :   0%|          | 0/1 [00:00<?, ?it/s]"
      ]
     },
     "metadata": {},
     "output_type": "display_data"
    },
    {
     "data": {
      "application/vnd.jupyter.widget-view+json": {
       "model_id": "a1d59d7873c54936983fc843aed13deb",
       "version_major": 2,
       "version_minor": 0
      },
      "text/plain": [
       "COLLECTING RESULTS | :   0%|          | 0/1 [00:00<?, ?it/s]"
      ]
     },
     "metadata": {},
     "output_type": "display_data"
    },
    {
     "name": "stdout",
     "output_type": "stream",
     "text": [
      "Completed downloading\n"
     ]
    },
    {
     "data": {
      "application/vnd.jupyter.widget-view+json": {
       "model_id": "f8efd0962b8441ea95b1a3d32294c692",
       "version_major": 2,
       "version_minor": 0
      },
      "text/plain": [
       "QUEUEING TASKS | :   0%|          | 0/1 [00:00<?, ?it/s]"
      ]
     },
     "metadata": {},
     "output_type": "display_data"
    },
    {
     "data": {
      "application/vnd.jupyter.widget-view+json": {
       "model_id": "c9f7b917856b49d4a3e6012dd3fa0a52",
       "version_major": 2,
       "version_minor": 0
      },
      "text/plain": [
       "PROCESSING TASKS | :   0%|          | 0/1 [00:00<?, ?it/s]"
      ]
     },
     "metadata": {},
     "output_type": "display_data"
    },
    {
     "data": {
      "application/vnd.jupyter.widget-view+json": {
       "model_id": "5fe1bc9d5d2b47bdaed073a30315f0bd",
       "version_major": 2,
       "version_minor": 0
      },
      "text/plain": [
       "COLLECTING RESULTS | :   0%|          | 0/1 [00:00<?, ?it/s]"
      ]
     },
     "metadata": {},
     "output_type": "display_data"
    },
    {
     "name": "stdout",
     "output_type": "stream",
     "text": [
      "Completed downloading\n"
     ]
    },
    {
     "data": {
      "application/vnd.jupyter.widget-view+json": {
       "model_id": "499efe26908f41a9b63db57a706b2263",
       "version_major": 2,
       "version_minor": 0
      },
      "text/plain": [
       "QUEUEING TASKS | :   0%|          | 0/1 [00:00<?, ?it/s]"
      ]
     },
     "metadata": {},
     "output_type": "display_data"
    },
    {
     "data": {
      "application/vnd.jupyter.widget-view+json": {
       "model_id": "af598b034bd94093aeb334aa4abb91a8",
       "version_major": 2,
       "version_minor": 0
      },
      "text/plain": [
       "PROCESSING TASKS | :   0%|          | 0/1 [00:00<?, ?it/s]"
      ]
     },
     "metadata": {},
     "output_type": "display_data"
    },
    {
     "data": {
      "application/vnd.jupyter.widget-view+json": {
       "model_id": "17679c12b60d475db457f9e5b749a53c",
       "version_major": 2,
       "version_minor": 0
      },
      "text/plain": [
       "COLLECTING RESULTS | :   0%|          | 0/1 [00:00<?, ?it/s]"
      ]
     },
     "metadata": {},
     "output_type": "display_data"
    },
    {
     "name": "stdout",
     "output_type": "stream",
     "text": [
      "Completed downloading\n"
     ]
    },
    {
     "data": {
      "application/vnd.jupyter.widget-view+json": {
       "model_id": "a8aa1ec7e0664f0b8064804557499b64",
       "version_major": 2,
       "version_minor": 0
      },
      "text/plain": [
       "QUEUEING TASKS | :   0%|          | 0/1 [00:00<?, ?it/s]"
      ]
     },
     "metadata": {},
     "output_type": "display_data"
    },
    {
     "data": {
      "application/vnd.jupyter.widget-view+json": {
       "model_id": "cdeaef2a9c4d4a71940036dc0fc50534",
       "version_major": 2,
       "version_minor": 0
      },
      "text/plain": [
       "PROCESSING TASKS | :   0%|          | 0/1 [00:00<?, ?it/s]"
      ]
     },
     "metadata": {},
     "output_type": "display_data"
    },
    {
     "data": {
      "application/vnd.jupyter.widget-view+json": {
       "model_id": "5e1b9c2b7ecb4de0bb2b2b185c705866",
       "version_major": 2,
       "version_minor": 0
      },
      "text/plain": [
       "COLLECTING RESULTS | :   0%|          | 0/1 [00:00<?, ?it/s]"
      ]
     },
     "metadata": {},
     "output_type": "display_data"
    },
    {
     "name": "stdout",
     "output_type": "stream",
     "text": [
      "Completed downloading\n"
     ]
    },
    {
     "data": {
      "application/vnd.jupyter.widget-view+json": {
       "model_id": "eee9fd89e00e4a82a195cd1334d64964",
       "version_major": 2,
       "version_minor": 0
      },
      "text/plain": [
       "QUEUEING TASKS | :   0%|          | 0/1 [00:00<?, ?it/s]"
      ]
     },
     "metadata": {},
     "output_type": "display_data"
    },
    {
     "data": {
      "application/vnd.jupyter.widget-view+json": {
       "model_id": "70b0e34937334add8247888f3d57b07b",
       "version_major": 2,
       "version_minor": 0
      },
      "text/plain": [
       "PROCESSING TASKS | :   0%|          | 0/1 [00:00<?, ?it/s]"
      ]
     },
     "metadata": {},
     "output_type": "display_data"
    },
    {
     "data": {
      "application/vnd.jupyter.widget-view+json": {
       "model_id": "afa73382f5dd4c1d847f09b02a878394",
       "version_major": 2,
       "version_minor": 0
      },
      "text/plain": [
       "COLLECTING RESULTS | :   0%|          | 0/1 [00:00<?, ?it/s]"
      ]
     },
     "metadata": {},
     "output_type": "display_data"
    },
    {
     "name": "stdout",
     "output_type": "stream",
     "text": [
      "Completed downloading\n"
     ]
    },
    {
     "data": {
      "application/vnd.jupyter.widget-view+json": {
       "model_id": "c5ae13384c4e49dd88dc1c4efac35400",
       "version_major": 2,
       "version_minor": 0
      },
      "text/plain": [
       "QUEUEING TASKS | :   0%|          | 0/1 [00:00<?, ?it/s]"
      ]
     },
     "metadata": {},
     "output_type": "display_data"
    },
    {
     "data": {
      "application/vnd.jupyter.widget-view+json": {
       "model_id": "7efc96657d104f5a8846aa8027423d4f",
       "version_major": 2,
       "version_minor": 0
      },
      "text/plain": [
       "PROCESSING TASKS | :   0%|          | 0/1 [00:00<?, ?it/s]"
      ]
     },
     "metadata": {},
     "output_type": "display_data"
    },
    {
     "data": {
      "application/vnd.jupyter.widget-view+json": {
       "model_id": "56cc4014b59042cc87c86498d38f637e",
       "version_major": 2,
       "version_minor": 0
      },
      "text/plain": [
       "COLLECTING RESULTS | :   0%|          | 0/1 [00:00<?, ?it/s]"
      ]
     },
     "metadata": {},
     "output_type": "display_data"
    },
    {
     "name": "stdout",
     "output_type": "stream",
     "text": [
      "Completed downloading\n"
     ]
    },
    {
     "data": {
      "application/vnd.jupyter.widget-view+json": {
       "model_id": "d95c687b09cc4f85a8e887ae0b1f23a6",
       "version_major": 2,
       "version_minor": 0
      },
      "text/plain": [
       "QUEUEING TASKS | :   0%|          | 0/1 [00:00<?, ?it/s]"
      ]
     },
     "metadata": {},
     "output_type": "display_data"
    },
    {
     "data": {
      "application/vnd.jupyter.widget-view+json": {
       "model_id": "db305f201993484fab081ab0a752cb57",
       "version_major": 2,
       "version_minor": 0
      },
      "text/plain": [
       "PROCESSING TASKS | :   0%|          | 0/1 [00:00<?, ?it/s]"
      ]
     },
     "metadata": {},
     "output_type": "display_data"
    },
    {
     "data": {
      "application/vnd.jupyter.widget-view+json": {
       "model_id": "f158879b09dc4482a6cfa12bc8dfb2be",
       "version_major": 2,
       "version_minor": 0
      },
      "text/plain": [
       "COLLECTING RESULTS | :   0%|          | 0/1 [00:00<?, ?it/s]"
      ]
     },
     "metadata": {},
     "output_type": "display_data"
    },
    {
     "name": "stdout",
     "output_type": "stream",
     "text": [
      "Completed downloading\n"
     ]
    },
    {
     "data": {
      "application/vnd.jupyter.widget-view+json": {
       "model_id": "c9f51838c28541a799c5b806ca682a4f",
       "version_major": 2,
       "version_minor": 0
      },
      "text/plain": [
       "QUEUEING TASKS | :   0%|          | 0/1 [00:00<?, ?it/s]"
      ]
     },
     "metadata": {},
     "output_type": "display_data"
    },
    {
     "data": {
      "application/vnd.jupyter.widget-view+json": {
       "model_id": "40184f62f84d45af8313eabcb34ed51a",
       "version_major": 2,
       "version_minor": 0
      },
      "text/plain": [
       "PROCESSING TASKS | :   0%|          | 0/1 [00:00<?, ?it/s]"
      ]
     },
     "metadata": {},
     "output_type": "display_data"
    },
    {
     "data": {
      "application/vnd.jupyter.widget-view+json": {
       "model_id": "cf35945cf47743a0928f38487bf4136c",
       "version_major": 2,
       "version_minor": 0
      },
      "text/plain": [
       "COLLECTING RESULTS | :   0%|          | 0/1 [00:00<?, ?it/s]"
      ]
     },
     "metadata": {},
     "output_type": "display_data"
    },
    {
     "name": "stdout",
     "output_type": "stream",
     "text": [
      "Completed downloading\n"
     ]
    },
    {
     "data": {
      "application/vnd.jupyter.widget-view+json": {
       "model_id": "03ebd96037274aff82c8c95a5e0295f7",
       "version_major": 2,
       "version_minor": 0
      },
      "text/plain": [
       "QUEUEING TASKS | :   0%|          | 0/1 [00:00<?, ?it/s]"
      ]
     },
     "metadata": {},
     "output_type": "display_data"
    },
    {
     "data": {
      "application/vnd.jupyter.widget-view+json": {
       "model_id": "56a84c7debbe4044ba241969ab7dfcdd",
       "version_major": 2,
       "version_minor": 0
      },
      "text/plain": [
       "PROCESSING TASKS | :   0%|          | 0/1 [00:00<?, ?it/s]"
      ]
     },
     "metadata": {},
     "output_type": "display_data"
    },
    {
     "data": {
      "application/vnd.jupyter.widget-view+json": {
       "model_id": "f143422b0fef4af19b79cdb3872f7956",
       "version_major": 2,
       "version_minor": 0
      },
      "text/plain": [
       "COLLECTING RESULTS | :   0%|          | 0/1 [00:00<?, ?it/s]"
      ]
     },
     "metadata": {},
     "output_type": "display_data"
    },
    {
     "name": "stdout",
     "output_type": "stream",
     "text": [
      "Completed downloading\n"
     ]
    },
    {
     "data": {
      "application/vnd.jupyter.widget-view+json": {
       "model_id": "57c4705b4bdd44e4a047b81fbf708ece",
       "version_major": 2,
       "version_minor": 0
      },
      "text/plain": [
       "QUEUEING TASKS | :   0%|          | 0/1 [00:00<?, ?it/s]"
      ]
     },
     "metadata": {},
     "output_type": "display_data"
    },
    {
     "data": {
      "application/vnd.jupyter.widget-view+json": {
       "model_id": "428e03b7ff644283b1161cb979e73cff",
       "version_major": 2,
       "version_minor": 0
      },
      "text/plain": [
       "PROCESSING TASKS | :   0%|          | 0/1 [00:00<?, ?it/s]"
      ]
     },
     "metadata": {},
     "output_type": "display_data"
    },
    {
     "data": {
      "application/vnd.jupyter.widget-view+json": {
       "model_id": "a82b83c8b6424e2698b36088493f1cd2",
       "version_major": 2,
       "version_minor": 0
      },
      "text/plain": [
       "COLLECTING RESULTS | :   0%|          | 0/1 [00:00<?, ?it/s]"
      ]
     },
     "metadata": {},
     "output_type": "display_data"
    },
    {
     "name": "stdout",
     "output_type": "stream",
     "text": [
      "Completed downloading\n"
     ]
    },
    {
     "data": {
      "application/vnd.jupyter.widget-view+json": {
       "model_id": "90c31d8d2aa1488c9cd0ebaa5b87c76f",
       "version_major": 2,
       "version_minor": 0
      },
      "text/plain": [
       "QUEUEING TASKS | :   0%|          | 0/1 [00:00<?, ?it/s]"
      ]
     },
     "metadata": {},
     "output_type": "display_data"
    },
    {
     "data": {
      "application/vnd.jupyter.widget-view+json": {
       "model_id": "6c1e781146fb49fe90478fdeeb347ce0",
       "version_major": 2,
       "version_minor": 0
      },
      "text/plain": [
       "PROCESSING TASKS | :   0%|          | 0/1 [00:00<?, ?it/s]"
      ]
     },
     "metadata": {},
     "output_type": "display_data"
    },
    {
     "data": {
      "application/vnd.jupyter.widget-view+json": {
       "model_id": "f164db66be73455dac7db60ac9490047",
       "version_major": 2,
       "version_minor": 0
      },
      "text/plain": [
       "COLLECTING RESULTS | :   0%|          | 0/1 [00:00<?, ?it/s]"
      ]
     },
     "metadata": {},
     "output_type": "display_data"
    },
    {
     "name": "stdout",
     "output_type": "stream",
     "text": [
      "Completed downloading\n"
     ]
    },
    {
     "data": {
      "application/vnd.jupyter.widget-view+json": {
       "model_id": "ccb87ee25ebd499bbdcce0fee4d58892",
       "version_major": 2,
       "version_minor": 0
      },
      "text/plain": [
       "QUEUEING TASKS | :   0%|          | 0/1 [00:00<?, ?it/s]"
      ]
     },
     "metadata": {},
     "output_type": "display_data"
    },
    {
     "data": {
      "application/vnd.jupyter.widget-view+json": {
       "model_id": "a911c648a75c48f7a4112c445b37d185",
       "version_major": 2,
       "version_minor": 0
      },
      "text/plain": [
       "PROCESSING TASKS | :   0%|          | 0/1 [00:00<?, ?it/s]"
      ]
     },
     "metadata": {},
     "output_type": "display_data"
    },
    {
     "data": {
      "application/vnd.jupyter.widget-view+json": {
       "model_id": "85bbf7a145614761b91678d39e8d954b",
       "version_major": 2,
       "version_minor": 0
      },
      "text/plain": [
       "COLLECTING RESULTS | :   0%|          | 0/1 [00:00<?, ?it/s]"
      ]
     },
     "metadata": {},
     "output_type": "display_data"
    },
    {
     "name": "stdout",
     "output_type": "stream",
     "text": [
      "Completed downloading\n"
     ]
    },
    {
     "data": {
      "application/vnd.jupyter.widget-view+json": {
       "model_id": "260008f4a0da47b797591b083e5c0683",
       "version_major": 2,
       "version_minor": 0
      },
      "text/plain": [
       "QUEUEING TASKS | :   0%|          | 0/1 [00:00<?, ?it/s]"
      ]
     },
     "metadata": {},
     "output_type": "display_data"
    },
    {
     "data": {
      "application/vnd.jupyter.widget-view+json": {
       "model_id": "98babbee20a340b9983ebb1bc00455ed",
       "version_major": 2,
       "version_minor": 0
      },
      "text/plain": [
       "PROCESSING TASKS | :   0%|          | 0/1 [00:00<?, ?it/s]"
      ]
     },
     "metadata": {},
     "output_type": "display_data"
    },
    {
     "data": {
      "application/vnd.jupyter.widget-view+json": {
       "model_id": "27922a71f89e48d7a8a963c59d46853f",
       "version_major": 2,
       "version_minor": 0
      },
      "text/plain": [
       "COLLECTING RESULTS | :   0%|          | 0/1 [00:00<?, ?it/s]"
      ]
     },
     "metadata": {},
     "output_type": "display_data"
    },
    {
     "name": "stdout",
     "output_type": "stream",
     "text": [
      "Completed downloading\n"
     ]
    },
    {
     "data": {
      "application/vnd.jupyter.widget-view+json": {
       "model_id": "7c5587897e1f439a94d91ec831360425",
       "version_major": 2,
       "version_minor": 0
      },
      "text/plain": [
       "QUEUEING TASKS | :   0%|          | 0/1 [00:00<?, ?it/s]"
      ]
     },
     "metadata": {},
     "output_type": "display_data"
    },
    {
     "data": {
      "application/vnd.jupyter.widget-view+json": {
       "model_id": "3bcffc828d92403fa87f3e4957515f1d",
       "version_major": 2,
       "version_minor": 0
      },
      "text/plain": [
       "PROCESSING TASKS | :   0%|          | 0/1 [00:00<?, ?it/s]"
      ]
     },
     "metadata": {},
     "output_type": "display_data"
    },
    {
     "data": {
      "application/vnd.jupyter.widget-view+json": {
       "model_id": "48c36e448ec949018128b5a3d7d48bfd",
       "version_major": 2,
       "version_minor": 0
      },
      "text/plain": [
       "COLLECTING RESULTS | :   0%|          | 0/1 [00:00<?, ?it/s]"
      ]
     },
     "metadata": {},
     "output_type": "display_data"
    },
    {
     "name": "stdout",
     "output_type": "stream",
     "text": [
      "Completed downloading\n"
     ]
    },
    {
     "data": {
      "application/vnd.jupyter.widget-view+json": {
       "model_id": "b8c6073f90f84fe1b7ba4dd14e0f5f9c",
       "version_major": 2,
       "version_minor": 0
      },
      "text/plain": [
       "QUEUEING TASKS | :   0%|          | 0/1 [00:00<?, ?it/s]"
      ]
     },
     "metadata": {},
     "output_type": "display_data"
    },
    {
     "data": {
      "application/vnd.jupyter.widget-view+json": {
       "model_id": "f5dcd7f0348f491d96885b480e974d2d",
       "version_major": 2,
       "version_minor": 0
      },
      "text/plain": [
       "PROCESSING TASKS | :   0%|          | 0/1 [00:00<?, ?it/s]"
      ]
     },
     "metadata": {},
     "output_type": "display_data"
    },
    {
     "data": {
      "application/vnd.jupyter.widget-view+json": {
       "model_id": "51704cb61f834c16bb5d87a7407ba84c",
       "version_major": 2,
       "version_minor": 0
      },
      "text/plain": [
       "COLLECTING RESULTS | :   0%|          | 0/1 [00:00<?, ?it/s]"
      ]
     },
     "metadata": {},
     "output_type": "display_data"
    },
    {
     "name": "stdout",
     "output_type": "stream",
     "text": [
      "Completed downloading\n"
     ]
    },
    {
     "data": {
      "application/vnd.jupyter.widget-view+json": {
       "model_id": "ce241e29e1a84d2dba152a2e26ce36ea",
       "version_major": 2,
       "version_minor": 0
      },
      "text/plain": [
       "QUEUEING TASKS | :   0%|          | 0/1 [00:00<?, ?it/s]"
      ]
     },
     "metadata": {},
     "output_type": "display_data"
    },
    {
     "data": {
      "application/vnd.jupyter.widget-view+json": {
       "model_id": "4acff7b74c72430c8e7e1bbcf4994c82",
       "version_major": 2,
       "version_minor": 0
      },
      "text/plain": [
       "PROCESSING TASKS | :   0%|          | 0/1 [00:00<?, ?it/s]"
      ]
     },
     "metadata": {},
     "output_type": "display_data"
    },
    {
     "data": {
      "application/vnd.jupyter.widget-view+json": {
       "model_id": "42be9ab6af434d7e8b4c7d78a8f52eff",
       "version_major": 2,
       "version_minor": 0
      },
      "text/plain": [
       "COLLECTING RESULTS | :   0%|          | 0/1 [00:00<?, ?it/s]"
      ]
     },
     "metadata": {},
     "output_type": "display_data"
    },
    {
     "name": "stdout",
     "output_type": "stream",
     "text": [
      "Completed downloading\n"
     ]
    },
    {
     "data": {
      "application/vnd.jupyter.widget-view+json": {
       "model_id": "bfdf25e3f09a4b98bd2688682bb54f76",
       "version_major": 2,
       "version_minor": 0
      },
      "text/plain": [
       "QUEUEING TASKS | :   0%|          | 0/1 [00:00<?, ?it/s]"
      ]
     },
     "metadata": {},
     "output_type": "display_data"
    },
    {
     "data": {
      "application/vnd.jupyter.widget-view+json": {
       "model_id": "98ce4946d4f447899862d54b73e2e642",
       "version_major": 2,
       "version_minor": 0
      },
      "text/plain": [
       "PROCESSING TASKS | :   0%|          | 0/1 [00:00<?, ?it/s]"
      ]
     },
     "metadata": {},
     "output_type": "display_data"
    },
    {
     "data": {
      "application/vnd.jupyter.widget-view+json": {
       "model_id": "fa2a02f0b8e14093a9d1792217e30e48",
       "version_major": 2,
       "version_minor": 0
      },
      "text/plain": [
       "COLLECTING RESULTS | :   0%|          | 0/1 [00:00<?, ?it/s]"
      ]
     },
     "metadata": {},
     "output_type": "display_data"
    },
    {
     "name": "stdout",
     "output_type": "stream",
     "text": [
      "Completed downloading\n"
     ]
    },
    {
     "data": {
      "application/vnd.jupyter.widget-view+json": {
       "model_id": "6025fc19d4674c76b94511243dfbd390",
       "version_major": 2,
       "version_minor": 0
      },
      "text/plain": [
       "QUEUEING TASKS | :   0%|          | 0/1 [00:00<?, ?it/s]"
      ]
     },
     "metadata": {},
     "output_type": "display_data"
    },
    {
     "data": {
      "application/vnd.jupyter.widget-view+json": {
       "model_id": "1a59ed427b9247ae8fd34fa2770a2120",
       "version_major": 2,
       "version_minor": 0
      },
      "text/plain": [
       "PROCESSING TASKS | :   0%|          | 0/1 [00:00<?, ?it/s]"
      ]
     },
     "metadata": {},
     "output_type": "display_data"
    },
    {
     "data": {
      "application/vnd.jupyter.widget-view+json": {
       "model_id": "d4ae513777b2438198246bb8e0680be2",
       "version_major": 2,
       "version_minor": 0
      },
      "text/plain": [
       "COLLECTING RESULTS | :   0%|          | 0/1 [00:00<?, ?it/s]"
      ]
     },
     "metadata": {},
     "output_type": "display_data"
    },
    {
     "name": "stdout",
     "output_type": "stream",
     "text": [
      "Completed downloading\n"
     ]
    },
    {
     "data": {
      "application/vnd.jupyter.widget-view+json": {
       "model_id": "dd770ee991594aad914d2cd2d46a009f",
       "version_major": 2,
       "version_minor": 0
      },
      "text/plain": [
       "QUEUEING TASKS | :   0%|          | 0/1 [00:00<?, ?it/s]"
      ]
     },
     "metadata": {},
     "output_type": "display_data"
    },
    {
     "data": {
      "application/vnd.jupyter.widget-view+json": {
       "model_id": "d40bb510a11f4fbaa0d75a4e170a4f30",
       "version_major": 2,
       "version_minor": 0
      },
      "text/plain": [
       "PROCESSING TASKS | :   0%|          | 0/1 [00:00<?, ?it/s]"
      ]
     },
     "metadata": {},
     "output_type": "display_data"
    },
    {
     "data": {
      "application/vnd.jupyter.widget-view+json": {
       "model_id": "e08cc936c74c4ed69a5f692f7dd3fade",
       "version_major": 2,
       "version_minor": 0
      },
      "text/plain": [
       "COLLECTING RESULTS | :   0%|          | 0/1 [00:00<?, ?it/s]"
      ]
     },
     "metadata": {},
     "output_type": "display_data"
    },
    {
     "name": "stdout",
     "output_type": "stream",
     "text": [
      "Completed downloading\n"
     ]
    },
    {
     "data": {
      "application/vnd.jupyter.widget-view+json": {
       "model_id": "b2c026ba08d344c1b0e403a4ec77ec5c",
       "version_major": 2,
       "version_minor": 0
      },
      "text/plain": [
       "QUEUEING TASKS | :   0%|          | 0/1 [00:00<?, ?it/s]"
      ]
     },
     "metadata": {},
     "output_type": "display_data"
    },
    {
     "data": {
      "application/vnd.jupyter.widget-view+json": {
       "model_id": "6d816b10aa0b4318a2adb2a0941cd866",
       "version_major": 2,
       "version_minor": 0
      },
      "text/plain": [
       "PROCESSING TASKS | :   0%|          | 0/1 [00:00<?, ?it/s]"
      ]
     },
     "metadata": {},
     "output_type": "display_data"
    },
    {
     "data": {
      "application/vnd.jupyter.widget-view+json": {
       "model_id": "357fb6ae54364a42955c80c6ea030b6f",
       "version_major": 2,
       "version_minor": 0
      },
      "text/plain": [
       "COLLECTING RESULTS | :   0%|          | 0/1 [00:00<?, ?it/s]"
      ]
     },
     "metadata": {},
     "output_type": "display_data"
    },
    {
     "name": "stdout",
     "output_type": "stream",
     "text": [
      "Completed downloading\n"
     ]
    },
    {
     "data": {
      "application/vnd.jupyter.widget-view+json": {
       "model_id": "4869b2dc3e5143e3940d7eee146bee1f",
       "version_major": 2,
       "version_minor": 0
      },
      "text/plain": [
       "QUEUEING TASKS | :   0%|          | 0/1 [00:00<?, ?it/s]"
      ]
     },
     "metadata": {},
     "output_type": "display_data"
    },
    {
     "data": {
      "application/vnd.jupyter.widget-view+json": {
       "model_id": "61bd9e0509f74a13b3270aaf187579c3",
       "version_major": 2,
       "version_minor": 0
      },
      "text/plain": [
       "PROCESSING TASKS | :   0%|          | 0/1 [00:00<?, ?it/s]"
      ]
     },
     "metadata": {},
     "output_type": "display_data"
    },
    {
     "data": {
      "application/vnd.jupyter.widget-view+json": {
       "model_id": "c30435f373604c7f866fdb61a712a747",
       "version_major": 2,
       "version_minor": 0
      },
      "text/plain": [
       "COLLECTING RESULTS | :   0%|          | 0/1 [00:00<?, ?it/s]"
      ]
     },
     "metadata": {},
     "output_type": "display_data"
    },
    {
     "name": "stdout",
     "output_type": "stream",
     "text": [
      "Completed downloading\n"
     ]
    },
    {
     "data": {
      "application/vnd.jupyter.widget-view+json": {
       "model_id": "4be74830191046f58597f92b10d955f4",
       "version_major": 2,
       "version_minor": 0
      },
      "text/plain": [
       "QUEUEING TASKS | :   0%|          | 0/1 [00:00<?, ?it/s]"
      ]
     },
     "metadata": {},
     "output_type": "display_data"
    },
    {
     "data": {
      "application/vnd.jupyter.widget-view+json": {
       "model_id": "f5cef7bc53264a4f92b82668eb0b9777",
       "version_major": 2,
       "version_minor": 0
      },
      "text/plain": [
       "PROCESSING TASKS | :   0%|          | 0/1 [00:00<?, ?it/s]"
      ]
     },
     "metadata": {},
     "output_type": "display_data"
    },
    {
     "data": {
      "application/vnd.jupyter.widget-view+json": {
       "model_id": "15c2fe9184e34abd8286b30d94f5a5d0",
       "version_major": 2,
       "version_minor": 0
      },
      "text/plain": [
       "COLLECTING RESULTS | :   0%|          | 0/1 [00:00<?, ?it/s]"
      ]
     },
     "metadata": {},
     "output_type": "display_data"
    },
    {
     "name": "stdout",
     "output_type": "stream",
     "text": [
      "Completed downloading\n"
     ]
    },
    {
     "data": {
      "application/vnd.jupyter.widget-view+json": {
       "model_id": "cffa1a7c1b964a3d9d0c4f6b0ebd7ace",
       "version_major": 2,
       "version_minor": 0
      },
      "text/plain": [
       "QUEUEING TASKS | :   0%|          | 0/1 [00:00<?, ?it/s]"
      ]
     },
     "metadata": {},
     "output_type": "display_data"
    },
    {
     "data": {
      "application/vnd.jupyter.widget-view+json": {
       "model_id": "5ab21969c8ec4affb48b3266a0eb7e1c",
       "version_major": 2,
       "version_minor": 0
      },
      "text/plain": [
       "PROCESSING TASKS | :   0%|          | 0/1 [00:00<?, ?it/s]"
      ]
     },
     "metadata": {},
     "output_type": "display_data"
    },
    {
     "data": {
      "application/vnd.jupyter.widget-view+json": {
       "model_id": "fa9d5dbbe7934e05916aba48e59a5b43",
       "version_major": 2,
       "version_minor": 0
      },
      "text/plain": [
       "COLLECTING RESULTS | :   0%|          | 0/1 [00:00<?, ?it/s]"
      ]
     },
     "metadata": {},
     "output_type": "display_data"
    },
    {
     "name": "stdout",
     "output_type": "stream",
     "text": [
      "Completed downloading\n"
     ]
    },
    {
     "data": {
      "application/vnd.jupyter.widget-view+json": {
       "model_id": "6ddec121f0c745639c94e33995589569",
       "version_major": 2,
       "version_minor": 0
      },
      "text/plain": [
       "QUEUEING TASKS | :   0%|          | 0/1 [00:00<?, ?it/s]"
      ]
     },
     "metadata": {},
     "output_type": "display_data"
    },
    {
     "data": {
      "application/vnd.jupyter.widget-view+json": {
       "model_id": "581bf0479d794eeea63cb66c2c84f3b9",
       "version_major": 2,
       "version_minor": 0
      },
      "text/plain": [
       "PROCESSING TASKS | :   0%|          | 0/1 [00:00<?, ?it/s]"
      ]
     },
     "metadata": {},
     "output_type": "display_data"
    },
    {
     "data": {
      "application/vnd.jupyter.widget-view+json": {
       "model_id": "5172b5b0f85b4164b11bac8da3459141",
       "version_major": 2,
       "version_minor": 0
      },
      "text/plain": [
       "COLLECTING RESULTS | :   0%|          | 0/1 [00:00<?, ?it/s]"
      ]
     },
     "metadata": {},
     "output_type": "display_data"
    },
    {
     "name": "stdout",
     "output_type": "stream",
     "text": [
      "Completed downloading\n"
     ]
    },
    {
     "data": {
      "application/vnd.jupyter.widget-view+json": {
       "model_id": "20ee0e07928a4408b4ff38a9d028b685",
       "version_major": 2,
       "version_minor": 0
      },
      "text/plain": [
       "QUEUEING TASKS | :   0%|          | 0/1 [00:00<?, ?it/s]"
      ]
     },
     "metadata": {},
     "output_type": "display_data"
    },
    {
     "data": {
      "application/vnd.jupyter.widget-view+json": {
       "model_id": "fcf18b97889b45edba2330ea53ca0342",
       "version_major": 2,
       "version_minor": 0
      },
      "text/plain": [
       "PROCESSING TASKS | :   0%|          | 0/1 [00:00<?, ?it/s]"
      ]
     },
     "metadata": {},
     "output_type": "display_data"
    },
    {
     "data": {
      "application/vnd.jupyter.widget-view+json": {
       "model_id": "124dee8df555445192af6d1b3f43ac11",
       "version_major": 2,
       "version_minor": 0
      },
      "text/plain": [
       "COLLECTING RESULTS | :   0%|          | 0/1 [00:00<?, ?it/s]"
      ]
     },
     "metadata": {},
     "output_type": "display_data"
    },
    {
     "name": "stdout",
     "output_type": "stream",
     "text": [
      "Completed downloading\n"
     ]
    },
    {
     "data": {
      "application/vnd.jupyter.widget-view+json": {
       "model_id": "d31eff01a2db40bca7b328a03ee6cbc3",
       "version_major": 2,
       "version_minor": 0
      },
      "text/plain": [
       "QUEUEING TASKS | :   0%|          | 0/1 [00:00<?, ?it/s]"
      ]
     },
     "metadata": {},
     "output_type": "display_data"
    },
    {
     "data": {
      "application/vnd.jupyter.widget-view+json": {
       "model_id": "46d20ac829724f6688b2dce94ca6487c",
       "version_major": 2,
       "version_minor": 0
      },
      "text/plain": [
       "PROCESSING TASKS | :   0%|          | 0/1 [00:00<?, ?it/s]"
      ]
     },
     "metadata": {},
     "output_type": "display_data"
    },
    {
     "data": {
      "application/vnd.jupyter.widget-view+json": {
       "model_id": "bf1d6a67de5f48a39031539f404f5a50",
       "version_major": 2,
       "version_minor": 0
      },
      "text/plain": [
       "COLLECTING RESULTS | :   0%|          | 0/1 [00:00<?, ?it/s]"
      ]
     },
     "metadata": {},
     "output_type": "display_data"
    },
    {
     "name": "stdout",
     "output_type": "stream",
     "text": [
      "Completed downloading\n"
     ]
    },
    {
     "data": {
      "application/vnd.jupyter.widget-view+json": {
       "model_id": "a3868c743d10491f9530b3fd9bb61fc5",
       "version_major": 2,
       "version_minor": 0
      },
      "text/plain": [
       "QUEUEING TASKS | :   0%|          | 0/1 [00:00<?, ?it/s]"
      ]
     },
     "metadata": {},
     "output_type": "display_data"
    },
    {
     "data": {
      "application/vnd.jupyter.widget-view+json": {
       "model_id": "df9754cdebc94351a3db72926083be56",
       "version_major": 2,
       "version_minor": 0
      },
      "text/plain": [
       "PROCESSING TASKS | :   0%|          | 0/1 [00:00<?, ?it/s]"
      ]
     },
     "metadata": {},
     "output_type": "display_data"
    },
    {
     "data": {
      "application/vnd.jupyter.widget-view+json": {
       "model_id": "c048ee5da7bc46c9b9341e44775a3791",
       "version_major": 2,
       "version_minor": 0
      },
      "text/plain": [
       "COLLECTING RESULTS | :   0%|          | 0/1 [00:00<?, ?it/s]"
      ]
     },
     "metadata": {},
     "output_type": "display_data"
    },
    {
     "name": "stdout",
     "output_type": "stream",
     "text": [
      "Completed downloading\n"
     ]
    },
    {
     "data": {
      "application/vnd.jupyter.widget-view+json": {
       "model_id": "d5e23221e23246cbbc010efb1fe6264e",
       "version_major": 2,
       "version_minor": 0
      },
      "text/plain": [
       "QUEUEING TASKS | :   0%|          | 0/1 [00:00<?, ?it/s]"
      ]
     },
     "metadata": {},
     "output_type": "display_data"
    },
    {
     "data": {
      "application/vnd.jupyter.widget-view+json": {
       "model_id": "a81d9d9d098a470393da501410c105e2",
       "version_major": 2,
       "version_minor": 0
      },
      "text/plain": [
       "PROCESSING TASKS | :   0%|          | 0/1 [00:00<?, ?it/s]"
      ]
     },
     "metadata": {},
     "output_type": "display_data"
    },
    {
     "data": {
      "application/vnd.jupyter.widget-view+json": {
       "model_id": "3ac134a7b14b406ebb2a764de4609698",
       "version_major": 2,
       "version_minor": 0
      },
      "text/plain": [
       "COLLECTING RESULTS | :   0%|          | 0/1 [00:00<?, ?it/s]"
      ]
     },
     "metadata": {},
     "output_type": "display_data"
    },
    {
     "name": "stdout",
     "output_type": "stream",
     "text": [
      "Completed downloading\n"
     ]
    },
    {
     "data": {
      "application/vnd.jupyter.widget-view+json": {
       "model_id": "5a669fa0ce694eff8e8ac31ee07bfc51",
       "version_major": 2,
       "version_minor": 0
      },
      "text/plain": [
       "QUEUEING TASKS | :   0%|          | 0/1 [00:00<?, ?it/s]"
      ]
     },
     "metadata": {},
     "output_type": "display_data"
    },
    {
     "data": {
      "application/vnd.jupyter.widget-view+json": {
       "model_id": "5745a952a72141cc96bc26ad6e3f58c0",
       "version_major": 2,
       "version_minor": 0
      },
      "text/plain": [
       "PROCESSING TASKS | :   0%|          | 0/1 [00:00<?, ?it/s]"
      ]
     },
     "metadata": {},
     "output_type": "display_data"
    },
    {
     "data": {
      "application/vnd.jupyter.widget-view+json": {
       "model_id": "c88dca96103b4806b6876d02b914eb2b",
       "version_major": 2,
       "version_minor": 0
      },
      "text/plain": [
       "COLLECTING RESULTS | :   0%|          | 0/1 [00:00<?, ?it/s]"
      ]
     },
     "metadata": {},
     "output_type": "display_data"
    },
    {
     "name": "stdout",
     "output_type": "stream",
     "text": [
      "Completed downloading\n"
     ]
    },
    {
     "data": {
      "application/vnd.jupyter.widget-view+json": {
       "model_id": "f214559dca1a4135a4254d3822d6a1e8",
       "version_major": 2,
       "version_minor": 0
      },
      "text/plain": [
       "QUEUEING TASKS | :   0%|          | 0/1 [00:00<?, ?it/s]"
      ]
     },
     "metadata": {},
     "output_type": "display_data"
    },
    {
     "data": {
      "application/vnd.jupyter.widget-view+json": {
       "model_id": "8ab4505787f64c169109d8ebc38c3173",
       "version_major": 2,
       "version_minor": 0
      },
      "text/plain": [
       "PROCESSING TASKS | :   0%|          | 0/1 [00:00<?, ?it/s]"
      ]
     },
     "metadata": {},
     "output_type": "display_data"
    },
    {
     "data": {
      "application/vnd.jupyter.widget-view+json": {
       "model_id": "6fac5914a4ca45cbbed2f52c30fd1a44",
       "version_major": 2,
       "version_minor": 0
      },
      "text/plain": [
       "COLLECTING RESULTS | :   0%|          | 0/1 [00:00<?, ?it/s]"
      ]
     },
     "metadata": {},
     "output_type": "display_data"
    },
    {
     "name": "stdout",
     "output_type": "stream",
     "text": [
      "Completed downloading\n"
     ]
    },
    {
     "data": {
      "application/vnd.jupyter.widget-view+json": {
       "model_id": "c19e27eac4b94471a066d5370f41d504",
       "version_major": 2,
       "version_minor": 0
      },
      "text/plain": [
       "QUEUEING TASKS | :   0%|          | 0/1 [00:00<?, ?it/s]"
      ]
     },
     "metadata": {},
     "output_type": "display_data"
    },
    {
     "data": {
      "application/vnd.jupyter.widget-view+json": {
       "model_id": "de07f27fd70546eeaf0d07fe5ce162d7",
       "version_major": 2,
       "version_minor": 0
      },
      "text/plain": [
       "PROCESSING TASKS | :   0%|          | 0/1 [00:00<?, ?it/s]"
      ]
     },
     "metadata": {},
     "output_type": "display_data"
    },
    {
     "data": {
      "application/vnd.jupyter.widget-view+json": {
       "model_id": "ea81f80c255f4c5fbccd97c28cdd8cc8",
       "version_major": 2,
       "version_minor": 0
      },
      "text/plain": [
       "COLLECTING RESULTS | :   0%|          | 0/1 [00:00<?, ?it/s]"
      ]
     },
     "metadata": {},
     "output_type": "display_data"
    },
    {
     "name": "stdout",
     "output_type": "stream",
     "text": [
      "Completed downloading\n"
     ]
    },
    {
     "data": {
      "application/vnd.jupyter.widget-view+json": {
       "model_id": "37214887eb8a4387b8642ee7cb1e8ff5",
       "version_major": 2,
       "version_minor": 0
      },
      "text/plain": [
       "QUEUEING TASKS | :   0%|          | 0/1 [00:00<?, ?it/s]"
      ]
     },
     "metadata": {},
     "output_type": "display_data"
    },
    {
     "data": {
      "application/vnd.jupyter.widget-view+json": {
       "model_id": "8db45796cd1845e0bc7b1575b3233b24",
       "version_major": 2,
       "version_minor": 0
      },
      "text/plain": [
       "PROCESSING TASKS | :   0%|          | 0/1 [00:00<?, ?it/s]"
      ]
     },
     "metadata": {},
     "output_type": "display_data"
    },
    {
     "data": {
      "application/vnd.jupyter.widget-view+json": {
       "model_id": "f9d88927f3da4cb08f88c7f54dbe4a05",
       "version_major": 2,
       "version_minor": 0
      },
      "text/plain": [
       "COLLECTING RESULTS | :   0%|          | 0/1 [00:00<?, ?it/s]"
      ]
     },
     "metadata": {},
     "output_type": "display_data"
    },
    {
     "name": "stdout",
     "output_type": "stream",
     "text": [
      "Completed downloading\n"
     ]
    },
    {
     "data": {
      "application/vnd.jupyter.widget-view+json": {
       "model_id": "37b2492319e24b68a850abef97296aab",
       "version_major": 2,
       "version_minor": 0
      },
      "text/plain": [
       "QUEUEING TASKS | :   0%|          | 0/1 [00:00<?, ?it/s]"
      ]
     },
     "metadata": {},
     "output_type": "display_data"
    },
    {
     "data": {
      "application/vnd.jupyter.widget-view+json": {
       "model_id": "97ad17853f6844dbaa8e0f7b6f8ce545",
       "version_major": 2,
       "version_minor": 0
      },
      "text/plain": [
       "PROCESSING TASKS | :   0%|          | 0/1 [00:00<?, ?it/s]"
      ]
     },
     "metadata": {},
     "output_type": "display_data"
    },
    {
     "data": {
      "application/vnd.jupyter.widget-view+json": {
       "model_id": "fa3393b6187b4963b6fe519b6de2a338",
       "version_major": 2,
       "version_minor": 0
      },
      "text/plain": [
       "COLLECTING RESULTS | :   0%|          | 0/1 [00:00<?, ?it/s]"
      ]
     },
     "metadata": {},
     "output_type": "display_data"
    },
    {
     "name": "stdout",
     "output_type": "stream",
     "text": [
      "Completed downloading\n"
     ]
    },
    {
     "data": {
      "application/vnd.jupyter.widget-view+json": {
       "model_id": "8685d5e8fb704d6fb9798a3a18efbba8",
       "version_major": 2,
       "version_minor": 0
      },
      "text/plain": [
       "QUEUEING TASKS | :   0%|          | 0/1 [00:00<?, ?it/s]"
      ]
     },
     "metadata": {},
     "output_type": "display_data"
    },
    {
     "data": {
      "application/vnd.jupyter.widget-view+json": {
       "model_id": "8872681cf2484659ad9b4f60fb544487",
       "version_major": 2,
       "version_minor": 0
      },
      "text/plain": [
       "PROCESSING TASKS | :   0%|          | 0/1 [00:00<?, ?it/s]"
      ]
     },
     "metadata": {},
     "output_type": "display_data"
    },
    {
     "data": {
      "application/vnd.jupyter.widget-view+json": {
       "model_id": "3afa2dc3cad446cc8d75eb85b0afa7bc",
       "version_major": 2,
       "version_minor": 0
      },
      "text/plain": [
       "COLLECTING RESULTS | :   0%|          | 0/1 [00:00<?, ?it/s]"
      ]
     },
     "metadata": {},
     "output_type": "display_data"
    },
    {
     "name": "stdout",
     "output_type": "stream",
     "text": [
      "Completed downloading\n"
     ]
    },
    {
     "data": {
      "application/vnd.jupyter.widget-view+json": {
       "model_id": "3d7bdd88ab5c4f548ff8e5edaf5747e8",
       "version_major": 2,
       "version_minor": 0
      },
      "text/plain": [
       "QUEUEING TASKS | :   0%|          | 0/1 [00:00<?, ?it/s]"
      ]
     },
     "metadata": {},
     "output_type": "display_data"
    },
    {
     "data": {
      "application/vnd.jupyter.widget-view+json": {
       "model_id": "cade922cc8654fe2af28ad68850baae9",
       "version_major": 2,
       "version_minor": 0
      },
      "text/plain": [
       "PROCESSING TASKS | :   0%|          | 0/1 [00:00<?, ?it/s]"
      ]
     },
     "metadata": {},
     "output_type": "display_data"
    },
    {
     "data": {
      "application/vnd.jupyter.widget-view+json": {
       "model_id": "70359d5bc07944a48e8841ccf9377cfc",
       "version_major": 2,
       "version_minor": 0
      },
      "text/plain": [
       "COLLECTING RESULTS | :   0%|          | 0/1 [00:00<?, ?it/s]"
      ]
     },
     "metadata": {},
     "output_type": "display_data"
    },
    {
     "name": "stdout",
     "output_type": "stream",
     "text": [
      "Completed downloading\n"
     ]
    },
    {
     "data": {
      "application/vnd.jupyter.widget-view+json": {
       "model_id": "34d54072b1754a848196e06732c942ea",
       "version_major": 2,
       "version_minor": 0
      },
      "text/plain": [
       "QUEUEING TASKS | :   0%|          | 0/1 [00:00<?, ?it/s]"
      ]
     },
     "metadata": {},
     "output_type": "display_data"
    },
    {
     "data": {
      "application/vnd.jupyter.widget-view+json": {
       "model_id": "d2130018874047c6b3f0914a4f9b7ca6",
       "version_major": 2,
       "version_minor": 0
      },
      "text/plain": [
       "PROCESSING TASKS | :   0%|          | 0/1 [00:00<?, ?it/s]"
      ]
     },
     "metadata": {},
     "output_type": "display_data"
    },
    {
     "data": {
      "application/vnd.jupyter.widget-view+json": {
       "model_id": "3b9b1937742b4747aa611db3472688eb",
       "version_major": 2,
       "version_minor": 0
      },
      "text/plain": [
       "COLLECTING RESULTS | :   0%|          | 0/1 [00:00<?, ?it/s]"
      ]
     },
     "metadata": {},
     "output_type": "display_data"
    },
    {
     "name": "stdout",
     "output_type": "stream",
     "text": [
      "Completed downloading\n"
     ]
    },
    {
     "data": {
      "application/vnd.jupyter.widget-view+json": {
       "model_id": "e0a1b0988b7e433ab04030c2dfbecb3c",
       "version_major": 2,
       "version_minor": 0
      },
      "text/plain": [
       "QUEUEING TASKS | :   0%|          | 0/1 [00:00<?, ?it/s]"
      ]
     },
     "metadata": {},
     "output_type": "display_data"
    },
    {
     "data": {
      "application/vnd.jupyter.widget-view+json": {
       "model_id": "de5ade82e3fb433685dce68ffbb296e8",
       "version_major": 2,
       "version_minor": 0
      },
      "text/plain": [
       "PROCESSING TASKS | :   0%|          | 0/1 [00:00<?, ?it/s]"
      ]
     },
     "metadata": {},
     "output_type": "display_data"
    },
    {
     "data": {
      "application/vnd.jupyter.widget-view+json": {
       "model_id": "986c237920d645b5b07fd2dad020b9e0",
       "version_major": 2,
       "version_minor": 0
      },
      "text/plain": [
       "COLLECTING RESULTS | :   0%|          | 0/1 [00:00<?, ?it/s]"
      ]
     },
     "metadata": {},
     "output_type": "display_data"
    },
    {
     "name": "stdout",
     "output_type": "stream",
     "text": [
      "Completed downloading\n"
     ]
    },
    {
     "data": {
      "application/vnd.jupyter.widget-view+json": {
       "model_id": "0506867545ee4b7195a799cd01f8cdad",
       "version_major": 2,
       "version_minor": 0
      },
      "text/plain": [
       "QUEUEING TASKS | :   0%|          | 0/1 [00:00<?, ?it/s]"
      ]
     },
     "metadata": {},
     "output_type": "display_data"
    },
    {
     "data": {
      "application/vnd.jupyter.widget-view+json": {
       "model_id": "921c51f009bf4c3792f2c97f31b7957c",
       "version_major": 2,
       "version_minor": 0
      },
      "text/plain": [
       "PROCESSING TASKS | :   0%|          | 0/1 [00:00<?, ?it/s]"
      ]
     },
     "metadata": {},
     "output_type": "display_data"
    },
    {
     "data": {
      "application/vnd.jupyter.widget-view+json": {
       "model_id": "0837fa10033b4cf18761d355ef298fe1",
       "version_major": 2,
       "version_minor": 0
      },
      "text/plain": [
       "COLLECTING RESULTS | :   0%|          | 0/1 [00:00<?, ?it/s]"
      ]
     },
     "metadata": {},
     "output_type": "display_data"
    },
    {
     "name": "stdout",
     "output_type": "stream",
     "text": [
      "Completed downloading\n"
     ]
    },
    {
     "data": {
      "application/vnd.jupyter.widget-view+json": {
       "model_id": "f4b05cf532514724a74a8654f4916ab4",
       "version_major": 2,
       "version_minor": 0
      },
      "text/plain": [
       "QUEUEING TASKS | :   0%|          | 0/1 [00:00<?, ?it/s]"
      ]
     },
     "metadata": {},
     "output_type": "display_data"
    },
    {
     "data": {
      "application/vnd.jupyter.widget-view+json": {
       "model_id": "75c33d8a2d5e41fc862f28aff0bea42b",
       "version_major": 2,
       "version_minor": 0
      },
      "text/plain": [
       "PROCESSING TASKS | :   0%|          | 0/1 [00:00<?, ?it/s]"
      ]
     },
     "metadata": {},
     "output_type": "display_data"
    },
    {
     "data": {
      "application/vnd.jupyter.widget-view+json": {
       "model_id": "7003a4d421d54d0fa513328905df4480",
       "version_major": 2,
       "version_minor": 0
      },
      "text/plain": [
       "COLLECTING RESULTS | :   0%|          | 0/1 [00:00<?, ?it/s]"
      ]
     },
     "metadata": {},
     "output_type": "display_data"
    },
    {
     "name": "stdout",
     "output_type": "stream",
     "text": [
      "Completed downloading\n"
     ]
    },
    {
     "data": {
      "application/vnd.jupyter.widget-view+json": {
       "model_id": "10cdd5c109074858bc7e467e9307722d",
       "version_major": 2,
       "version_minor": 0
      },
      "text/plain": [
       "QUEUEING TASKS | :   0%|          | 0/1 [00:00<?, ?it/s]"
      ]
     },
     "metadata": {},
     "output_type": "display_data"
    },
    {
     "data": {
      "application/vnd.jupyter.widget-view+json": {
       "model_id": "b5899835cfc54b82b9a0ce9747705c45",
       "version_major": 2,
       "version_minor": 0
      },
      "text/plain": [
       "PROCESSING TASKS | :   0%|          | 0/1 [00:00<?, ?it/s]"
      ]
     },
     "metadata": {},
     "output_type": "display_data"
    },
    {
     "data": {
      "application/vnd.jupyter.widget-view+json": {
       "model_id": "e3754246f39347f9b5dc14dc1e30f257",
       "version_major": 2,
       "version_minor": 0
      },
      "text/plain": [
       "COLLECTING RESULTS | :   0%|          | 0/1 [00:00<?, ?it/s]"
      ]
     },
     "metadata": {},
     "output_type": "display_data"
    },
    {
     "name": "stdout",
     "output_type": "stream",
     "text": [
      "Completed downloading\n"
     ]
    },
    {
     "data": {
      "application/vnd.jupyter.widget-view+json": {
       "model_id": "bf5aa3303abf4010988c59ac8339bb00",
       "version_major": 2,
       "version_minor": 0
      },
      "text/plain": [
       "QUEUEING TASKS | :   0%|          | 0/1 [00:00<?, ?it/s]"
      ]
     },
     "metadata": {},
     "output_type": "display_data"
    },
    {
     "data": {
      "application/vnd.jupyter.widget-view+json": {
       "model_id": "d7b79504225d425782b04292ba771d73",
       "version_major": 2,
       "version_minor": 0
      },
      "text/plain": [
       "PROCESSING TASKS | :   0%|          | 0/1 [00:00<?, ?it/s]"
      ]
     },
     "metadata": {},
     "output_type": "display_data"
    },
    {
     "data": {
      "application/vnd.jupyter.widget-view+json": {
       "model_id": "c15b8ac6e6b14b69892f382094f3500b",
       "version_major": 2,
       "version_minor": 0
      },
      "text/plain": [
       "COLLECTING RESULTS | :   0%|          | 0/1 [00:00<?, ?it/s]"
      ]
     },
     "metadata": {},
     "output_type": "display_data"
    },
    {
     "name": "stdout",
     "output_type": "stream",
     "text": [
      "Completed downloading\n"
     ]
    },
    {
     "data": {
      "application/vnd.jupyter.widget-view+json": {
       "model_id": "a9750d6af56744f29629ce2e78d50151",
       "version_major": 2,
       "version_minor": 0
      },
      "text/plain": [
       "QUEUEING TASKS | :   0%|          | 0/1 [00:00<?, ?it/s]"
      ]
     },
     "metadata": {},
     "output_type": "display_data"
    },
    {
     "data": {
      "application/vnd.jupyter.widget-view+json": {
       "model_id": "a821274feec740ed98e8aa69f2796c49",
       "version_major": 2,
       "version_minor": 0
      },
      "text/plain": [
       "PROCESSING TASKS | :   0%|          | 0/1 [00:00<?, ?it/s]"
      ]
     },
     "metadata": {},
     "output_type": "display_data"
    },
    {
     "data": {
      "application/vnd.jupyter.widget-view+json": {
       "model_id": "f3b73fa8413344e2a238f91ca5c14969",
       "version_major": 2,
       "version_minor": 0
      },
      "text/plain": [
       "COLLECTING RESULTS | :   0%|          | 0/1 [00:00<?, ?it/s]"
      ]
     },
     "metadata": {},
     "output_type": "display_data"
    },
    {
     "name": "stdout",
     "output_type": "stream",
     "text": [
      "Completed downloading\n"
     ]
    },
    {
     "data": {
      "application/vnd.jupyter.widget-view+json": {
       "model_id": "a9fa3d937f1b41ceb3052bad4c6f5abc",
       "version_major": 2,
       "version_minor": 0
      },
      "text/plain": [
       "QUEUEING TASKS | :   0%|          | 0/1 [00:00<?, ?it/s]"
      ]
     },
     "metadata": {},
     "output_type": "display_data"
    },
    {
     "data": {
      "application/vnd.jupyter.widget-view+json": {
       "model_id": "2cf63532cda746228f742be475d651e7",
       "version_major": 2,
       "version_minor": 0
      },
      "text/plain": [
       "PROCESSING TASKS | :   0%|          | 0/1 [00:00<?, ?it/s]"
      ]
     },
     "metadata": {},
     "output_type": "display_data"
    },
    {
     "data": {
      "application/vnd.jupyter.widget-view+json": {
       "model_id": "30f4220823d04dacbbbb744497dd8c42",
       "version_major": 2,
       "version_minor": 0
      },
      "text/plain": [
       "COLLECTING RESULTS | :   0%|          | 0/1 [00:00<?, ?it/s]"
      ]
     },
     "metadata": {},
     "output_type": "display_data"
    },
    {
     "name": "stdout",
     "output_type": "stream",
     "text": [
      "Completed downloading\n"
     ]
    },
    {
     "data": {
      "application/vnd.jupyter.widget-view+json": {
       "model_id": "78f367f805654c8b8a13bad791dcc563",
       "version_major": 2,
       "version_minor": 0
      },
      "text/plain": [
       "QUEUEING TASKS | :   0%|          | 0/1 [00:00<?, ?it/s]"
      ]
     },
     "metadata": {},
     "output_type": "display_data"
    },
    {
     "data": {
      "application/vnd.jupyter.widget-view+json": {
       "model_id": "729ec29ad11d4b97a05eb9bec0082024",
       "version_major": 2,
       "version_minor": 0
      },
      "text/plain": [
       "PROCESSING TASKS | :   0%|          | 0/1 [00:00<?, ?it/s]"
      ]
     },
     "metadata": {},
     "output_type": "display_data"
    },
    {
     "data": {
      "application/vnd.jupyter.widget-view+json": {
       "model_id": "7a21e39a57754627bcc3b9377e53096c",
       "version_major": 2,
       "version_minor": 0
      },
      "text/plain": [
       "COLLECTING RESULTS | :   0%|          | 0/1 [00:00<?, ?it/s]"
      ]
     },
     "metadata": {},
     "output_type": "display_data"
    },
    {
     "name": "stdout",
     "output_type": "stream",
     "text": [
      "Completed downloading\n"
     ]
    },
    {
     "data": {
      "application/vnd.jupyter.widget-view+json": {
       "model_id": "1e8729473e104d018548b2574ccc4ecb",
       "version_major": 2,
       "version_minor": 0
      },
      "text/plain": [
       "QUEUEING TASKS | :   0%|          | 0/1 [00:00<?, ?it/s]"
      ]
     },
     "metadata": {},
     "output_type": "display_data"
    },
    {
     "data": {
      "application/vnd.jupyter.widget-view+json": {
       "model_id": "62d33a466f434e47a15a1c3870265164",
       "version_major": 2,
       "version_minor": 0
      },
      "text/plain": [
       "PROCESSING TASKS | :   0%|          | 0/1 [00:00<?, ?it/s]"
      ]
     },
     "metadata": {},
     "output_type": "display_data"
    },
    {
     "data": {
      "application/vnd.jupyter.widget-view+json": {
       "model_id": "1e8d13829f8f40c68fd85ca16d72fa38",
       "version_major": 2,
       "version_minor": 0
      },
      "text/plain": [
       "COLLECTING RESULTS | :   0%|          | 0/1 [00:00<?, ?it/s]"
      ]
     },
     "metadata": {},
     "output_type": "display_data"
    },
    {
     "name": "stdout",
     "output_type": "stream",
     "text": [
      "Completed downloading\n"
     ]
    },
    {
     "data": {
      "application/vnd.jupyter.widget-view+json": {
       "model_id": "1b0940f42a3a452d9596dab86e7bc4da",
       "version_major": 2,
       "version_minor": 0
      },
      "text/plain": [
       "QUEUEING TASKS | :   0%|          | 0/1 [00:00<?, ?it/s]"
      ]
     },
     "metadata": {},
     "output_type": "display_data"
    },
    {
     "data": {
      "application/vnd.jupyter.widget-view+json": {
       "model_id": "a766098a06ad436cb2c97291b180eea4",
       "version_major": 2,
       "version_minor": 0
      },
      "text/plain": [
       "PROCESSING TASKS | :   0%|          | 0/1 [00:00<?, ?it/s]"
      ]
     },
     "metadata": {},
     "output_type": "display_data"
    },
    {
     "data": {
      "application/vnd.jupyter.widget-view+json": {
       "model_id": "273650e4649c4049959891d66c2767ce",
       "version_major": 2,
       "version_minor": 0
      },
      "text/plain": [
       "COLLECTING RESULTS | :   0%|          | 0/1 [00:00<?, ?it/s]"
      ]
     },
     "metadata": {},
     "output_type": "display_data"
    },
    {
     "name": "stdout",
     "output_type": "stream",
     "text": [
      "Completed downloading\n"
     ]
    },
    {
     "data": {
      "application/vnd.jupyter.widget-view+json": {
       "model_id": "ac56759bade5453a9a7ae03c5eed5d79",
       "version_major": 2,
       "version_minor": 0
      },
      "text/plain": [
       "QUEUEING TASKS | :   0%|          | 0/1 [00:00<?, ?it/s]"
      ]
     },
     "metadata": {},
     "output_type": "display_data"
    },
    {
     "data": {
      "application/vnd.jupyter.widget-view+json": {
       "model_id": "a43a80aee79147b9af3707fd7766533b",
       "version_major": 2,
       "version_minor": 0
      },
      "text/plain": [
       "PROCESSING TASKS | :   0%|          | 0/1 [00:00<?, ?it/s]"
      ]
     },
     "metadata": {},
     "output_type": "display_data"
    },
    {
     "data": {
      "application/vnd.jupyter.widget-view+json": {
       "model_id": "0ba55a89437b40c482685a23c96c2755",
       "version_major": 2,
       "version_minor": 0
      },
      "text/plain": [
       "COLLECTING RESULTS | :   0%|          | 0/1 [00:00<?, ?it/s]"
      ]
     },
     "metadata": {},
     "output_type": "display_data"
    },
    {
     "name": "stdout",
     "output_type": "stream",
     "text": [
      "Completed downloading\n"
     ]
    },
    {
     "data": {
      "application/vnd.jupyter.widget-view+json": {
       "model_id": "c86b99ed5cd9482582c787dfd5ca8015",
       "version_major": 2,
       "version_minor": 0
      },
      "text/plain": [
       "QUEUEING TASKS | :   0%|          | 0/1 [00:00<?, ?it/s]"
      ]
     },
     "metadata": {},
     "output_type": "display_data"
    },
    {
     "data": {
      "application/vnd.jupyter.widget-view+json": {
       "model_id": "21f9982ae2ab403aa85a8d7199fd2594",
       "version_major": 2,
       "version_minor": 0
      },
      "text/plain": [
       "PROCESSING TASKS | :   0%|          | 0/1 [00:00<?, ?it/s]"
      ]
     },
     "metadata": {},
     "output_type": "display_data"
    },
    {
     "data": {
      "application/vnd.jupyter.widget-view+json": {
       "model_id": "57c70fca85264e64aee59156da01f4a6",
       "version_major": 2,
       "version_minor": 0
      },
      "text/plain": [
       "COLLECTING RESULTS | :   0%|          | 0/1 [00:00<?, ?it/s]"
      ]
     },
     "metadata": {},
     "output_type": "display_data"
    },
    {
     "name": "stdout",
     "output_type": "stream",
     "text": [
      "Completed downloading\n"
     ]
    },
    {
     "data": {
      "application/vnd.jupyter.widget-view+json": {
       "model_id": "00b7c010569b441d90410f1be8bfff66",
       "version_major": 2,
       "version_minor": 0
      },
      "text/plain": [
       "QUEUEING TASKS | :   0%|          | 0/1 [00:00<?, ?it/s]"
      ]
     },
     "metadata": {},
     "output_type": "display_data"
    },
    {
     "data": {
      "application/vnd.jupyter.widget-view+json": {
       "model_id": "eb66176679004102bd9b067d995c5f8e",
       "version_major": 2,
       "version_minor": 0
      },
      "text/plain": [
       "PROCESSING TASKS | :   0%|          | 0/1 [00:00<?, ?it/s]"
      ]
     },
     "metadata": {},
     "output_type": "display_data"
    },
    {
     "data": {
      "application/vnd.jupyter.widget-view+json": {
       "model_id": "d2aecc9117674fd3822775b4baedde69",
       "version_major": 2,
       "version_minor": 0
      },
      "text/plain": [
       "COLLECTING RESULTS | :   0%|          | 0/1 [00:00<?, ?it/s]"
      ]
     },
     "metadata": {},
     "output_type": "display_data"
    },
    {
     "name": "stdout",
     "output_type": "stream",
     "text": [
      "Completed downloading\n"
     ]
    },
    {
     "data": {
      "application/vnd.jupyter.widget-view+json": {
       "model_id": "15ded4d920284b04af63bd672fbd8e74",
       "version_major": 2,
       "version_minor": 0
      },
      "text/plain": [
       "QUEUEING TASKS | :   0%|          | 0/1 [00:00<?, ?it/s]"
      ]
     },
     "metadata": {},
     "output_type": "display_data"
    },
    {
     "data": {
      "application/vnd.jupyter.widget-view+json": {
       "model_id": "a01284837bd3400db86bbaecdd15451b",
       "version_major": 2,
       "version_minor": 0
      },
      "text/plain": [
       "PROCESSING TASKS | :   0%|          | 0/1 [00:00<?, ?it/s]"
      ]
     },
     "metadata": {},
     "output_type": "display_data"
    },
    {
     "name": "stderr",
     "output_type": "stream",
     "text": [
      "Error while downloading the file AQUA_MODIS.20051227_20051231.L3m.8D.CHL.chlor_a.9km.nc\n",
      "Traceback (most recent call last):\n",
      "  File \"/Library/Frameworks/Python.framework/Versions/3.13/lib/python3.13/site-packages/urllib3/connectionpool.py\", line 464, in _make_request\n",
      "    self._validate_conn(conn)\n",
      "    ~~~~~~~~~~~~~~~~~~~^^^^^^\n",
      "  File \"/Library/Frameworks/Python.framework/Versions/3.13/lib/python3.13/site-packages/urllib3/connectionpool.py\", line 1093, in _validate_conn\n",
      "    conn.connect()\n",
      "    ~~~~~~~~~~~~^^\n",
      "  File \"/Library/Frameworks/Python.framework/Versions/3.13/lib/python3.13/site-packages/urllib3/connection.py\", line 790, in connect\n",
      "    sock_and_verified = _ssl_wrap_socket_and_match_hostname(\n",
      "        sock=sock,\n",
      "    ...<14 lines>...\n",
      "        assert_fingerprint=self.assert_fingerprint,\n",
      "    )\n",
      "  File \"/Library/Frameworks/Python.framework/Versions/3.13/lib/python3.13/site-packages/urllib3/connection.py\", line 969, in _ssl_wrap_socket_and_match_hostname\n",
      "    ssl_sock = ssl_wrap_socket(\n",
      "        sock=sock,\n",
      "    ...<8 lines>...\n",
      "        tls_in_tls=tls_in_tls,\n",
      "    )\n",
      "  File \"/Library/Frameworks/Python.framework/Versions/3.13/lib/python3.13/site-packages/urllib3/util/ssl_.py\", line 480, in ssl_wrap_socket\n",
      "    ssl_sock = _ssl_wrap_socket_impl(sock, context, tls_in_tls, server_hostname)\n",
      "  File \"/Library/Frameworks/Python.framework/Versions/3.13/lib/python3.13/site-packages/urllib3/util/ssl_.py\", line 524, in _ssl_wrap_socket_impl\n",
      "    return ssl_context.wrap_socket(sock, server_hostname=server_hostname)\n",
      "           ~~~~~~~~~~~~~~~~~~~~~~~^^^^^^^^^^^^^^^^^^^^^^^^^^^^^^^^^^^^^^^\n",
      "  File \"/Library/Frameworks/Python.framework/Versions/3.13/lib/python3.13/ssl.py\", line 455, in wrap_socket\n",
      "    return self.sslsocket_class._create(\n",
      "           ~~~~~~~~~~~~~~~~~~~~~~~~~~~~^\n",
      "        sock=sock,\n",
      "        ^^^^^^^^^^\n",
      "    ...<5 lines>...\n",
      "        session=session\n",
      "        ^^^^^^^^^^^^^^^\n",
      "    )\n",
      "    ^\n",
      "  File \"/Library/Frameworks/Python.framework/Versions/3.13/lib/python3.13/ssl.py\", line 1076, in _create\n",
      "    self.do_handshake()\n",
      "    ~~~~~~~~~~~~~~~~~^^\n",
      "  File \"/Library/Frameworks/Python.framework/Versions/3.13/lib/python3.13/ssl.py\", line 1372, in do_handshake\n",
      "    self._sslobj.do_handshake()\n",
      "    ~~~~~~~~~~~~~~~~~~~~~~~~~^^\n",
      "ssl.SSLEOFError: [SSL: UNEXPECTED_EOF_WHILE_READING] EOF occurred in violation of protocol (_ssl.c:1020)\n",
      "\n",
      "During handling of the above exception, another exception occurred:\n",
      "\n",
      "Traceback (most recent call last):\n",
      "  File \"/Library/Frameworks/Python.framework/Versions/3.13/lib/python3.13/site-packages/urllib3/connectionpool.py\", line 787, in urlopen\n",
      "    response = self._make_request(\n",
      "        conn,\n",
      "    ...<10 lines>...\n",
      "        **response_kw,\n",
      "    )\n",
      "  File \"/Library/Frameworks/Python.framework/Versions/3.13/lib/python3.13/site-packages/urllib3/connectionpool.py\", line 488, in _make_request\n",
      "    raise new_e\n",
      "urllib3.exceptions.SSLError: [SSL: UNEXPECTED_EOF_WHILE_READING] EOF occurred in violation of protocol (_ssl.c:1020)\n",
      "\n",
      "The above exception was the direct cause of the following exception:\n",
      "\n",
      "Traceback (most recent call last):\n",
      "  File \"/Library/Frameworks/Python.framework/Versions/3.13/lib/python3.13/site-packages/requests/adapters.py\", line 644, in send\n",
      "    resp = conn.urlopen(\n",
      "        method=request.method,\n",
      "    ...<9 lines>...\n",
      "        chunked=chunked,\n",
      "    )\n",
      "  File \"/Library/Frameworks/Python.framework/Versions/3.13/lib/python3.13/site-packages/urllib3/connectionpool.py\", line 841, in urlopen\n",
      "    retries = retries.increment(\n",
      "        method, url, error=new_e, _pool=self, _stacktrace=sys.exc_info()[2]\n",
      "    )\n",
      "  File \"/Library/Frameworks/Python.framework/Versions/3.13/lib/python3.13/site-packages/urllib3/util/retry.py\", line 519, in increment\n",
      "    raise MaxRetryError(_pool, url, reason) from reason  # type: ignore[arg-type]\n",
      "    ^^^^^^^^^^^^^^^^^^^^^^^^^^^^^^^^^^^^^^^^^^^^^^^^^^^\n",
      "urllib3.exceptions.MaxRetryError: HTTPSConnectionPool(host='obdaac-tea.earthdatacloud.nasa.gov', port=443): Max retries exceeded with url: /ob-cumulus-prod-public/AQUA_MODIS.20051227_20051231.L3m.8D.CHL.chlor_a.9km.nc (Caused by SSLError(SSLEOFError(8, '[SSL: UNEXPECTED_EOF_WHILE_READING] EOF occurred in violation of protocol (_ssl.c:1020)')))\n",
      "\n",
      "During handling of the above exception, another exception occurred:\n",
      "\n",
      "Traceback (most recent call last):\n",
      "  File \"/Library/Frameworks/Python.framework/Versions/3.13/lib/python3.13/site-packages/earthaccess/store.py\", line 696, in _download_file\n",
      "    with session.get(url, stream=True, allow_redirects=True) as r:\n",
      "         ~~~~~~~~~~~^^^^^^^^^^^^^^^^^^^^^^^^^^^^^^^^^^^^^^^^\n",
      "  File \"/Library/Frameworks/Python.framework/Versions/3.13/lib/python3.13/site-packages/requests/sessions.py\", line 602, in get\n",
      "    return self.request(\"GET\", url, **kwargs)\n",
      "           ~~~~~~~~~~~~^^^^^^^^^^^^^^^^^^^^^^\n",
      "  File \"/Library/Frameworks/Python.framework/Versions/3.13/lib/python3.13/site-packages/requests/sessions.py\", line 589, in request\n",
      "    resp = self.send(prep, **send_kwargs)\n",
      "  File \"/Library/Frameworks/Python.framework/Versions/3.13/lib/python3.13/site-packages/requests/sessions.py\", line 703, in send\n",
      "    r = adapter.send(request, **kwargs)\n",
      "  File \"/Library/Frameworks/Python.framework/Versions/3.13/lib/python3.13/site-packages/requests/adapters.py\", line 675, in send\n",
      "    raise SSLError(e, request=request)\n",
      "requests.exceptions.SSLError: HTTPSConnectionPool(host='obdaac-tea.earthdatacloud.nasa.gov', port=443): Max retries exceeded with url: /ob-cumulus-prod-public/AQUA_MODIS.20051227_20051231.L3m.8D.CHL.chlor_a.9km.nc (Caused by SSLError(SSLEOFError(8, '[SSL: UNEXPECTED_EOF_WHILE_READING] EOF occurred in violation of protocol (_ssl.c:1020)')))\n"
     ]
    },
    {
     "data": {
      "application/vnd.jupyter.widget-view+json": {
       "model_id": "769e1edff0f443c5b600193eb8632d9c",
       "version_major": 2,
       "version_minor": 0
      },
      "text/plain": [
       "COLLECTING RESULTS | :   0%|          | 0/1 [00:00<?, ?it/s]"
      ]
     },
     "metadata": {},
     "output_type": "display_data"
    },
    {
     "ename": "Exception",
     "evalue": "",
     "output_type": "error",
     "traceback": [
      "\u001b[31m---------------------------------------------------------------------------\u001b[39m",
      "\u001b[31mSSLEOFError\u001b[39m                               Traceback (most recent call last)",
      "\u001b[36mFile \u001b[39m\u001b[32m/Library/Frameworks/Python.framework/Versions/3.13/lib/python3.13/site-packages/urllib3/connectionpool.py:464\u001b[39m, in \u001b[36mHTTPConnectionPool._make_request\u001b[39m\u001b[34m(self, conn, method, url, body, headers, retries, timeout, chunked, response_conn, preload_content, decode_content, enforce_content_length)\u001b[39m\n\u001b[32m    463\u001b[39m \u001b[38;5;28;01mtry\u001b[39;00m:\n\u001b[32m--> \u001b[39m\u001b[32m464\u001b[39m     \u001b[38;5;28;43mself\u001b[39;49m\u001b[43m.\u001b[49m\u001b[43m_validate_conn\u001b[49m\u001b[43m(\u001b[49m\u001b[43mconn\u001b[49m\u001b[43m)\u001b[49m\n\u001b[32m    465\u001b[39m \u001b[38;5;28;01mexcept\u001b[39;00m (SocketTimeout, BaseSSLError) \u001b[38;5;28;01mas\u001b[39;00m e:\n",
      "\u001b[36mFile \u001b[39m\u001b[32m/Library/Frameworks/Python.framework/Versions/3.13/lib/python3.13/site-packages/urllib3/connectionpool.py:1093\u001b[39m, in \u001b[36mHTTPSConnectionPool._validate_conn\u001b[39m\u001b[34m(self, conn)\u001b[39m\n\u001b[32m   1092\u001b[39m \u001b[38;5;28;01mif\u001b[39;00m conn.is_closed:\n\u001b[32m-> \u001b[39m\u001b[32m1093\u001b[39m     \u001b[43mconn\u001b[49m\u001b[43m.\u001b[49m\u001b[43mconnect\u001b[49m\u001b[43m(\u001b[49m\u001b[43m)\u001b[49m\n\u001b[32m   1095\u001b[39m \u001b[38;5;66;03m# TODO revise this, see https://github.com/urllib3/urllib3/issues/2791\u001b[39;00m\n",
      "\u001b[36mFile \u001b[39m\u001b[32m/Library/Frameworks/Python.framework/Versions/3.13/lib/python3.13/site-packages/urllib3/connection.py:790\u001b[39m, in \u001b[36mHTTPSConnection.connect\u001b[39m\u001b[34m(self)\u001b[39m\n\u001b[32m    788\u001b[39m server_hostname_rm_dot = server_hostname.rstrip(\u001b[33m\"\u001b[39m\u001b[33m.\u001b[39m\u001b[33m\"\u001b[39m)\n\u001b[32m--> \u001b[39m\u001b[32m790\u001b[39m sock_and_verified = \u001b[43m_ssl_wrap_socket_and_match_hostname\u001b[49m\u001b[43m(\u001b[49m\n\u001b[32m    791\u001b[39m \u001b[43m    \u001b[49m\u001b[43msock\u001b[49m\u001b[43m=\u001b[49m\u001b[43msock\u001b[49m\u001b[43m,\u001b[49m\n\u001b[32m    792\u001b[39m \u001b[43m    \u001b[49m\u001b[43mcert_reqs\u001b[49m\u001b[43m=\u001b[49m\u001b[38;5;28;43mself\u001b[39;49m\u001b[43m.\u001b[49m\u001b[43mcert_reqs\u001b[49m\u001b[43m,\u001b[49m\n\u001b[32m    793\u001b[39m \u001b[43m    \u001b[49m\u001b[43mssl_version\u001b[49m\u001b[43m=\u001b[49m\u001b[38;5;28;43mself\u001b[39;49m\u001b[43m.\u001b[49m\u001b[43mssl_version\u001b[49m\u001b[43m,\u001b[49m\n\u001b[32m    794\u001b[39m \u001b[43m    \u001b[49m\u001b[43mssl_minimum_version\u001b[49m\u001b[43m=\u001b[49m\u001b[38;5;28;43mself\u001b[39;49m\u001b[43m.\u001b[49m\u001b[43mssl_minimum_version\u001b[49m\u001b[43m,\u001b[49m\n\u001b[32m    795\u001b[39m \u001b[43m    \u001b[49m\u001b[43mssl_maximum_version\u001b[49m\u001b[43m=\u001b[49m\u001b[38;5;28;43mself\u001b[39;49m\u001b[43m.\u001b[49m\u001b[43mssl_maximum_version\u001b[49m\u001b[43m,\u001b[49m\n\u001b[32m    796\u001b[39m \u001b[43m    \u001b[49m\u001b[43mca_certs\u001b[49m\u001b[43m=\u001b[49m\u001b[38;5;28;43mself\u001b[39;49m\u001b[43m.\u001b[49m\u001b[43mca_certs\u001b[49m\u001b[43m,\u001b[49m\n\u001b[32m    797\u001b[39m \u001b[43m    \u001b[49m\u001b[43mca_cert_dir\u001b[49m\u001b[43m=\u001b[49m\u001b[38;5;28;43mself\u001b[39;49m\u001b[43m.\u001b[49m\u001b[43mca_cert_dir\u001b[49m\u001b[43m,\u001b[49m\n\u001b[32m    798\u001b[39m \u001b[43m    \u001b[49m\u001b[43mca_cert_data\u001b[49m\u001b[43m=\u001b[49m\u001b[38;5;28;43mself\u001b[39;49m\u001b[43m.\u001b[49m\u001b[43mca_cert_data\u001b[49m\u001b[43m,\u001b[49m\n\u001b[32m    799\u001b[39m \u001b[43m    \u001b[49m\u001b[43mcert_file\u001b[49m\u001b[43m=\u001b[49m\u001b[38;5;28;43mself\u001b[39;49m\u001b[43m.\u001b[49m\u001b[43mcert_file\u001b[49m\u001b[43m,\u001b[49m\n\u001b[32m    800\u001b[39m \u001b[43m    \u001b[49m\u001b[43mkey_file\u001b[49m\u001b[43m=\u001b[49m\u001b[38;5;28;43mself\u001b[39;49m\u001b[43m.\u001b[49m\u001b[43mkey_file\u001b[49m\u001b[43m,\u001b[49m\n\u001b[32m    801\u001b[39m \u001b[43m    \u001b[49m\u001b[43mkey_password\u001b[49m\u001b[43m=\u001b[49m\u001b[38;5;28;43mself\u001b[39;49m\u001b[43m.\u001b[49m\u001b[43mkey_password\u001b[49m\u001b[43m,\u001b[49m\n\u001b[32m    802\u001b[39m \u001b[43m    \u001b[49m\u001b[43mserver_hostname\u001b[49m\u001b[43m=\u001b[49m\u001b[43mserver_hostname_rm_dot\u001b[49m\u001b[43m,\u001b[49m\n\u001b[32m    803\u001b[39m \u001b[43m    \u001b[49m\u001b[43mssl_context\u001b[49m\u001b[43m=\u001b[49m\u001b[38;5;28;43mself\u001b[39;49m\u001b[43m.\u001b[49m\u001b[43mssl_context\u001b[49m\u001b[43m,\u001b[49m\n\u001b[32m    804\u001b[39m \u001b[43m    \u001b[49m\u001b[43mtls_in_tls\u001b[49m\u001b[43m=\u001b[49m\u001b[43mtls_in_tls\u001b[49m\u001b[43m,\u001b[49m\n\u001b[32m    805\u001b[39m \u001b[43m    \u001b[49m\u001b[43massert_hostname\u001b[49m\u001b[43m=\u001b[49m\u001b[38;5;28;43mself\u001b[39;49m\u001b[43m.\u001b[49m\u001b[43massert_hostname\u001b[49m\u001b[43m,\u001b[49m\n\u001b[32m    806\u001b[39m \u001b[43m    \u001b[49m\u001b[43massert_fingerprint\u001b[49m\u001b[43m=\u001b[49m\u001b[38;5;28;43mself\u001b[39;49m\u001b[43m.\u001b[49m\u001b[43massert_fingerprint\u001b[49m\u001b[43m,\u001b[49m\n\u001b[32m    807\u001b[39m \u001b[43m\u001b[49m\u001b[43m)\u001b[49m\n\u001b[32m    808\u001b[39m \u001b[38;5;28mself\u001b[39m.sock = sock_and_verified.socket\n",
      "\u001b[36mFile \u001b[39m\u001b[32m/Library/Frameworks/Python.framework/Versions/3.13/lib/python3.13/site-packages/urllib3/connection.py:969\u001b[39m, in \u001b[36m_ssl_wrap_socket_and_match_hostname\u001b[39m\u001b[34m(sock, cert_reqs, ssl_version, ssl_minimum_version, ssl_maximum_version, cert_file, key_file, key_password, ca_certs, ca_cert_dir, ca_cert_data, assert_hostname, assert_fingerprint, server_hostname, ssl_context, tls_in_tls)\u001b[39m\n\u001b[32m    967\u001b[39m         server_hostname = normalized\n\u001b[32m--> \u001b[39m\u001b[32m969\u001b[39m ssl_sock = \u001b[43mssl_wrap_socket\u001b[49m\u001b[43m(\u001b[49m\n\u001b[32m    970\u001b[39m \u001b[43m    \u001b[49m\u001b[43msock\u001b[49m\u001b[43m=\u001b[49m\u001b[43msock\u001b[49m\u001b[43m,\u001b[49m\n\u001b[32m    971\u001b[39m \u001b[43m    \u001b[49m\u001b[43mkeyfile\u001b[49m\u001b[43m=\u001b[49m\u001b[43mkey_file\u001b[49m\u001b[43m,\u001b[49m\n\u001b[32m    972\u001b[39m \u001b[43m    \u001b[49m\u001b[43mcertfile\u001b[49m\u001b[43m=\u001b[49m\u001b[43mcert_file\u001b[49m\u001b[43m,\u001b[49m\n\u001b[32m    973\u001b[39m \u001b[43m    \u001b[49m\u001b[43mkey_password\u001b[49m\u001b[43m=\u001b[49m\u001b[43mkey_password\u001b[49m\u001b[43m,\u001b[49m\n\u001b[32m    974\u001b[39m \u001b[43m    \u001b[49m\u001b[43mca_certs\u001b[49m\u001b[43m=\u001b[49m\u001b[43mca_certs\u001b[49m\u001b[43m,\u001b[49m\n\u001b[32m    975\u001b[39m \u001b[43m    \u001b[49m\u001b[43mca_cert_dir\u001b[49m\u001b[43m=\u001b[49m\u001b[43mca_cert_dir\u001b[49m\u001b[43m,\u001b[49m\n\u001b[32m    976\u001b[39m \u001b[43m    \u001b[49m\u001b[43mca_cert_data\u001b[49m\u001b[43m=\u001b[49m\u001b[43mca_cert_data\u001b[49m\u001b[43m,\u001b[49m\n\u001b[32m    977\u001b[39m \u001b[43m    \u001b[49m\u001b[43mserver_hostname\u001b[49m\u001b[43m=\u001b[49m\u001b[43mserver_hostname\u001b[49m\u001b[43m,\u001b[49m\n\u001b[32m    978\u001b[39m \u001b[43m    \u001b[49m\u001b[43mssl_context\u001b[49m\u001b[43m=\u001b[49m\u001b[43mcontext\u001b[49m\u001b[43m,\u001b[49m\n\u001b[32m    979\u001b[39m \u001b[43m    \u001b[49m\u001b[43mtls_in_tls\u001b[49m\u001b[43m=\u001b[49m\u001b[43mtls_in_tls\u001b[49m\u001b[43m,\u001b[49m\n\u001b[32m    980\u001b[39m \u001b[43m\u001b[49m\u001b[43m)\u001b[49m\n\u001b[32m    982\u001b[39m \u001b[38;5;28;01mtry\u001b[39;00m:\n",
      "\u001b[36mFile \u001b[39m\u001b[32m/Library/Frameworks/Python.framework/Versions/3.13/lib/python3.13/site-packages/urllib3/util/ssl_.py:480\u001b[39m, in \u001b[36mssl_wrap_socket\u001b[39m\u001b[34m(sock, keyfile, certfile, cert_reqs, ca_certs, server_hostname, ssl_version, ciphers, ssl_context, ca_cert_dir, key_password, ca_cert_data, tls_in_tls)\u001b[39m\n\u001b[32m    478\u001b[39m context.set_alpn_protocols(ALPN_PROTOCOLS)\n\u001b[32m--> \u001b[39m\u001b[32m480\u001b[39m ssl_sock = \u001b[43m_ssl_wrap_socket_impl\u001b[49m\u001b[43m(\u001b[49m\u001b[43msock\u001b[49m\u001b[43m,\u001b[49m\u001b[43m \u001b[49m\u001b[43mcontext\u001b[49m\u001b[43m,\u001b[49m\u001b[43m \u001b[49m\u001b[43mtls_in_tls\u001b[49m\u001b[43m,\u001b[49m\u001b[43m \u001b[49m\u001b[43mserver_hostname\u001b[49m\u001b[43m)\u001b[49m\n\u001b[32m    481\u001b[39m \u001b[38;5;28;01mreturn\u001b[39;00m ssl_sock\n",
      "\u001b[36mFile \u001b[39m\u001b[32m/Library/Frameworks/Python.framework/Versions/3.13/lib/python3.13/site-packages/urllib3/util/ssl_.py:524\u001b[39m, in \u001b[36m_ssl_wrap_socket_impl\u001b[39m\u001b[34m(sock, ssl_context, tls_in_tls, server_hostname)\u001b[39m\n\u001b[32m    522\u001b[39m     \u001b[38;5;28;01mreturn\u001b[39;00m SSLTransport(sock, ssl_context, server_hostname)\n\u001b[32m--> \u001b[39m\u001b[32m524\u001b[39m \u001b[38;5;28;01mreturn\u001b[39;00m \u001b[43mssl_context\u001b[49m\u001b[43m.\u001b[49m\u001b[43mwrap_socket\u001b[49m\u001b[43m(\u001b[49m\u001b[43msock\u001b[49m\u001b[43m,\u001b[49m\u001b[43m \u001b[49m\u001b[43mserver_hostname\u001b[49m\u001b[43m=\u001b[49m\u001b[43mserver_hostname\u001b[49m\u001b[43m)\u001b[49m\n",
      "\u001b[36mFile \u001b[39m\u001b[32m/Library/Frameworks/Python.framework/Versions/3.13/lib/python3.13/ssl.py:455\u001b[39m, in \u001b[36mSSLContext.wrap_socket\u001b[39m\u001b[34m(self, sock, server_side, do_handshake_on_connect, suppress_ragged_eofs, server_hostname, session)\u001b[39m\n\u001b[32m    449\u001b[39m \u001b[38;5;28;01mdef\u001b[39;00m\u001b[38;5;250m \u001b[39m\u001b[34mwrap_socket\u001b[39m(\u001b[38;5;28mself\u001b[39m, sock, server_side=\u001b[38;5;28;01mFalse\u001b[39;00m,\n\u001b[32m    450\u001b[39m                 do_handshake_on_connect=\u001b[38;5;28;01mTrue\u001b[39;00m,\n\u001b[32m    451\u001b[39m                 suppress_ragged_eofs=\u001b[38;5;28;01mTrue\u001b[39;00m,\n\u001b[32m    452\u001b[39m                 server_hostname=\u001b[38;5;28;01mNone\u001b[39;00m, session=\u001b[38;5;28;01mNone\u001b[39;00m):\n\u001b[32m    453\u001b[39m     \u001b[38;5;66;03m# SSLSocket class handles server_hostname encoding before it calls\u001b[39;00m\n\u001b[32m    454\u001b[39m     \u001b[38;5;66;03m# ctx._wrap_socket()\u001b[39;00m\n\u001b[32m--> \u001b[39m\u001b[32m455\u001b[39m     \u001b[38;5;28;01mreturn\u001b[39;00m \u001b[38;5;28;43mself\u001b[39;49m\u001b[43m.\u001b[49m\u001b[43msslsocket_class\u001b[49m\u001b[43m.\u001b[49m\u001b[43m_create\u001b[49m\u001b[43m(\u001b[49m\n\u001b[32m    456\u001b[39m \u001b[43m        \u001b[49m\u001b[43msock\u001b[49m\u001b[43m=\u001b[49m\u001b[43msock\u001b[49m\u001b[43m,\u001b[49m\n\u001b[32m    457\u001b[39m \u001b[43m        \u001b[49m\u001b[43mserver_side\u001b[49m\u001b[43m=\u001b[49m\u001b[43mserver_side\u001b[49m\u001b[43m,\u001b[49m\n\u001b[32m    458\u001b[39m \u001b[43m        \u001b[49m\u001b[43mdo_handshake_on_connect\u001b[49m\u001b[43m=\u001b[49m\u001b[43mdo_handshake_on_connect\u001b[49m\u001b[43m,\u001b[49m\n\u001b[32m    459\u001b[39m \u001b[43m        \u001b[49m\u001b[43msuppress_ragged_eofs\u001b[49m\u001b[43m=\u001b[49m\u001b[43msuppress_ragged_eofs\u001b[49m\u001b[43m,\u001b[49m\n\u001b[32m    460\u001b[39m \u001b[43m        \u001b[49m\u001b[43mserver_hostname\u001b[49m\u001b[43m=\u001b[49m\u001b[43mserver_hostname\u001b[49m\u001b[43m,\u001b[49m\n\u001b[32m    461\u001b[39m \u001b[43m        \u001b[49m\u001b[43mcontext\u001b[49m\u001b[43m=\u001b[49m\u001b[38;5;28;43mself\u001b[39;49m\u001b[43m,\u001b[49m\n\u001b[32m    462\u001b[39m \u001b[43m        \u001b[49m\u001b[43msession\u001b[49m\u001b[43m=\u001b[49m\u001b[43msession\u001b[49m\n\u001b[32m    463\u001b[39m \u001b[43m    \u001b[49m\u001b[43m)\u001b[49m\n",
      "\u001b[36mFile \u001b[39m\u001b[32m/Library/Frameworks/Python.framework/Versions/3.13/lib/python3.13/ssl.py:1076\u001b[39m, in \u001b[36mSSLSocket._create\u001b[39m\u001b[34m(cls, sock, server_side, do_handshake_on_connect, suppress_ragged_eofs, server_hostname, context, session)\u001b[39m\n\u001b[32m   1075\u001b[39m                 \u001b[38;5;28;01mraise\u001b[39;00m \u001b[38;5;167;01mValueError\u001b[39;00m(\u001b[33m\"\u001b[39m\u001b[33mdo_handshake_on_connect should not be specified for non-blocking sockets\u001b[39m\u001b[33m\"\u001b[39m)\n\u001b[32m-> \u001b[39m\u001b[32m1076\u001b[39m             \u001b[38;5;28;43mself\u001b[39;49m\u001b[43m.\u001b[49m\u001b[43mdo_handshake\u001b[49m\u001b[43m(\u001b[49m\u001b[43m)\u001b[49m\n\u001b[32m   1077\u001b[39m \u001b[38;5;28;01mexcept\u001b[39;00m:\n",
      "\u001b[36mFile \u001b[39m\u001b[32m/Library/Frameworks/Python.framework/Versions/3.13/lib/python3.13/ssl.py:1372\u001b[39m, in \u001b[36mSSLSocket.do_handshake\u001b[39m\u001b[34m(self, block)\u001b[39m\n\u001b[32m   1371\u001b[39m         \u001b[38;5;28mself\u001b[39m.settimeout(\u001b[38;5;28;01mNone\u001b[39;00m)\n\u001b[32m-> \u001b[39m\u001b[32m1372\u001b[39m     \u001b[38;5;28;43mself\u001b[39;49m\u001b[43m.\u001b[49m\u001b[43m_sslobj\u001b[49m\u001b[43m.\u001b[49m\u001b[43mdo_handshake\u001b[49m\u001b[43m(\u001b[49m\u001b[43m)\u001b[49m\n\u001b[32m   1373\u001b[39m \u001b[38;5;28;01mfinally\u001b[39;00m:\n",
      "\u001b[31mSSLEOFError\u001b[39m: [SSL: UNEXPECTED_EOF_WHILE_READING] EOF occurred in violation of protocol (_ssl.c:1020)",
      "\nDuring handling of the above exception, another exception occurred:\n",
      "\u001b[31mSSLError\u001b[39m                                  Traceback (most recent call last)",
      "\u001b[36mFile \u001b[39m\u001b[32m/Library/Frameworks/Python.framework/Versions/3.13/lib/python3.13/site-packages/urllib3/connectionpool.py:787\u001b[39m, in \u001b[36mHTTPConnectionPool.urlopen\u001b[39m\u001b[34m(self, method, url, body, headers, retries, redirect, assert_same_host, timeout, pool_timeout, release_conn, chunked, body_pos, preload_content, decode_content, **response_kw)\u001b[39m\n\u001b[32m    786\u001b[39m \u001b[38;5;66;03m# Make the request on the HTTPConnection object\u001b[39;00m\n\u001b[32m--> \u001b[39m\u001b[32m787\u001b[39m response = \u001b[38;5;28;43mself\u001b[39;49m\u001b[43m.\u001b[49m\u001b[43m_make_request\u001b[49m\u001b[43m(\u001b[49m\n\u001b[32m    788\u001b[39m \u001b[43m    \u001b[49m\u001b[43mconn\u001b[49m\u001b[43m,\u001b[49m\n\u001b[32m    789\u001b[39m \u001b[43m    \u001b[49m\u001b[43mmethod\u001b[49m\u001b[43m,\u001b[49m\n\u001b[32m    790\u001b[39m \u001b[43m    \u001b[49m\u001b[43murl\u001b[49m\u001b[43m,\u001b[49m\n\u001b[32m    791\u001b[39m \u001b[43m    \u001b[49m\u001b[43mtimeout\u001b[49m\u001b[43m=\u001b[49m\u001b[43mtimeout_obj\u001b[49m\u001b[43m,\u001b[49m\n\u001b[32m    792\u001b[39m \u001b[43m    \u001b[49m\u001b[43mbody\u001b[49m\u001b[43m=\u001b[49m\u001b[43mbody\u001b[49m\u001b[43m,\u001b[49m\n\u001b[32m    793\u001b[39m \u001b[43m    \u001b[49m\u001b[43mheaders\u001b[49m\u001b[43m=\u001b[49m\u001b[43mheaders\u001b[49m\u001b[43m,\u001b[49m\n\u001b[32m    794\u001b[39m \u001b[43m    \u001b[49m\u001b[43mchunked\u001b[49m\u001b[43m=\u001b[49m\u001b[43mchunked\u001b[49m\u001b[43m,\u001b[49m\n\u001b[32m    795\u001b[39m \u001b[43m    \u001b[49m\u001b[43mretries\u001b[49m\u001b[43m=\u001b[49m\u001b[43mretries\u001b[49m\u001b[43m,\u001b[49m\n\u001b[32m    796\u001b[39m \u001b[43m    \u001b[49m\u001b[43mresponse_conn\u001b[49m\u001b[43m=\u001b[49m\u001b[43mresponse_conn\u001b[49m\u001b[43m,\u001b[49m\n\u001b[32m    797\u001b[39m \u001b[43m    \u001b[49m\u001b[43mpreload_content\u001b[49m\u001b[43m=\u001b[49m\u001b[43mpreload_content\u001b[49m\u001b[43m,\u001b[49m\n\u001b[32m    798\u001b[39m \u001b[43m    \u001b[49m\u001b[43mdecode_content\u001b[49m\u001b[43m=\u001b[49m\u001b[43mdecode_content\u001b[49m\u001b[43m,\u001b[49m\n\u001b[32m    799\u001b[39m \u001b[43m    \u001b[49m\u001b[43m*\u001b[49m\u001b[43m*\u001b[49m\u001b[43mresponse_kw\u001b[49m\u001b[43m,\u001b[49m\n\u001b[32m    800\u001b[39m \u001b[43m\u001b[49m\u001b[43m)\u001b[49m\n\u001b[32m    802\u001b[39m \u001b[38;5;66;03m# Everything went great!\u001b[39;00m\n",
      "\u001b[36mFile \u001b[39m\u001b[32m/Library/Frameworks/Python.framework/Versions/3.13/lib/python3.13/site-packages/urllib3/connectionpool.py:488\u001b[39m, in \u001b[36mHTTPConnectionPool._make_request\u001b[39m\u001b[34m(self, conn, method, url, body, headers, retries, timeout, chunked, response_conn, preload_content, decode_content, enforce_content_length)\u001b[39m\n\u001b[32m    487\u001b[39m         new_e = _wrap_proxy_error(new_e, conn.proxy.scheme)\n\u001b[32m--> \u001b[39m\u001b[32m488\u001b[39m     \u001b[38;5;28;01mraise\u001b[39;00m new_e\n\u001b[32m    490\u001b[39m \u001b[38;5;66;03m# conn.request() calls http.client.*.request, not the method in\u001b[39;00m\n\u001b[32m    491\u001b[39m \u001b[38;5;66;03m# urllib3.request. It also calls makefile (recv) on the socket.\u001b[39;00m\n",
      "\u001b[31mSSLError\u001b[39m: [SSL: UNEXPECTED_EOF_WHILE_READING] EOF occurred in violation of protocol (_ssl.c:1020)",
      "\nThe above exception was the direct cause of the following exception:\n",
      "\u001b[31mMaxRetryError\u001b[39m                             Traceback (most recent call last)",
      "\u001b[36mFile \u001b[39m\u001b[32m/Library/Frameworks/Python.framework/Versions/3.13/lib/python3.13/site-packages/requests/adapters.py:644\u001b[39m, in \u001b[36mHTTPAdapter.send\u001b[39m\u001b[34m(self, request, stream, timeout, verify, cert, proxies)\u001b[39m\n\u001b[32m    643\u001b[39m \u001b[38;5;28;01mtry\u001b[39;00m:\n\u001b[32m--> \u001b[39m\u001b[32m644\u001b[39m     resp = \u001b[43mconn\u001b[49m\u001b[43m.\u001b[49m\u001b[43murlopen\u001b[49m\u001b[43m(\u001b[49m\n\u001b[32m    645\u001b[39m \u001b[43m        \u001b[49m\u001b[43mmethod\u001b[49m\u001b[43m=\u001b[49m\u001b[43mrequest\u001b[49m\u001b[43m.\u001b[49m\u001b[43mmethod\u001b[49m\u001b[43m,\u001b[49m\n\u001b[32m    646\u001b[39m \u001b[43m        \u001b[49m\u001b[43murl\u001b[49m\u001b[43m=\u001b[49m\u001b[43murl\u001b[49m\u001b[43m,\u001b[49m\n\u001b[32m    647\u001b[39m \u001b[43m        \u001b[49m\u001b[43mbody\u001b[49m\u001b[43m=\u001b[49m\u001b[43mrequest\u001b[49m\u001b[43m.\u001b[49m\u001b[43mbody\u001b[49m\u001b[43m,\u001b[49m\n\u001b[32m    648\u001b[39m \u001b[43m        \u001b[49m\u001b[43mheaders\u001b[49m\u001b[43m=\u001b[49m\u001b[43mrequest\u001b[49m\u001b[43m.\u001b[49m\u001b[43mheaders\u001b[49m\u001b[43m,\u001b[49m\n\u001b[32m    649\u001b[39m \u001b[43m        \u001b[49m\u001b[43mredirect\u001b[49m\u001b[43m=\u001b[49m\u001b[38;5;28;43;01mFalse\u001b[39;49;00m\u001b[43m,\u001b[49m\n\u001b[32m    650\u001b[39m \u001b[43m        \u001b[49m\u001b[43massert_same_host\u001b[49m\u001b[43m=\u001b[49m\u001b[38;5;28;43;01mFalse\u001b[39;49;00m\u001b[43m,\u001b[49m\n\u001b[32m    651\u001b[39m \u001b[43m        \u001b[49m\u001b[43mpreload_content\u001b[49m\u001b[43m=\u001b[49m\u001b[38;5;28;43;01mFalse\u001b[39;49;00m\u001b[43m,\u001b[49m\n\u001b[32m    652\u001b[39m \u001b[43m        \u001b[49m\u001b[43mdecode_content\u001b[49m\u001b[43m=\u001b[49m\u001b[38;5;28;43;01mFalse\u001b[39;49;00m\u001b[43m,\u001b[49m\n\u001b[32m    653\u001b[39m \u001b[43m        \u001b[49m\u001b[43mretries\u001b[49m\u001b[43m=\u001b[49m\u001b[38;5;28;43mself\u001b[39;49m\u001b[43m.\u001b[49m\u001b[43mmax_retries\u001b[49m\u001b[43m,\u001b[49m\n\u001b[32m    654\u001b[39m \u001b[43m        \u001b[49m\u001b[43mtimeout\u001b[49m\u001b[43m=\u001b[49m\u001b[43mtimeout\u001b[49m\u001b[43m,\u001b[49m\n\u001b[32m    655\u001b[39m \u001b[43m        \u001b[49m\u001b[43mchunked\u001b[49m\u001b[43m=\u001b[49m\u001b[43mchunked\u001b[49m\u001b[43m,\u001b[49m\n\u001b[32m    656\u001b[39m \u001b[43m    \u001b[49m\u001b[43m)\u001b[49m\n\u001b[32m    658\u001b[39m \u001b[38;5;28;01mexcept\u001b[39;00m (ProtocolError, \u001b[38;5;167;01mOSError\u001b[39;00m) \u001b[38;5;28;01mas\u001b[39;00m err:\n",
      "\u001b[36mFile \u001b[39m\u001b[32m/Library/Frameworks/Python.framework/Versions/3.13/lib/python3.13/site-packages/urllib3/connectionpool.py:841\u001b[39m, in \u001b[36mHTTPConnectionPool.urlopen\u001b[39m\u001b[34m(self, method, url, body, headers, retries, redirect, assert_same_host, timeout, pool_timeout, release_conn, chunked, body_pos, preload_content, decode_content, **response_kw)\u001b[39m\n\u001b[32m    839\u001b[39m     new_e = ProtocolError(\u001b[33m\"\u001b[39m\u001b[33mConnection aborted.\u001b[39m\u001b[33m\"\u001b[39m, new_e)\n\u001b[32m--> \u001b[39m\u001b[32m841\u001b[39m retries = \u001b[43mretries\u001b[49m\u001b[43m.\u001b[49m\u001b[43mincrement\u001b[49m\u001b[43m(\u001b[49m\n\u001b[32m    842\u001b[39m \u001b[43m    \u001b[49m\u001b[43mmethod\u001b[49m\u001b[43m,\u001b[49m\u001b[43m \u001b[49m\u001b[43murl\u001b[49m\u001b[43m,\u001b[49m\u001b[43m \u001b[49m\u001b[43merror\u001b[49m\u001b[43m=\u001b[49m\u001b[43mnew_e\u001b[49m\u001b[43m,\u001b[49m\u001b[43m \u001b[49m\u001b[43m_pool\u001b[49m\u001b[43m=\u001b[49m\u001b[38;5;28;43mself\u001b[39;49m\u001b[43m,\u001b[49m\u001b[43m \u001b[49m\u001b[43m_stacktrace\u001b[49m\u001b[43m=\u001b[49m\u001b[43msys\u001b[49m\u001b[43m.\u001b[49m\u001b[43mexc_info\u001b[49m\u001b[43m(\u001b[49m\u001b[43m)\u001b[49m\u001b[43m[\u001b[49m\u001b[32;43m2\u001b[39;49m\u001b[43m]\u001b[49m\n\u001b[32m    843\u001b[39m \u001b[43m\u001b[49m\u001b[43m)\u001b[49m\n\u001b[32m    844\u001b[39m retries.sleep()\n",
      "\u001b[36mFile \u001b[39m\u001b[32m/Library/Frameworks/Python.framework/Versions/3.13/lib/python3.13/site-packages/urllib3/util/retry.py:519\u001b[39m, in \u001b[36mRetry.increment\u001b[39m\u001b[34m(self, method, url, response, error, _pool, _stacktrace)\u001b[39m\n\u001b[32m    518\u001b[39m     reason = error \u001b[38;5;129;01mor\u001b[39;00m ResponseError(cause)\n\u001b[32m--> \u001b[39m\u001b[32m519\u001b[39m     \u001b[38;5;28;01mraise\u001b[39;00m MaxRetryError(_pool, url, reason) \u001b[38;5;28;01mfrom\u001b[39;00m\u001b[38;5;250m \u001b[39m\u001b[34;01mreason\u001b[39;00m  \u001b[38;5;66;03m# type: ignore[arg-type]\u001b[39;00m\n\u001b[32m    521\u001b[39m log.debug(\u001b[33m\"\u001b[39m\u001b[33mIncremented Retry for (url=\u001b[39m\u001b[33m'\u001b[39m\u001b[38;5;132;01m%s\u001b[39;00m\u001b[33m'\u001b[39m\u001b[33m): \u001b[39m\u001b[38;5;132;01m%r\u001b[39;00m\u001b[33m\"\u001b[39m, url, new_retry)\n",
      "\u001b[31mMaxRetryError\u001b[39m: HTTPSConnectionPool(host='obdaac-tea.earthdatacloud.nasa.gov', port=443): Max retries exceeded with url: /ob-cumulus-prod-public/AQUA_MODIS.20051227_20051231.L3m.8D.CHL.chlor_a.9km.nc (Caused by SSLError(SSLEOFError(8, '[SSL: UNEXPECTED_EOF_WHILE_READING] EOF occurred in violation of protocol (_ssl.c:1020)')))",
      "\nDuring handling of the above exception, another exception occurred:\n",
      "\u001b[31mSSLError\u001b[39m                                  Traceback (most recent call last)",
      "\u001b[36mFile \u001b[39m\u001b[32m/Library/Frameworks/Python.framework/Versions/3.13/lib/python3.13/site-packages/earthaccess/store.py:696\u001b[39m, in \u001b[36mStore._download_file\u001b[39m\u001b[34m(self, url, directory)\u001b[39m\n\u001b[32m    695\u001b[39m session = \u001b[38;5;28mself\u001b[39m.thread_locals.local_thread_session\n\u001b[32m--> \u001b[39m\u001b[32m696\u001b[39m \u001b[38;5;28;01mwith\u001b[39;00m \u001b[43msession\u001b[49m\u001b[43m.\u001b[49m\u001b[43mget\u001b[49m\u001b[43m(\u001b[49m\u001b[43murl\u001b[49m\u001b[43m,\u001b[49m\u001b[43m \u001b[49m\u001b[43mstream\u001b[49m\u001b[43m=\u001b[49m\u001b[38;5;28;43;01mTrue\u001b[39;49;00m\u001b[43m,\u001b[49m\u001b[43m \u001b[49m\u001b[43mallow_redirects\u001b[49m\u001b[43m=\u001b[49m\u001b[38;5;28;43;01mTrue\u001b[39;49;00m\u001b[43m)\u001b[49m \u001b[38;5;28;01mas\u001b[39;00m r:\n\u001b[32m    697\u001b[39m     r.raise_for_status()\n",
      "\u001b[36mFile \u001b[39m\u001b[32m/Library/Frameworks/Python.framework/Versions/3.13/lib/python3.13/site-packages/requests/sessions.py:602\u001b[39m, in \u001b[36mSession.get\u001b[39m\u001b[34m(self, url, **kwargs)\u001b[39m\n\u001b[32m    601\u001b[39m kwargs.setdefault(\u001b[33m\"\u001b[39m\u001b[33mallow_redirects\u001b[39m\u001b[33m\"\u001b[39m, \u001b[38;5;28;01mTrue\u001b[39;00m)\n\u001b[32m--> \u001b[39m\u001b[32m602\u001b[39m \u001b[38;5;28;01mreturn\u001b[39;00m \u001b[38;5;28;43mself\u001b[39;49m\u001b[43m.\u001b[49m\u001b[43mrequest\u001b[49m\u001b[43m(\u001b[49m\u001b[33;43m\"\u001b[39;49m\u001b[33;43mGET\u001b[39;49m\u001b[33;43m\"\u001b[39;49m\u001b[43m,\u001b[49m\u001b[43m \u001b[49m\u001b[43murl\u001b[49m\u001b[43m,\u001b[49m\u001b[43m \u001b[49m\u001b[43m*\u001b[49m\u001b[43m*\u001b[49m\u001b[43mkwargs\u001b[49m\u001b[43m)\u001b[49m\n",
      "\u001b[36mFile \u001b[39m\u001b[32m/Library/Frameworks/Python.framework/Versions/3.13/lib/python3.13/site-packages/requests/sessions.py:589\u001b[39m, in \u001b[36mSession.request\u001b[39m\u001b[34m(self, method, url, params, data, headers, cookies, files, auth, timeout, allow_redirects, proxies, hooks, stream, verify, cert, json)\u001b[39m\n\u001b[32m    588\u001b[39m send_kwargs.update(settings)\n\u001b[32m--> \u001b[39m\u001b[32m589\u001b[39m resp = \u001b[38;5;28;43mself\u001b[39;49m\u001b[43m.\u001b[49m\u001b[43msend\u001b[49m\u001b[43m(\u001b[49m\u001b[43mprep\u001b[49m\u001b[43m,\u001b[49m\u001b[43m \u001b[49m\u001b[43m*\u001b[49m\u001b[43m*\u001b[49m\u001b[43msend_kwargs\u001b[49m\u001b[43m)\u001b[49m\n\u001b[32m    591\u001b[39m \u001b[38;5;28;01mreturn\u001b[39;00m resp\n",
      "\u001b[36mFile \u001b[39m\u001b[32m/Library/Frameworks/Python.framework/Versions/3.13/lib/python3.13/site-packages/requests/sessions.py:703\u001b[39m, in \u001b[36mSession.send\u001b[39m\u001b[34m(self, request, **kwargs)\u001b[39m\n\u001b[32m    702\u001b[39m \u001b[38;5;66;03m# Send the request\u001b[39;00m\n\u001b[32m--> \u001b[39m\u001b[32m703\u001b[39m r = \u001b[43madapter\u001b[49m\u001b[43m.\u001b[49m\u001b[43msend\u001b[49m\u001b[43m(\u001b[49m\u001b[43mrequest\u001b[49m\u001b[43m,\u001b[49m\u001b[43m \u001b[49m\u001b[43m*\u001b[49m\u001b[43m*\u001b[49m\u001b[43mkwargs\u001b[49m\u001b[43m)\u001b[49m\n\u001b[32m    705\u001b[39m \u001b[38;5;66;03m# Total elapsed time of the request (approximately)\u001b[39;00m\n",
      "\u001b[36mFile \u001b[39m\u001b[32m/Library/Frameworks/Python.framework/Versions/3.13/lib/python3.13/site-packages/requests/adapters.py:675\u001b[39m, in \u001b[36mHTTPAdapter.send\u001b[39m\u001b[34m(self, request, stream, timeout, verify, cert, proxies)\u001b[39m\n\u001b[32m    673\u001b[39m \u001b[38;5;28;01mif\u001b[39;00m \u001b[38;5;28misinstance\u001b[39m(e.reason, _SSLError):\n\u001b[32m    674\u001b[39m     \u001b[38;5;66;03m# This branch is for urllib3 v1.22 and later.\u001b[39;00m\n\u001b[32m--> \u001b[39m\u001b[32m675\u001b[39m     \u001b[38;5;28;01mraise\u001b[39;00m SSLError(e, request=request)\n\u001b[32m    677\u001b[39m \u001b[38;5;28;01mraise\u001b[39;00m \u001b[38;5;167;01mConnectionError\u001b[39;00m(e, request=request)\n",
      "\u001b[31mSSLError\u001b[39m: HTTPSConnectionPool(host='obdaac-tea.earthdatacloud.nasa.gov', port=443): Max retries exceeded with url: /ob-cumulus-prod-public/AQUA_MODIS.20051227_20051231.L3m.8D.CHL.chlor_a.9km.nc (Caused by SSLError(SSLEOFError(8, '[SSL: UNEXPECTED_EOF_WHILE_READING] EOF occurred in violation of protocol (_ssl.c:1020)')))",
      "\nDuring handling of the above exception, another exception occurred:\n",
      "\u001b[31mException\u001b[39m                                 Traceback (most recent call last)",
      "\u001b[36mCell\u001b[39m\u001b[36m \u001b[39m\u001b[32mIn[16]\u001b[39m\u001b[32m, line 13\u001b[39m\n\u001b[32m     11\u001b[39m \u001b[38;5;66;03m# Download each result into the specific folder\u001b[39;00m\n\u001b[32m     12\u001b[39m \u001b[38;5;28;01mfor\u001b[39;00m granule \u001b[38;5;129;01min\u001b[39;00m results:\n\u001b[32m---> \u001b[39m\u001b[32m13\u001b[39m     \u001b[43mearthaccess\u001b[49m\u001b[43m.\u001b[49m\u001b[43mdownload\u001b[49m\u001b[43m(\u001b[49m\u001b[43mgranule\u001b[49m\u001b[43m,\u001b[49m\u001b[43m \u001b[49m\u001b[43mfolder\u001b[49m\u001b[43m)\u001b[49m\n\u001b[32m     14\u001b[39m     \u001b[38;5;28mprint\u001b[39m(\u001b[33m\"\u001b[39m\u001b[33mCompleted downloading\u001b[39m\u001b[33m\"\u001b[39m) \n",
      "\u001b[36mFile \u001b[39m\u001b[32m/Library/Frameworks/Python.framework/Versions/3.13/lib/python3.13/site-packages/earthaccess/api.py:270\u001b[39m, in \u001b[36mdownload\u001b[39m\u001b[34m(granules, local_path, provider, threads, pqdm_kwargs)\u001b[39m\n\u001b[32m    267\u001b[39m     granules = [granules]\n\u001b[32m    269\u001b[39m \u001b[38;5;28;01mtry\u001b[39;00m:\n\u001b[32m--> \u001b[39m\u001b[32m270\u001b[39m     \u001b[38;5;28;01mreturn\u001b[39;00m \u001b[43mearthaccess\u001b[49m\u001b[43m.\u001b[49m\u001b[43m__store__\u001b[49m\u001b[43m.\u001b[49m\u001b[43mget\u001b[49m\u001b[43m(\u001b[49m\n\u001b[32m    271\u001b[39m \u001b[43m        \u001b[49m\u001b[43mgranules\u001b[49m\u001b[43m,\u001b[49m\u001b[43m \u001b[49m\u001b[43mlocal_path\u001b[49m\u001b[43m,\u001b[49m\u001b[43m \u001b[49m\u001b[43mprovider\u001b[49m\u001b[43m,\u001b[49m\u001b[43m \u001b[49m\u001b[43mthreads\u001b[49m\u001b[43m,\u001b[49m\u001b[43m \u001b[49m\u001b[43mpqdm_kwargs\u001b[49m\u001b[43m=\u001b[49m\u001b[43mpqdm_kwargs\u001b[49m\n\u001b[32m    272\u001b[39m \u001b[43m    \u001b[49m\u001b[43m)\u001b[49m\n\u001b[32m    273\u001b[39m \u001b[38;5;28;01mexcept\u001b[39;00m \u001b[38;5;167;01mAttributeError\u001b[39;00m \u001b[38;5;28;01mas\u001b[39;00m err:\n\u001b[32m    274\u001b[39m     logger.error(\n\u001b[32m    275\u001b[39m         \u001b[33mf\u001b[39m\u001b[33m\"\u001b[39m\u001b[38;5;132;01m{\u001b[39;00merr\u001b[38;5;132;01m}\u001b[39;00m\u001b[33m: You must call earthaccess.login() before you can download data\u001b[39m\u001b[33m\"\u001b[39m\n\u001b[32m    276\u001b[39m     )\n",
      "\u001b[36mFile \u001b[39m\u001b[32m/Library/Frameworks/Python.framework/Versions/3.13/lib/python3.13/site-packages/earthaccess/store.py:535\u001b[39m, in \u001b[36mStore.get\u001b[39m\u001b[34m(self, granules, local_path, provider, threads, pqdm_kwargs)\u001b[39m\n\u001b[32m    528\u001b[39m     local_path = Path.cwd() / \u001b[33m\"\u001b[39m\u001b[33mdata\u001b[39m\u001b[33m\"\u001b[39m / \u001b[33mf\u001b[39m\u001b[33m\"\u001b[39m\u001b[38;5;132;01m{\u001b[39;00mtoday\u001b[38;5;132;01m}\u001b[39;00m\u001b[33m-\u001b[39m\u001b[38;5;132;01m{\u001b[39;00muuid\u001b[38;5;132;01m}\u001b[39;00m\u001b[33m\"\u001b[39m\n\u001b[32m    530\u001b[39m pqdm_kwargs = {\n\u001b[32m    531\u001b[39m     \u001b[33m\"\u001b[39m\u001b[33mn_jobs\u001b[39m\u001b[33m\"\u001b[39m: threads,\n\u001b[32m    532\u001b[39m     **(pqdm_kwargs \u001b[38;5;129;01mor\u001b[39;00m {}),\n\u001b[32m    533\u001b[39m }\n\u001b[32m--> \u001b[39m\u001b[32m535\u001b[39m \u001b[38;5;28;01mreturn\u001b[39;00m \u001b[38;5;28;43mself\u001b[39;49m\u001b[43m.\u001b[49m\u001b[43m_get\u001b[49m\u001b[43m(\u001b[49m\u001b[43mgranules\u001b[49m\u001b[43m,\u001b[49m\u001b[43m \u001b[49m\u001b[43mPath\u001b[49m\u001b[43m(\u001b[49m\u001b[43mlocal_path\u001b[49m\u001b[43m)\u001b[49m\u001b[43m,\u001b[49m\u001b[43m \u001b[49m\u001b[43mprovider\u001b[49m\u001b[43m,\u001b[49m\u001b[43m \u001b[49m\u001b[43mpqdm_kwargs\u001b[49m\u001b[43m=\u001b[49m\u001b[43mpqdm_kwargs\u001b[49m\u001b[43m)\u001b[49m\n",
      "\u001b[36mFile \u001b[39m\u001b[32m/Library/Frameworks/Python.framework/Versions/3.13/lib/python3.13/site-packages/multimethod/__init__.py:350\u001b[39m, in \u001b[36mmultimethod.__call__\u001b[39m\u001b[34m(self, *args, **kwargs)\u001b[39m\n\u001b[32m    348\u001b[39m func = \u001b[38;5;28mself\u001b[39m.dispatch(*args)\n\u001b[32m    349\u001b[39m \u001b[38;5;28;01mtry\u001b[39;00m:\n\u001b[32m--> \u001b[39m\u001b[32m350\u001b[39m     \u001b[38;5;28;01mreturn\u001b[39;00m \u001b[43mfunc\u001b[49m\u001b[43m(\u001b[49m\u001b[43m*\u001b[49m\u001b[43margs\u001b[49m\u001b[43m,\u001b[49m\u001b[43m \u001b[49m\u001b[43m*\u001b[49m\u001b[43m*\u001b[49m\u001b[43mkwargs\u001b[49m\u001b[43m)\u001b[49m\n\u001b[32m    351\u001b[39m \u001b[38;5;28;01mexcept\u001b[39;00m \u001b[38;5;167;01mTypeError\u001b[39;00m \u001b[38;5;28;01mas\u001b[39;00m ex:\n\u001b[32m    352\u001b[39m     \u001b[38;5;28;01mraise\u001b[39;00m DispatchError(\u001b[33mf\u001b[39m\u001b[33m\"\u001b[39m\u001b[33mFunction \u001b[39m\u001b[38;5;132;01m{\u001b[39;00mfunc.\u001b[34m__code__\u001b[39m\u001b[38;5;132;01m}\u001b[39;00m\u001b[33m\"\u001b[39m) \u001b[38;5;28;01mfrom\u001b[39;00m\u001b[38;5;250m \u001b[39m\u001b[34;01mex\u001b[39;00m\n",
      "\u001b[36mFile \u001b[39m\u001b[32m/Library/Frameworks/Python.framework/Versions/3.13/lib/python3.13/site-packages/earthaccess/store.py:649\u001b[39m, in \u001b[36mStore._get_granules\u001b[39m\u001b[34m(self, granules, local_path, provider, pqdm_kwargs)\u001b[39m\n\u001b[32m    645\u001b[39m     \u001b[38;5;28;01mreturn\u001b[39;00m downloaded_files\n\u001b[32m    646\u001b[39m \u001b[38;5;28;01melse\u001b[39;00m:\n\u001b[32m    647\u001b[39m     \u001b[38;5;66;03m# if the data are cloud-based, but we are not in AWS,\u001b[39;00m\n\u001b[32m    648\u001b[39m     \u001b[38;5;66;03m# it will be downloaded as if it was on prem\u001b[39;00m\n\u001b[32m--> \u001b[39m\u001b[32m649\u001b[39m     \u001b[38;5;28;01mreturn\u001b[39;00m \u001b[38;5;28;43mself\u001b[39;49m\u001b[43m.\u001b[49m\u001b[43m_download_onprem_granules\u001b[49m\u001b[43m(\u001b[49m\n\u001b[32m    650\u001b[39m \u001b[43m        \u001b[49m\u001b[43mdata_links\u001b[49m\u001b[43m,\u001b[49m\u001b[43m \u001b[49m\u001b[43mlocal_path\u001b[49m\u001b[43m,\u001b[49m\u001b[43m \u001b[49m\u001b[43mpqdm_kwargs\u001b[49m\u001b[43m=\u001b[49m\u001b[43mpqdm_kwargs\u001b[49m\n\u001b[32m    651\u001b[39m \u001b[43m    \u001b[49m\u001b[43m)\u001b[49m\n",
      "\u001b[36mFile \u001b[39m\u001b[32m/Library/Frameworks/Python.framework/Versions/3.13/lib/python3.13/site-packages/earthaccess/store.py:747\u001b[39m, in \u001b[36mStore._download_onprem_granules\u001b[39m\u001b[34m(self, urls, directory, pqdm_kwargs)\u001b[39m\n\u001b[32m    737\u001b[39m arguments = [(url, directory) \u001b[38;5;28;01mfor\u001b[39;00m url \u001b[38;5;129;01min\u001b[39;00m urls]\n\u001b[32m    739\u001b[39m pqdm_kwargs = {\n\u001b[32m    740\u001b[39m     \u001b[33m\"\u001b[39m\u001b[33mexception_behaviour\u001b[39m\u001b[33m\"\u001b[39m: \u001b[33m\"\u001b[39m\u001b[33mimmediate\u001b[39m\u001b[33m\"\u001b[39m,\n\u001b[32m    741\u001b[39m     **(pqdm_kwargs \u001b[38;5;129;01mor\u001b[39;00m {}),\n\u001b[32m   (...)\u001b[39m\u001b[32m    744\u001b[39m     \u001b[33m\"\u001b[39m\u001b[33margument_type\u001b[39m\u001b[33m\"\u001b[39m: \u001b[33m\"\u001b[39m\u001b[33margs\u001b[39m\u001b[33m\"\u001b[39m,\n\u001b[32m    745\u001b[39m }\n\u001b[32m--> \u001b[39m\u001b[32m747\u001b[39m \u001b[38;5;28;01mreturn\u001b[39;00m \u001b[43mpqdm\u001b[49m\u001b[43m(\u001b[49m\u001b[43marguments\u001b[49m\u001b[43m,\u001b[49m\u001b[43m \u001b[49m\u001b[38;5;28;43mself\u001b[39;49m\u001b[43m.\u001b[49m\u001b[43m_download_file\u001b[49m\u001b[43m,\u001b[49m\u001b[43m \u001b[49m\u001b[43m*\u001b[49m\u001b[43m*\u001b[49m\u001b[43mpqdm_kwargs\u001b[49m\u001b[43m)\u001b[49m\n",
      "\u001b[36mFile \u001b[39m\u001b[32m/Library/Frameworks/Python.framework/Versions/3.13/lib/python3.13/site-packages/pqdm/threads.py:22\u001b[39m, in \u001b[36mpqdm\u001b[39m\u001b[34m(array, function, n_jobs, argument_type, bounded, exception_behaviour, tqdm_class, **kwargs)\u001b[39m\n\u001b[32m     12\u001b[39m \u001b[38;5;28;01mdef\u001b[39;00m\u001b[38;5;250m \u001b[39m\u001b[34mpqdm\u001b[39m(\n\u001b[32m     13\u001b[39m     array: Iterable[Any],\n\u001b[32m     14\u001b[39m     function: Callable[[Any], Any],\n\u001b[32m   (...)\u001b[39m\u001b[32m     20\u001b[39m     **kwargs\n\u001b[32m     21\u001b[39m ):\n\u001b[32m---> \u001b[39m\u001b[32m22\u001b[39m     \u001b[38;5;28;01mreturn\u001b[39;00m \u001b[43m_parallel_process\u001b[49m\u001b[43m(\u001b[49m\n\u001b[32m     23\u001b[39m \u001b[43m        \u001b[49m\u001b[43miterable\u001b[49m\u001b[43m=\u001b[49m\u001b[43marray\u001b[49m\u001b[43m,\u001b[49m\n\u001b[32m     24\u001b[39m \u001b[43m        \u001b[49m\u001b[43mfunction\u001b[49m\u001b[43m=\u001b[49m\u001b[43mfunction\u001b[49m\u001b[43m,\u001b[49m\n\u001b[32m     25\u001b[39m \u001b[43m        \u001b[49m\u001b[43margument_type\u001b[49m\u001b[43m=\u001b[49m\u001b[43margument_type\u001b[49m\u001b[43m,\u001b[49m\n\u001b[32m     26\u001b[39m \u001b[43m        \u001b[49m\u001b[43mn_jobs\u001b[49m\u001b[43m=\u001b[49m\u001b[43mn_jobs\u001b[49m\u001b[43m,\u001b[49m\n\u001b[32m     27\u001b[39m \u001b[43m        \u001b[49m\u001b[43mexecutor\u001b[49m\u001b[43m=\u001b[49m\u001b[43mBoundedThreadPoolExecutor\u001b[49m\u001b[43m \u001b[49m\u001b[38;5;28;43;01mif\u001b[39;49;00m\u001b[43m \u001b[49m\u001b[43mbounded\u001b[49m\u001b[43m \u001b[49m\u001b[38;5;28;43;01melse\u001b[39;49;00m\u001b[43m \u001b[49m\u001b[43mThreadPoolExecutor\u001b[49m\u001b[43m,\u001b[49m\n\u001b[32m     28\u001b[39m \u001b[43m        \u001b[49m\u001b[43mexception_behaviour\u001b[49m\u001b[43m=\u001b[49m\u001b[43mexception_behaviour\u001b[49m\u001b[43m,\u001b[49m\n\u001b[32m     29\u001b[39m \u001b[43m        \u001b[49m\u001b[43mtqdm_class\u001b[49m\u001b[43m=\u001b[49m\u001b[43mtqdm_class\u001b[49m\u001b[43m,\u001b[49m\n\u001b[32m     30\u001b[39m \u001b[43m        \u001b[49m\u001b[43m*\u001b[49m\u001b[43m*\u001b[49m\u001b[43mkwargs\u001b[49m\n\u001b[32m     31\u001b[39m \u001b[43m    \u001b[49m\u001b[43m)\u001b[49m\n",
      "\u001b[36mFile \u001b[39m\u001b[32m/Library/Frameworks/Python.framework/Versions/3.13/lib/python3.13/site-packages/pqdm/_base.py:79\u001b[39m, in \u001b[36m_parallel_process\u001b[39m\u001b[34m(iterable, function, n_jobs, executor, argument_type, exception_behaviour, tqdm_class, **kwargs)\u001b[39m\n\u001b[32m     77\u001b[39m \u001b[38;5;28;01mexcept\u001b[39;00m \u001b[38;5;167;01mException\u001b[39;00m \u001b[38;5;28;01mas\u001b[39;00m e:\n\u001b[32m     78\u001b[39m     \u001b[38;5;28;01mif\u001b[39;00m exception_behaviour == ExceptionBehaviour.IMMEDIATE:\n\u001b[32m---> \u001b[39m\u001b[32m79\u001b[39m         \u001b[38;5;28;01mraise\u001b[39;00m e\n\u001b[32m     80\u001b[39m     \u001b[38;5;28;01mif\u001b[39;00m exception_behaviour == ExceptionBehaviour.IGNORE:\n\u001b[32m     81\u001b[39m         results.append(e)\n",
      "\u001b[36mFile \u001b[39m\u001b[32m/Library/Frameworks/Python.framework/Versions/3.13/lib/python3.13/site-packages/pqdm/_base.py:76\u001b[39m, in \u001b[36m_parallel_process\u001b[39m\u001b[34m(iterable, function, n_jobs, executor, argument_type, exception_behaviour, tqdm_class, **kwargs)\u001b[39m\n\u001b[32m     74\u001b[39m \u001b[38;5;28;01mfor\u001b[39;00m i, future \u001b[38;5;129;01min\u001b[39;00m tqdm_class(\u001b[38;5;28menumerate\u001b[39m(futures), **collecting_opts):\n\u001b[32m     75\u001b[39m     \u001b[38;5;28;01mtry\u001b[39;00m:\n\u001b[32m---> \u001b[39m\u001b[32m76\u001b[39m         results.append(\u001b[43mfuture\u001b[49m\u001b[43m.\u001b[49m\u001b[43mresult\u001b[49m\u001b[43m(\u001b[49m\u001b[43m)\u001b[49m)\n\u001b[32m     77\u001b[39m     \u001b[38;5;28;01mexcept\u001b[39;00m \u001b[38;5;167;01mException\u001b[39;00m \u001b[38;5;28;01mas\u001b[39;00m e:\n\u001b[32m     78\u001b[39m         \u001b[38;5;28;01mif\u001b[39;00m exception_behaviour == ExceptionBehaviour.IMMEDIATE:\n",
      "\u001b[36mFile \u001b[39m\u001b[32m/Library/Frameworks/Python.framework/Versions/3.13/lib/python3.13/concurrent/futures/_base.py:449\u001b[39m, in \u001b[36mFuture.result\u001b[39m\u001b[34m(self, timeout)\u001b[39m\n\u001b[32m    447\u001b[39m     \u001b[38;5;28;01mraise\u001b[39;00m CancelledError()\n\u001b[32m    448\u001b[39m \u001b[38;5;28;01melif\u001b[39;00m \u001b[38;5;28mself\u001b[39m._state == FINISHED:\n\u001b[32m--> \u001b[39m\u001b[32m449\u001b[39m     \u001b[38;5;28;01mreturn\u001b[39;00m \u001b[38;5;28;43mself\u001b[39;49m\u001b[43m.\u001b[49m\u001b[43m__get_result\u001b[49m\u001b[43m(\u001b[49m\u001b[43m)\u001b[49m\n\u001b[32m    451\u001b[39m \u001b[38;5;28mself\u001b[39m._condition.wait(timeout)\n\u001b[32m    453\u001b[39m \u001b[38;5;28;01mif\u001b[39;00m \u001b[38;5;28mself\u001b[39m._state \u001b[38;5;129;01min\u001b[39;00m [CANCELLED, CANCELLED_AND_NOTIFIED]:\n",
      "\u001b[36mFile \u001b[39m\u001b[32m/Library/Frameworks/Python.framework/Versions/3.13/lib/python3.13/concurrent/futures/_base.py:401\u001b[39m, in \u001b[36mFuture.__get_result\u001b[39m\u001b[34m(self)\u001b[39m\n\u001b[32m    399\u001b[39m \u001b[38;5;28;01mif\u001b[39;00m \u001b[38;5;28mself\u001b[39m._exception:\n\u001b[32m    400\u001b[39m     \u001b[38;5;28;01mtry\u001b[39;00m:\n\u001b[32m--> \u001b[39m\u001b[32m401\u001b[39m         \u001b[38;5;28;01mraise\u001b[39;00m \u001b[38;5;28mself\u001b[39m._exception\n\u001b[32m    402\u001b[39m     \u001b[38;5;28;01mfinally\u001b[39;00m:\n\u001b[32m    403\u001b[39m         \u001b[38;5;66;03m# Break a reference cycle with the exception in self._exception\u001b[39;00m\n\u001b[32m    404\u001b[39m         \u001b[38;5;28mself\u001b[39m = \u001b[38;5;28;01mNone\u001b[39;00m\n",
      "\u001b[36mFile \u001b[39m\u001b[32m/Library/Frameworks/Python.framework/Versions/3.13/lib/python3.13/concurrent/futures/thread.py:58\u001b[39m, in \u001b[36m_WorkItem.run\u001b[39m\u001b[34m(self)\u001b[39m\n\u001b[32m     55\u001b[39m     \u001b[38;5;28;01mreturn\u001b[39;00m\n\u001b[32m     57\u001b[39m \u001b[38;5;28;01mtry\u001b[39;00m:\n\u001b[32m---> \u001b[39m\u001b[32m58\u001b[39m     result = \u001b[38;5;28;43mself\u001b[39;49m\u001b[43m.\u001b[49m\u001b[43mfn\u001b[49m\u001b[43m(\u001b[49m\u001b[43m*\u001b[49m\u001b[38;5;28;43mself\u001b[39;49m\u001b[43m.\u001b[49m\u001b[43margs\u001b[49m\u001b[43m,\u001b[49m\u001b[43m \u001b[49m\u001b[43m*\u001b[49m\u001b[43m*\u001b[49m\u001b[38;5;28;43mself\u001b[39;49m\u001b[43m.\u001b[49m\u001b[43mkwargs\u001b[49m\u001b[43m)\u001b[49m\n\u001b[32m     59\u001b[39m \u001b[38;5;28;01mexcept\u001b[39;00m \u001b[38;5;167;01mBaseException\u001b[39;00m \u001b[38;5;28;01mas\u001b[39;00m exc:\n\u001b[32m     60\u001b[39m     \u001b[38;5;28mself\u001b[39m.future.set_exception(exc)\n",
      "\u001b[36mFile \u001b[39m\u001b[32m/Library/Frameworks/Python.framework/Versions/3.13/lib/python3.13/site-packages/earthaccess/store.py:705\u001b[39m, in \u001b[36mStore._download_file\u001b[39m\u001b[34m(self, url, directory)\u001b[39m\n\u001b[32m    703\u001b[39m     \u001b[38;5;28;01mexcept\u001b[39;00m \u001b[38;5;167;01mException\u001b[39;00m:\n\u001b[32m    704\u001b[39m         logger.exception(\u001b[33mf\u001b[39m\u001b[33m\"\u001b[39m\u001b[33mError while downloading the file \u001b[39m\u001b[38;5;132;01m{\u001b[39;00mlocal_filename\u001b[38;5;132;01m}\u001b[39;00m\u001b[33m\"\u001b[39m)\n\u001b[32m--> \u001b[39m\u001b[32m705\u001b[39m         \u001b[38;5;28;01mraise\u001b[39;00m \u001b[38;5;167;01mException\u001b[39;00m\n\u001b[32m    706\u001b[39m \u001b[38;5;28;01melse\u001b[39;00m:\n\u001b[32m    707\u001b[39m     logger.info(\u001b[33mf\u001b[39m\u001b[33m\"\u001b[39m\u001b[33mFile \u001b[39m\u001b[38;5;132;01m{\u001b[39;00mlocal_filename\u001b[38;5;132;01m}\u001b[39;00m\u001b[33m already downloaded\u001b[39m\u001b[33m\"\u001b[39m)\n",
      "\u001b[31mException\u001b[39m: "
     ]
    }
   ],
   "source": [
    "import os\n",
    "for year in range(2002, 2026):\n",
    "    folder = f\"MODIS_AQUA_L3m_CHL_8D_9km/{year}\"\n",
    "    os.makedirs(folder, exist_ok=True)\n",
    "    tspan = (f\"{year}-01-01\", f\"{year}-12-31\")\n",
    "    results = earthaccess.search_data(\n",
    "        short_name=\"MODISA_L3m_CHL\",\n",
    "        granule_name=\"*.8D*.9km*\",\n",
    "        temporal=tspan,\n",
    "    )\n",
    "    # Download each result into the specific folder\n",
    "    for granule in results:\n",
    "        earthaccess.download(granule, folder)\n",
    "        print(\"Completed downloading\") "
   ]
  },
  {
   "cell_type": "code",
   "execution_count": null,
   "id": "b32c95a4-7208-4e2e-a54c-8152beeb307f",
   "metadata": {},
   "outputs": [],
   "source": []
  },
  {
   "cell_type": "code",
   "execution_count": null,
   "id": "c53100c2-8b34-4f40-85ef-12c902c1d014",
   "metadata": {},
   "outputs": [],
   "source": []
  },
  {
   "cell_type": "code",
   "execution_count": null,
   "id": "f54d5211-4c96-4bd0-883b-4de303736407",
   "metadata": {},
   "outputs": [],
   "source": []
  },
  {
   "cell_type": "code",
   "execution_count": null,
   "id": "4ffad8b9-dc60-43bc-aad4-9a63cf01fc61",
   "metadata": {},
   "outputs": [],
   "source": []
  },
  {
   "cell_type": "code",
   "execution_count": null,
   "id": "688cd68e-e69e-4727-a522-6e1b471307f6",
   "metadata": {},
   "outputs": [],
   "source": []
  },
  {
   "cell_type": "code",
   "execution_count": null,
   "id": "795fadca-5c65-475d-9a78-28f66a73ca79",
   "metadata": {},
   "outputs": [],
   "source": []
  }
 ],
 "metadata": {
  "kernelspec": {
   "display_name": "Python 3 (ipykernel)",
   "language": "python",
   "name": "python3"
  },
  "language_info": {
   "codemirror_mode": {
    "name": "ipython",
    "version": 3
   },
   "file_extension": ".py",
   "mimetype": "text/x-python",
   "name": "python",
   "nbconvert_exporter": "python",
   "pygments_lexer": "ipython3",
   "version": "3.13.0"
  }
 },
 "nbformat": 4,
 "nbformat_minor": 5
}
